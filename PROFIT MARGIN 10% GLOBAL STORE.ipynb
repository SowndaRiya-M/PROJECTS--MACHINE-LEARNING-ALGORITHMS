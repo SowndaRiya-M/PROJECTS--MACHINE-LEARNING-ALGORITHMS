{
 "cells": [
  {
   "cell_type": "markdown",
   "metadata": {},
   "source": [
    "# 4. If the profit margin is more than 10% it is good and the customer else bad. Build predictive models to identify profitable customers considering relevant variables\n",
    "\n"
   ]
  },
  {
   "cell_type": "markdown",
   "metadata": {},
   "source": [
    "# IMPORTING LIBRARIES"
   ]
  },
  {
   "cell_type": "code",
   "execution_count": 1,
   "metadata": {},
   "outputs": [],
   "source": [
    "import warnings\n",
    "from warnings import filterwarnings\n",
    "filterwarnings('ignore')"
   ]
  },
  {
   "cell_type": "code",
   "execution_count": 2,
   "metadata": {},
   "outputs": [],
   "source": [
    "import numpy as np\n",
    "import pandas as pd\n",
    "import seaborn as sns\n",
    "import sklearn\n",
    "import matplotlib.pyplot as plt"
   ]
  },
  {
   "cell_type": "markdown",
   "metadata": {},
   "source": [
    "# LOADING DATASET"
   ]
  },
  {
   "cell_type": "code",
   "execution_count": 3,
   "metadata": {},
   "outputs": [
    {
     "data": {
      "text/html": [
       "<div>\n",
       "<style scoped>\n",
       "    .dataframe tbody tr th:only-of-type {\n",
       "        vertical-align: middle;\n",
       "    }\n",
       "\n",
       "    .dataframe tbody tr th {\n",
       "        vertical-align: top;\n",
       "    }\n",
       "\n",
       "    .dataframe thead th {\n",
       "        text-align: right;\n",
       "    }\n",
       "</style>\n",
       "<table border=\"1\" class=\"dataframe\">\n",
       "  <thead>\n",
       "    <tr style=\"text-align: right;\">\n",
       "      <th></th>\n",
       "      <th>Row ID</th>\n",
       "      <th>Order ID</th>\n",
       "      <th>Order Date</th>\n",
       "      <th>Ship Date</th>\n",
       "      <th>Ship Mode</th>\n",
       "      <th>Customer ID</th>\n",
       "      <th>Customer Name</th>\n",
       "      <th>Segment</th>\n",
       "      <th>Postal Code</th>\n",
       "      <th>City</th>\n",
       "      <th>...</th>\n",
       "      <th>Product Name</th>\n",
       "      <th>Sub-Category</th>\n",
       "      <th>Category</th>\n",
       "      <th>Sales</th>\n",
       "      <th>Quantity</th>\n",
       "      <th>Discount</th>\n",
       "      <th>Profit</th>\n",
       "      <th>Margin</th>\n",
       "      <th>Shipping Cost</th>\n",
       "      <th>Order Priority</th>\n",
       "    </tr>\n",
       "  </thead>\n",
       "  <tbody>\n",
       "    <tr>\n",
       "      <th>0</th>\n",
       "      <td>24599</td>\n",
       "      <td>IN-2017-CA120551-42816</td>\n",
       "      <td>22-03-17</td>\n",
       "      <td>29-03-17</td>\n",
       "      <td>Standard Class</td>\n",
       "      <td>CA-120551</td>\n",
       "      <td>Cathy Armstrong</td>\n",
       "      <td>Home Office</td>\n",
       "      <td>NaN</td>\n",
       "      <td>Herat</td>\n",
       "      <td>...</td>\n",
       "      <td>Ikea Library with Doors, Mobile</td>\n",
       "      <td>Bookcases</td>\n",
       "      <td>Furniture</td>\n",
       "      <td>731.82</td>\n",
       "      <td>2</td>\n",
       "      <td>0.0</td>\n",
       "      <td>102.42</td>\n",
       "      <td>14.00%</td>\n",
       "      <td>39.66</td>\n",
       "      <td>Medium</td>\n",
       "    </tr>\n",
       "    <tr>\n",
       "      <th>1</th>\n",
       "      <td>29465</td>\n",
       "      <td>ID-2015-BD116051-42248</td>\n",
       "      <td>01-09-15</td>\n",
       "      <td>04-09-15</td>\n",
       "      <td>Second Class</td>\n",
       "      <td>BD-116051</td>\n",
       "      <td>Brian Dahlen</td>\n",
       "      <td>Consumer</td>\n",
       "      <td>NaN</td>\n",
       "      <td>Herat</td>\n",
       "      <td>...</td>\n",
       "      <td>Acme Scissors, Easy Grip</td>\n",
       "      <td>Supplies</td>\n",
       "      <td>Office Supplies</td>\n",
       "      <td>243.54</td>\n",
       "      <td>9</td>\n",
       "      <td>0.0</td>\n",
       "      <td>104.49</td>\n",
       "      <td>42.90%</td>\n",
       "      <td>18.72</td>\n",
       "      <td>Medium</td>\n",
       "    </tr>\n",
       "    <tr>\n",
       "      <th>2</th>\n",
       "      <td>24598</td>\n",
       "      <td>IN-2017-CA120551-42816</td>\n",
       "      <td>22-03-17</td>\n",
       "      <td>29-03-17</td>\n",
       "      <td>Standard Class</td>\n",
       "      <td>CA-120551</td>\n",
       "      <td>Cathy Armstrong</td>\n",
       "      <td>Home Office</td>\n",
       "      <td>NaN</td>\n",
       "      <td>Herat</td>\n",
       "      <td>...</td>\n",
       "      <td>Epson Receipt Printer, White</td>\n",
       "      <td>Machines</td>\n",
       "      <td>Technology</td>\n",
       "      <td>346.32</td>\n",
       "      <td>3</td>\n",
       "      <td>0.0</td>\n",
       "      <td>13.77</td>\n",
       "      <td>3.98%</td>\n",
       "      <td>14.10</td>\n",
       "      <td>Medium</td>\n",
       "    </tr>\n",
       "    <tr>\n",
       "      <th>3</th>\n",
       "      <td>24597</td>\n",
       "      <td>IN-2017-CA120551-42816</td>\n",
       "      <td>22-03-17</td>\n",
       "      <td>29-03-17</td>\n",
       "      <td>Standard Class</td>\n",
       "      <td>CA-120551</td>\n",
       "      <td>Cathy Armstrong</td>\n",
       "      <td>Home Office</td>\n",
       "      <td>NaN</td>\n",
       "      <td>Herat</td>\n",
       "      <td>...</td>\n",
       "      <td>Rubbermaid Door Stop, Erganomic</td>\n",
       "      <td>Furnishings</td>\n",
       "      <td>Furniture</td>\n",
       "      <td>169.68</td>\n",
       "      <td>4</td>\n",
       "      <td>0.0</td>\n",
       "      <td>79.68</td>\n",
       "      <td>46.96%</td>\n",
       "      <td>11.01</td>\n",
       "      <td>Medium</td>\n",
       "    </tr>\n",
       "    <tr>\n",
       "      <th>4</th>\n",
       "      <td>29464</td>\n",
       "      <td>ID-2015-BD116051-42248</td>\n",
       "      <td>01-09-15</td>\n",
       "      <td>04-09-15</td>\n",
       "      <td>Second Class</td>\n",
       "      <td>BD-116051</td>\n",
       "      <td>Brian Dahlen</td>\n",
       "      <td>Consumer</td>\n",
       "      <td>NaN</td>\n",
       "      <td>Herat</td>\n",
       "      <td>...</td>\n",
       "      <td>Cameo Interoffice Envelope, with clear poly wi...</td>\n",
       "      <td>Envelopes</td>\n",
       "      <td>Office Supplies</td>\n",
       "      <td>203.88</td>\n",
       "      <td>4</td>\n",
       "      <td>0.0</td>\n",
       "      <td>24.36</td>\n",
       "      <td>11.95%</td>\n",
       "      <td>5.72</td>\n",
       "      <td>Medium</td>\n",
       "    </tr>\n",
       "  </tbody>\n",
       "</table>\n",
       "<p>5 rows × 25 columns</p>\n",
       "</div>"
      ],
      "text/plain": [
       "   Row ID                Order ID Order Date Ship Date       Ship Mode  \\\n",
       "0   24599  IN-2017-CA120551-42816   22-03-17  29-03-17  Standard Class   \n",
       "1   29465  ID-2015-BD116051-42248   01-09-15  04-09-15    Second Class   \n",
       "2   24598  IN-2017-CA120551-42816   22-03-17  29-03-17  Standard Class   \n",
       "3   24597  IN-2017-CA120551-42816   22-03-17  29-03-17  Standard Class   \n",
       "4   29464  ID-2015-BD116051-42248   01-09-15  04-09-15    Second Class   \n",
       "\n",
       "  Customer ID    Customer Name      Segment  Postal Code   City  ...  \\\n",
       "0   CA-120551  Cathy Armstrong  Home Office          NaN  Herat  ...   \n",
       "1   BD-116051     Brian Dahlen     Consumer          NaN  Herat  ...   \n",
       "2   CA-120551  Cathy Armstrong  Home Office          NaN  Herat  ...   \n",
       "3   CA-120551  Cathy Armstrong  Home Office          NaN  Herat  ...   \n",
       "4   BD-116051     Brian Dahlen     Consumer          NaN  Herat  ...   \n",
       "\n",
       "                                        Product Name Sub-Category  \\\n",
       "0                    Ikea Library with Doors, Mobile    Bookcases   \n",
       "1                           Acme Scissors, Easy Grip     Supplies   \n",
       "2                       Epson Receipt Printer, White     Machines   \n",
       "3                    Rubbermaid Door Stop, Erganomic  Furnishings   \n",
       "4  Cameo Interoffice Envelope, with clear poly wi...    Envelopes   \n",
       "\n",
       "          Category   Sales Quantity Discount  Profit  Margin  Shipping Cost  \\\n",
       "0        Furniture  731.82        2      0.0  102.42  14.00%          39.66   \n",
       "1  Office Supplies  243.54        9      0.0  104.49  42.90%          18.72   \n",
       "2       Technology  346.32        3      0.0   13.77   3.98%          14.10   \n",
       "3        Furniture  169.68        4      0.0   79.68  46.96%          11.01   \n",
       "4  Office Supplies  203.88        4      0.0   24.36  11.95%           5.72   \n",
       "\n",
       "   Order Priority  \n",
       "0          Medium  \n",
       "1          Medium  \n",
       "2          Medium  \n",
       "3          Medium  \n",
       "4          Medium  \n",
       "\n",
       "[5 rows x 25 columns]"
      ]
     },
     "execution_count": 3,
     "metadata": {},
     "output_type": "execute_result"
    }
   ],
   "source": [
    "df=pd.read_csv('C:\\\\Users\\\\sowndariya\\\\Desktop\\\\Prasath sir\\\\Datasets\\\\global_superstore_2018.csv')\n",
    "df.head()"
   ]
  },
  {
   "cell_type": "markdown",
   "metadata": {},
   "source": [
    "# EXPLORATORY DATA ANALYSIS"
   ]
  },
  {
   "cell_type": "code",
   "execution_count": 4,
   "metadata": {},
   "outputs": [],
   "source": [
    "pd.set_option('max_rows',60000)\n",
    "pd.set_option('max_columns',25)"
   ]
  },
  {
   "cell_type": "code",
   "execution_count": 5,
   "metadata": {},
   "outputs": [
    {
     "data": {
      "text/plain": [
       "(51290, 25)"
      ]
     },
     "execution_count": 5,
     "metadata": {},
     "output_type": "execute_result"
    }
   ],
   "source": [
    "df.shape"
   ]
  },
  {
   "cell_type": "code",
   "execution_count": 6,
   "metadata": {},
   "outputs": [
    {
     "data": {
      "text/plain": [
       "array(['Home Office', 'Consumer', 'Corporate'], dtype=object)"
      ]
     },
     "execution_count": 6,
     "metadata": {},
     "output_type": "execute_result"
    }
   ],
   "source": [
    "df['Segment'].unique()"
   ]
  },
  {
   "cell_type": "code",
   "execution_count": 7,
   "metadata": {},
   "outputs": [
    {
     "name": "stdout",
     "output_type": "stream",
     "text": [
      "<class 'pandas.core.frame.DataFrame'>\n",
      "RangeIndex: 51290 entries, 0 to 51289\n",
      "Data columns (total 25 columns):\n",
      " #   Column          Non-Null Count  Dtype  \n",
      "---  ------          --------------  -----  \n",
      " 0   Row ID          51290 non-null  int64  \n",
      " 1   Order ID        51290 non-null  object \n",
      " 2   Order Date      51290 non-null  object \n",
      " 3   Ship Date       51290 non-null  object \n",
      " 4   Ship Mode       51290 non-null  object \n",
      " 5   Customer ID     51290 non-null  object \n",
      " 6   Customer Name   51290 non-null  object \n",
      " 7   Segment         51290 non-null  object \n",
      " 8   Postal Code     9994 non-null   float64\n",
      " 9   City            51290 non-null  object \n",
      " 10  State           51290 non-null  object \n",
      " 11  Country         51290 non-null  object \n",
      " 12  Region          51290 non-null  object \n",
      " 13  Market          51290 non-null  object \n",
      " 14  Product ID      51290 non-null  object \n",
      " 15  Product Name    51290 non-null  object \n",
      " 16  Sub-Category    51290 non-null  object \n",
      " 17  Category        51290 non-null  object \n",
      " 18  Sales           51290 non-null  float64\n",
      " 19  Quantity        51290 non-null  int64  \n",
      " 20  Discount        51290 non-null  float64\n",
      " 21  Profit          51290 non-null  float64\n",
      " 22  Margin          51290 non-null  object \n",
      " 23  Shipping Cost   51290 non-null  float64\n",
      " 24  Order Priority  51290 non-null  object \n",
      "dtypes: float64(5), int64(2), object(18)\n",
      "memory usage: 9.8+ MB\n"
     ]
    }
   ],
   "source": [
    "df.info()"
   ]
  },
  {
   "cell_type": "code",
   "execution_count": 8,
   "metadata": {},
   "outputs": [
    {
     "data": {
      "text/plain": [
       "Row ID                0\n",
       "Order ID              0\n",
       "Order Date            0\n",
       "Ship Date             0\n",
       "Ship Mode             0\n",
       "Customer ID           0\n",
       "Customer Name         0\n",
       "Segment               0\n",
       "Postal Code       41296\n",
       "City                  0\n",
       "State                 0\n",
       "Country               0\n",
       "Region                0\n",
       "Market                0\n",
       "Product ID            0\n",
       "Product Name          0\n",
       "Sub-Category          0\n",
       "Category              0\n",
       "Sales                 0\n",
       "Quantity              0\n",
       "Discount              0\n",
       "Profit                0\n",
       "Margin                0\n",
       "Shipping Cost         0\n",
       "Order Priority        0\n",
       "dtype: int64"
      ]
     },
     "execution_count": 8,
     "metadata": {},
     "output_type": "execute_result"
    }
   ],
   "source": [
    "df.isnull().sum()"
   ]
  },
  {
   "cell_type": "code",
   "execution_count": 9,
   "metadata": {},
   "outputs": [
    {
     "data": {
      "text/plain": [
       "Row ID            51290\n",
       "Order ID          25728\n",
       "Order Date         1429\n",
       "Ship Date          1463\n",
       "Ship Mode             4\n",
       "Customer ID       17415\n",
       "Customer Name       796\n",
       "Segment               3\n",
       "Postal Code         631\n",
       "City               3650\n",
       "State              1106\n",
       "Country             165\n",
       "Region               23\n",
       "Market                5\n",
       "Product ID         3788\n",
       "Product Name       3788\n",
       "Sub-Category         17\n",
       "Category              3\n",
       "Sales             22995\n",
       "Quantity             14\n",
       "Discount             27\n",
       "Profit            24575\n",
       "Margin             5942\n",
       "Shipping Cost     16452\n",
       "Order Priority        4\n",
       "dtype: int64"
      ]
     },
     "execution_count": 9,
     "metadata": {},
     "output_type": "execute_result"
    }
   ],
   "source": [
    "df.nunique()"
   ]
  },
  {
   "cell_type": "code",
   "execution_count": 10,
   "metadata": {},
   "outputs": [
    {
     "data": {
      "text/plain": [
       "Row ID              int64\n",
       "Order ID           object\n",
       "Order Date         object\n",
       "Ship Date          object\n",
       "Ship Mode          object\n",
       "Customer ID        object\n",
       "Customer Name      object\n",
       "Segment            object\n",
       "Postal Code       float64\n",
       "City               object\n",
       "State              object\n",
       "Country            object\n",
       "Region             object\n",
       "Market             object\n",
       "Product ID         object\n",
       "Product Name       object\n",
       "Sub-Category       object\n",
       "Category           object\n",
       "Sales             float64\n",
       "Quantity            int64\n",
       "Discount          float64\n",
       "Profit            float64\n",
       "Margin             object\n",
       "Shipping Cost     float64\n",
       "Order Priority     object\n",
       "dtype: object"
      ]
     },
     "execution_count": 10,
     "metadata": {},
     "output_type": "execute_result"
    }
   ],
   "source": [
    "df.dtypes"
   ]
  },
  {
   "cell_type": "code",
   "execution_count": 11,
   "metadata": {},
   "outputs": [
    {
     "data": {
      "text/plain": [
       "Index(['Row ID', 'Order ID', 'Order Date', 'Ship Date', 'Ship Mode',\n",
       "       'Customer ID', 'Customer Name', 'Segment', 'Postal Code', 'City',\n",
       "       'State', 'Country', 'Region', 'Market', 'Product ID', 'Product Name',\n",
       "       'Sub-Category', 'Category', 'Sales', 'Quantity', 'Discount', 'Profit',\n",
       "       'Margin', 'Shipping Cost', 'Order Priority'],\n",
       "      dtype='object')"
      ]
     },
     "execution_count": 11,
     "metadata": {},
     "output_type": "execute_result"
    }
   ],
   "source": [
    "df.columns"
   ]
  },
  {
   "cell_type": "code",
   "execution_count": 12,
   "metadata": {},
   "outputs": [
    {
     "data": {
      "text/plain": [
       "Row ID              int64\n",
       "Order ID           object\n",
       "Order Date         object\n",
       "Ship Date          object\n",
       "Ship Mode          object\n",
       "Customer ID        object\n",
       "Customer Name      object\n",
       "Segment            object\n",
       "Postal Code       float64\n",
       "City               object\n",
       "State              object\n",
       "Country            object\n",
       "Region             object\n",
       "Market             object\n",
       "Product ID         object\n",
       "Product Name       object\n",
       "Sub-Category       object\n",
       "Category           object\n",
       "Sales             float64\n",
       "Quantity            int64\n",
       "Discount          float64\n",
       "Profit            float64\n",
       "Margin             object\n",
       "Shipping Cost     float64\n",
       "Order Priority     object\n",
       "dtype: object"
      ]
     },
     "execution_count": 12,
     "metadata": {},
     "output_type": "execute_result"
    }
   ],
   "source": [
    "df.dtypes"
   ]
  },
  {
   "cell_type": "code",
   "execution_count": 13,
   "metadata": {},
   "outputs": [
    {
     "data": {
      "text/plain": [
       "Index(['Row ID', 'Order ID', 'Order Date', 'Ship Date', 'Ship Mode',\n",
       "       'Customer ID', 'Customer Name', 'Segment', 'Postal Code', 'City',\n",
       "       'State', 'Country', 'Region', 'Market', 'Product ID', 'Product Name',\n",
       "       'Sub-Category', 'Category', 'Sales', 'Quantity', 'Discount', 'Profit',\n",
       "       'Margin', 'Shipping Cost', 'Order Priority'],\n",
       "      dtype='object')"
      ]
     },
     "execution_count": 13,
     "metadata": {},
     "output_type": "execute_result"
    }
   ],
   "source": [
    "df.columns"
   ]
  },
  {
   "cell_type": "code",
   "execution_count": 14,
   "metadata": {},
   "outputs": [
    {
     "data": {
      "image/png": "[encoded data removed]",
      "text/plain": [
       "<Figure size 720x360 with 1 Axes>"
      ]
     },
     "metadata": {
      "needs_background": "light"
     },
     "output_type": "display_data"
    }
   ],
   "source": [
    "#checking null values\n",
    "plt.figure(figsize=(10,5))\n",
    "sns.heatmap(df.isnull(),yticklabels=False,cbar=False,cmap='Greens')\n",
    "plt.show()"
   ]
  },
  {
   "cell_type": "code",
   "execution_count": 15,
   "metadata": {},
   "outputs": [],
   "source": [
    "#remove unwanted columns\n",
    "df.drop(['Row ID', 'Order ID', 'Order Date', 'Ship Date', 'Ship Mode',\n",
    "       'Customer ID', 'Customer Name','Product ID','Quantity','Discount', 'Product Name','Region','Order Priority','City', 'State', 'Country','Postal Code'],axis=1,inplace=True)"
   ]
  },
  {
   "cell_type": "code",
   "execution_count": 16,
   "metadata": {},
   "outputs": [
    {
     "data": {
      "text/plain": [
       "Index(['Segment', 'Market', 'Sub-Category', 'Category', 'Sales', 'Profit',\n",
       "       'Margin', 'Shipping Cost'],\n",
       "      dtype='object')"
      ]
     },
     "execution_count": 16,
     "metadata": {},
     "output_type": "execute_result"
    }
   ],
   "source": [
    "df.columns"
   ]
  },
  {
   "cell_type": "code",
   "execution_count": 17,
   "metadata": {},
   "outputs": [
    {
     "data": {
      "text/html": [
       "<div>\n",
       "<style scoped>\n",
       "    .dataframe tbody tr th:only-of-type {\n",
       "        vertical-align: middle;\n",
       "    }\n",
       "\n",
       "    .dataframe tbody tr th {\n",
       "        vertical-align: top;\n",
       "    }\n",
       "\n",
       "    .dataframe thead th {\n",
       "        text-align: right;\n",
       "    }\n",
       "</style>\n",
       "<table border=\"1\" class=\"dataframe\">\n",
       "  <thead>\n",
       "    <tr style=\"text-align: right;\">\n",
       "      <th></th>\n",
       "      <th>Segment</th>\n",
       "      <th>Market</th>\n",
       "      <th>Sub-Category</th>\n",
       "      <th>Category</th>\n",
       "      <th>Sales</th>\n",
       "      <th>Profit</th>\n",
       "      <th>Margin</th>\n",
       "      <th>Shipping Cost</th>\n",
       "    </tr>\n",
       "  </thead>\n",
       "  <tbody>\n",
       "    <tr>\n",
       "      <th>0</th>\n",
       "      <td>Home Office</td>\n",
       "      <td>Asia Pacific</td>\n",
       "      <td>Bookcases</td>\n",
       "      <td>Furniture</td>\n",
       "      <td>731.82</td>\n",
       "      <td>102.42</td>\n",
       "      <td>14.00%</td>\n",
       "      <td>39.66</td>\n",
       "    </tr>\n",
       "    <tr>\n",
       "      <th>1</th>\n",
       "      <td>Consumer</td>\n",
       "      <td>Asia Pacific</td>\n",
       "      <td>Supplies</td>\n",
       "      <td>Office Supplies</td>\n",
       "      <td>243.54</td>\n",
       "      <td>104.49</td>\n",
       "      <td>42.90%</td>\n",
       "      <td>18.72</td>\n",
       "    </tr>\n",
       "    <tr>\n",
       "      <th>2</th>\n",
       "      <td>Home Office</td>\n",
       "      <td>Asia Pacific</td>\n",
       "      <td>Machines</td>\n",
       "      <td>Technology</td>\n",
       "      <td>346.32</td>\n",
       "      <td>13.77</td>\n",
       "      <td>3.98%</td>\n",
       "      <td>14.10</td>\n",
       "    </tr>\n",
       "    <tr>\n",
       "      <th>3</th>\n",
       "      <td>Home Office</td>\n",
       "      <td>Asia Pacific</td>\n",
       "      <td>Furnishings</td>\n",
       "      <td>Furniture</td>\n",
       "      <td>169.68</td>\n",
       "      <td>79.68</td>\n",
       "      <td>46.96%</td>\n",
       "      <td>11.01</td>\n",
       "    </tr>\n",
       "    <tr>\n",
       "      <th>4</th>\n",
       "      <td>Consumer</td>\n",
       "      <td>Asia Pacific</td>\n",
       "      <td>Envelopes</td>\n",
       "      <td>Office Supplies</td>\n",
       "      <td>203.88</td>\n",
       "      <td>24.36</td>\n",
       "      <td>11.95%</td>\n",
       "      <td>5.72</td>\n",
       "    </tr>\n",
       "  </tbody>\n",
       "</table>\n",
       "</div>"
      ],
      "text/plain": [
       "       Segment        Market Sub-Category         Category   Sales  Profit  \\\n",
       "0  Home Office  Asia Pacific    Bookcases        Furniture  731.82  102.42   \n",
       "1     Consumer  Asia Pacific     Supplies  Office Supplies  243.54  104.49   \n",
       "2  Home Office  Asia Pacific     Machines       Technology  346.32   13.77   \n",
       "3  Home Office  Asia Pacific  Furnishings        Furniture  169.68   79.68   \n",
       "4     Consumer  Asia Pacific    Envelopes  Office Supplies  203.88   24.36   \n",
       "\n",
       "   Margin  Shipping Cost  \n",
       "0  14.00%          39.66  \n",
       "1  42.90%          18.72  \n",
       "2   3.98%          14.10  \n",
       "3  46.96%          11.01  \n",
       "4  11.95%           5.72  "
      ]
     },
     "execution_count": 17,
     "metadata": {},
     "output_type": "execute_result"
    }
   ],
   "source": [
    "df.head()"
   ]
  },
  {
   "cell_type": "code",
   "execution_count": 18,
   "metadata": {},
   "outputs": [],
   "source": [
    "df['Margin']=df['Margin'].apply(lambda x: x[:-1])"
   ]
  },
  {
   "cell_type": "code",
   "execution_count": 19,
   "metadata": {},
   "outputs": [],
   "source": [
    "df['Margin']=df['Margin'].astype('float')\n",
    "df['Margin10']=df['Margin'].apply(lambda x: 1 if x>10 else 0)"
   ]
  },
  {
   "cell_type": "code",
   "execution_count": 20,
   "metadata": {},
   "outputs": [
    {
     "data": {
      "text/html": [
       "<div>\n",
       "<style scoped>\n",
       "    .dataframe tbody tr th:only-of-type {\n",
       "        vertical-align: middle;\n",
       "    }\n",
       "\n",
       "    .dataframe tbody tr th {\n",
       "        vertical-align: top;\n",
       "    }\n",
       "\n",
       "    .dataframe thead th {\n",
       "        text-align: right;\n",
       "    }\n",
       "</style>\n",
       "<table border=\"1\" class=\"dataframe\">\n",
       "  <thead>\n",
       "    <tr style=\"text-align: right;\">\n",
       "      <th></th>\n",
       "      <th>Segment</th>\n",
       "      <th>Market</th>\n",
       "      <th>Sub-Category</th>\n",
       "      <th>Category</th>\n",
       "      <th>Sales</th>\n",
       "      <th>Profit</th>\n",
       "      <th>Margin</th>\n",
       "      <th>Shipping Cost</th>\n",
       "      <th>Margin10</th>\n",
       "    </tr>\n",
       "  </thead>\n",
       "  <tbody>\n",
       "    <tr>\n",
       "      <th>0</th>\n",
       "      <td>Home Office</td>\n",
       "      <td>Asia Pacific</td>\n",
       "      <td>Bookcases</td>\n",
       "      <td>Furniture</td>\n",
       "      <td>731.82</td>\n",
       "      <td>102.42</td>\n",
       "      <td>14.00</td>\n",
       "      <td>39.66</td>\n",
       "      <td>1</td>\n",
       "    </tr>\n",
       "    <tr>\n",
       "      <th>1</th>\n",
       "      <td>Consumer</td>\n",
       "      <td>Asia Pacific</td>\n",
       "      <td>Supplies</td>\n",
       "      <td>Office Supplies</td>\n",
       "      <td>243.54</td>\n",
       "      <td>104.49</td>\n",
       "      <td>42.90</td>\n",
       "      <td>18.72</td>\n",
       "      <td>1</td>\n",
       "    </tr>\n",
       "    <tr>\n",
       "      <th>2</th>\n",
       "      <td>Home Office</td>\n",
       "      <td>Asia Pacific</td>\n",
       "      <td>Machines</td>\n",
       "      <td>Technology</td>\n",
       "      <td>346.32</td>\n",
       "      <td>13.77</td>\n",
       "      <td>3.98</td>\n",
       "      <td>14.10</td>\n",
       "      <td>0</td>\n",
       "    </tr>\n",
       "    <tr>\n",
       "      <th>3</th>\n",
       "      <td>Home Office</td>\n",
       "      <td>Asia Pacific</td>\n",
       "      <td>Furnishings</td>\n",
       "      <td>Furniture</td>\n",
       "      <td>169.68</td>\n",
       "      <td>79.68</td>\n",
       "      <td>46.96</td>\n",
       "      <td>11.01</td>\n",
       "      <td>1</td>\n",
       "    </tr>\n",
       "    <tr>\n",
       "      <th>4</th>\n",
       "      <td>Consumer</td>\n",
       "      <td>Asia Pacific</td>\n",
       "      <td>Envelopes</td>\n",
       "      <td>Office Supplies</td>\n",
       "      <td>203.88</td>\n",
       "      <td>24.36</td>\n",
       "      <td>11.95</td>\n",
       "      <td>5.72</td>\n",
       "      <td>1</td>\n",
       "    </tr>\n",
       "  </tbody>\n",
       "</table>\n",
       "</div>"
      ],
      "text/plain": [
       "       Segment        Market Sub-Category         Category   Sales  Profit  \\\n",
       "0  Home Office  Asia Pacific    Bookcases        Furniture  731.82  102.42   \n",
       "1     Consumer  Asia Pacific     Supplies  Office Supplies  243.54  104.49   \n",
       "2  Home Office  Asia Pacific     Machines       Technology  346.32   13.77   \n",
       "3  Home Office  Asia Pacific  Furnishings        Furniture  169.68   79.68   \n",
       "4     Consumer  Asia Pacific    Envelopes  Office Supplies  203.88   24.36   \n",
       "\n",
       "   Margin  Shipping Cost  Margin10  \n",
       "0   14.00          39.66         1  \n",
       "1   42.90          18.72         1  \n",
       "2    3.98          14.10         0  \n",
       "3   46.96          11.01         1  \n",
       "4   11.95           5.72         1  "
      ]
     },
     "execution_count": 20,
     "metadata": {},
     "output_type": "execute_result"
    }
   ],
   "source": [
    "df.head()"
   ]
  },
  {
   "cell_type": "code",
   "execution_count": 21,
   "metadata": {},
   "outputs": [],
   "source": [
    "df.drop('Margin',axis=1,inplace=True)"
   ]
  },
  {
   "cell_type": "code",
   "execution_count": 22,
   "metadata": {},
   "outputs": [
    {
     "data": {
      "text/plain": [
       "Segment           object\n",
       "Market            object\n",
       "Sub-Category      object\n",
       "Category          object\n",
       "Sales            float64\n",
       "Profit           float64\n",
       "Shipping Cost    float64\n",
       "Margin10           int64\n",
       "dtype: object"
      ]
     },
     "execution_count": 22,
     "metadata": {},
     "output_type": "execute_result"
    }
   ],
   "source": [
    "df.dtypes"
   ]
  },
  {
   "cell_type": "code",
   "execution_count": 23,
   "metadata": {},
   "outputs": [
    {
     "data": {
      "text/plain": [
       "Segment              3\n",
       "Market               5\n",
       "Sub-Category        17\n",
       "Category             3\n",
       "Sales            22995\n",
       "Profit           24575\n",
       "Shipping Cost    16452\n",
       "Margin10             2\n",
       "dtype: int64"
      ]
     },
     "execution_count": 23,
     "metadata": {},
     "output_type": "execute_result"
    }
   ],
   "source": [
    "df.nunique()"
   ]
  },
  {
   "cell_type": "code",
   "execution_count": 24,
   "metadata": {},
   "outputs": [
    {
     "data": {
      "text/plain": [
       "<matplotlib.axes._subplots.AxesSubplot at 0x1b895157248>"
      ]
     },
     "execution_count": 24,
     "metadata": {},
     "output_type": "execute_result"
    },
    {
     "data": {
      "image/png": "[encoded data removed]",
      "text/plain": [
       "<Figure size 432x288 with 2 Axes>"
      ]
     },
     "metadata": {
      "needs_background": "light"
     },
     "output_type": "display_data"
    }
   ],
   "source": [
    "sns.heatmap(df.corr(),annot=True)"
   ]
  },
  {
   "cell_type": "code",
   "execution_count": 25,
   "metadata": {},
   "outputs": [
    {
     "data": {
      "text/plain": [
       "<matplotlib.axes._subplots.AxesSubplot at 0x1b89676d088>"
      ]
     },
     "execution_count": 25,
     "metadata": {},
     "output_type": "execute_result"
    },
    {
     "data": {
      "image/png": "[encoded data removed]",
      "text/plain": [
       "<Figure size 432x288 with 1 Axes>"
      ]
     },
     "metadata": {
      "needs_background": "light"
     },
     "output_type": "display_data"
    }
   ],
   "source": [
    "sns.countplot('Margin10',data=df,hue='Segment')"
   ]
  },
  {
   "cell_type": "code",
   "execution_count": 26,
   "metadata": {},
   "outputs": [
    {
     "data": {
      "text/plain": [
       "<matplotlib.axes._subplots.AxesSubplot at 0x1b896b08988>"
      ]
     },
     "execution_count": 26,
     "metadata": {},
     "output_type": "execute_result"
    },
    {
     "data": {
      "image/png": "[encoded data removed]",
      "text/plain": [
       "<Figure size 720x720 with 1 Axes>"
      ]
     },
     "metadata": {
      "needs_background": "light"
     },
     "output_type": "display_data"
    }
   ],
   "source": [
    "plt.rcParams['figure.figsize']=(10,10)\n",
    "sns.countplot('Margin10',data=df,hue='Sub-Category')"
   ]
  },
  {
   "cell_type": "code",
   "execution_count": 37,
   "metadata": {},
   "outputs": [
    {
     "data": {
      "text/plain": [
       "array([[<matplotlib.axes._subplots.AxesSubplot object at 0x000001B899982088>,\n",
       "        <matplotlib.axes._subplots.AxesSubplot object at 0x000001B899BC9948>],\n",
       "       [<matplotlib.axes._subplots.AxesSubplot object at 0x000001B8999ADEC8>,\n",
       "        <matplotlib.axes._subplots.AxesSubplot object at 0x000001B8999E88C8>]],\n",
       "      dtype=object)"
      ]
     },
     "execution_count": 37,
     "metadata": {},
     "output_type": "execute_result"
    },
    {
     "data": {
      "image/png": "[encoded data removed]",
      "text/plain": [
       "<Figure size 720x720 with 4 Axes>"
      ]
     },
     "metadata": {
      "needs_background": "light"
     },
     "output_type": "display_data"
    }
   ],
   "source": [
    "df.hist()"
   ]
  },
  {
   "cell_type": "code",
   "execution_count": 32,
   "metadata": {},
   "outputs": [
    {
     "data": {
      "text/plain": [
       "<seaborn.axisgrid.PairGrid at 0x1b897b71448>"
      ]
     },
     "execution_count": 32,
     "metadata": {},
     "output_type": "execute_result"
    },
    {
     "data": {
      "image/png": "[encoded data removed]",
      "text/plain": [
       "<Figure size 595.125x540 with 12 Axes>"
      ]
     },
     "metadata": {
      "needs_background": "light"
     },
     "output_type": "display_data"
    }
   ],
   "source": [
    "sns.pairplot(df,hue='Margin10')"
   ]
  },
  {
   "cell_type": "code",
   "execution_count": 28,
   "metadata": {},
   "outputs": [
    {
     "data": {
      "text/plain": [
       "<matplotlib.axes._subplots.AxesSubplot at 0x1b897ae1388>"
      ]
     },
     "execution_count": 28,
     "metadata": {},
     "output_type": "execute_result"
    },
    {
     "data": {
      "image/png": "[encoded data removed]",
      "text/plain": [
       "<Figure size 720x720 with 1 Axes>"
      ]
     },
     "metadata": {
      "needs_background": "light"
     },
     "output_type": "display_data"
    }
   ],
   "source": [
    "#target variable\n",
    "target=df['Margin10']\n",
    "sns.distplot(target)"
   ]
  },
  {
   "cell_type": "code",
   "execution_count": 29,
   "metadata": {},
   "outputs": [],
   "source": [
    "#splitting categorical and numerical variable\n",
    "categorical=[col for col in df.columns.values if df[col].dtype=='object']\n",
    "df_cat=df[categorical]\n",
    "df_num1=df.drop(categorical,axis=1)"
   ]
  },
  {
   "cell_type": "code",
   "execution_count": 30,
   "metadata": {},
   "outputs": [],
   "source": [
    "df_num1.drop('Margin10',axis=1,inplace=True)"
   ]
  },
  {
   "cell_type": "code",
   "execution_count": 33,
   "metadata": {},
   "outputs": [],
   "source": [
    "#two columns are not normally distributed, so treated with log transformation\n",
    "df_num=df_num1[['Sales','Shipping Cost']]"
   ]
  },
  {
   "cell_type": "code",
   "execution_count": 34,
   "metadata": {},
   "outputs": [],
   "source": [
    "#skewness \n",
    "df_num_skew=df_num.skew()\n",
    "df_num_skew=df_num_skew[df_num_skew>0.75]\n",
    "df_num[df_num_skew.index]=np.log(df_num[df_num_skew.index])\n"
   ]
  },
  {
   "cell_type": "code",
   "execution_count": 35,
   "metadata": {},
   "outputs": [
    {
     "data": {
      "text/plain": [
       "Sales            0\n",
       "Shipping Cost    0\n",
       "dtype: int64"
      ]
     },
     "execution_count": 35,
     "metadata": {},
     "output_type": "execute_result"
    }
   ],
   "source": [
    "df_num.isnull().sum()"
   ]
  },
  {
   "cell_type": "code",
   "execution_count": 36,
   "metadata": {},
   "outputs": [
    {
     "data": {
      "text/plain": [
       "array([[<matplotlib.axes._subplots.AxesSubplot object at 0x000001B8994EE988>,\n",
       "        <matplotlib.axes._subplots.AxesSubplot object at 0x000001B8996E1608>]],\n",
       "      dtype=object)"
      ]
     },
     "execution_count": 36,
     "metadata": {},
     "output_type": "execute_result"
    },
    {
     "data": {
      "image/png": "[encoded data removed]",
      "text/plain": [
       "<Figure size 720x720 with 2 Axes>"
      ]
     },
     "metadata": {
      "needs_background": "light"
     },
     "output_type": "display_data"
    }
   ],
   "source": [
    "df_num.hist()"
   ]
  },
  {
   "cell_type": "code",
   "execution_count": 40,
   "metadata": {},
   "outputs": [
    {
     "data": {
      "text/html": [
       "<div>\n",
       "<style scoped>\n",
       "    .dataframe tbody tr th:only-of-type {\n",
       "        vertical-align: middle;\n",
       "    }\n",
       "\n",
       "    .dataframe tbody tr th {\n",
       "        vertical-align: top;\n",
       "    }\n",
       "\n",
       "    .dataframe thead th {\n",
       "        text-align: right;\n",
       "    }\n",
       "</style>\n",
       "<table border=\"1\" class=\"dataframe\">\n",
       "  <thead>\n",
       "    <tr style=\"text-align: right;\">\n",
       "      <th></th>\n",
       "      <th>Segment_Corporate</th>\n",
       "      <th>Segment_Home Office</th>\n",
       "      <th>Market_Asia Pacific</th>\n",
       "      <th>Market_Europe</th>\n",
       "      <th>Market_LATAM</th>\n",
       "      <th>Market_USCA</th>\n",
       "      <th>Sub-Category_Appliances</th>\n",
       "      <th>Sub-Category_Art</th>\n",
       "      <th>Sub-Category_Binders</th>\n",
       "      <th>Sub-Category_Bookcases</th>\n",
       "      <th>Sub-Category_Chairs</th>\n",
       "      <th>Sub-Category_Copiers</th>\n",
       "      <th>Sub-Category_Envelopes</th>\n",
       "      <th>Sub-Category_Fasteners</th>\n",
       "      <th>Sub-Category_Furnishings</th>\n",
       "      <th>Sub-Category_Labels</th>\n",
       "      <th>Sub-Category_Machines</th>\n",
       "      <th>Sub-Category_Paper</th>\n",
       "      <th>Sub-Category_Phones</th>\n",
       "      <th>Sub-Category_Storage</th>\n",
       "      <th>Sub-Category_Supplies</th>\n",
       "      <th>Sub-Category_Tables</th>\n",
       "      <th>Category_Office Supplies</th>\n",
       "      <th>Category_Technology</th>\n",
       "    </tr>\n",
       "  </thead>\n",
       "  <tbody>\n",
       "    <tr>\n",
       "      <th>0</th>\n",
       "      <td>0</td>\n",
       "      <td>1</td>\n",
       "      <td>1</td>\n",
       "      <td>0</td>\n",
       "      <td>0</td>\n",
       "      <td>0</td>\n",
       "      <td>0</td>\n",
       "      <td>0</td>\n",
       "      <td>0</td>\n",
       "      <td>1</td>\n",
       "      <td>0</td>\n",
       "      <td>0</td>\n",
       "      <td>0</td>\n",
       "      <td>0</td>\n",
       "      <td>0</td>\n",
       "      <td>0</td>\n",
       "      <td>0</td>\n",
       "      <td>0</td>\n",
       "      <td>0</td>\n",
       "      <td>0</td>\n",
       "      <td>0</td>\n",
       "      <td>0</td>\n",
       "      <td>0</td>\n",
       "      <td>0</td>\n",
       "    </tr>\n",
       "    <tr>\n",
       "      <th>1</th>\n",
       "      <td>0</td>\n",
       "      <td>0</td>\n",
       "      <td>1</td>\n",
       "      <td>0</td>\n",
       "      <td>0</td>\n",
       "      <td>0</td>\n",
       "      <td>0</td>\n",
       "      <td>0</td>\n",
       "      <td>0</td>\n",
       "      <td>0</td>\n",
       "      <td>0</td>\n",
       "      <td>0</td>\n",
       "      <td>0</td>\n",
       "      <td>0</td>\n",
       "      <td>0</td>\n",
       "      <td>0</td>\n",
       "      <td>0</td>\n",
       "      <td>0</td>\n",
       "      <td>0</td>\n",
       "      <td>0</td>\n",
       "      <td>1</td>\n",
       "      <td>0</td>\n",
       "      <td>1</td>\n",
       "      <td>0</td>\n",
       "    </tr>\n",
       "    <tr>\n",
       "      <th>2</th>\n",
       "      <td>0</td>\n",
       "      <td>1</td>\n",
       "      <td>1</td>\n",
       "      <td>0</td>\n",
       "      <td>0</td>\n",
       "      <td>0</td>\n",
       "      <td>0</td>\n",
       "      <td>0</td>\n",
       "      <td>0</td>\n",
       "      <td>0</td>\n",
       "      <td>0</td>\n",
       "      <td>0</td>\n",
       "      <td>0</td>\n",
       "      <td>0</td>\n",
       "      <td>0</td>\n",
       "      <td>0</td>\n",
       "      <td>1</td>\n",
       "      <td>0</td>\n",
       "      <td>0</td>\n",
       "      <td>0</td>\n",
       "      <td>0</td>\n",
       "      <td>0</td>\n",
       "      <td>0</td>\n",
       "      <td>1</td>\n",
       "    </tr>\n",
       "    <tr>\n",
       "      <th>3</th>\n",
       "      <td>0</td>\n",
       "      <td>1</td>\n",
       "      <td>1</td>\n",
       "      <td>0</td>\n",
       "      <td>0</td>\n",
       "      <td>0</td>\n",
       "      <td>0</td>\n",
       "      <td>0</td>\n",
       "      <td>0</td>\n",
       "      <td>0</td>\n",
       "      <td>0</td>\n",
       "      <td>0</td>\n",
       "      <td>0</td>\n",
       "      <td>0</td>\n",
       "      <td>1</td>\n",
       "      <td>0</td>\n",
       "      <td>0</td>\n",
       "      <td>0</td>\n",
       "      <td>0</td>\n",
       "      <td>0</td>\n",
       "      <td>0</td>\n",
       "      <td>0</td>\n",
       "      <td>0</td>\n",
       "      <td>0</td>\n",
       "    </tr>\n",
       "    <tr>\n",
       "      <th>4</th>\n",
       "      <td>0</td>\n",
       "      <td>0</td>\n",
       "      <td>1</td>\n",
       "      <td>0</td>\n",
       "      <td>0</td>\n",
       "      <td>0</td>\n",
       "      <td>0</td>\n",
       "      <td>0</td>\n",
       "      <td>0</td>\n",
       "      <td>0</td>\n",
       "      <td>0</td>\n",
       "      <td>0</td>\n",
       "      <td>1</td>\n",
       "      <td>0</td>\n",
       "      <td>0</td>\n",
       "      <td>0</td>\n",
       "      <td>0</td>\n",
       "      <td>0</td>\n",
       "      <td>0</td>\n",
       "      <td>0</td>\n",
       "      <td>0</td>\n",
       "      <td>0</td>\n",
       "      <td>1</td>\n",
       "      <td>0</td>\n",
       "    </tr>\n",
       "  </tbody>\n",
       "</table>\n",
       "</div>"
      ],
      "text/plain": [
       "   Segment_Corporate  Segment_Home Office  Market_Asia Pacific  Market_Europe  \\\n",
       "0                  0                    1                    1              0   \n",
       "1                  0                    0                    1              0   \n",
       "2                  0                    1                    1              0   \n",
       "3                  0                    1                    1              0   \n",
       "4                  0                    0                    1              0   \n",
       "\n",
       "   Market_LATAM  Market_USCA  Sub-Category_Appliances  Sub-Category_Art  \\\n",
       "0             0            0                        0                 0   \n",
       "1             0            0                        0                 0   \n",
       "2             0            0                        0                 0   \n",
       "3             0            0                        0                 0   \n",
       "4             0            0                        0                 0   \n",
       "\n",
       "   Sub-Category_Binders  Sub-Category_Bookcases  Sub-Category_Chairs  \\\n",
       "0                     0                       1                    0   \n",
       "1                     0                       0                    0   \n",
       "2                     0                       0                    0   \n",
       "3                     0                       0                    0   \n",
       "4                     0                       0                    0   \n",
       "\n",
       "   Sub-Category_Copiers  Sub-Category_Envelopes  Sub-Category_Fasteners  \\\n",
       "0                     0                       0                       0   \n",
       "1                     0                       0                       0   \n",
       "2                     0                       0                       0   \n",
       "3                     0                       0                       0   \n",
       "4                     0                       1                       0   \n",
       "\n",
       "   Sub-Category_Furnishings  Sub-Category_Labels  Sub-Category_Machines  \\\n",
       "0                         0                    0                      0   \n",
       "1                         0                    0                      0   \n",
       "2                         0                    0                      1   \n",
       "3                         1                    0                      0   \n",
       "4                         0                    0                      0   \n",
       "\n",
       "   Sub-Category_Paper  Sub-Category_Phones  Sub-Category_Storage  \\\n",
       "0                   0                    0                     0   \n",
       "1                   0                    0                     0   \n",
       "2                   0                    0                     0   \n",
       "3                   0                    0                     0   \n",
       "4                   0                    0                     0   \n",
       "\n",
       "   Sub-Category_Supplies  Sub-Category_Tables  Category_Office Supplies  \\\n",
       "0                      0                    0                         0   \n",
       "1                      1                    0                         1   \n",
       "2                      0                    0                         0   \n",
       "3                      0                    0                         0   \n",
       "4                      0                    0                         1   \n",
       "\n",
       "   Category_Technology  \n",
       "0                    0  \n",
       "1                    0  \n",
       "2                    1  \n",
       "3                    0  \n",
       "4                    0  "
      ]
     },
     "execution_count": 40,
     "metadata": {},
     "output_type": "execute_result"
    }
   ],
   "source": [
    "df_cat=pd.get_dummies(df_cat,drop_first=True)\n",
    "df_cat.head()"
   ]
  },
  {
   "cell_type": "code",
   "execution_count": 43,
   "metadata": {},
   "outputs": [
    {
     "data": {
      "text/html": [
       "<div>\n",
       "<style scoped>\n",
       "    .dataframe tbody tr th:only-of-type {\n",
       "        vertical-align: middle;\n",
       "    }\n",
       "\n",
       "    .dataframe tbody tr th {\n",
       "        vertical-align: top;\n",
       "    }\n",
       "\n",
       "    .dataframe thead th {\n",
       "        text-align: right;\n",
       "    }\n",
       "</style>\n",
       "<table border=\"1\" class=\"dataframe\">\n",
       "  <thead>\n",
       "    <tr style=\"text-align: right;\">\n",
       "      <th></th>\n",
       "      <th>Segment_Corporate</th>\n",
       "      <th>Segment_Home Office</th>\n",
       "      <th>Market_Asia Pacific</th>\n",
       "      <th>Market_Europe</th>\n",
       "      <th>Market_LATAM</th>\n",
       "      <th>Market_USCA</th>\n",
       "      <th>Sub-Category_Appliances</th>\n",
       "      <th>Sub-Category_Art</th>\n",
       "      <th>Sub-Category_Binders</th>\n",
       "      <th>Sub-Category_Bookcases</th>\n",
       "      <th>Sub-Category_Chairs</th>\n",
       "      <th>Sub-Category_Copiers</th>\n",
       "      <th>...</th>\n",
       "      <th>Sub-Category_Labels</th>\n",
       "      <th>Sub-Category_Machines</th>\n",
       "      <th>Sub-Category_Paper</th>\n",
       "      <th>Sub-Category_Phones</th>\n",
       "      <th>Sub-Category_Storage</th>\n",
       "      <th>Sub-Category_Supplies</th>\n",
       "      <th>Sub-Category_Tables</th>\n",
       "      <th>Category_Office Supplies</th>\n",
       "      <th>Category_Technology</th>\n",
       "      <th>Sales</th>\n",
       "      <th>Shipping Cost</th>\n",
       "      <th>Profit</th>\n",
       "    </tr>\n",
       "  </thead>\n",
       "  <tbody>\n",
       "    <tr>\n",
       "      <th>0</th>\n",
       "      <td>0</td>\n",
       "      <td>1</td>\n",
       "      <td>1</td>\n",
       "      <td>0</td>\n",
       "      <td>0</td>\n",
       "      <td>0</td>\n",
       "      <td>0</td>\n",
       "      <td>0</td>\n",
       "      <td>0</td>\n",
       "      <td>1</td>\n",
       "      <td>0</td>\n",
       "      <td>0</td>\n",
       "      <td>...</td>\n",
       "      <td>0</td>\n",
       "      <td>0</td>\n",
       "      <td>0</td>\n",
       "      <td>0</td>\n",
       "      <td>0</td>\n",
       "      <td>0</td>\n",
       "      <td>0</td>\n",
       "      <td>0</td>\n",
       "      <td>0</td>\n",
       "      <td>6.595535</td>\n",
       "      <td>3.680343</td>\n",
       "      <td>102.42</td>\n",
       "    </tr>\n",
       "    <tr>\n",
       "      <th>1</th>\n",
       "      <td>0</td>\n",
       "      <td>0</td>\n",
       "      <td>1</td>\n",
       "      <td>0</td>\n",
       "      <td>0</td>\n",
       "      <td>0</td>\n",
       "      <td>0</td>\n",
       "      <td>0</td>\n",
       "      <td>0</td>\n",
       "      <td>0</td>\n",
       "      <td>0</td>\n",
       "      <td>0</td>\n",
       "      <td>...</td>\n",
       "      <td>0</td>\n",
       "      <td>0</td>\n",
       "      <td>0</td>\n",
       "      <td>0</td>\n",
       "      <td>0</td>\n",
       "      <td>1</td>\n",
       "      <td>0</td>\n",
       "      <td>1</td>\n",
       "      <td>0</td>\n",
       "      <td>5.495281</td>\n",
       "      <td>2.929592</td>\n",
       "      <td>104.49</td>\n",
       "    </tr>\n",
       "    <tr>\n",
       "      <th>2</th>\n",
       "      <td>0</td>\n",
       "      <td>1</td>\n",
       "      <td>1</td>\n",
       "      <td>0</td>\n",
       "      <td>0</td>\n",
       "      <td>0</td>\n",
       "      <td>0</td>\n",
       "      <td>0</td>\n",
       "      <td>0</td>\n",
       "      <td>0</td>\n",
       "      <td>0</td>\n",
       "      <td>0</td>\n",
       "      <td>...</td>\n",
       "      <td>0</td>\n",
       "      <td>1</td>\n",
       "      <td>0</td>\n",
       "      <td>0</td>\n",
       "      <td>0</td>\n",
       "      <td>0</td>\n",
       "      <td>0</td>\n",
       "      <td>0</td>\n",
       "      <td>1</td>\n",
       "      <td>5.847363</td>\n",
       "      <td>2.646175</td>\n",
       "      <td>13.77</td>\n",
       "    </tr>\n",
       "    <tr>\n",
       "      <th>3</th>\n",
       "      <td>0</td>\n",
       "      <td>1</td>\n",
       "      <td>1</td>\n",
       "      <td>0</td>\n",
       "      <td>0</td>\n",
       "      <td>0</td>\n",
       "      <td>0</td>\n",
       "      <td>0</td>\n",
       "      <td>0</td>\n",
       "      <td>0</td>\n",
       "      <td>0</td>\n",
       "      <td>0</td>\n",
       "      <td>...</td>\n",
       "      <td>0</td>\n",
       "      <td>0</td>\n",
       "      <td>0</td>\n",
       "      <td>0</td>\n",
       "      <td>0</td>\n",
       "      <td>0</td>\n",
       "      <td>0</td>\n",
       "      <td>0</td>\n",
       "      <td>0</td>\n",
       "      <td>5.133914</td>\n",
       "      <td>2.398804</td>\n",
       "      <td>79.68</td>\n",
       "    </tr>\n",
       "    <tr>\n",
       "      <th>4</th>\n",
       "      <td>0</td>\n",
       "      <td>0</td>\n",
       "      <td>1</td>\n",
       "      <td>0</td>\n",
       "      <td>0</td>\n",
       "      <td>0</td>\n",
       "      <td>0</td>\n",
       "      <td>0</td>\n",
       "      <td>0</td>\n",
       "      <td>0</td>\n",
       "      <td>0</td>\n",
       "      <td>0</td>\n",
       "      <td>...</td>\n",
       "      <td>0</td>\n",
       "      <td>0</td>\n",
       "      <td>0</td>\n",
       "      <td>0</td>\n",
       "      <td>0</td>\n",
       "      <td>0</td>\n",
       "      <td>0</td>\n",
       "      <td>1</td>\n",
       "      <td>0</td>\n",
       "      <td>5.317532</td>\n",
       "      <td>1.743969</td>\n",
       "      <td>24.36</td>\n",
       "    </tr>\n",
       "  </tbody>\n",
       "</table>\n",
       "<p>5 rows × 27 columns</p>\n",
       "</div>"
      ],
      "text/plain": [
       "   Segment_Corporate  Segment_Home Office  Market_Asia Pacific  Market_Europe  \\\n",
       "0                  0                    1                    1              0   \n",
       "1                  0                    0                    1              0   \n",
       "2                  0                    1                    1              0   \n",
       "3                  0                    1                    1              0   \n",
       "4                  0                    0                    1              0   \n",
       "\n",
       "   Market_LATAM  Market_USCA  Sub-Category_Appliances  Sub-Category_Art  \\\n",
       "0             0            0                        0                 0   \n",
       "1             0            0                        0                 0   \n",
       "2             0            0                        0                 0   \n",
       "3             0            0                        0                 0   \n",
       "4             0            0                        0                 0   \n",
       "\n",
       "   Sub-Category_Binders  Sub-Category_Bookcases  Sub-Category_Chairs  \\\n",
       "0                     0                       1                    0   \n",
       "1                     0                       0                    0   \n",
       "2                     0                       0                    0   \n",
       "3                     0                       0                    0   \n",
       "4                     0                       0                    0   \n",
       "\n",
       "   Sub-Category_Copiers  ...  Sub-Category_Labels  Sub-Category_Machines  \\\n",
       "0                     0  ...                    0                      0   \n",
       "1                     0  ...                    0                      0   \n",
       "2                     0  ...                    0                      1   \n",
       "3                     0  ...                    0                      0   \n",
       "4                     0  ...                    0                      0   \n",
       "\n",
       "   Sub-Category_Paper  Sub-Category_Phones  Sub-Category_Storage  \\\n",
       "0                   0                    0                     0   \n",
       "1                   0                    0                     0   \n",
       "2                   0                    0                     0   \n",
       "3                   0                    0                     0   \n",
       "4                   0                    0                     0   \n",
       "\n",
       "   Sub-Category_Supplies  Sub-Category_Tables  Category_Office Supplies  \\\n",
       "0                      0                    0                         0   \n",
       "1                      1                    0                         1   \n",
       "2                      0                    0                         0   \n",
       "3                      0                    0                         0   \n",
       "4                      0                    0                         1   \n",
       "\n",
       "   Category_Technology     Sales  Shipping Cost  Profit  \n",
       "0                    0  6.595535       3.680343  102.42  \n",
       "1                    0  5.495281       2.929592  104.49  \n",
       "2                    1  5.847363       2.646175   13.77  \n",
       "3                    0  5.133914       2.398804   79.68  \n",
       "4                    0  5.317532       1.743969   24.36  \n",
       "\n",
       "[5 rows x 27 columns]"
      ]
     },
     "execution_count": 43,
     "metadata": {},
     "output_type": "execute_result"
    }
   ],
   "source": [
    "data=pd.concat([df_cat,df_num,df['Profit']],axis=1)\n",
    "data.head()"
   ]
  },
  {
   "cell_type": "code",
   "execution_count": 46,
   "metadata": {},
   "outputs": [
    {
     "data": {
      "text/plain": [
       "array([[ 0.42336426],\n",
       "       [ 0.43523766],\n",
       "       [-0.08512702],\n",
       "       ...,\n",
       "       [-0.21602696],\n",
       "       [-1.16202723],\n",
       "       [-0.19465484]])"
      ]
     },
     "execution_count": 46,
     "metadata": {},
     "output_type": "execute_result"
    }
   ],
   "source": [
    "#Profit using standard scaler\n",
    "from sklearn.preprocessing import StandardScaler\n",
    "ss=StandardScaler()\n",
    "s=np.array(data['Profit']).reshape(-1,1)\n",
    "dd=ss.fit_transform(s)\n",
    "dd"
   ]
  },
  {
   "cell_type": "code",
   "execution_count": 47,
   "metadata": {},
   "outputs": [],
   "source": [
    "data['Profit']=dd"
   ]
  },
  {
   "cell_type": "code",
   "execution_count": 48,
   "metadata": {},
   "outputs": [
    {
     "data": {
      "text/html": [
       "<div>\n",
       "<style scoped>\n",
       "    .dataframe tbody tr th:only-of-type {\n",
       "        vertical-align: middle;\n",
       "    }\n",
       "\n",
       "    .dataframe tbody tr th {\n",
       "        vertical-align: top;\n",
       "    }\n",
       "\n",
       "    .dataframe thead th {\n",
       "        text-align: right;\n",
       "    }\n",
       "</style>\n",
       "<table border=\"1\" class=\"dataframe\">\n",
       "  <thead>\n",
       "    <tr style=\"text-align: right;\">\n",
       "      <th></th>\n",
       "      <th>Segment_Corporate</th>\n",
       "      <th>Segment_Home Office</th>\n",
       "      <th>Market_Asia Pacific</th>\n",
       "      <th>Market_Europe</th>\n",
       "      <th>Market_LATAM</th>\n",
       "      <th>Market_USCA</th>\n",
       "      <th>Sub-Category_Appliances</th>\n",
       "      <th>Sub-Category_Art</th>\n",
       "      <th>Sub-Category_Binders</th>\n",
       "      <th>Sub-Category_Bookcases</th>\n",
       "      <th>Sub-Category_Chairs</th>\n",
       "      <th>Sub-Category_Copiers</th>\n",
       "      <th>...</th>\n",
       "      <th>Sub-Category_Labels</th>\n",
       "      <th>Sub-Category_Machines</th>\n",
       "      <th>Sub-Category_Paper</th>\n",
       "      <th>Sub-Category_Phones</th>\n",
       "      <th>Sub-Category_Storage</th>\n",
       "      <th>Sub-Category_Supplies</th>\n",
       "      <th>Sub-Category_Tables</th>\n",
       "      <th>Category_Office Supplies</th>\n",
       "      <th>Category_Technology</th>\n",
       "      <th>Sales</th>\n",
       "      <th>Shipping Cost</th>\n",
       "      <th>Profit</th>\n",
       "    </tr>\n",
       "  </thead>\n",
       "  <tbody>\n",
       "    <tr>\n",
       "      <th>0</th>\n",
       "      <td>0</td>\n",
       "      <td>1</td>\n",
       "      <td>1</td>\n",
       "      <td>0</td>\n",
       "      <td>0</td>\n",
       "      <td>0</td>\n",
       "      <td>0</td>\n",
       "      <td>0</td>\n",
       "      <td>0</td>\n",
       "      <td>1</td>\n",
       "      <td>0</td>\n",
       "      <td>0</td>\n",
       "      <td>...</td>\n",
       "      <td>0</td>\n",
       "      <td>0</td>\n",
       "      <td>0</td>\n",
       "      <td>0</td>\n",
       "      <td>0</td>\n",
       "      <td>0</td>\n",
       "      <td>0</td>\n",
       "      <td>0</td>\n",
       "      <td>0</td>\n",
       "      <td>6.595535</td>\n",
       "      <td>3.680343</td>\n",
       "      <td>0.423364</td>\n",
       "    </tr>\n",
       "    <tr>\n",
       "      <th>1</th>\n",
       "      <td>0</td>\n",
       "      <td>0</td>\n",
       "      <td>1</td>\n",
       "      <td>0</td>\n",
       "      <td>0</td>\n",
       "      <td>0</td>\n",
       "      <td>0</td>\n",
       "      <td>0</td>\n",
       "      <td>0</td>\n",
       "      <td>0</td>\n",
       "      <td>0</td>\n",
       "      <td>0</td>\n",
       "      <td>...</td>\n",
       "      <td>0</td>\n",
       "      <td>0</td>\n",
       "      <td>0</td>\n",
       "      <td>0</td>\n",
       "      <td>0</td>\n",
       "      <td>1</td>\n",
       "      <td>0</td>\n",
       "      <td>1</td>\n",
       "      <td>0</td>\n",
       "      <td>5.495281</td>\n",
       "      <td>2.929592</td>\n",
       "      <td>0.435238</td>\n",
       "    </tr>\n",
       "    <tr>\n",
       "      <th>2</th>\n",
       "      <td>0</td>\n",
       "      <td>1</td>\n",
       "      <td>1</td>\n",
       "      <td>0</td>\n",
       "      <td>0</td>\n",
       "      <td>0</td>\n",
       "      <td>0</td>\n",
       "      <td>0</td>\n",
       "      <td>0</td>\n",
       "      <td>0</td>\n",
       "      <td>0</td>\n",
       "      <td>0</td>\n",
       "      <td>...</td>\n",
       "      <td>0</td>\n",
       "      <td>1</td>\n",
       "      <td>0</td>\n",
       "      <td>0</td>\n",
       "      <td>0</td>\n",
       "      <td>0</td>\n",
       "      <td>0</td>\n",
       "      <td>0</td>\n",
       "      <td>1</td>\n",
       "      <td>5.847363</td>\n",
       "      <td>2.646175</td>\n",
       "      <td>-0.085127</td>\n",
       "    </tr>\n",
       "    <tr>\n",
       "      <th>3</th>\n",
       "      <td>0</td>\n",
       "      <td>1</td>\n",
       "      <td>1</td>\n",
       "      <td>0</td>\n",
       "      <td>0</td>\n",
       "      <td>0</td>\n",
       "      <td>0</td>\n",
       "      <td>0</td>\n",
       "      <td>0</td>\n",
       "      <td>0</td>\n",
       "      <td>0</td>\n",
       "      <td>0</td>\n",
       "      <td>...</td>\n",
       "      <td>0</td>\n",
       "      <td>0</td>\n",
       "      <td>0</td>\n",
       "      <td>0</td>\n",
       "      <td>0</td>\n",
       "      <td>0</td>\n",
       "      <td>0</td>\n",
       "      <td>0</td>\n",
       "      <td>0</td>\n",
       "      <td>5.133914</td>\n",
       "      <td>2.398804</td>\n",
       "      <td>0.292929</td>\n",
       "    </tr>\n",
       "    <tr>\n",
       "      <th>4</th>\n",
       "      <td>0</td>\n",
       "      <td>0</td>\n",
       "      <td>1</td>\n",
       "      <td>0</td>\n",
       "      <td>0</td>\n",
       "      <td>0</td>\n",
       "      <td>0</td>\n",
       "      <td>0</td>\n",
       "      <td>0</td>\n",
       "      <td>0</td>\n",
       "      <td>0</td>\n",
       "      <td>0</td>\n",
       "      <td>...</td>\n",
       "      <td>0</td>\n",
       "      <td>0</td>\n",
       "      <td>0</td>\n",
       "      <td>0</td>\n",
       "      <td>0</td>\n",
       "      <td>0</td>\n",
       "      <td>0</td>\n",
       "      <td>1</td>\n",
       "      <td>0</td>\n",
       "      <td>5.317532</td>\n",
       "      <td>1.743969</td>\n",
       "      <td>-0.024383</td>\n",
       "    </tr>\n",
       "  </tbody>\n",
       "</table>\n",
       "<p>5 rows × 27 columns</p>\n",
       "</div>"
      ],
      "text/plain": [
       "   Segment_Corporate  Segment_Home Office  Market_Asia Pacific  Market_Europe  \\\n",
       "0                  0                    1                    1              0   \n",
       "1                  0                    0                    1              0   \n",
       "2                  0                    1                    1              0   \n",
       "3                  0                    1                    1              0   \n",
       "4                  0                    0                    1              0   \n",
       "\n",
       "   Market_LATAM  Market_USCA  Sub-Category_Appliances  Sub-Category_Art  \\\n",
       "0             0            0                        0                 0   \n",
       "1             0            0                        0                 0   \n",
       "2             0            0                        0                 0   \n",
       "3             0            0                        0                 0   \n",
       "4             0            0                        0                 0   \n",
       "\n",
       "   Sub-Category_Binders  Sub-Category_Bookcases  Sub-Category_Chairs  \\\n",
       "0                     0                       1                    0   \n",
       "1                     0                       0                    0   \n",
       "2                     0                       0                    0   \n",
       "3                     0                       0                    0   \n",
       "4                     0                       0                    0   \n",
       "\n",
       "   Sub-Category_Copiers  ...  Sub-Category_Labels  Sub-Category_Machines  \\\n",
       "0                     0  ...                    0                      0   \n",
       "1                     0  ...                    0                      0   \n",
       "2                     0  ...                    0                      1   \n",
       "3                     0  ...                    0                      0   \n",
       "4                     0  ...                    0                      0   \n",
       "\n",
       "   Sub-Category_Paper  Sub-Category_Phones  Sub-Category_Storage  \\\n",
       "0                   0                    0                     0   \n",
       "1                   0                    0                     0   \n",
       "2                   0                    0                     0   \n",
       "3                   0                    0                     0   \n",
       "4                   0                    0                     0   \n",
       "\n",
       "   Sub-Category_Supplies  Sub-Category_Tables  Category_Office Supplies  \\\n",
       "0                      0                    0                         0   \n",
       "1                      1                    0                         1   \n",
       "2                      0                    0                         0   \n",
       "3                      0                    0                         0   \n",
       "4                      0                    0                         1   \n",
       "\n",
       "   Category_Technology     Sales  Shipping Cost    Profit  \n",
       "0                    0  6.595535       3.680343  0.423364  \n",
       "1                    0  5.495281       2.929592  0.435238  \n",
       "2                    1  5.847363       2.646175 -0.085127  \n",
       "3                    0  5.133914       2.398804  0.292929  \n",
       "4                    0  5.317532       1.743969 -0.024383  \n",
       "\n",
       "[5 rows x 27 columns]"
      ]
     },
     "execution_count": 48,
     "metadata": {},
     "output_type": "execute_result"
    }
   ],
   "source": [
    "data.head()"
   ]
  },
  {
   "cell_type": "code",
   "execution_count": 49,
   "metadata": {},
   "outputs": [],
   "source": [
    "x=data\n",
    "y=target"
   ]
  },
  {
   "cell_type": "code",
   "execution_count": 50,
   "metadata": {},
   "outputs": [],
   "source": [
    "from sklearn.model_selection import train_test_split\n",
    "x_train,x_test,y_train,y_test=train_test_split(x,y,test_size=0.3,random_state=1)"
   ]
  },
  {
   "cell_type": "code",
   "execution_count": 51,
   "metadata": {},
   "outputs": [],
   "source": [
    "#Building models\n",
    "from sklearn.tree import DecisionTreeClassifier\n",
    "from sklearn.ensemble import RandomForestClassifier\n",
    "from sklearn.linear_model import SGDClassifier\n",
    "from sklearn.ensemble import GradientBoostingClassifier\n",
    "from sklearn.ensemble import ExtraTreesClassifier\n",
    "from sklearn.neighbors import KNeighborsClassifier \n",
    "from sklearn.discriminant_analysis import LinearDiscriminantAnalysis \n",
    "from sklearn.naive_bayes import GaussianNB \n",
    "from sklearn.svm import SVC \n",
    "from sklearn import model_selection"
   ]
  },
  {
   "cell_type": "code",
   "execution_count": 52,
   "metadata": {},
   "outputs": [],
   "source": [
    "models=[]\n",
    "models.append(('DTC',DecisionTreeClassifier()))\n",
    "models.append(('RFC',RandomForestClassifier()))\n",
    "models.append(('SGDC',SGDClassifier()))\n",
    "models.append(('GBC',GradientBoostingClassifier()))\n",
    "models.append(('ETC',ExtraTreesClassifier()))\n",
    "models.append(('KNN',KNeighborsClassifier()))\n",
    "models.append(('LDA',LinearDiscriminantAnalysis()))\n",
    "models.append(('GNB',GaussianNB()))\n",
    "models.append(('SVM',SVC()))\n"
   ]
  },
  {
   "cell_type": "code",
   "execution_count": 54,
   "metadata": {},
   "outputs": [
    {
     "name": "stdout",
     "output_type": "stream",
     "text": [
      "DTC 0.9959334734235774 0.0011830758722133235\n",
      "RFC 0.98167281403757 0.0015249561185235025\n",
      "SGDC 0.8831564674608214 0.013193761912586276\n",
      "GBC 0.9916719452608618 0.001645596213691572\n",
      "ETC 0.9415925220044852 0.0029839661766593185\n",
      "KNN 0.7782081713103557 0.007215327926235107\n",
      "LDA 0.6901096520316575 0.004763268880075313\n",
      "GNB 0.6310897950540232 0.007876049464546854\n",
      "SVM 0.9280840293243168 0.005511068465195564\n"
     ]
    }
   ],
   "source": [
    "res=[]\n",
    "names=[]\n",
    "scoring='accuracy'\n",
    "for name,model in models:\n",
    "    kfold=model_selection.KFold(n_splits=10,random_state=7)\n",
    "    resultss=model_selection.cross_val_score(model,x_train,y_train,cv=kfold,scoring=scoring)\n",
    "    res.append(resultss)\n",
    "    names.append(name)\n",
    "    print(name,resultss.mean(),resultss.std())\n"
   ]
  },
  {
   "cell_type": "code",
   "execution_count": 56,
   "metadata": {},
   "outputs": [],
   "source": [
    "#best model\n",
    "gbc=GradientBoostingClassifier()\n",
    "gbc.fit(x_train,y_train)\n",
    "y_predd=gbc.predict(x_test)"
   ]
  },
  {
   "cell_type": "code",
   "execution_count": 57,
   "metadata": {},
   "outputs": [],
   "source": [
    "from sklearn.metrics import accuracy_score,confusion_matrix,classification_report"
   ]
  },
  {
   "cell_type": "code",
   "execution_count": 58,
   "metadata": {},
   "outputs": [
    {
     "name": "stdout",
     "output_type": "stream",
     "text": [
      "accuracy 0.9935010073438617\n",
      "confusion [[6125   12]\n",
      " [  88 9162]]\n",
      "classification_report               precision    recall  f1-score   support\n",
      "\n",
      "           0       0.99      1.00      0.99      6137\n",
      "           1       1.00      0.99      0.99      9250\n",
      "\n",
      "    accuracy                           0.99     15387\n",
      "   macro avg       0.99      0.99      0.99     15387\n",
      "weighted avg       0.99      0.99      0.99     15387\n",
      "\n"
     ]
    }
   ],
   "source": [
    "#For Gradient Bossting CLassifier\n",
    "print('accuracy',accuracy_score(y_predd,y_test))\n",
    "print('confusion',confusion_matrix(y_predd,y_test))\n",
    "print('classification_report',classification_report(y_predd,y_test))\n"
   ]
  }
 ],
 "metadata": {
  "kernelspec": {
   "display_name": "Python 3",
   "language": "python",
   "name": "python3"
  },
  "language_info": {
   "codemirror_mode": {
    "name": "ipython",
    "version": 3
   },
   "file_extension": ".py",
   "mimetype": "text/x-python",
   "name": "python",
   "nbconvert_exporter": "python",
   "pygments_lexer": "ipython3",
   "version": "3.7.6"
  }
 },
 "nbformat": 4,
 "nbformat_minor": 4
}
