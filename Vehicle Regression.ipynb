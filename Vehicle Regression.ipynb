{
 "cells": [
  {
   "cell_type": "markdown",
   "metadata": {},
   "source": [
    "# import libraries"
   ]
  },
  {
   "cell_type": "code",
   "execution_count": 1,
   "metadata": {},
   "outputs": [],
   "source": [
    "import warnings \n",
    "from warnings import filterwarnings\n",
    "filterwarnings('ignore')"
   ]
  },
  {
   "cell_type": "code",
   "execution_count": 2,
   "metadata": {},
   "outputs": [
    {
     "data": {
      "application/javascript": [
       "\n",
       "        if (window._pyforest_update_imports_cell) { window._pyforest_update_imports_cell('import matplotlib.pyplot as plt'); }\n",
       "    "
      ],
      "text/plain": [
       "<IPython.core.display.Javascript object>"
      ]
     },
     "metadata": {},
     "output_type": "display_data"
    }
   ],
   "source": [
    "plt.rcParams['figure.figsize'] = [15,8]"
   ]
  },
  {
   "cell_type": "code",
   "execution_count": 3,
   "metadata": {},
   "outputs": [
    {
     "data": {
      "application/javascript": [
       "\n",
       "        if (window._pyforest_update_imports_cell) { window._pyforest_update_imports_cell('import matplotlib.pyplot as plt\\nimport pandas as pd'); }\n",
       "    "
      ],
      "text/plain": [
       "<IPython.core.display.Javascript object>"
      ]
     },
     "metadata": {},
     "output_type": "display_data"
    },
    {
     "data": {
      "application/javascript": [
       "\n",
       "        if (window._pyforest_update_imports_cell) { window._pyforest_update_imports_cell('import matplotlib.pyplot as plt\\nimport pandas as pd'); }\n",
       "    "
      ],
      "text/plain": [
       "<IPython.core.display.Javascript object>"
      ]
     },
     "metadata": {},
     "output_type": "display_data"
    },
    {
     "data": {
      "application/javascript": [
       "\n",
       "        if (window._pyforest_update_imports_cell) { window._pyforest_update_imports_cell('import matplotlib.pyplot as plt\\nimport numpy as np\\nimport pandas as pd'); }\n",
       "    "
      ],
      "text/plain": [
       "<IPython.core.display.Javascript object>"
      ]
     },
     "metadata": {},
     "output_type": "display_data"
    }
   ],
   "source": [
    "pd.options.display.max_columns = None\n",
    "pd.options.display.max_rows = None\n",
    "np.set_printoptions(suppress=True)"
   ]
  },
  {
   "cell_type": "markdown",
   "metadata": {},
   "source": [
    "# Loading Data"
   ]
  },
  {
   "cell_type": "code",
   "execution_count": 4,
   "metadata": {},
   "outputs": [
    {
     "data": {
      "application/javascript": [
       "\n",
       "        if (window._pyforest_update_imports_cell) { window._pyforest_update_imports_cell('import matplotlib.pyplot as plt\\nimport numpy as np\\nimport pandas as pd'); }\n",
       "    "
      ],
      "text/plain": [
       "<IPython.core.display.Javascript object>"
      ]
     },
     "metadata": {},
     "output_type": "display_data"
    },
    {
     "data": {
      "text/html": [
       "<div>\n",
       "<style scoped>\n",
       "    .dataframe tbody tr th:only-of-type {\n",
       "        vertical-align: middle;\n",
       "    }\n",
       "\n",
       "    .dataframe tbody tr th {\n",
       "        vertical-align: top;\n",
       "    }\n",
       "\n",
       "    .dataframe thead th {\n",
       "        text-align: right;\n",
       "    }\n",
       "</style>\n",
       "<table border=\"1\" class=\"dataframe\">\n",
       "  <thead>\n",
       "    <tr style=\"text-align: right;\">\n",
       "      <th></th>\n",
       "      <th>origin</th>\n",
       "      <th>cylinders</th>\n",
       "      <th>displacement</th>\n",
       "      <th>horsepower</th>\n",
       "      <th>weight</th>\n",
       "      <th>acceleration</th>\n",
       "      <th>year</th>\n",
       "      <th>name</th>\n",
       "      <th>Kilometer_per_liter</th>\n",
       "    </tr>\n",
       "  </thead>\n",
       "  <tbody>\n",
       "    <tr>\n",
       "      <th>0</th>\n",
       "      <td>1</td>\n",
       "      <td>8</td>\n",
       "      <td>307.0</td>\n",
       "      <td>130</td>\n",
       "      <td>3504</td>\n",
       "      <td>12.0</td>\n",
       "      <td>1970</td>\n",
       "      <td>chevrolet chevelle malibu</td>\n",
       "      <td>7.652587</td>\n",
       "    </tr>\n",
       "    <tr>\n",
       "      <th>1</th>\n",
       "      <td>1</td>\n",
       "      <td>8</td>\n",
       "      <td>350.0</td>\n",
       "      <td>165</td>\n",
       "      <td>3693</td>\n",
       "      <td>11.5</td>\n",
       "      <td>1970</td>\n",
       "      <td>buick skylark 320</td>\n",
       "      <td>6.377156</td>\n",
       "    </tr>\n",
       "    <tr>\n",
       "      <th>2</th>\n",
       "      <td>1</td>\n",
       "      <td>8</td>\n",
       "      <td>318.0</td>\n",
       "      <td>150</td>\n",
       "      <td>3436</td>\n",
       "      <td>11.0</td>\n",
       "      <td>1970</td>\n",
       "      <td>plymouth satellite</td>\n",
       "      <td>7.652587</td>\n",
       "    </tr>\n",
       "    <tr>\n",
       "      <th>3</th>\n",
       "      <td>1</td>\n",
       "      <td>8</td>\n",
       "      <td>304.0</td>\n",
       "      <td>150</td>\n",
       "      <td>3433</td>\n",
       "      <td>12.0</td>\n",
       "      <td>1970</td>\n",
       "      <td>amc rebel sst</td>\n",
       "      <td>6.802299</td>\n",
       "    </tr>\n",
       "    <tr>\n",
       "      <th>4</th>\n",
       "      <td>1</td>\n",
       "      <td>8</td>\n",
       "      <td>302.0</td>\n",
       "      <td>140</td>\n",
       "      <td>3449</td>\n",
       "      <td>10.5</td>\n",
       "      <td>1970</td>\n",
       "      <td>ford torino</td>\n",
       "      <td>7.227443</td>\n",
       "    </tr>\n",
       "  </tbody>\n",
       "</table>\n",
       "</div>"
      ],
      "text/plain": [
       "   origin  cylinders  displacement horsepower  weight  acceleration  year  \\\n",
       "0       1          8         307.0        130    3504          12.0  1970   \n",
       "1       1          8         350.0        165    3693          11.5  1970   \n",
       "2       1          8         318.0        150    3436          11.0  1970   \n",
       "3       1          8         304.0        150    3433          12.0  1970   \n",
       "4       1          8         302.0        140    3449          10.5  1970   \n",
       "\n",
       "                        name  Kilometer_per_liter  \n",
       "0  chevrolet chevelle malibu             7.652587  \n",
       "1          buick skylark 320             6.377156  \n",
       "2         plymouth satellite             7.652587  \n",
       "3              amc rebel sst             6.802299  \n",
       "4                ford torino             7.227443  "
      ]
     },
     "execution_count": 4,
     "metadata": {},
     "output_type": "execute_result"
    }
   ],
   "source": [
    "# read csv file using pandas\n",
    "vehicle = pd.read_csv('Vehicle.csv')\n",
    "\n",
    "# display the top 5 rows of the dataframe\n",
    "vehicle.head()\n"
   ]
  },
  {
   "cell_type": "markdown",
   "metadata": {},
   "source": [
    "# EDA - Exploratory Data Analysis"
   ]
  },
  {
   "cell_type": "code",
   "execution_count": 5,
   "metadata": {},
   "outputs": [
    {
     "data": {
      "text/plain": [
       "(398, 9)"
      ]
     },
     "execution_count": 5,
     "metadata": {},
     "output_type": "execute_result"
    }
   ],
   "source": [
    "vehicle.shape"
   ]
  },
  {
   "cell_type": "code",
   "execution_count": 6,
   "metadata": {},
   "outputs": [
    {
     "data": {
      "text/plain": [
       "origin                 0\n",
       "cylinders              0\n",
       "displacement           0\n",
       "horsepower             0\n",
       "weight                 0\n",
       "acceleration           0\n",
       "year                   0\n",
       "name                   0\n",
       "Kilometer_per_liter    0\n",
       "dtype: int64"
      ]
     },
     "execution_count": 6,
     "metadata": {},
     "output_type": "execute_result"
    }
   ],
   "source": [
    "vehicle.isnull().sum()"
   ]
  },
  {
   "cell_type": "code",
   "execution_count": 7,
   "metadata": {},
   "outputs": [
    {
     "data": {
      "text/plain": [
       "origin                   3\n",
       "cylinders                5\n",
       "displacement            82\n",
       "horsepower              94\n",
       "weight                 351\n",
       "acceleration            95\n",
       "year                    13\n",
       "name                   305\n",
       "Kilometer_per_liter    129\n",
       "dtype: int64"
      ]
     },
     "execution_count": 7,
     "metadata": {},
     "output_type": "execute_result"
    }
   ],
   "source": [
    "vehicle.nunique()"
   ]
  },
  {
   "cell_type": "code",
   "execution_count": 8,
   "metadata": {},
   "outputs": [
    {
     "name": "stdout",
     "output_type": "stream",
     "text": [
      "<class 'pandas.core.frame.DataFrame'>\n",
      "RangeIndex: 398 entries, 0 to 397\n",
      "Data columns (total 9 columns):\n",
      " #   Column               Non-Null Count  Dtype  \n",
      "---  ------               --------------  -----  \n",
      " 0   origin               398 non-null    int64  \n",
      " 1   cylinders            398 non-null    int64  \n",
      " 2   displacement         398 non-null    float64\n",
      " 3   horsepower           398 non-null    object \n",
      " 4   weight               398 non-null    int64  \n",
      " 5   acceleration         398 non-null    float64\n",
      " 6   year                 398 non-null    int64  \n",
      " 7   name                 398 non-null    object \n",
      " 8   Kilometer_per_liter  398 non-null    float64\n",
      "dtypes: float64(3), int64(4), object(2)\n",
      "memory usage: 28.1+ KB\n"
     ]
    }
   ],
   "source": [
    "vehicle.info()"
   ]
  },
  {
   "cell_type": "code",
   "execution_count": 9,
   "metadata": {},
   "outputs": [],
   "source": [
    "#checking dtypes and convert into right format\n",
    "#remove irrelevant features/unique features/redudndant features\n",
    "vehicle.drop('name',axis=1,inplace=True)"
   ]
  },
  {
   "cell_type": "code",
   "execution_count": 10,
   "metadata": {},
   "outputs": [
    {
     "data": {
      "application/javascript": [
       "\n",
       "        if (window._pyforest_update_imports_cell) { window._pyforest_update_imports_cell('import matplotlib.pyplot as plt\\nimport numpy as np\\nimport pandas as pd'); }\n",
       "    "
      ],
      "text/plain": [
       "<IPython.core.display.Javascript object>"
      ]
     },
     "metadata": {},
     "output_type": "display_data"
    }
   ],
   "source": [
    "vehicle['horsepower'] = pd.to_numeric(vehicle['horsepower'],errors='coerce')"
   ]
  },
  {
   "cell_type": "code",
   "execution_count": 11,
   "metadata": {},
   "outputs": [],
   "source": [
    "vehicle[['origin','cylinders','year']]=vehicle[['origin','cylinders','year']].astype('str')"
   ]
  },
  {
   "cell_type": "code",
   "execution_count": 12,
   "metadata": {},
   "outputs": [
    {
     "data": {
      "text/plain": [
       "origin                  object\n",
       "cylinders               object\n",
       "displacement           float64\n",
       "horsepower             float64\n",
       "weight                   int64\n",
       "acceleration           float64\n",
       "year                    object\n",
       "Kilometer_per_liter    float64\n",
       "dtype: object"
      ]
     },
     "execution_count": 12,
     "metadata": {},
     "output_type": "execute_result"
    }
   ],
   "source": [
    "vehicle.dtypes"
   ]
  },
  {
   "cell_type": "code",
   "execution_count": 13,
   "metadata": {},
   "outputs": [
    {
     "data": {
      "text/html": [
       "<div>\n",
       "<style scoped>\n",
       "    .dataframe tbody tr th:only-of-type {\n",
       "        vertical-align: middle;\n",
       "    }\n",
       "\n",
       "    .dataframe tbody tr th {\n",
       "        vertical-align: top;\n",
       "    }\n",
       "\n",
       "    .dataframe thead th {\n",
       "        text-align: right;\n",
       "    }\n",
       "</style>\n",
       "<table border=\"1\" class=\"dataframe\">\n",
       "  <thead>\n",
       "    <tr style=\"text-align: right;\">\n",
       "      <th></th>\n",
       "      <th>count</th>\n",
       "      <th>unique</th>\n",
       "      <th>top</th>\n",
       "      <th>freq</th>\n",
       "      <th>mean</th>\n",
       "      <th>std</th>\n",
       "      <th>min</th>\n",
       "      <th>25%</th>\n",
       "      <th>50%</th>\n",
       "      <th>75%</th>\n",
       "      <th>max</th>\n",
       "    </tr>\n",
       "  </thead>\n",
       "  <tbody>\n",
       "    <tr>\n",
       "      <th>origin</th>\n",
       "      <td>398</td>\n",
       "      <td>3</td>\n",
       "      <td>1</td>\n",
       "      <td>249</td>\n",
       "      <td>NaN</td>\n",
       "      <td>NaN</td>\n",
       "      <td>NaN</td>\n",
       "      <td>NaN</td>\n",
       "      <td>NaN</td>\n",
       "      <td>NaN</td>\n",
       "      <td>NaN</td>\n",
       "    </tr>\n",
       "    <tr>\n",
       "      <th>cylinders</th>\n",
       "      <td>398</td>\n",
       "      <td>5</td>\n",
       "      <td>4</td>\n",
       "      <td>204</td>\n",
       "      <td>NaN</td>\n",
       "      <td>NaN</td>\n",
       "      <td>NaN</td>\n",
       "      <td>NaN</td>\n",
       "      <td>NaN</td>\n",
       "      <td>NaN</td>\n",
       "      <td>NaN</td>\n",
       "    </tr>\n",
       "    <tr>\n",
       "      <th>displacement</th>\n",
       "      <td>398</td>\n",
       "      <td>NaN</td>\n",
       "      <td>NaN</td>\n",
       "      <td>NaN</td>\n",
       "      <td>193.426</td>\n",
       "      <td>104.27</td>\n",
       "      <td>68</td>\n",
       "      <td>104.25</td>\n",
       "      <td>148.5</td>\n",
       "      <td>262</td>\n",
       "      <td>455</td>\n",
       "    </tr>\n",
       "    <tr>\n",
       "      <th>horsepower</th>\n",
       "      <td>392</td>\n",
       "      <td>NaN</td>\n",
       "      <td>NaN</td>\n",
       "      <td>NaN</td>\n",
       "      <td>104.469</td>\n",
       "      <td>38.4912</td>\n",
       "      <td>46</td>\n",
       "      <td>75</td>\n",
       "      <td>93.5</td>\n",
       "      <td>126</td>\n",
       "      <td>230</td>\n",
       "    </tr>\n",
       "    <tr>\n",
       "      <th>weight</th>\n",
       "      <td>398</td>\n",
       "      <td>NaN</td>\n",
       "      <td>NaN</td>\n",
       "      <td>NaN</td>\n",
       "      <td>2970.42</td>\n",
       "      <td>846.842</td>\n",
       "      <td>1613</td>\n",
       "      <td>2223.75</td>\n",
       "      <td>2803.5</td>\n",
       "      <td>3608</td>\n",
       "      <td>5140</td>\n",
       "    </tr>\n",
       "    <tr>\n",
       "      <th>acceleration</th>\n",
       "      <td>398</td>\n",
       "      <td>NaN</td>\n",
       "      <td>NaN</td>\n",
       "      <td>NaN</td>\n",
       "      <td>15.5681</td>\n",
       "      <td>2.75769</td>\n",
       "      <td>8</td>\n",
       "      <td>13.825</td>\n",
       "      <td>15.5</td>\n",
       "      <td>17.175</td>\n",
       "      <td>24.8</td>\n",
       "    </tr>\n",
       "    <tr>\n",
       "      <th>year</th>\n",
       "      <td>398</td>\n",
       "      <td>13</td>\n",
       "      <td>1973</td>\n",
       "      <td>40</td>\n",
       "      <td>NaN</td>\n",
       "      <td>NaN</td>\n",
       "      <td>NaN</td>\n",
       "      <td>NaN</td>\n",
       "      <td>NaN</td>\n",
       "      <td>NaN</td>\n",
       "      <td>NaN</td>\n",
       "    </tr>\n",
       "    <tr>\n",
       "      <th>Kilometer_per_liter</th>\n",
       "      <td>398</td>\n",
       "      <td>NaN</td>\n",
       "      <td>NaN</td>\n",
       "      <td>NaN</td>\n",
       "      <td>9.99707</td>\n",
       "      <td>3.32292</td>\n",
       "      <td>3.82629</td>\n",
       "      <td>7.44001</td>\n",
       "      <td>9.77831</td>\n",
       "      <td>12.3292</td>\n",
       "      <td>19.8117</td>\n",
       "    </tr>\n",
       "  </tbody>\n",
       "</table>\n",
       "</div>"
      ],
      "text/plain": [
       "                    count unique   top freq     mean      std      min  \\\n",
       "origin                398      3     1  249      NaN      NaN      NaN   \n",
       "cylinders             398      5     4  204      NaN      NaN      NaN   \n",
       "displacement          398    NaN   NaN  NaN  193.426   104.27       68   \n",
       "horsepower            392    NaN   NaN  NaN  104.469  38.4912       46   \n",
       "weight                398    NaN   NaN  NaN  2970.42  846.842     1613   \n",
       "acceleration          398    NaN   NaN  NaN  15.5681  2.75769        8   \n",
       "year                  398     13  1973   40      NaN      NaN      NaN   \n",
       "Kilometer_per_liter   398    NaN   NaN  NaN  9.99707  3.32292  3.82629   \n",
       "\n",
       "                         25%      50%      75%      max  \n",
       "origin                   NaN      NaN      NaN      NaN  \n",
       "cylinders                NaN      NaN      NaN      NaN  \n",
       "displacement          104.25    148.5      262      455  \n",
       "horsepower                75     93.5      126      230  \n",
       "weight               2223.75   2803.5     3608     5140  \n",
       "acceleration          13.825     15.5   17.175     24.8  \n",
       "year                     NaN      NaN      NaN      NaN  \n",
       "Kilometer_per_liter  7.44001  9.77831  12.3292  19.8117  "
      ]
     },
     "execution_count": 13,
     "metadata": {},
     "output_type": "execute_result"
    }
   ],
   "source": [
    "vehicle.describe(include='all').T"
   ]
  },
  {
   "cell_type": "code",
   "execution_count": 14,
   "metadata": {},
   "outputs": [
    {
     "data": {
      "text/html": [
       "<div>\n",
       "<style scoped>\n",
       "    .dataframe tbody tr th:only-of-type {\n",
       "        vertical-align: middle;\n",
       "    }\n",
       "\n",
       "    .dataframe tbody tr th {\n",
       "        vertical-align: top;\n",
       "    }\n",
       "\n",
       "    .dataframe thead th {\n",
       "        text-align: right;\n",
       "    }\n",
       "</style>\n",
       "<table border=\"1\" class=\"dataframe\">\n",
       "  <thead>\n",
       "    <tr style=\"text-align: right;\">\n",
       "      <th></th>\n",
       "      <th>count</th>\n",
       "      <th>unique</th>\n",
       "      <th>top</th>\n",
       "      <th>freq</th>\n",
       "    </tr>\n",
       "  </thead>\n",
       "  <tbody>\n",
       "    <tr>\n",
       "      <th>origin</th>\n",
       "      <td>398</td>\n",
       "      <td>3</td>\n",
       "      <td>1</td>\n",
       "      <td>249</td>\n",
       "    </tr>\n",
       "    <tr>\n",
       "      <th>cylinders</th>\n",
       "      <td>398</td>\n",
       "      <td>5</td>\n",
       "      <td>4</td>\n",
       "      <td>204</td>\n",
       "    </tr>\n",
       "    <tr>\n",
       "      <th>year</th>\n",
       "      <td>398</td>\n",
       "      <td>13</td>\n",
       "      <td>1973</td>\n",
       "      <td>40</td>\n",
       "    </tr>\n",
       "  </tbody>\n",
       "</table>\n",
       "</div>"
      ],
      "text/plain": [
       "          count unique   top freq\n",
       "origin      398      3     1  249\n",
       "cylinders   398      5     4  204\n",
       "year        398     13  1973   40"
      ]
     },
     "execution_count": 14,
     "metadata": {},
     "output_type": "execute_result"
    }
   ],
   "source": [
    "vehicle.describe(include='object').T"
   ]
  },
  {
   "cell_type": "code",
   "execution_count": 15,
   "metadata": {},
   "outputs": [
    {
     "data": {
      "text/html": [
       "<div>\n",
       "<style scoped>\n",
       "    .dataframe tbody tr th:only-of-type {\n",
       "        vertical-align: middle;\n",
       "    }\n",
       "\n",
       "    .dataframe tbody tr th {\n",
       "        vertical-align: top;\n",
       "    }\n",
       "\n",
       "    .dataframe thead th {\n",
       "        text-align: right;\n",
       "    }\n",
       "</style>\n",
       "<table border=\"1\" class=\"dataframe\">\n",
       "  <thead>\n",
       "    <tr style=\"text-align: right;\">\n",
       "      <th></th>\n",
       "      <th>count</th>\n",
       "      <th>mean</th>\n",
       "      <th>std</th>\n",
       "      <th>min</th>\n",
       "      <th>25%</th>\n",
       "      <th>50%</th>\n",
       "      <th>75%</th>\n",
       "      <th>max</th>\n",
       "    </tr>\n",
       "  </thead>\n",
       "  <tbody>\n",
       "    <tr>\n",
       "      <th>weight</th>\n",
       "      <td>398.0</td>\n",
       "      <td>2970.424623</td>\n",
       "      <td>846.841774</td>\n",
       "      <td>1613.0</td>\n",
       "      <td>2223.75</td>\n",
       "      <td>2803.5</td>\n",
       "      <td>3608.0</td>\n",
       "      <td>5140.0</td>\n",
       "    </tr>\n",
       "  </tbody>\n",
       "</table>\n",
       "</div>"
      ],
      "text/plain": [
       "        count         mean         std     min      25%     50%     75%  \\\n",
       "weight  398.0  2970.424623  846.841774  1613.0  2223.75  2803.5  3608.0   \n",
       "\n",
       "           max  \n",
       "weight  5140.0  "
      ]
     },
     "execution_count": 15,
     "metadata": {},
     "output_type": "execute_result"
    }
   ],
   "source": [
    "vehicle.describe(include='int64').T"
   ]
  },
  {
   "cell_type": "code",
   "execution_count": 16,
   "metadata": {},
   "outputs": [
    {
     "data": {
      "text/html": [
       "<div>\n",
       "<style scoped>\n",
       "    .dataframe tbody tr th:only-of-type {\n",
       "        vertical-align: middle;\n",
       "    }\n",
       "\n",
       "    .dataframe tbody tr th {\n",
       "        vertical-align: top;\n",
       "    }\n",
       "\n",
       "    .dataframe thead th {\n",
       "        text-align: right;\n",
       "    }\n",
       "</style>\n",
       "<table border=\"1\" class=\"dataframe\">\n",
       "  <thead>\n",
       "    <tr style=\"text-align: right;\">\n",
       "      <th></th>\n",
       "      <th>count</th>\n",
       "      <th>mean</th>\n",
       "      <th>std</th>\n",
       "      <th>min</th>\n",
       "      <th>25%</th>\n",
       "      <th>50%</th>\n",
       "      <th>75%</th>\n",
       "      <th>max</th>\n",
       "    </tr>\n",
       "  </thead>\n",
       "  <tbody>\n",
       "    <tr>\n",
       "      <th>displacement</th>\n",
       "      <td>398.0</td>\n",
       "      <td>193.425879</td>\n",
       "      <td>104.269838</td>\n",
       "      <td>68.000000</td>\n",
       "      <td>104.250000</td>\n",
       "      <td>148.500000</td>\n",
       "      <td>262.000000</td>\n",
       "      <td>455.000000</td>\n",
       "    </tr>\n",
       "    <tr>\n",
       "      <th>horsepower</th>\n",
       "      <td>392.0</td>\n",
       "      <td>104.469388</td>\n",
       "      <td>38.491160</td>\n",
       "      <td>46.000000</td>\n",
       "      <td>75.000000</td>\n",
       "      <td>93.500000</td>\n",
       "      <td>126.000000</td>\n",
       "      <td>230.000000</td>\n",
       "    </tr>\n",
       "    <tr>\n",
       "      <th>acceleration</th>\n",
       "      <td>398.0</td>\n",
       "      <td>15.568090</td>\n",
       "      <td>2.757689</td>\n",
       "      <td>8.000000</td>\n",
       "      <td>13.825000</td>\n",
       "      <td>15.500000</td>\n",
       "      <td>17.175000</td>\n",
       "      <td>24.800000</td>\n",
       "    </tr>\n",
       "    <tr>\n",
       "      <th>Kilometer_per_liter</th>\n",
       "      <td>398.0</td>\n",
       "      <td>9.997073</td>\n",
       "      <td>3.322917</td>\n",
       "      <td>3.826293</td>\n",
       "      <td>7.440015</td>\n",
       "      <td>9.778305</td>\n",
       "      <td>12.329168</td>\n",
       "      <td>19.811697</td>\n",
       "    </tr>\n",
       "  </tbody>\n",
       "</table>\n",
       "</div>"
      ],
      "text/plain": [
       "                     count        mean         std        min         25%  \\\n",
       "displacement         398.0  193.425879  104.269838  68.000000  104.250000   \n",
       "horsepower           392.0  104.469388   38.491160  46.000000   75.000000   \n",
       "acceleration         398.0   15.568090    2.757689   8.000000   13.825000   \n",
       "Kilometer_per_liter  398.0    9.997073    3.322917   3.826293    7.440015   \n",
       "\n",
       "                            50%         75%         max  \n",
       "displacement         148.500000  262.000000  455.000000  \n",
       "horsepower            93.500000  126.000000  230.000000  \n",
       "acceleration          15.500000   17.175000   24.800000  \n",
       "Kilometer_per_liter    9.778305   12.329168   19.811697  "
      ]
     },
     "execution_count": 16,
     "metadata": {},
     "output_type": "execute_result"
    }
   ],
   "source": [
    "vehicle.describe(include='float').T"
   ]
  },
  {
   "cell_type": "code",
   "execution_count": 17,
   "metadata": {},
   "outputs": [
    {
     "data": {
      "text/plain": [
       "origin                 0\n",
       "cylinders              0\n",
       "displacement           0\n",
       "horsepower             6\n",
       "weight                 0\n",
       "acceleration           0\n",
       "year                   0\n",
       "Kilometer_per_liter    0\n",
       "dtype: int64"
      ]
     },
     "execution_count": 17,
     "metadata": {},
     "output_type": "execute_result"
    }
   ],
   "source": [
    "vehicle.isnull().sum()"
   ]
  },
  {
   "cell_type": "code",
   "execution_count": 18,
   "metadata": {},
   "outputs": [
    {
     "data": {
      "application/javascript": [
       "\n",
       "        if (window._pyforest_update_imports_cell) { window._pyforest_update_imports_cell('import matplotlib.pyplot as plt\\nimport numpy as np\\nimport pandas as pd'); }\n",
       "    "
      ],
      "text/plain": [
       "<IPython.core.display.Javascript object>"
      ]
     },
     "metadata": {},
     "output_type": "display_data"
    }
   ],
   "source": [
    "#seperate numerical data\n",
    "veh_num=vehicle.select_dtypes(np.number)"
   ]
  },
  {
   "cell_type": "code",
   "execution_count": 19,
   "metadata": {},
   "outputs": [],
   "source": [
    "veh_num.drop('Kilometer_per_liter',axis=1,inplace=True)"
   ]
  },
  {
   "cell_type": "code",
   "execution_count": 20,
   "metadata": {},
   "outputs": [
    {
     "data": {
      "text/plain": [
       "displacement    0\n",
       "horsepower      0\n",
       "weight          0\n",
       "acceleration    0\n",
       "dtype: int64"
      ]
     },
     "execution_count": 20,
     "metadata": {},
     "output_type": "execute_result"
    }
   ],
   "source": [
    "veh_num.isin([0]).sum()"
   ]
  },
  {
   "cell_type": "code",
   "execution_count": 21,
   "metadata": {},
   "outputs": [],
   "source": [
    "#seperate categorical data\n",
    "veh_cat=vehicle.select_dtypes('object')"
   ]
  },
  {
   "cell_type": "code",
   "execution_count": 22,
   "metadata": {},
   "outputs": [
    {
     "data": {
      "application/javascript": [
       "\n",
       "        if (window._pyforest_update_imports_cell) { window._pyforest_update_imports_cell('import matplotlib.pyplot as plt\\nimport numpy as np\\nimport pandas as pd'); }\n",
       "    "
      ],
      "text/plain": [
       "<IPython.core.display.Javascript object>"
      ]
     },
     "metadata": {},
     "output_type": "display_data"
    },
    {
     "data": {
      "application/javascript": [
       "\n",
       "        if (window._pyforest_update_imports_cell) { window._pyforest_update_imports_cell('import matplotlib.pyplot as plt\\nimport numpy as np\\nimport pandas as pd'); }\n",
       "    "
      ],
      "text/plain": [
       "<IPython.core.display.Javascript object>"
      ]
     },
     "metadata": {},
     "output_type": "display_data"
    },
    {
     "data": {
      "image/png": "[encoded data removed]",
      "text/plain": [
       "<Figure size 1080x576 with 6 Axes>"
      ]
     },
     "metadata": {
      "needs_background": "light"
     },
     "output_type": "display_data"
    }
   ],
   "source": [
    "#plotting numerical datas\n",
    "vehicle.hist()\n",
    "plt.tight_layout()\n",
    "plt.show()\n"
   ]
  },
  {
   "cell_type": "code",
   "execution_count": 23,
   "metadata": {},
   "outputs": [
    {
     "data": {
      "application/javascript": [
       "\n",
       "        if (window._pyforest_update_imports_cell) { window._pyforest_update_imports_cell('import matplotlib.pyplot as plt\\nimport seaborn as sns\\nimport numpy as np\\nimport pandas as pd'); }\n",
       "    "
      ],
      "text/plain": [
       "<IPython.core.display.Javascript object>"
      ]
     },
     "metadata": {},
     "output_type": "display_data"
    },
    {
     "data": {
      "application/javascript": [
       "\n",
       "        if (window._pyforest_update_imports_cell) { window._pyforest_update_imports_cell('import matplotlib.pyplot as plt\\nimport seaborn as sns\\nimport numpy as np\\nimport pandas as pd'); }\n",
       "    "
      ],
      "text/plain": [
       "<IPython.core.display.Javascript object>"
      ]
     },
     "metadata": {},
     "output_type": "display_data"
    },
    {
     "data": {
      "image/png": "[encoded data removed]",
      "text/plain": [
       "<Figure size 1080x576 with 1 Axes>"
      ]
     },
     "metadata": {
      "needs_background": "light"
     },
     "output_type": "display_data"
    },
    {
     "data": {
      "application/javascript": [
       "\n",
       "        if (window._pyforest_update_imports_cell) { window._pyforest_update_imports_cell('import matplotlib.pyplot as plt\\nimport seaborn as sns\\nimport numpy as np\\nimport pandas as pd'); }\n",
       "    "
      ],
      "text/plain": [
       "<IPython.core.display.Javascript object>"
      ]
     },
     "metadata": {},
     "output_type": "display_data"
    },
    {
     "data": {
      "application/javascript": [
       "\n",
       "        if (window._pyforest_update_imports_cell) { window._pyforest_update_imports_cell('import matplotlib.pyplot as plt\\nimport seaborn as sns\\nimport numpy as np\\nimport pandas as pd'); }\n",
       "    "
      ],
      "text/plain": [
       "<IPython.core.display.Javascript object>"
      ]
     },
     "metadata": {},
     "output_type": "display_data"
    },
    {
     "data": {
      "image/png": "[encoded data removed]",
      "text/plain": [
       "<Figure size 1080x576 with 1 Axes>"
      ]
     },
     "metadata": {
      "needs_background": "light"
     },
     "output_type": "display_data"
    },
    {
     "data": {
      "application/javascript": [
       "\n",
       "        if (window._pyforest_update_imports_cell) { window._pyforest_update_imports_cell('import matplotlib.pyplot as plt\\nimport seaborn as sns\\nimport numpy as np\\nimport pandas as pd'); }\n",
       "    "
      ],
      "text/plain": [
       "<IPython.core.display.Javascript object>"
      ]
     },
     "metadata": {},
     "output_type": "display_data"
    },
    {
     "data": {
      "application/javascript": [
       "\n",
       "        if (window._pyforest_update_imports_cell) { window._pyforest_update_imports_cell('import matplotlib.pyplot as plt\\nimport seaborn as sns\\nimport numpy as np\\nimport pandas as pd'); }\n",
       "    "
      ],
      "text/plain": [
       "<IPython.core.display.Javascript object>"
      ]
     },
     "metadata": {},
     "output_type": "display_data"
    },
    {
     "data": {
      "image/png": "[encoded data removed]",
      "text/plain": [
       "<Figure size 1080x576 with 1 Axes>"
      ]
     },
     "metadata": {
      "needs_background": "light"
     },
     "output_type": "display_data"
    },
    {
     "data": {
      "application/javascript": [
       "\n",
       "        if (window._pyforest_update_imports_cell) { window._pyforest_update_imports_cell('import matplotlib.pyplot as plt\\nimport seaborn as sns\\nimport numpy as np\\nimport pandas as pd'); }\n",
       "    "
      ],
      "text/plain": [
       "<IPython.core.display.Javascript object>"
      ]
     },
     "metadata": {},
     "output_type": "display_data"
    },
    {
     "data": {
      "application/javascript": [
       "\n",
       "        if (window._pyforest_update_imports_cell) { window._pyforest_update_imports_cell('import matplotlib.pyplot as plt\\nimport seaborn as sns\\nimport numpy as np\\nimport pandas as pd'); }\n",
       "    "
      ],
      "text/plain": [
       "<IPython.core.display.Javascript object>"
      ]
     },
     "metadata": {},
     "output_type": "display_data"
    },
    {
     "data": {
      "image/png": "[encoded data removed]",
      "text/plain": [
       "<Figure size 1080x576 with 1 Axes>"
      ]
     },
     "metadata": {
      "needs_background": "light"
     },
     "output_type": "display_data"
    }
   ],
   "source": [
    "for i in veh_num.columns:\n",
    "    sns.distplot(vehicle[i],hist=True)\n",
    "    plt.show()"
   ]
  },
  {
   "cell_type": "code",
   "execution_count": 24,
   "metadata": {},
   "outputs": [
    {
     "data": {
      "application/javascript": [
       "\n",
       "        if (window._pyforest_update_imports_cell) { window._pyforest_update_imports_cell('import matplotlib.pyplot as plt\\nimport seaborn as sns\\nimport numpy as np\\nimport pandas as pd'); }\n",
       "    "
      ],
      "text/plain": [
       "<IPython.core.display.Javascript object>"
      ]
     },
     "metadata": {},
     "output_type": "display_data"
    },
    {
     "data": {
      "application/javascript": [
       "\n",
       "        if (window._pyforest_update_imports_cell) { window._pyforest_update_imports_cell('import matplotlib.pyplot as plt\\nimport seaborn as sns\\nimport numpy as np\\nimport pandas as pd'); }\n",
       "    "
      ],
      "text/plain": [
       "<IPython.core.display.Javascript object>"
      ]
     },
     "metadata": {},
     "output_type": "display_data"
    },
    {
     "data": {
      "image/png": "[encoded data removed]",
      "text/plain": [
       "<Figure size 1080x576 with 1 Axes>"
      ]
     },
     "metadata": {
      "needs_background": "light"
     },
     "output_type": "display_data"
    },
    {
     "data": {
      "application/javascript": [
       "\n",
       "        if (window._pyforest_update_imports_cell) { window._pyforest_update_imports_cell('import matplotlib.pyplot as plt\\nimport seaborn as sns\\nimport numpy as np\\nimport pandas as pd'); }\n",
       "    "
      ],
      "text/plain": [
       "<IPython.core.display.Javascript object>"
      ]
     },
     "metadata": {},
     "output_type": "display_data"
    },
    {
     "data": {
      "application/javascript": [
       "\n",
       "        if (window._pyforest_update_imports_cell) { window._pyforest_update_imports_cell('import matplotlib.pyplot as plt\\nimport seaborn as sns\\nimport numpy as np\\nimport pandas as pd'); }\n",
       "    "
      ],
      "text/plain": [
       "<IPython.core.display.Javascript object>"
      ]
     },
     "metadata": {},
     "output_type": "display_data"
    },
    {
     "data": {
      "image/png": "[encoded data removed]",
      "text/plain": [
       "<Figure size 1080x576 with 1 Axes>"
      ]
     },
     "metadata": {
      "needs_background": "light"
     },
     "output_type": "display_data"
    },
    {
     "data": {
      "application/javascript": [
       "\n",
       "        if (window._pyforest_update_imports_cell) { window._pyforest_update_imports_cell('import matplotlib.pyplot as plt\\nimport seaborn as sns\\nimport numpy as np\\nimport pandas as pd'); }\n",
       "    "
      ],
      "text/plain": [
       "<IPython.core.display.Javascript object>"
      ]
     },
     "metadata": {},
     "output_type": "display_data"
    },
    {
     "data": {
      "application/javascript": [
       "\n",
       "        if (window._pyforest_update_imports_cell) { window._pyforest_update_imports_cell('import matplotlib.pyplot as plt\\nimport seaborn as sns\\nimport numpy as np\\nimport pandas as pd'); }\n",
       "    "
      ],
      "text/plain": [
       "<IPython.core.display.Javascript object>"
      ]
     },
     "metadata": {},
     "output_type": "display_data"
    },
    {
     "data": {
      "image/png": "[encoded data removed]",
      "text/plain": [
       "<Figure size 1080x576 with 1 Axes>"
      ]
     },
     "metadata": {
      "needs_background": "light"
     },
     "output_type": "display_data"
    }
   ],
   "source": [
    "#categorical\n",
    "for i in veh_cat.columns:\n",
    "    sns.countplot(vehicle[i])\n",
    "    plt.show()"
   ]
  },
  {
   "cell_type": "code",
   "execution_count": 25,
   "metadata": {},
   "outputs": [
    {
     "data": {
      "application/javascript": [
       "\n",
       "        if (window._pyforest_update_imports_cell) { window._pyforest_update_imports_cell('import matplotlib.pyplot as plt\\nimport seaborn as sns\\nimport numpy as np\\nimport pandas as pd'); }\n",
       "    "
      ],
      "text/plain": [
       "<IPython.core.display.Javascript object>"
      ]
     },
     "metadata": {},
     "output_type": "display_data"
    },
    {
     "data": {
      "application/javascript": [
       "\n",
       "        if (window._pyforest_update_imports_cell) { window._pyforest_update_imports_cell('import matplotlib.pyplot as plt\\nimport seaborn as sns\\nimport numpy as np\\nimport pandas as pd'); }\n",
       "    "
      ],
      "text/plain": [
       "<IPython.core.display.Javascript object>"
      ]
     },
     "metadata": {},
     "output_type": "display_data"
    },
    {
     "data": {
      "image/png": "[encoded data removed]",
      "text/plain": [
       "<Figure size 1080x576 with 1 Axes>"
      ]
     },
     "metadata": {
      "needs_background": "light"
     },
     "output_type": "display_data"
    },
    {
     "data": {
      "application/javascript": [
       "\n",
       "        if (window._pyforest_update_imports_cell) { window._pyforest_update_imports_cell('import matplotlib.pyplot as plt\\nimport seaborn as sns\\nimport numpy as np\\nimport pandas as pd'); }\n",
       "    "
      ],
      "text/plain": [
       "<IPython.core.display.Javascript object>"
      ]
     },
     "metadata": {},
     "output_type": "display_data"
    },
    {
     "data": {
      "application/javascript": [
       "\n",
       "        if (window._pyforest_update_imports_cell) { window._pyforest_update_imports_cell('import matplotlib.pyplot as plt\\nimport seaborn as sns\\nimport numpy as np\\nimport pandas as pd'); }\n",
       "    "
      ],
      "text/plain": [
       "<IPython.core.display.Javascript object>"
      ]
     },
     "metadata": {},
     "output_type": "display_data"
    },
    {
     "data": {
      "image/png": "[encoded data removed]",
      "text/plain": [
       "<Figure size 1080x576 with 1 Axes>"
      ]
     },
     "metadata": {
      "needs_background": "light"
     },
     "output_type": "display_data"
    },
    {
     "data": {
      "application/javascript": [
       "\n",
       "        if (window._pyforest_update_imports_cell) { window._pyforest_update_imports_cell('import matplotlib.pyplot as plt\\nimport seaborn as sns\\nimport numpy as np\\nimport pandas as pd'); }\n",
       "    "
      ],
      "text/plain": [
       "<IPython.core.display.Javascript object>"
      ]
     },
     "metadata": {},
     "output_type": "display_data"
    },
    {
     "data": {
      "application/javascript": [
       "\n",
       "        if (window._pyforest_update_imports_cell) { window._pyforest_update_imports_cell('import matplotlib.pyplot as plt\\nimport seaborn as sns\\nimport numpy as np\\nimport pandas as pd'); }\n",
       "    "
      ],
      "text/plain": [
       "<IPython.core.display.Javascript object>"
      ]
     },
     "metadata": {},
     "output_type": "display_data"
    },
    {
     "data": {
      "image/png": "[encoded data removed]",
      "text/plain": [
       "<Figure size 1080x576 with 1 Axes>"
      ]
     },
     "metadata": {
      "needs_background": "light"
     },
     "output_type": "display_data"
    }
   ],
   "source": [
    "#categorical\n",
    "for i in veh_cat.columns:\n",
    "    sns.barplot(vehicle[i],vehicle['Kilometer_per_liter'])\n",
    "    plt.show()"
   ]
  },
  {
   "cell_type": "code",
   "execution_count": 26,
   "metadata": {},
   "outputs": [
    {
     "data": {
      "application/javascript": [
       "\n",
       "        if (window._pyforest_update_imports_cell) { window._pyforest_update_imports_cell('import matplotlib.pyplot as plt\\nimport seaborn as sns\\nimport numpy as np\\nimport pandas as pd'); }\n",
       "    "
      ],
      "text/plain": [
       "<IPython.core.display.Javascript object>"
      ]
     },
     "metadata": {},
     "output_type": "display_data"
    },
    {
     "data": {
      "text/plain": [
       "<matplotlib.axes._subplots.AxesSubplot at 0x230ade58408>"
      ]
     },
     "execution_count": 26,
     "metadata": {},
     "output_type": "execute_result"
    },
    {
     "data": {
      "image/png": "[encoded data removed]",
      "text/plain": [
       "<Figure size 1080x576 with 1 Axes>"
      ]
     },
     "metadata": {
      "needs_background": "light"
     },
     "output_type": "display_data"
    }
   ],
   "source": [
    "#target variable\n",
    "sns.distplot(vehicle['Kilometer_per_liter'],color='b',kde=True, norm_hist=True)"
   ]
  },
  {
   "cell_type": "code",
   "execution_count": 27,
   "metadata": {},
   "outputs": [
    {
     "data": {
      "application/javascript": [
       "\n",
       "        if (window._pyforest_update_imports_cell) { window._pyforest_update_imports_cell('import matplotlib.pyplot as plt\\nimport seaborn as sns\\nimport numpy as np\\nimport pandas as pd'); }\n",
       "    "
      ],
      "text/plain": [
       "<IPython.core.display.Javascript object>"
      ]
     },
     "metadata": {},
     "output_type": "display_data"
    },
    {
     "data": {
      "text/plain": [
       "<matplotlib.axes._subplots.AxesSubplot at 0x230b0d59d48>"
      ]
     },
     "execution_count": 27,
     "metadata": {},
     "output_type": "execute_result"
    },
    {
     "data": {
      "image/png": "[encoded data removed]",
      "text/plain": [
       "<Figure size 1080x576 with 1 Axes>"
      ]
     },
     "metadata": {
      "needs_background": "light"
     },
     "output_type": "display_data"
    }
   ],
   "source": [
    "#checking outliers\n",
    "sns.boxplot(vehicle['Kilometer_per_liter'],color='r',orient='v')"
   ]
  },
  {
   "cell_type": "code",
   "execution_count": 28,
   "metadata": {},
   "outputs": [
    {
     "data": {
      "application/javascript": [
       "\n",
       "        if (window._pyforest_update_imports_cell) { window._pyforest_update_imports_cell('import matplotlib.pyplot as plt\\nimport seaborn as sns\\nimport numpy as np\\nimport pandas as pd'); }\n",
       "    "
      ],
      "text/plain": [
       "<IPython.core.display.Javascript object>"
      ]
     },
     "metadata": {},
     "output_type": "display_data"
    },
    {
     "data": {
      "text/plain": [
       "<matplotlib.axes._subplots.AxesSubplot at 0x230aff3fb88>"
      ]
     },
     "execution_count": 28,
     "metadata": {},
     "output_type": "execute_result"
    },
    {
     "data": {
      "image/png": "[encoded data removed]",
      "text/plain": [
       "<Figure size 1080x576 with 1 Axes>"
      ]
     },
     "metadata": {
      "needs_background": "light"
     },
     "output_type": "display_data"
    }
   ],
   "source": [
    "#handling missing values\n",
    "sns.boxplot(veh_num['horsepower'],color='c')"
   ]
  },
  {
   "cell_type": "code",
   "execution_count": 29,
   "metadata": {},
   "outputs": [
    {
     "data": {
      "text/plain": [
       "104.46938775510205"
      ]
     },
     "execution_count": 29,
     "metadata": {},
     "output_type": "execute_result"
    }
   ],
   "source": [
    "#directly check mean\n",
    "veh_num['horsepower'].mean()"
   ]
  },
  {
   "cell_type": "code",
   "execution_count": 30,
   "metadata": {},
   "outputs": [
    {
     "data": {
      "text/plain": [
       "230.0"
      ]
     },
     "execution_count": 30,
     "metadata": {},
     "output_type": "execute_result"
    }
   ],
   "source": [
    "#checking by considering outliers\n",
    "veh_num['horsepower'].max()"
   ]
  },
  {
   "cell_type": "code",
   "execution_count": 31,
   "metadata": {},
   "outputs": [],
   "source": [
    "true_index = (veh_num['horsepower'].values < 230)"
   ]
  },
  {
   "cell_type": "code",
   "execution_count": 32,
   "metadata": {},
   "outputs": [
    {
     "data": {
      "application/javascript": [
       "\n",
       "        if (window._pyforest_update_imports_cell) { window._pyforest_update_imports_cell('import matplotlib.pyplot as plt\\nimport seaborn as sns\\nimport numpy as np\\nimport pandas as pd'); }\n",
       "    "
      ],
      "text/plain": [
       "<IPython.core.display.Javascript object>"
      ]
     },
     "metadata": {},
     "output_type": "display_data"
    }
   ],
   "source": [
    "mean_hp = np.mean(veh_num['horsepower'].values[true_index])"
   ]
  },
  {
   "cell_type": "code",
   "execution_count": 33,
   "metadata": {},
   "outputs": [
    {
     "data": {
      "text/plain": [
       "104.14833759590793"
      ]
     },
     "execution_count": 33,
     "metadata": {},
     "output_type": "execute_result"
    }
   ],
   "source": [
    "mean_hp"
   ]
  },
  {
   "cell_type": "code",
   "execution_count": 34,
   "metadata": {},
   "outputs": [],
   "source": [
    "#missing values filled with mean == 104.4693\n",
    "veh_num['horsepower']=veh_num['horsepower'].fillna(veh_num['horsepower'].mean())"
   ]
  },
  {
   "cell_type": "code",
   "execution_count": 35,
   "metadata": {},
   "outputs": [
    {
     "data": {
      "application/javascript": [
       "\n",
       "        if (window._pyforest_update_imports_cell) { window._pyforest_update_imports_cell('import matplotlib.pyplot as plt\\nimport seaborn as sns\\nimport numpy as np\\nimport pandas as pd'); }\n",
       "    "
      ],
      "text/plain": [
       "<IPython.core.display.Javascript object>"
      ]
     },
     "metadata": {},
     "output_type": "display_data"
    },
    {
     "data": {
      "text/plain": [
       "<matplotlib.axes._subplots.AxesSubplot at 0x230b0134988>"
      ]
     },
     "execution_count": 35,
     "metadata": {},
     "output_type": "execute_result"
    },
    {
     "data": {
      "image/png": "[encoded data removed]",
      "text/plain": [
       "<Figure size 1080x576 with 2 Axes>"
      ]
     },
     "metadata": {
      "needs_background": "light"
     },
     "output_type": "display_data"
    }
   ],
   "source": [
    "sns.heatmap(veh_num.isnull())"
   ]
  },
  {
   "cell_type": "code",
   "execution_count": 36,
   "metadata": {},
   "outputs": [
    {
     "data": {
      "application/javascript": [
       "\n",
       "        if (window._pyforest_update_imports_cell) { window._pyforest_update_imports_cell('import matplotlib.pyplot as plt\\nimport seaborn as sns\\nimport numpy as np\\nimport pandas as pd'); }\n",
       "    "
      ],
      "text/plain": [
       "<IPython.core.display.Javascript object>"
      ]
     },
     "metadata": {},
     "output_type": "display_data"
    },
    {
     "data": {
      "text/plain": [
       "<matplotlib.axes._subplots.AxesSubplot at 0x230adb77bc8>"
      ]
     },
     "execution_count": 36,
     "metadata": {},
     "output_type": "execute_result"
    },
    {
     "data": {
      "image/png": "[encoded data removed]",
      "text/plain": [
       "<Figure size 1080x576 with 2 Axes>"
      ]
     },
     "metadata": {
      "needs_background": "light"
     },
     "output_type": "display_data"
    }
   ],
   "source": [
    "#correlation\n",
    "sns.heatmap(veh_num.corr(),annot=True)"
   ]
  },
  {
   "cell_type": "code",
   "execution_count": 37,
   "metadata": {},
   "outputs": [
    {
     "data": {
      "text/plain": [
       "Index(['displacement', 'horsepower', 'weight', 'acceleration'], dtype='object')"
      ]
     },
     "execution_count": 37,
     "metadata": {},
     "output_type": "execute_result"
    }
   ],
   "source": [
    "veh_num.columns"
   ]
  },
  {
   "cell_type": "code",
   "execution_count": 38,
   "metadata": {},
   "outputs": [
    {
     "data": {
      "application/javascript": [
       "\n",
       "        if (window._pyforest_update_imports_cell) { window._pyforest_update_imports_cell('import matplotlib.pyplot as plt\\nimport seaborn as sns\\nimport numpy as np\\nimport pandas as pd'); }\n",
       "    "
      ],
      "text/plain": [
       "<IPython.core.display.Javascript object>"
      ]
     },
     "metadata": {},
     "output_type": "display_data"
    }
   ],
   "source": [
    "#treating skewness by using transformation and normalisation\n",
    "veh_num[['displacement', 'horsepower', 'weight']]=np.log(veh_num[['displacement', 'horsepower', 'weight']])"
   ]
  },
  {
   "cell_type": "code",
   "execution_count": 39,
   "metadata": {},
   "outputs": [
    {
     "data": {
      "text/html": [
       "<div>\n",
       "<style scoped>\n",
       "    .dataframe tbody tr th:only-of-type {\n",
       "        vertical-align: middle;\n",
       "    }\n",
       "\n",
       "    .dataframe tbody tr th {\n",
       "        vertical-align: top;\n",
       "    }\n",
       "\n",
       "    .dataframe thead th {\n",
       "        text-align: right;\n",
       "    }\n",
       "</style>\n",
       "<table border=\"1\" class=\"dataframe\">\n",
       "  <thead>\n",
       "    <tr style=\"text-align: right;\">\n",
       "      <th></th>\n",
       "      <th>displacement</th>\n",
       "      <th>horsepower</th>\n",
       "      <th>weight</th>\n",
       "    </tr>\n",
       "  </thead>\n",
       "  <tbody>\n",
       "    <tr>\n",
       "      <th>0</th>\n",
       "      <td>31.759110</td>\n",
       "      <td>17.315612</td>\n",
       "      <td>17.668498</td>\n",
       "    </tr>\n",
       "    <tr>\n",
       "      <th>1</th>\n",
       "      <td>38.655476</td>\n",
       "      <td>32.128922</td>\n",
       "      <td>22.201362</td>\n",
       "    </tr>\n",
       "    <tr>\n",
       "      <th>2</th>\n",
       "      <td>33.611163</td>\n",
       "      <td>26.206968</td>\n",
       "      <td>15.977567</td>\n",
       "    </tr>\n",
       "    <tr>\n",
       "      <th>3</th>\n",
       "      <td>31.242480</td>\n",
       "      <td>26.206968</td>\n",
       "      <td>15.902198</td>\n",
       "    </tr>\n",
       "    <tr>\n",
       "      <th>4</th>\n",
       "      <td>30.895220</td>\n",
       "      <td>21.920200</td>\n",
       "      <td>16.303405</td>\n",
       "    </tr>\n",
       "  </tbody>\n",
       "</table>\n",
       "</div>"
      ],
      "text/plain": [
       "   displacement  horsepower     weight\n",
       "0     31.759110   17.315612  17.668498\n",
       "1     38.655476   32.128922  22.201362\n",
       "2     33.611163   26.206968  15.977567\n",
       "3     31.242480   26.206968  15.902198\n",
       "4     30.895220   21.920200  16.303405"
      ]
     },
     "execution_count": 39,
     "metadata": {},
     "output_type": "execute_result"
    }
   ],
   "source": [
    "df_norm=veh_num[['displacement', 'horsepower', 'weight']]\n",
    "norm=((df_norm-df_norm.mean())/(df_norm.max()-df_norm.min())*100)\n",
    "norm.head()"
   ]
  },
  {
   "cell_type": "code",
   "execution_count": 40,
   "metadata": {},
   "outputs": [
    {
     "data": {
      "application/javascript": [
       "\n",
       "        if (window._pyforest_update_imports_cell) { window._pyforest_update_imports_cell('import matplotlib.pyplot as plt\\nimport seaborn as sns\\nimport numpy as np\\nimport pandas as pd'); }\n",
       "    "
      ],
      "text/plain": [
       "<IPython.core.display.Javascript object>"
      ]
     },
     "metadata": {},
     "output_type": "display_data"
    }
   ],
   "source": [
    "#normally distributed so we have to use standardisation\n",
    "from sklearn.preprocessing import StandardScaler\n",
    "std=StandardScaler()\n",
    "arr_acc=np.array(veh_num['acceleration']).reshape(-1,1)\n",
    "veh_num['acceleration']=std.fit_transform(arr_acc)"
   ]
  },
  {
   "cell_type": "code",
   "execution_count": 41,
   "metadata": {},
   "outputs": [
    {
     "data": {
      "application/javascript": [
       "\n",
       "        if (window._pyforest_update_imports_cell) { window._pyforest_update_imports_cell('import matplotlib.pyplot as plt\\nimport seaborn as sns\\nimport numpy as np\\nimport pandas as pd'); }\n",
       "    "
      ],
      "text/plain": [
       "<IPython.core.display.Javascript object>"
      ]
     },
     "metadata": {},
     "output_type": "display_data"
    },
    {
     "data": {
      "text/html": [
       "<div>\n",
       "<style scoped>\n",
       "    .dataframe tbody tr th:only-of-type {\n",
       "        vertical-align: middle;\n",
       "    }\n",
       "\n",
       "    .dataframe tbody tr th {\n",
       "        vertical-align: top;\n",
       "    }\n",
       "\n",
       "    .dataframe thead th {\n",
       "        text-align: right;\n",
       "    }\n",
       "</style>\n",
       "<table border=\"1\" class=\"dataframe\">\n",
       "  <thead>\n",
       "    <tr style=\"text-align: right;\">\n",
       "      <th></th>\n",
       "      <th>acceleration</th>\n",
       "      <th>displacement</th>\n",
       "      <th>horsepower</th>\n",
       "      <th>weight</th>\n",
       "    </tr>\n",
       "  </thead>\n",
       "  <tbody>\n",
       "    <tr>\n",
       "      <th>0</th>\n",
       "      <td>-1.295498</td>\n",
       "      <td>31.759110</td>\n",
       "      <td>17.315612</td>\n",
       "      <td>17.668498</td>\n",
       "    </tr>\n",
       "    <tr>\n",
       "      <th>1</th>\n",
       "      <td>-1.477038</td>\n",
       "      <td>38.655476</td>\n",
       "      <td>32.128922</td>\n",
       "      <td>22.201362</td>\n",
       "    </tr>\n",
       "    <tr>\n",
       "      <th>2</th>\n",
       "      <td>-1.658577</td>\n",
       "      <td>33.611163</td>\n",
       "      <td>26.206968</td>\n",
       "      <td>15.977567</td>\n",
       "    </tr>\n",
       "    <tr>\n",
       "      <th>3</th>\n",
       "      <td>-1.295498</td>\n",
       "      <td>31.242480</td>\n",
       "      <td>26.206968</td>\n",
       "      <td>15.902198</td>\n",
       "    </tr>\n",
       "    <tr>\n",
       "      <th>4</th>\n",
       "      <td>-1.840117</td>\n",
       "      <td>30.895220</td>\n",
       "      <td>21.920200</td>\n",
       "      <td>16.303405</td>\n",
       "    </tr>\n",
       "  </tbody>\n",
       "</table>\n",
       "</div>"
      ],
      "text/plain": [
       "   acceleration  displacement  horsepower     weight\n",
       "0     -1.295498     31.759110   17.315612  17.668498\n",
       "1     -1.477038     38.655476   32.128922  22.201362\n",
       "2     -1.658577     33.611163   26.206968  15.977567\n",
       "3     -1.295498     31.242480   26.206968  15.902198\n",
       "4     -1.840117     30.895220   21.920200  16.303405"
      ]
     },
     "execution_count": 41,
     "metadata": {},
     "output_type": "execute_result"
    }
   ],
   "source": [
    "#with normalisation and standardisation\n",
    "num_new=pd.concat([veh_num['acceleration'],norm],axis=1)\n",
    "num_new.head()"
   ]
  },
  {
   "cell_type": "code",
   "execution_count": 42,
   "metadata": {},
   "outputs": [
    {
     "data": {
      "application/javascript": [
       "\n",
       "        if (window._pyforest_update_imports_cell) { window._pyforest_update_imports_cell('import matplotlib.pyplot as plt\\nimport seaborn as sns\\nimport numpy as np\\nimport pandas as pd'); }\n",
       "    "
      ],
      "text/plain": [
       "<IPython.core.display.Javascript object>"
      ]
     },
     "metadata": {},
     "output_type": "display_data"
    },
    {
     "data": {
      "text/html": [
       "<div>\n",
       "<style scoped>\n",
       "    .dataframe tbody tr th:only-of-type {\n",
       "        vertical-align: middle;\n",
       "    }\n",
       "\n",
       "    .dataframe tbody tr th {\n",
       "        vertical-align: top;\n",
       "    }\n",
       "\n",
       "    .dataframe thead th {\n",
       "        text-align: right;\n",
       "    }\n",
       "</style>\n",
       "<table border=\"1\" class=\"dataframe\">\n",
       "  <thead>\n",
       "    <tr style=\"text-align: right;\">\n",
       "      <th></th>\n",
       "      <th>origin_2</th>\n",
       "      <th>origin_3</th>\n",
       "      <th>cylinders_4</th>\n",
       "      <th>cylinders_5</th>\n",
       "      <th>cylinders_6</th>\n",
       "      <th>cylinders_8</th>\n",
       "      <th>year_1971</th>\n",
       "      <th>year_1972</th>\n",
       "      <th>year_1973</th>\n",
       "      <th>year_1974</th>\n",
       "      <th>year_1975</th>\n",
       "      <th>year_1976</th>\n",
       "      <th>year_1977</th>\n",
       "      <th>year_1978</th>\n",
       "      <th>year_1979</th>\n",
       "      <th>year_1980</th>\n",
       "      <th>year_1981</th>\n",
       "      <th>year_1982</th>\n",
       "    </tr>\n",
       "  </thead>\n",
       "  <tbody>\n",
       "    <tr>\n",
       "      <th>0</th>\n",
       "      <td>0</td>\n",
       "      <td>0</td>\n",
       "      <td>0</td>\n",
       "      <td>0</td>\n",
       "      <td>0</td>\n",
       "      <td>1</td>\n",
       "      <td>0</td>\n",
       "      <td>0</td>\n",
       "      <td>0</td>\n",
       "      <td>0</td>\n",
       "      <td>0</td>\n",
       "      <td>0</td>\n",
       "      <td>0</td>\n",
       "      <td>0</td>\n",
       "      <td>0</td>\n",
       "      <td>0</td>\n",
       "      <td>0</td>\n",
       "      <td>0</td>\n",
       "    </tr>\n",
       "    <tr>\n",
       "      <th>1</th>\n",
       "      <td>0</td>\n",
       "      <td>0</td>\n",
       "      <td>0</td>\n",
       "      <td>0</td>\n",
       "      <td>0</td>\n",
       "      <td>1</td>\n",
       "      <td>0</td>\n",
       "      <td>0</td>\n",
       "      <td>0</td>\n",
       "      <td>0</td>\n",
       "      <td>0</td>\n",
       "      <td>0</td>\n",
       "      <td>0</td>\n",
       "      <td>0</td>\n",
       "      <td>0</td>\n",
       "      <td>0</td>\n",
       "      <td>0</td>\n",
       "      <td>0</td>\n",
       "    </tr>\n",
       "    <tr>\n",
       "      <th>2</th>\n",
       "      <td>0</td>\n",
       "      <td>0</td>\n",
       "      <td>0</td>\n",
       "      <td>0</td>\n",
       "      <td>0</td>\n",
       "      <td>1</td>\n",
       "      <td>0</td>\n",
       "      <td>0</td>\n",
       "      <td>0</td>\n",
       "      <td>0</td>\n",
       "      <td>0</td>\n",
       "      <td>0</td>\n",
       "      <td>0</td>\n",
       "      <td>0</td>\n",
       "      <td>0</td>\n",
       "      <td>0</td>\n",
       "      <td>0</td>\n",
       "      <td>0</td>\n",
       "    </tr>\n",
       "    <tr>\n",
       "      <th>3</th>\n",
       "      <td>0</td>\n",
       "      <td>0</td>\n",
       "      <td>0</td>\n",
       "      <td>0</td>\n",
       "      <td>0</td>\n",
       "      <td>1</td>\n",
       "      <td>0</td>\n",
       "      <td>0</td>\n",
       "      <td>0</td>\n",
       "      <td>0</td>\n",
       "      <td>0</td>\n",
       "      <td>0</td>\n",
       "      <td>0</td>\n",
       "      <td>0</td>\n",
       "      <td>0</td>\n",
       "      <td>0</td>\n",
       "      <td>0</td>\n",
       "      <td>0</td>\n",
       "    </tr>\n",
       "    <tr>\n",
       "      <th>4</th>\n",
       "      <td>0</td>\n",
       "      <td>0</td>\n",
       "      <td>0</td>\n",
       "      <td>0</td>\n",
       "      <td>0</td>\n",
       "      <td>1</td>\n",
       "      <td>0</td>\n",
       "      <td>0</td>\n",
       "      <td>0</td>\n",
       "      <td>0</td>\n",
       "      <td>0</td>\n",
       "      <td>0</td>\n",
       "      <td>0</td>\n",
       "      <td>0</td>\n",
       "      <td>0</td>\n",
       "      <td>0</td>\n",
       "      <td>0</td>\n",
       "      <td>0</td>\n",
       "    </tr>\n",
       "  </tbody>\n",
       "</table>\n",
       "</div>"
      ],
      "text/plain": [
       "   origin_2  origin_3  cylinders_4  cylinders_5  cylinders_6  cylinders_8  \\\n",
       "0         0         0            0            0            0            1   \n",
       "1         0         0            0            0            0            1   \n",
       "2         0         0            0            0            0            1   \n",
       "3         0         0            0            0            0            1   \n",
       "4         0         0            0            0            0            1   \n",
       "\n",
       "   year_1971  year_1972  year_1973  year_1974  year_1975  year_1976  \\\n",
       "0          0          0          0          0          0          0   \n",
       "1          0          0          0          0          0          0   \n",
       "2          0          0          0          0          0          0   \n",
       "3          0          0          0          0          0          0   \n",
       "4          0          0          0          0          0          0   \n",
       "\n",
       "   year_1977  year_1978  year_1979  year_1980  year_1981  year_1982  \n",
       "0          0          0          0          0          0          0  \n",
       "1          0          0          0          0          0          0  \n",
       "2          0          0          0          0          0          0  \n",
       "3          0          0          0          0          0          0  \n",
       "4          0          0          0          0          0          0  "
      ]
     },
     "execution_count": 42,
     "metadata": {},
     "output_type": "execute_result"
    }
   ],
   "source": [
    "#dummy variables\n",
    "veh_cat_dummy=pd.get_dummies(veh_cat,drop_first=True)\n",
    "veh_cat_dummy.head()"
   ]
  },
  {
   "cell_type": "code",
   "execution_count": 43,
   "metadata": {},
   "outputs": [
    {
     "data": {
      "application/javascript": [
       "\n",
       "        if (window._pyforest_update_imports_cell) { window._pyforest_update_imports_cell('import matplotlib.pyplot as plt\\nimport seaborn as sns\\nimport numpy as np\\nimport pandas as pd'); }\n",
       "    "
      ],
      "text/plain": [
       "<IPython.core.display.Javascript object>"
      ]
     },
     "metadata": {},
     "output_type": "display_data"
    },
    {
     "data": {
      "text/html": [
       "<div>\n",
       "<style scoped>\n",
       "    .dataframe tbody tr th:only-of-type {\n",
       "        vertical-align: middle;\n",
       "    }\n",
       "\n",
       "    .dataframe tbody tr th {\n",
       "        vertical-align: top;\n",
       "    }\n",
       "\n",
       "    .dataframe thead th {\n",
       "        text-align: right;\n",
       "    }\n",
       "</style>\n",
       "<table border=\"1\" class=\"dataframe\">\n",
       "  <thead>\n",
       "    <tr style=\"text-align: right;\">\n",
       "      <th></th>\n",
       "      <th>origin_2</th>\n",
       "      <th>origin_3</th>\n",
       "      <th>cylinders_4</th>\n",
       "      <th>cylinders_5</th>\n",
       "      <th>cylinders_6</th>\n",
       "      <th>cylinders_8</th>\n",
       "      <th>year_1971</th>\n",
       "      <th>year_1972</th>\n",
       "      <th>year_1973</th>\n",
       "      <th>year_1974</th>\n",
       "      <th>year_1975</th>\n",
       "      <th>year_1976</th>\n",
       "      <th>year_1977</th>\n",
       "      <th>year_1978</th>\n",
       "      <th>year_1979</th>\n",
       "      <th>year_1980</th>\n",
       "      <th>year_1981</th>\n",
       "      <th>year_1982</th>\n",
       "      <th>acceleration</th>\n",
       "      <th>displacement</th>\n",
       "      <th>horsepower</th>\n",
       "      <th>weight</th>\n",
       "    </tr>\n",
       "  </thead>\n",
       "  <tbody>\n",
       "    <tr>\n",
       "      <th>0</th>\n",
       "      <td>0</td>\n",
       "      <td>0</td>\n",
       "      <td>0</td>\n",
       "      <td>0</td>\n",
       "      <td>0</td>\n",
       "      <td>1</td>\n",
       "      <td>0</td>\n",
       "      <td>0</td>\n",
       "      <td>0</td>\n",
       "      <td>0</td>\n",
       "      <td>0</td>\n",
       "      <td>0</td>\n",
       "      <td>0</td>\n",
       "      <td>0</td>\n",
       "      <td>0</td>\n",
       "      <td>0</td>\n",
       "      <td>0</td>\n",
       "      <td>0</td>\n",
       "      <td>-1.295498</td>\n",
       "      <td>31.759110</td>\n",
       "      <td>17.315612</td>\n",
       "      <td>17.668498</td>\n",
       "    </tr>\n",
       "    <tr>\n",
       "      <th>1</th>\n",
       "      <td>0</td>\n",
       "      <td>0</td>\n",
       "      <td>0</td>\n",
       "      <td>0</td>\n",
       "      <td>0</td>\n",
       "      <td>1</td>\n",
       "      <td>0</td>\n",
       "      <td>0</td>\n",
       "      <td>0</td>\n",
       "      <td>0</td>\n",
       "      <td>0</td>\n",
       "      <td>0</td>\n",
       "      <td>0</td>\n",
       "      <td>0</td>\n",
       "      <td>0</td>\n",
       "      <td>0</td>\n",
       "      <td>0</td>\n",
       "      <td>0</td>\n",
       "      <td>-1.477038</td>\n",
       "      <td>38.655476</td>\n",
       "      <td>32.128922</td>\n",
       "      <td>22.201362</td>\n",
       "    </tr>\n",
       "    <tr>\n",
       "      <th>2</th>\n",
       "      <td>0</td>\n",
       "      <td>0</td>\n",
       "      <td>0</td>\n",
       "      <td>0</td>\n",
       "      <td>0</td>\n",
       "      <td>1</td>\n",
       "      <td>0</td>\n",
       "      <td>0</td>\n",
       "      <td>0</td>\n",
       "      <td>0</td>\n",
       "      <td>0</td>\n",
       "      <td>0</td>\n",
       "      <td>0</td>\n",
       "      <td>0</td>\n",
       "      <td>0</td>\n",
       "      <td>0</td>\n",
       "      <td>0</td>\n",
       "      <td>0</td>\n",
       "      <td>-1.658577</td>\n",
       "      <td>33.611163</td>\n",
       "      <td>26.206968</td>\n",
       "      <td>15.977567</td>\n",
       "    </tr>\n",
       "    <tr>\n",
       "      <th>3</th>\n",
       "      <td>0</td>\n",
       "      <td>0</td>\n",
       "      <td>0</td>\n",
       "      <td>0</td>\n",
       "      <td>0</td>\n",
       "      <td>1</td>\n",
       "      <td>0</td>\n",
       "      <td>0</td>\n",
       "      <td>0</td>\n",
       "      <td>0</td>\n",
       "      <td>0</td>\n",
       "      <td>0</td>\n",
       "      <td>0</td>\n",
       "      <td>0</td>\n",
       "      <td>0</td>\n",
       "      <td>0</td>\n",
       "      <td>0</td>\n",
       "      <td>0</td>\n",
       "      <td>-1.295498</td>\n",
       "      <td>31.242480</td>\n",
       "      <td>26.206968</td>\n",
       "      <td>15.902198</td>\n",
       "    </tr>\n",
       "    <tr>\n",
       "      <th>4</th>\n",
       "      <td>0</td>\n",
       "      <td>0</td>\n",
       "      <td>0</td>\n",
       "      <td>0</td>\n",
       "      <td>0</td>\n",
       "      <td>1</td>\n",
       "      <td>0</td>\n",
       "      <td>0</td>\n",
       "      <td>0</td>\n",
       "      <td>0</td>\n",
       "      <td>0</td>\n",
       "      <td>0</td>\n",
       "      <td>0</td>\n",
       "      <td>0</td>\n",
       "      <td>0</td>\n",
       "      <td>0</td>\n",
       "      <td>0</td>\n",
       "      <td>0</td>\n",
       "      <td>-1.840117</td>\n",
       "      <td>30.895220</td>\n",
       "      <td>21.920200</td>\n",
       "      <td>16.303405</td>\n",
       "    </tr>\n",
       "  </tbody>\n",
       "</table>\n",
       "</div>"
      ],
      "text/plain": [
       "   origin_2  origin_3  cylinders_4  cylinders_5  cylinders_6  cylinders_8  \\\n",
       "0         0         0            0            0            0            1   \n",
       "1         0         0            0            0            0            1   \n",
       "2         0         0            0            0            0            1   \n",
       "3         0         0            0            0            0            1   \n",
       "4         0         0            0            0            0            1   \n",
       "\n",
       "   year_1971  year_1972  year_1973  year_1974  year_1975  year_1976  \\\n",
       "0          0          0          0          0          0          0   \n",
       "1          0          0          0          0          0          0   \n",
       "2          0          0          0          0          0          0   \n",
       "3          0          0          0          0          0          0   \n",
       "4          0          0          0          0          0          0   \n",
       "\n",
       "   year_1977  year_1978  year_1979  year_1980  year_1981  year_1982  \\\n",
       "0          0          0          0          0          0          0   \n",
       "1          0          0          0          0          0          0   \n",
       "2          0          0          0          0          0          0   \n",
       "3          0          0          0          0          0          0   \n",
       "4          0          0          0          0          0          0   \n",
       "\n",
       "   acceleration  displacement  horsepower     weight  \n",
       "0     -1.295498     31.759110   17.315612  17.668498  \n",
       "1     -1.477038     38.655476   32.128922  22.201362  \n",
       "2     -1.658577     33.611163   26.206968  15.977567  \n",
       "3     -1.295498     31.242480   26.206968  15.902198  \n",
       "4     -1.840117     30.895220   21.920200  16.303405  "
      ]
     },
     "execution_count": 43,
     "metadata": {},
     "output_type": "execute_result"
    }
   ],
   "source": [
    "#new combined data with num and categorical datas\n",
    "vehicle_new=pd.concat([veh_cat_dummy,num_new],axis=1)\n",
    "vehicle_new.head()"
   ]
  },
  {
   "cell_type": "code",
   "execution_count": 44,
   "metadata": {},
   "outputs": [
    {
     "data": {
      "text/plain": [
       "(398, 22)"
      ]
     },
     "execution_count": 44,
     "metadata": {},
     "output_type": "execute_result"
    }
   ],
   "source": [
    "vehicle_new.shape"
   ]
  },
  {
   "cell_type": "code",
   "execution_count": null,
   "metadata": {},
   "outputs": [],
   "source": []
  },
  {
   "cell_type": "code",
   "execution_count": 45,
   "metadata": {},
   "outputs": [],
   "source": [
    "#predictors and target\n",
    "x=vehicle_new\n",
    "y=vehicle['Kilometer_per_liter']"
   ]
  },
  {
   "cell_type": "code",
   "execution_count": 46,
   "metadata": {},
   "outputs": [],
   "source": [
    "import statsmodels.api as sm\n",
    "x1 = sm.add_constant(x)\n",
    "y1=(vehicle['Kilometer_per_liter'])"
   ]
  },
  {
   "cell_type": "code",
   "execution_count": 47,
   "metadata": {},
   "outputs": [],
   "source": [
    "#splitting into train ans test\n",
    "from sklearn.model_selection import train_test_split\n",
    "x_train,x_test,y_train,y_test=train_test_split(x1,y1,test_size=0.2,random_state=0)"
   ]
  },
  {
   "cell_type": "code",
   "execution_count": 48,
   "metadata": {},
   "outputs": [
    {
     "data": {
      "text/plain": [
       "((318, 23), (80, 23), (318,), (80,))"
      ]
     },
     "execution_count": 48,
     "metadata": {},
     "output_type": "execute_result"
    }
   ],
   "source": [
    "x_train.shape,x_test.shape,y_train.shape,y_test.shape"
   ]
  },
  {
   "cell_type": "code",
   "execution_count": 49,
   "metadata": {},
   "outputs": [
    {
     "data": {
      "text/plain": [
       "((318, 23), (80, 23))"
      ]
     },
     "execution_count": 49,
     "metadata": {},
     "output_type": "execute_result"
    }
   ],
   "source": [
    "x_train.shape,x_test.shape"
   ]
  },
  {
   "cell_type": "markdown",
   "metadata": {},
   "source": [
    "# MODEL1 WITH TRANSFORMATION"
   ]
  },
  {
   "cell_type": "code",
   "execution_count": 50,
   "metadata": {},
   "outputs": [
    {
     "data": {
      "text/html": [
       "<table class=\"simpletable\">\n",
       "<caption>OLS Regression Results</caption>\n",
       "<tr>\n",
       "  <th>Dep. Variable:</th>    <td>Kilometer_per_liter</td> <th>  R-squared:         </th> <td>   0.887</td> \n",
       "</tr>\n",
       "<tr>\n",
       "  <th>Model:</th>                    <td>OLS</td>         <th>  Adj. R-squared:    </th> <td>   0.878</td> \n",
       "</tr>\n",
       "<tr>\n",
       "  <th>Method:</th>              <td>Least Squares</td>    <th>  F-statistic:       </th> <td>   105.0</td> \n",
       "</tr>\n",
       "<tr>\n",
       "  <th>Date:</th>              <td>Fri, 01 Jan 2021</td>   <th>  Prob (F-statistic):</th> <td>1.80e-125</td>\n",
       "</tr>\n",
       "<tr>\n",
       "  <th>Time:</th>                  <td>18:46:38</td>       <th>  Log-Likelihood:    </th> <td> -484.69</td> \n",
       "</tr>\n",
       "<tr>\n",
       "  <th>No. Observations:</th>       <td>   318</td>        <th>  AIC:               </th> <td>   1015.</td> \n",
       "</tr>\n",
       "<tr>\n",
       "  <th>Df Residuals:</th>           <td>   295</td>        <th>  BIC:               </th> <td>   1102.</td> \n",
       "</tr>\n",
       "<tr>\n",
       "  <th>Df Model:</th>               <td>    22</td>        <th>                     </th>     <td> </td>    \n",
       "</tr>\n",
       "<tr>\n",
       "  <th>Covariance Type:</th>       <td>nonrobust</td>      <th>                     </th>     <td> </td>    \n",
       "</tr>\n",
       "</table>\n",
       "<table class=\"simpletable\">\n",
       "<tr>\n",
       "        <td></td>          <th>coef</th>     <th>std err</th>      <th>t</th>      <th>P>|t|</th>  <th>[0.025</th>    <th>0.975]</th>  \n",
       "</tr>\n",
       "<tr>\n",
       "  <th>const</th>        <td>    5.4780</td> <td>    0.850</td> <td>    6.448</td> <td> 0.000</td> <td>    3.806</td> <td>    7.150</td>\n",
       "</tr>\n",
       "<tr>\n",
       "  <th>origin_2</th>     <td>    0.4587</td> <td>    0.242</td> <td>    1.893</td> <td> 0.059</td> <td>   -0.018</td> <td>    0.936</td>\n",
       "</tr>\n",
       "<tr>\n",
       "  <th>origin_3</th>     <td>    0.6727</td> <td>    0.238</td> <td>    2.832</td> <td> 0.005</td> <td>    0.205</td> <td>    1.140</td>\n",
       "</tr>\n",
       "<tr>\n",
       "  <th>cylinders_4</th>  <td>    2.8477</td> <td>    0.768</td> <td>    3.709</td> <td> 0.000</td> <td>    1.337</td> <td>    4.359</td>\n",
       "</tr>\n",
       "<tr>\n",
       "  <th>cylinders_5</th>  <td>    3.2814</td> <td>    1.068</td> <td>    3.073</td> <td> 0.002</td> <td>    1.180</td> <td>    5.383</td>\n",
       "</tr>\n",
       "<tr>\n",
       "  <th>cylinders_6</th>  <td>    2.8716</td> <td>    0.895</td> <td>    3.210</td> <td> 0.001</td> <td>    1.111</td> <td>    4.632</td>\n",
       "</tr>\n",
       "<tr>\n",
       "  <th>cylinders_8</th>  <td>    3.9854</td> <td>    0.979</td> <td>    4.071</td> <td> 0.000</td> <td>    2.059</td> <td>    5.912</td>\n",
       "</tr>\n",
       "<tr>\n",
       "  <th>year_1971</th>    <td>    0.2546</td> <td>    0.373</td> <td>    0.684</td> <td> 0.495</td> <td>   -0.479</td> <td>    0.988</td>\n",
       "</tr>\n",
       "<tr>\n",
       "  <th>year_1972</th>    <td>   -0.0050</td> <td>    0.385</td> <td>   -0.013</td> <td> 0.990</td> <td>   -0.764</td> <td>    0.754</td>\n",
       "</tr>\n",
       "<tr>\n",
       "  <th>year_1973</th>    <td>   -0.2751</td> <td>    0.348</td> <td>   -0.789</td> <td> 0.430</td> <td>   -0.961</td> <td>    0.411</td>\n",
       "</tr>\n",
       "<tr>\n",
       "  <th>year_1974</th>    <td>    0.2772</td> <td>    0.398</td> <td>    0.697</td> <td> 0.487</td> <td>   -0.506</td> <td>    1.060</td>\n",
       "</tr>\n",
       "<tr>\n",
       "  <th>year_1975</th>    <td>    0.3864</td> <td>    0.395</td> <td>    0.979</td> <td> 0.329</td> <td>   -0.391</td> <td>    1.163</td>\n",
       "</tr>\n",
       "<tr>\n",
       "  <th>year_1976</th>    <td>    0.4260</td> <td>    0.373</td> <td>    1.142</td> <td> 0.254</td> <td>   -0.308</td> <td>    1.160</td>\n",
       "</tr>\n",
       "<tr>\n",
       "  <th>year_1977</th>    <td>    1.2873</td> <td>    0.385</td> <td>    3.345</td> <td> 0.001</td> <td>    0.530</td> <td>    2.045</td>\n",
       "</tr>\n",
       "<tr>\n",
       "  <th>year_1978</th>    <td>    1.1651</td> <td>    0.359</td> <td>    3.241</td> <td> 0.001</td> <td>    0.458</td> <td>    1.873</td>\n",
       "</tr>\n",
       "<tr>\n",
       "  <th>year_1979</th>    <td>    1.8987</td> <td>    0.388</td> <td>    4.888</td> <td> 0.000</td> <td>    1.134</td> <td>    2.663</td>\n",
       "</tr>\n",
       "<tr>\n",
       "  <th>year_1980</th>    <td>    3.6344</td> <td>    0.409</td> <td>    8.894</td> <td> 0.000</td> <td>    2.830</td> <td>    4.439</td>\n",
       "</tr>\n",
       "<tr>\n",
       "  <th>year_1981</th>    <td>    2.8825</td> <td>    0.407</td> <td>    7.083</td> <td> 0.000</td> <td>    2.082</td> <td>    3.683</td>\n",
       "</tr>\n",
       "<tr>\n",
       "  <th>year_1982</th>    <td>    3.2375</td> <td>    0.393</td> <td>    8.238</td> <td> 0.000</td> <td>    2.464</td> <td>    4.011</td>\n",
       "</tr>\n",
       "<tr>\n",
       "  <th>acceleration</th> <td>   -0.1401</td> <td>    0.120</td> <td>   -1.166</td> <td> 0.245</td> <td>   -0.377</td> <td>    0.096</td>\n",
       "</tr>\n",
       "<tr>\n",
       "  <th>displacement</th> <td>   -0.0196</td> <td>    0.013</td> <td>   -1.469</td> <td> 0.143</td> <td>   -0.046</td> <td>    0.007</td>\n",
       "</tr>\n",
       "<tr>\n",
       "  <th>horsepower</th>   <td>   -0.0446</td> <td>    0.011</td> <td>   -4.212</td> <td> 0.000</td> <td>   -0.065</td> <td>   -0.024</td>\n",
       "</tr>\n",
       "<tr>\n",
       "  <th>weight</th>       <td>   -0.0540</td> <td>    0.012</td> <td>   -4.523</td> <td> 0.000</td> <td>   -0.078</td> <td>   -0.031</td>\n",
       "</tr>\n",
       "</table>\n",
       "<table class=\"simpletable\">\n",
       "<tr>\n",
       "  <th>Omnibus:</th>       <td>42.878</td> <th>  Durbin-Watson:     </th> <td>   1.897</td>\n",
       "</tr>\n",
       "<tr>\n",
       "  <th>Prob(Omnibus):</th> <td> 0.000</td> <th>  Jarque-Bera (JB):  </th> <td> 109.271</td>\n",
       "</tr>\n",
       "<tr>\n",
       "  <th>Skew:</th>          <td> 0.637</td> <th>  Prob(JB):          </th> <td>1.87e-24</td>\n",
       "</tr>\n",
       "<tr>\n",
       "  <th>Kurtosis:</th>      <td> 5.574</td> <th>  Cond. No.          </th> <td>1.20e+03</td>\n",
       "</tr>\n",
       "</table><br/><br/>Warnings:<br/>[1] Standard Errors assume that the covariance matrix of the errors is correctly specified.<br/>[2] The condition number is large, 1.2e+03. This might indicate that there are<br/>strong multicollinearity or other numerical problems."
      ],
      "text/plain": [
       "<class 'statsmodels.iolib.summary.Summary'>\n",
       "\"\"\"\n",
       "                             OLS Regression Results                            \n",
       "===============================================================================\n",
       "Dep. Variable:     Kilometer_per_liter   R-squared:                       0.887\n",
       "Model:                             OLS   Adj. R-squared:                  0.878\n",
       "Method:                  Least Squares   F-statistic:                     105.0\n",
       "Date:                 Fri, 01 Jan 2021   Prob (F-statistic):          1.80e-125\n",
       "Time:                         18:46:38   Log-Likelihood:                -484.69\n",
       "No. Observations:                  318   AIC:                             1015.\n",
       "Df Residuals:                      295   BIC:                             1102.\n",
       "Df Model:                           22                                         \n",
       "Covariance Type:             nonrobust                                         \n",
       "================================================================================\n",
       "                   coef    std err          t      P>|t|      [0.025      0.975]\n",
       "--------------------------------------------------------------------------------\n",
       "const            5.4780      0.850      6.448      0.000       3.806       7.150\n",
       "origin_2         0.4587      0.242      1.893      0.059      -0.018       0.936\n",
       "origin_3         0.6727      0.238      2.832      0.005       0.205       1.140\n",
       "cylinders_4      2.8477      0.768      3.709      0.000       1.337       4.359\n",
       "cylinders_5      3.2814      1.068      3.073      0.002       1.180       5.383\n",
       "cylinders_6      2.8716      0.895      3.210      0.001       1.111       4.632\n",
       "cylinders_8      3.9854      0.979      4.071      0.000       2.059       5.912\n",
       "year_1971        0.2546      0.373      0.684      0.495      -0.479       0.988\n",
       "year_1972       -0.0050      0.385     -0.013      0.990      -0.764       0.754\n",
       "year_1973       -0.2751      0.348     -0.789      0.430      -0.961       0.411\n",
       "year_1974        0.2772      0.398      0.697      0.487      -0.506       1.060\n",
       "year_1975        0.3864      0.395      0.979      0.329      -0.391       1.163\n",
       "year_1976        0.4260      0.373      1.142      0.254      -0.308       1.160\n",
       "year_1977        1.2873      0.385      3.345      0.001       0.530       2.045\n",
       "year_1978        1.1651      0.359      3.241      0.001       0.458       1.873\n",
       "year_1979        1.8987      0.388      4.888      0.000       1.134       2.663\n",
       "year_1980        3.6344      0.409      8.894      0.000       2.830       4.439\n",
       "year_1981        2.8825      0.407      7.083      0.000       2.082       3.683\n",
       "year_1982        3.2375      0.393      8.238      0.000       2.464       4.011\n",
       "acceleration    -0.1401      0.120     -1.166      0.245      -0.377       0.096\n",
       "displacement    -0.0196      0.013     -1.469      0.143      -0.046       0.007\n",
       "horsepower      -0.0446      0.011     -4.212      0.000      -0.065      -0.024\n",
       "weight          -0.0540      0.012     -4.523      0.000      -0.078      -0.031\n",
       "==============================================================================\n",
       "Omnibus:                       42.878   Durbin-Watson:                   1.897\n",
       "Prob(Omnibus):                  0.000   Jarque-Bera (JB):              109.271\n",
       "Skew:                           0.637   Prob(JB):                     1.87e-24\n",
       "Kurtosis:                       5.574   Cond. No.                     1.20e+03\n",
       "==============================================================================\n",
       "\n",
       "Warnings:\n",
       "[1] Standard Errors assume that the covariance matrix of the errors is correctly specified.\n",
       "[2] The condition number is large, 1.2e+03. This might indicate that there are\n",
       "strong multicollinearity or other numerical problems.\n",
       "\"\"\""
      ]
     },
     "execution_count": 50,
     "metadata": {},
     "output_type": "execute_result"
    }
   ],
   "source": [
    "#ols model\n",
    "from statsmodels.api import OLS\n",
    "ols=sm.OLS(y_train,x_train).fit()\n",
    "ols.summary()"
   ]
  },
  {
   "cell_type": "code",
   "execution_count": 51,
   "metadata": {},
   "outputs": [],
   "source": [
    "y_pred=ols.predict(x_test)"
   ]
  },
  {
   "cell_type": "code",
   "execution_count": 52,
   "metadata": {},
   "outputs": [
    {
     "data": {
      "application/javascript": [
       "\n",
       "        if (window._pyforest_update_imports_cell) { window._pyforest_update_imports_cell('import matplotlib.pyplot as plt\\nimport seaborn as sns\\nimport numpy as np\\nimport pandas as pd'); }\n",
       "    "
      ],
      "text/plain": [
       "<IPython.core.display.Javascript object>"
      ]
     },
     "metadata": {},
     "output_type": "display_data"
    }
   ],
   "source": [
    "from sklearn import metrics\n",
    "cols = ['model_name','RMSE', 'R-Squared', 'Adj. R-Squared']\n",
    "result_tabulation = pd.DataFrame(columns = cols)"
   ]
  },
  {
   "cell_type": "code",
   "execution_count": 53,
   "metadata": {},
   "outputs": [],
   "source": [
    "def models(model_name,y_pred,models_name):\n",
    "    metricss = pd.Series({'model_name':str(models_name),\n",
    "                     'RMSE':metrics.mean_squared_error(y_pred,y_test),\n",
    "                     'R-Squared':model_name.rsquared,\n",
    "                     'Adj. R-Squared': model_name.rsquared_adj})\n",
    "    return metricss"
   ]
  },
  {
   "cell_type": "code",
   "execution_count": 54,
   "metadata": {},
   "outputs": [
    {
     "data": {
      "application/javascript": [
       "\n",
       "        if (window._pyforest_update_imports_cell) { window._pyforest_update_imports_cell('import matplotlib.pyplot as plt\\nimport seaborn as sns\\nimport numpy as np\\nimport pandas as pd'); }\n",
       "    "
      ],
      "text/plain": [
       "<IPython.core.display.Javascript object>"
      ]
     },
     "metadata": {},
     "output_type": "display_data"
    }
   ],
   "source": [
    "result_tabulation=result_tabulation.append(models(ols,y_pred,'OLS_WITH_LOG'),ignore_index = True)"
   ]
  },
  {
   "cell_type": "code",
   "execution_count": 55,
   "metadata": {},
   "outputs": [
    {
     "data": {
      "text/html": [
       "<div>\n",
       "<style scoped>\n",
       "    .dataframe tbody tr th:only-of-type {\n",
       "        vertical-align: middle;\n",
       "    }\n",
       "\n",
       "    .dataframe tbody tr th {\n",
       "        vertical-align: top;\n",
       "    }\n",
       "\n",
       "    .dataframe thead th {\n",
       "        text-align: right;\n",
       "    }\n",
       "</style>\n",
       "<table border=\"1\" class=\"dataframe\">\n",
       "  <thead>\n",
       "    <tr style=\"text-align: right;\">\n",
       "      <th></th>\n",
       "      <th>model_name</th>\n",
       "      <th>RMSE</th>\n",
       "      <th>R-Squared</th>\n",
       "      <th>Adj. R-Squared</th>\n",
       "    </tr>\n",
       "  </thead>\n",
       "  <tbody>\n",
       "    <tr>\n",
       "      <th>0</th>\n",
       "      <td>OLS_WITH_LOG</td>\n",
       "      <td>1.161455</td>\n",
       "      <td>0.88672</td>\n",
       "      <td>0.878272</td>\n",
       "    </tr>\n",
       "  </tbody>\n",
       "</table>\n",
       "</div>"
      ],
      "text/plain": [
       "     model_name      RMSE  R-Squared  Adj. R-Squared\n",
       "0  OLS_WITH_LOG  1.161455    0.88672        0.878272"
      ]
     },
     "execution_count": 55,
     "metadata": {},
     "output_type": "execute_result"
    }
   ],
   "source": [
    "result_tabulation"
   ]
  },
  {
   "cell_type": "markdown",
   "metadata": {},
   "source": [
    "# MODEL 2 WITHOUT LOG TRANSFORMATIOON"
   ]
  },
  {
   "cell_type": "code",
   "execution_count": 56,
   "metadata": {},
   "outputs": [],
   "source": [
    "vehicle['horsepower']=vehicle['horsepower'].fillna(vehicle['horsepower'].mean())"
   ]
  },
  {
   "cell_type": "code",
   "execution_count": 57,
   "metadata": {},
   "outputs": [
    {
     "data": {
      "application/javascript": [
       "\n",
       "        if (window._pyforest_update_imports_cell) { window._pyforest_update_imports_cell('import matplotlib.pyplot as plt\\nimport seaborn as sns\\nimport numpy as np\\nimport pandas as pd'); }\n",
       "    "
      ],
      "text/plain": [
       "<IPython.core.display.Javascript object>"
      ]
     },
     "metadata": {},
     "output_type": "display_data"
    }
   ],
   "source": [
    "vehicle_num=vehicle.select_dtypes(np.number)\n",
    "vehicle_cat=vehicle.select_dtypes(include='object')"
   ]
  },
  {
   "cell_type": "code",
   "execution_count": 58,
   "metadata": {},
   "outputs": [
    {
     "data": {
      "application/javascript": [
       "\n",
       "        if (window._pyforest_update_imports_cell) { window._pyforest_update_imports_cell('import matplotlib.pyplot as plt\\nimport seaborn as sns\\nimport numpy as np\\nimport pandas as pd'); }\n",
       "    "
      ],
      "text/plain": [
       "<IPython.core.display.Javascript object>"
      ]
     },
     "metadata": {},
     "output_type": "display_data"
    }
   ],
   "source": [
    "cat_dum=pd.get_dummies(vehicle_cat,drop_first=True)"
   ]
  },
  {
   "cell_type": "code",
   "execution_count": 59,
   "metadata": {},
   "outputs": [
    {
     "data": {
      "application/javascript": [
       "\n",
       "        if (window._pyforest_update_imports_cell) { window._pyforest_update_imports_cell('import matplotlib.pyplot as plt\\nimport seaborn as sns\\nimport numpy as np\\nimport pandas as pd'); }\n",
       "    "
      ],
      "text/plain": [
       "<IPython.core.display.Javascript object>"
      ]
     },
     "metadata": {},
     "output_type": "display_data"
    },
    {
     "data": {
      "text/html": [
       "<div>\n",
       "<style scoped>\n",
       "    .dataframe tbody tr th:only-of-type {\n",
       "        vertical-align: middle;\n",
       "    }\n",
       "\n",
       "    .dataframe tbody tr th {\n",
       "        vertical-align: top;\n",
       "    }\n",
       "\n",
       "    .dataframe thead th {\n",
       "        text-align: right;\n",
       "    }\n",
       "</style>\n",
       "<table border=\"1\" class=\"dataframe\">\n",
       "  <thead>\n",
       "    <tr style=\"text-align: right;\">\n",
       "      <th></th>\n",
       "      <th>displacement</th>\n",
       "      <th>horsepower</th>\n",
       "      <th>weight</th>\n",
       "      <th>acceleration</th>\n",
       "      <th>Kilometer_per_liter</th>\n",
       "      <th>origin_2</th>\n",
       "      <th>origin_3</th>\n",
       "      <th>cylinders_4</th>\n",
       "      <th>cylinders_5</th>\n",
       "      <th>cylinders_6</th>\n",
       "      <th>cylinders_8</th>\n",
       "      <th>year_1971</th>\n",
       "      <th>year_1972</th>\n",
       "      <th>year_1973</th>\n",
       "      <th>year_1974</th>\n",
       "      <th>year_1975</th>\n",
       "      <th>year_1976</th>\n",
       "      <th>year_1977</th>\n",
       "      <th>year_1978</th>\n",
       "      <th>year_1979</th>\n",
       "      <th>year_1980</th>\n",
       "      <th>year_1981</th>\n",
       "      <th>year_1982</th>\n",
       "      <th>Kilometer_per_liter</th>\n",
       "    </tr>\n",
       "  </thead>\n",
       "  <tbody>\n",
       "    <tr>\n",
       "      <th>0</th>\n",
       "      <td>307.0</td>\n",
       "      <td>130.0</td>\n",
       "      <td>3504</td>\n",
       "      <td>12.0</td>\n",
       "      <td>7.652587</td>\n",
       "      <td>0</td>\n",
       "      <td>0</td>\n",
       "      <td>0</td>\n",
       "      <td>0</td>\n",
       "      <td>0</td>\n",
       "      <td>1</td>\n",
       "      <td>0</td>\n",
       "      <td>0</td>\n",
       "      <td>0</td>\n",
       "      <td>0</td>\n",
       "      <td>0</td>\n",
       "      <td>0</td>\n",
       "      <td>0</td>\n",
       "      <td>0</td>\n",
       "      <td>0</td>\n",
       "      <td>0</td>\n",
       "      <td>0</td>\n",
       "      <td>0</td>\n",
       "      <td>7.652587</td>\n",
       "    </tr>\n",
       "    <tr>\n",
       "      <th>1</th>\n",
       "      <td>350.0</td>\n",
       "      <td>165.0</td>\n",
       "      <td>3693</td>\n",
       "      <td>11.5</td>\n",
       "      <td>6.377156</td>\n",
       "      <td>0</td>\n",
       "      <td>0</td>\n",
       "      <td>0</td>\n",
       "      <td>0</td>\n",
       "      <td>0</td>\n",
       "      <td>1</td>\n",
       "      <td>0</td>\n",
       "      <td>0</td>\n",
       "      <td>0</td>\n",
       "      <td>0</td>\n",
       "      <td>0</td>\n",
       "      <td>0</td>\n",
       "      <td>0</td>\n",
       "      <td>0</td>\n",
       "      <td>0</td>\n",
       "      <td>0</td>\n",
       "      <td>0</td>\n",
       "      <td>0</td>\n",
       "      <td>6.377156</td>\n",
       "    </tr>\n",
       "    <tr>\n",
       "      <th>2</th>\n",
       "      <td>318.0</td>\n",
       "      <td>150.0</td>\n",
       "      <td>3436</td>\n",
       "      <td>11.0</td>\n",
       "      <td>7.652587</td>\n",
       "      <td>0</td>\n",
       "      <td>0</td>\n",
       "      <td>0</td>\n",
       "      <td>0</td>\n",
       "      <td>0</td>\n",
       "      <td>1</td>\n",
       "      <td>0</td>\n",
       "      <td>0</td>\n",
       "      <td>0</td>\n",
       "      <td>0</td>\n",
       "      <td>0</td>\n",
       "      <td>0</td>\n",
       "      <td>0</td>\n",
       "      <td>0</td>\n",
       "      <td>0</td>\n",
       "      <td>0</td>\n",
       "      <td>0</td>\n",
       "      <td>0</td>\n",
       "      <td>7.652587</td>\n",
       "    </tr>\n",
       "    <tr>\n",
       "      <th>3</th>\n",
       "      <td>304.0</td>\n",
       "      <td>150.0</td>\n",
       "      <td>3433</td>\n",
       "      <td>12.0</td>\n",
       "      <td>6.802299</td>\n",
       "      <td>0</td>\n",
       "      <td>0</td>\n",
       "      <td>0</td>\n",
       "      <td>0</td>\n",
       "      <td>0</td>\n",
       "      <td>1</td>\n",
       "      <td>0</td>\n",
       "      <td>0</td>\n",
       "      <td>0</td>\n",
       "      <td>0</td>\n",
       "      <td>0</td>\n",
       "      <td>0</td>\n",
       "      <td>0</td>\n",
       "      <td>0</td>\n",
       "      <td>0</td>\n",
       "      <td>0</td>\n",
       "      <td>0</td>\n",
       "      <td>0</td>\n",
       "      <td>6.802299</td>\n",
       "    </tr>\n",
       "    <tr>\n",
       "      <th>4</th>\n",
       "      <td>302.0</td>\n",
       "      <td>140.0</td>\n",
       "      <td>3449</td>\n",
       "      <td>10.5</td>\n",
       "      <td>7.227443</td>\n",
       "      <td>0</td>\n",
       "      <td>0</td>\n",
       "      <td>0</td>\n",
       "      <td>0</td>\n",
       "      <td>0</td>\n",
       "      <td>1</td>\n",
       "      <td>0</td>\n",
       "      <td>0</td>\n",
       "      <td>0</td>\n",
       "      <td>0</td>\n",
       "      <td>0</td>\n",
       "      <td>0</td>\n",
       "      <td>0</td>\n",
       "      <td>0</td>\n",
       "      <td>0</td>\n",
       "      <td>0</td>\n",
       "      <td>0</td>\n",
       "      <td>0</td>\n",
       "      <td>7.227443</td>\n",
       "    </tr>\n",
       "  </tbody>\n",
       "</table>\n",
       "</div>"
      ],
      "text/plain": [
       "   displacement  horsepower  weight  acceleration  Kilometer_per_liter  \\\n",
       "0         307.0       130.0    3504          12.0             7.652587   \n",
       "1         350.0       165.0    3693          11.5             6.377156   \n",
       "2         318.0       150.0    3436          11.0             7.652587   \n",
       "3         304.0       150.0    3433          12.0             6.802299   \n",
       "4         302.0       140.0    3449          10.5             7.227443   \n",
       "\n",
       "   origin_2  origin_3  cylinders_4  cylinders_5  cylinders_6  cylinders_8  \\\n",
       "0         0         0            0            0            0            1   \n",
       "1         0         0            0            0            0            1   \n",
       "2         0         0            0            0            0            1   \n",
       "3         0         0            0            0            0            1   \n",
       "4         0         0            0            0            0            1   \n",
       "\n",
       "   year_1971  year_1972  year_1973  year_1974  year_1975  year_1976  \\\n",
       "0          0          0          0          0          0          0   \n",
       "1          0          0          0          0          0          0   \n",
       "2          0          0          0          0          0          0   \n",
       "3          0          0          0          0          0          0   \n",
       "4          0          0          0          0          0          0   \n",
       "\n",
       "   year_1977  year_1978  year_1979  year_1980  year_1981  year_1982  \\\n",
       "0          0          0          0          0          0          0   \n",
       "1          0          0          0          0          0          0   \n",
       "2          0          0          0          0          0          0   \n",
       "3          0          0          0          0          0          0   \n",
       "4          0          0          0          0          0          0   \n",
       "\n",
       "   Kilometer_per_liter  \n",
       "0             7.652587  \n",
       "1             6.377156  \n",
       "2             7.652587  \n",
       "3             6.802299  \n",
       "4             7.227443  "
      ]
     },
     "execution_count": 59,
     "metadata": {},
     "output_type": "execute_result"
    }
   ],
   "source": [
    "veh_main=pd.concat([vehicle_num,cat_dum,vehicle['Kilometer_per_liter']],axis=1)\n",
    "veh_main.head()"
   ]
  },
  {
   "cell_type": "code",
   "execution_count": 60,
   "metadata": {},
   "outputs": [],
   "source": [
    "veh_main = sm.add_constant(veh_main)\n",
    "x=veh_main.drop('Kilometer_per_liter',axis=1)\n",
    "y=vehicle['Kilometer_per_liter']\n",
    "from sklearn.model_selection import train_test_split\n",
    "x_train,x_test,y_train,y_test=train_test_split(x,y,test_size=0.2,random_state=0)\n"
   ]
  },
  {
   "cell_type": "code",
   "execution_count": 61,
   "metadata": {},
   "outputs": [
    {
     "data": {
      "text/html": [
       "<table class=\"simpletable\">\n",
       "<caption>OLS Regression Results</caption>\n",
       "<tr>\n",
       "  <th>Dep. Variable:</th>    <td>Kilometer_per_liter</td> <th>  R-squared:         </th> <td>   0.868</td> \n",
       "</tr>\n",
       "<tr>\n",
       "  <th>Model:</th>                    <td>OLS</td>         <th>  Adj. R-squared:    </th> <td>   0.858</td> \n",
       "</tr>\n",
       "<tr>\n",
       "  <th>Method:</th>              <td>Least Squares</td>    <th>  F-statistic:       </th> <td>   88.37</td> \n",
       "</tr>\n",
       "<tr>\n",
       "  <th>Date:</th>              <td>Fri, 01 Jan 2021</td>   <th>  Prob (F-statistic):</th> <td>6.93e-116</td>\n",
       "</tr>\n",
       "<tr>\n",
       "  <th>Time:</th>                  <td>18:46:38</td>       <th>  Log-Likelihood:    </th> <td> -508.71</td> \n",
       "</tr>\n",
       "<tr>\n",
       "  <th>No. Observations:</th>       <td>   318</td>        <th>  AIC:               </th> <td>   1063.</td> \n",
       "</tr>\n",
       "<tr>\n",
       "  <th>Df Residuals:</th>           <td>   295</td>        <th>  BIC:               </th> <td>   1150.</td> \n",
       "</tr>\n",
       "<tr>\n",
       "  <th>Df Model:</th>               <td>    22</td>        <th>                     </th>     <td> </td>    \n",
       "</tr>\n",
       "<tr>\n",
       "  <th>Covariance Type:</th>       <td>nonrobust</td>      <th>                     </th>     <td> </td>    \n",
       "</tr>\n",
       "</table>\n",
       "<table class=\"simpletable\">\n",
       "<tr>\n",
       "        <td></td>          <th>coef</th>     <th>std err</th>      <th>t</th>      <th>P>|t|</th>  <th>[0.025</th>    <th>0.975]</th>  \n",
       "</tr>\n",
       "<tr>\n",
       "  <th>const</th>        <td>   12.7280</td> <td>    1.181</td> <td>   10.780</td> <td> 0.000</td> <td>   10.404</td> <td>   15.052</td>\n",
       "</tr>\n",
       "<tr>\n",
       "  <th>displacement</th> <td>    0.0062</td> <td>    0.003</td> <td>    1.841</td> <td> 0.067</td> <td>   -0.000</td> <td>    0.013</td>\n",
       "</tr>\n",
       "<tr>\n",
       "  <th>horsepower</th>   <td>   -0.0157</td> <td>    0.006</td> <td>   -2.575</td> <td> 0.011</td> <td>   -0.028</td> <td>   -0.004</td>\n",
       "</tr>\n",
       "<tr>\n",
       "  <th>weight</th>       <td>   -0.0024</td> <td>    0.000</td> <td>   -7.994</td> <td> 0.000</td> <td>   -0.003</td> <td>   -0.002</td>\n",
       "</tr>\n",
       "<tr>\n",
       "  <th>acceleration</th> <td>    0.0521</td> <td>    0.042</td> <td>    1.248</td> <td> 0.213</td> <td>   -0.030</td> <td>    0.134</td>\n",
       "</tr>\n",
       "<tr>\n",
       "  <th>origin_2</th>     <td>    0.8970</td> <td>    0.246</td> <td>    3.642</td> <td> 0.000</td> <td>    0.412</td> <td>    1.382</td>\n",
       "</tr>\n",
       "<tr>\n",
       "  <th>origin_3</th>     <td>    1.1452</td> <td>    0.239</td> <td>    4.795</td> <td> 0.000</td> <td>    0.675</td> <td>    1.615</td>\n",
       "</tr>\n",
       "<tr>\n",
       "  <th>cylinders_4</th>  <td>    2.4039</td> <td>    0.775</td> <td>    3.102</td> <td> 0.002</td> <td>    0.879</td> <td>    3.929</td>\n",
       "</tr>\n",
       "<tr>\n",
       "  <th>cylinders_5</th>  <td>    2.4793</td> <td>    1.100</td> <td>    2.253</td> <td> 0.025</td> <td>    0.314</td> <td>    4.645</td>\n",
       "</tr>\n",
       "<tr>\n",
       "  <th>cylinders_6</th>  <td>    1.5376</td> <td>    0.854</td> <td>    1.800</td> <td> 0.073</td> <td>   -0.143</td> <td>    3.218</td>\n",
       "</tr>\n",
       "<tr>\n",
       "  <th>cylinders_8</th>  <td>    2.4969</td> <td>    0.980</td> <td>    2.547</td> <td> 0.011</td> <td>    0.568</td> <td>    4.426</td>\n",
       "</tr>\n",
       "<tr>\n",
       "  <th>year_1971</th>    <td>    0.4639</td> <td>    0.412</td> <td>    1.125</td> <td> 0.261</td> <td>   -0.347</td> <td>    1.275</td>\n",
       "</tr>\n",
       "<tr>\n",
       "  <th>year_1972</th>    <td>    0.1191</td> <td>    0.420</td> <td>    0.284</td> <td> 0.777</td> <td>   -0.707</td> <td>    0.945</td>\n",
       "</tr>\n",
       "<tr>\n",
       "  <th>year_1973</th>    <td>   -0.1509</td> <td>    0.380</td> <td>   -0.397</td> <td> 0.692</td> <td>   -0.899</td> <td>    0.597</td>\n",
       "</tr>\n",
       "<tr>\n",
       "  <th>year_1974</th>    <td>    0.6427</td> <td>    0.436</td> <td>    1.475</td> <td> 0.141</td> <td>   -0.215</td> <td>    1.500</td>\n",
       "</tr>\n",
       "<tr>\n",
       "  <th>year_1975</th>    <td>    0.5853</td> <td>    0.434</td> <td>    1.348</td> <td> 0.179</td> <td>   -0.270</td> <td>    1.440</td>\n",
       "</tr>\n",
       "<tr>\n",
       "  <th>year_1976</th>    <td>    0.6515</td> <td>    0.410</td> <td>    1.588</td> <td> 0.113</td> <td>   -0.156</td> <td>    1.459</td>\n",
       "</tr>\n",
       "<tr>\n",
       "  <th>year_1977</th>    <td>    1.5138</td> <td>    0.422</td> <td>    3.589</td> <td> 0.000</td> <td>    0.684</td> <td>    2.344</td>\n",
       "</tr>\n",
       "<tr>\n",
       "  <th>year_1978</th>    <td>    1.2627</td> <td>    0.393</td> <td>    3.212</td> <td> 0.001</td> <td>    0.489</td> <td>    2.037</td>\n",
       "</tr>\n",
       "<tr>\n",
       "  <th>year_1979</th>    <td>    1.9098</td> <td>    0.429</td> <td>    4.453</td> <td> 0.000</td> <td>    1.066</td> <td>    2.754</td>\n",
       "</tr>\n",
       "<tr>\n",
       "  <th>year_1980</th>    <td>    3.8034</td> <td>    0.441</td> <td>    8.624</td> <td> 0.000</td> <td>    2.935</td> <td>    4.671</td>\n",
       "</tr>\n",
       "<tr>\n",
       "  <th>year_1981</th>    <td>    3.1591</td> <td>    0.442</td> <td>    7.155</td> <td> 0.000</td> <td>    2.290</td> <td>    4.028</td>\n",
       "</tr>\n",
       "<tr>\n",
       "  <th>year_1982</th>    <td>    3.3860</td> <td>    0.429</td> <td>    7.888</td> <td> 0.000</td> <td>    2.541</td> <td>    4.231</td>\n",
       "</tr>\n",
       "</table>\n",
       "<table class=\"simpletable\">\n",
       "<tr>\n",
       "  <th>Omnibus:</th>       <td>34.240</td> <th>  Durbin-Watson:     </th> <td>   1.876</td>\n",
       "</tr>\n",
       "<tr>\n",
       "  <th>Prob(Omnibus):</th> <td> 0.000</td> <th>  Jarque-Bera (JB):  </th> <td>  61.208</td>\n",
       "</tr>\n",
       "<tr>\n",
       "  <th>Skew:</th>          <td> 0.626</td> <th>  Prob(JB):          </th> <td>5.12e-14</td>\n",
       "</tr>\n",
       "<tr>\n",
       "  <th>Kurtosis:</th>      <td> 4.747</td> <th>  Cond. No.          </th> <td>8.21e+04</td>\n",
       "</tr>\n",
       "</table><br/><br/>Warnings:<br/>[1] Standard Errors assume that the covariance matrix of the errors is correctly specified.<br/>[2] The condition number is large, 8.21e+04. This might indicate that there are<br/>strong multicollinearity or other numerical problems."
      ],
      "text/plain": [
       "<class 'statsmodels.iolib.summary.Summary'>\n",
       "\"\"\"\n",
       "                             OLS Regression Results                            \n",
       "===============================================================================\n",
       "Dep. Variable:     Kilometer_per_liter   R-squared:                       0.868\n",
       "Model:                             OLS   Adj. R-squared:                  0.858\n",
       "Method:                  Least Squares   F-statistic:                     88.37\n",
       "Date:                 Fri, 01 Jan 2021   Prob (F-statistic):          6.93e-116\n",
       "Time:                         18:46:38   Log-Likelihood:                -508.71\n",
       "No. Observations:                  318   AIC:                             1063.\n",
       "Df Residuals:                      295   BIC:                             1150.\n",
       "Df Model:                           22                                         \n",
       "Covariance Type:             nonrobust                                         \n",
       "================================================================================\n",
       "                   coef    std err          t      P>|t|      [0.025      0.975]\n",
       "--------------------------------------------------------------------------------\n",
       "const           12.7280      1.181     10.780      0.000      10.404      15.052\n",
       "displacement     0.0062      0.003      1.841      0.067      -0.000       0.013\n",
       "horsepower      -0.0157      0.006     -2.575      0.011      -0.028      -0.004\n",
       "weight          -0.0024      0.000     -7.994      0.000      -0.003      -0.002\n",
       "acceleration     0.0521      0.042      1.248      0.213      -0.030       0.134\n",
       "origin_2         0.8970      0.246      3.642      0.000       0.412       1.382\n",
       "origin_3         1.1452      0.239      4.795      0.000       0.675       1.615\n",
       "cylinders_4      2.4039      0.775      3.102      0.002       0.879       3.929\n",
       "cylinders_5      2.4793      1.100      2.253      0.025       0.314       4.645\n",
       "cylinders_6      1.5376      0.854      1.800      0.073      -0.143       3.218\n",
       "cylinders_8      2.4969      0.980      2.547      0.011       0.568       4.426\n",
       "year_1971        0.4639      0.412      1.125      0.261      -0.347       1.275\n",
       "year_1972        0.1191      0.420      0.284      0.777      -0.707       0.945\n",
       "year_1973       -0.1509      0.380     -0.397      0.692      -0.899       0.597\n",
       "year_1974        0.6427      0.436      1.475      0.141      -0.215       1.500\n",
       "year_1975        0.5853      0.434      1.348      0.179      -0.270       1.440\n",
       "year_1976        0.6515      0.410      1.588      0.113      -0.156       1.459\n",
       "year_1977        1.5138      0.422      3.589      0.000       0.684       2.344\n",
       "year_1978        1.2627      0.393      3.212      0.001       0.489       2.037\n",
       "year_1979        1.9098      0.429      4.453      0.000       1.066       2.754\n",
       "year_1980        3.8034      0.441      8.624      0.000       2.935       4.671\n",
       "year_1981        3.1591      0.442      7.155      0.000       2.290       4.028\n",
       "year_1982        3.3860      0.429      7.888      0.000       2.541       4.231\n",
       "==============================================================================\n",
       "Omnibus:                       34.240   Durbin-Watson:                   1.876\n",
       "Prob(Omnibus):                  0.000   Jarque-Bera (JB):               61.208\n",
       "Skew:                           0.626   Prob(JB):                     5.12e-14\n",
       "Kurtosis:                       4.747   Cond. No.                     8.21e+04\n",
       "==============================================================================\n",
       "\n",
       "Warnings:\n",
       "[1] Standard Errors assume that the covariance matrix of the errors is correctly specified.\n",
       "[2] The condition number is large, 8.21e+04. This might indicate that there are\n",
       "strong multicollinearity or other numerical problems.\n",
       "\"\"\""
      ]
     },
     "execution_count": 61,
     "metadata": {},
     "output_type": "execute_result"
    }
   ],
   "source": [
    "from statsmodels.api import OLS\n",
    "ols_withoutlog=sm.OLS(y_train,x_train).fit()\n",
    "ols_withoutlog.summary()"
   ]
  },
  {
   "cell_type": "code",
   "execution_count": 62,
   "metadata": {},
   "outputs": [],
   "source": [
    "y_pred=ols_withoutlog.predict(x_test)\n"
   ]
  },
  {
   "cell_type": "code",
   "execution_count": 63,
   "metadata": {},
   "outputs": [
    {
     "data": {
      "application/javascript": [
       "\n",
       "        if (window._pyforest_update_imports_cell) { window._pyforest_update_imports_cell('import matplotlib.pyplot as plt\\nimport seaborn as sns\\nimport numpy as np\\nimport pandas as pd'); }\n",
       "    "
      ],
      "text/plain": [
       "<IPython.core.display.Javascript object>"
      ]
     },
     "metadata": {},
     "output_type": "display_data"
    }
   ],
   "source": [
    "ols_without=models(ols_withoutlog,y_pred,'OLS WITHOUT LOG')\n",
    "result_tabulation=result_tabulation.append(ols_without,ignore_index=True)"
   ]
  },
  {
   "cell_type": "code",
   "execution_count": 64,
   "metadata": {},
   "outputs": [
    {
     "data": {
      "text/html": [
       "<div>\n",
       "<style scoped>\n",
       "    .dataframe tbody tr th:only-of-type {\n",
       "        vertical-align: middle;\n",
       "    }\n",
       "\n",
       "    .dataframe tbody tr th {\n",
       "        vertical-align: top;\n",
       "    }\n",
       "\n",
       "    .dataframe thead th {\n",
       "        text-align: right;\n",
       "    }\n",
       "</style>\n",
       "<table border=\"1\" class=\"dataframe\">\n",
       "  <thead>\n",
       "    <tr style=\"text-align: right;\">\n",
       "      <th></th>\n",
       "      <th>model_name</th>\n",
       "      <th>RMSE</th>\n",
       "      <th>R-Squared</th>\n",
       "      <th>Adj. R-Squared</th>\n",
       "    </tr>\n",
       "  </thead>\n",
       "  <tbody>\n",
       "    <tr>\n",
       "      <th>0</th>\n",
       "      <td>OLS_WITH_LOG</td>\n",
       "      <td>1.161455</td>\n",
       "      <td>0.88672</td>\n",
       "      <td>0.878272</td>\n",
       "    </tr>\n",
       "    <tr>\n",
       "      <th>1</th>\n",
       "      <td>OLS WITHOUT LOG</td>\n",
       "      <td>1.429391</td>\n",
       "      <td>0.86825</td>\n",
       "      <td>0.858424</td>\n",
       "    </tr>\n",
       "  </tbody>\n",
       "</table>\n",
       "</div>"
      ],
      "text/plain": [
       "        model_name      RMSE  R-Squared  Adj. R-Squared\n",
       "0     OLS_WITH_LOG  1.161455    0.88672        0.878272\n",
       "1  OLS WITHOUT LOG  1.429391    0.86825        0.858424"
      ]
     },
     "execution_count": 64,
     "metadata": {},
     "output_type": "execute_result"
    }
   ],
   "source": [
    "result_tabulation"
   ]
  },
  {
   "cell_type": "markdown",
   "metadata": {},
   "source": [
    "# WITH VIF"
   ]
  },
  {
   "cell_type": "code",
   "execution_count": 65,
   "metadata": {},
   "outputs": [
    {
     "data": {
      "text/html": [
       "<div>\n",
       "<style scoped>\n",
       "    .dataframe tbody tr th:only-of-type {\n",
       "        vertical-align: middle;\n",
       "    }\n",
       "\n",
       "    .dataframe tbody tr th {\n",
       "        vertical-align: top;\n",
       "    }\n",
       "\n",
       "    .dataframe thead th {\n",
       "        text-align: right;\n",
       "    }\n",
       "</style>\n",
       "<table border=\"1\" class=\"dataframe\">\n",
       "  <thead>\n",
       "    <tr style=\"text-align: right;\">\n",
       "      <th></th>\n",
       "      <th>const</th>\n",
       "      <th>displacement</th>\n",
       "      <th>horsepower</th>\n",
       "      <th>weight</th>\n",
       "      <th>acceleration</th>\n",
       "      <th>Kilometer_per_liter</th>\n",
       "      <th>origin_2</th>\n",
       "      <th>origin_3</th>\n",
       "      <th>cylinders_4</th>\n",
       "      <th>cylinders_5</th>\n",
       "      <th>cylinders_6</th>\n",
       "      <th>cylinders_8</th>\n",
       "      <th>year_1971</th>\n",
       "      <th>year_1972</th>\n",
       "      <th>year_1973</th>\n",
       "      <th>year_1974</th>\n",
       "      <th>year_1975</th>\n",
       "      <th>year_1976</th>\n",
       "      <th>year_1977</th>\n",
       "      <th>year_1978</th>\n",
       "      <th>year_1979</th>\n",
       "      <th>year_1980</th>\n",
       "      <th>year_1981</th>\n",
       "      <th>year_1982</th>\n",
       "      <th>Kilometer_per_liter</th>\n",
       "    </tr>\n",
       "  </thead>\n",
       "  <tbody>\n",
       "    <tr>\n",
       "      <th>0</th>\n",
       "      <td>1.0</td>\n",
       "      <td>307.0</td>\n",
       "      <td>130.0</td>\n",
       "      <td>3504</td>\n",
       "      <td>12.0</td>\n",
       "      <td>7.652587</td>\n",
       "      <td>0</td>\n",
       "      <td>0</td>\n",
       "      <td>0</td>\n",
       "      <td>0</td>\n",
       "      <td>0</td>\n",
       "      <td>1</td>\n",
       "      <td>0</td>\n",
       "      <td>0</td>\n",
       "      <td>0</td>\n",
       "      <td>0</td>\n",
       "      <td>0</td>\n",
       "      <td>0</td>\n",
       "      <td>0</td>\n",
       "      <td>0</td>\n",
       "      <td>0</td>\n",
       "      <td>0</td>\n",
       "      <td>0</td>\n",
       "      <td>0</td>\n",
       "      <td>7.652587</td>\n",
       "    </tr>\n",
       "    <tr>\n",
       "      <th>1</th>\n",
       "      <td>1.0</td>\n",
       "      <td>350.0</td>\n",
       "      <td>165.0</td>\n",
       "      <td>3693</td>\n",
       "      <td>11.5</td>\n",
       "      <td>6.377156</td>\n",
       "      <td>0</td>\n",
       "      <td>0</td>\n",
       "      <td>0</td>\n",
       "      <td>0</td>\n",
       "      <td>0</td>\n",
       "      <td>1</td>\n",
       "      <td>0</td>\n",
       "      <td>0</td>\n",
       "      <td>0</td>\n",
       "      <td>0</td>\n",
       "      <td>0</td>\n",
       "      <td>0</td>\n",
       "      <td>0</td>\n",
       "      <td>0</td>\n",
       "      <td>0</td>\n",
       "      <td>0</td>\n",
       "      <td>0</td>\n",
       "      <td>0</td>\n",
       "      <td>6.377156</td>\n",
       "    </tr>\n",
       "    <tr>\n",
       "      <th>2</th>\n",
       "      <td>1.0</td>\n",
       "      <td>318.0</td>\n",
       "      <td>150.0</td>\n",
       "      <td>3436</td>\n",
       "      <td>11.0</td>\n",
       "      <td>7.652587</td>\n",
       "      <td>0</td>\n",
       "      <td>0</td>\n",
       "      <td>0</td>\n",
       "      <td>0</td>\n",
       "      <td>0</td>\n",
       "      <td>1</td>\n",
       "      <td>0</td>\n",
       "      <td>0</td>\n",
       "      <td>0</td>\n",
       "      <td>0</td>\n",
       "      <td>0</td>\n",
       "      <td>0</td>\n",
       "      <td>0</td>\n",
       "      <td>0</td>\n",
       "      <td>0</td>\n",
       "      <td>0</td>\n",
       "      <td>0</td>\n",
       "      <td>0</td>\n",
       "      <td>7.652587</td>\n",
       "    </tr>\n",
       "    <tr>\n",
       "      <th>3</th>\n",
       "      <td>1.0</td>\n",
       "      <td>304.0</td>\n",
       "      <td>150.0</td>\n",
       "      <td>3433</td>\n",
       "      <td>12.0</td>\n",
       "      <td>6.802299</td>\n",
       "      <td>0</td>\n",
       "      <td>0</td>\n",
       "      <td>0</td>\n",
       "      <td>0</td>\n",
       "      <td>0</td>\n",
       "      <td>1</td>\n",
       "      <td>0</td>\n",
       "      <td>0</td>\n",
       "      <td>0</td>\n",
       "      <td>0</td>\n",
       "      <td>0</td>\n",
       "      <td>0</td>\n",
       "      <td>0</td>\n",
       "      <td>0</td>\n",
       "      <td>0</td>\n",
       "      <td>0</td>\n",
       "      <td>0</td>\n",
       "      <td>0</td>\n",
       "      <td>6.802299</td>\n",
       "    </tr>\n",
       "    <tr>\n",
       "      <th>4</th>\n",
       "      <td>1.0</td>\n",
       "      <td>302.0</td>\n",
       "      <td>140.0</td>\n",
       "      <td>3449</td>\n",
       "      <td>10.5</td>\n",
       "      <td>7.227443</td>\n",
       "      <td>0</td>\n",
       "      <td>0</td>\n",
       "      <td>0</td>\n",
       "      <td>0</td>\n",
       "      <td>0</td>\n",
       "      <td>1</td>\n",
       "      <td>0</td>\n",
       "      <td>0</td>\n",
       "      <td>0</td>\n",
       "      <td>0</td>\n",
       "      <td>0</td>\n",
       "      <td>0</td>\n",
       "      <td>0</td>\n",
       "      <td>0</td>\n",
       "      <td>0</td>\n",
       "      <td>0</td>\n",
       "      <td>0</td>\n",
       "      <td>0</td>\n",
       "      <td>7.227443</td>\n",
       "    </tr>\n",
       "  </tbody>\n",
       "</table>\n",
       "</div>"
      ],
      "text/plain": [
       "   const  displacement  horsepower  weight  acceleration  Kilometer_per_liter  \\\n",
       "0    1.0         307.0       130.0    3504          12.0             7.652587   \n",
       "1    1.0         350.0       165.0    3693          11.5             6.377156   \n",
       "2    1.0         318.0       150.0    3436          11.0             7.652587   \n",
       "3    1.0         304.0       150.0    3433          12.0             6.802299   \n",
       "4    1.0         302.0       140.0    3449          10.5             7.227443   \n",
       "\n",
       "   origin_2  origin_3  cylinders_4  cylinders_5  cylinders_6  cylinders_8  \\\n",
       "0         0         0            0            0            0            1   \n",
       "1         0         0            0            0            0            1   \n",
       "2         0         0            0            0            0            1   \n",
       "3         0         0            0            0            0            1   \n",
       "4         0         0            0            0            0            1   \n",
       "\n",
       "   year_1971  year_1972  year_1973  year_1974  year_1975  year_1976  \\\n",
       "0          0          0          0          0          0          0   \n",
       "1          0          0          0          0          0          0   \n",
       "2          0          0          0          0          0          0   \n",
       "3          0          0          0          0          0          0   \n",
       "4          0          0          0          0          0          0   \n",
       "\n",
       "   year_1977  year_1978  year_1979  year_1980  year_1981  year_1982  \\\n",
       "0          0          0          0          0          0          0   \n",
       "1          0          0          0          0          0          0   \n",
       "2          0          0          0          0          0          0   \n",
       "3          0          0          0          0          0          0   \n",
       "4          0          0          0          0          0          0   \n",
       "\n",
       "   Kilometer_per_liter  \n",
       "0             7.652587  \n",
       "1             6.377156  \n",
       "2             7.652587  \n",
       "3             6.802299  \n",
       "4             7.227443  "
      ]
     },
     "execution_count": 65,
     "metadata": {},
     "output_type": "execute_result"
    }
   ],
   "source": [
    "veh_main.head()"
   ]
  },
  {
   "cell_type": "code",
   "execution_count": 66,
   "metadata": {},
   "outputs": [
    {
     "data": {
      "text/html": [
       "<div>\n",
       "<style scoped>\n",
       "    .dataframe tbody tr th:only-of-type {\n",
       "        vertical-align: middle;\n",
       "    }\n",
       "\n",
       "    .dataframe tbody tr th {\n",
       "        vertical-align: top;\n",
       "    }\n",
       "\n",
       "    .dataframe thead th {\n",
       "        text-align: right;\n",
       "    }\n",
       "</style>\n",
       "<table border=\"1\" class=\"dataframe\">\n",
       "  <thead>\n",
       "    <tr style=\"text-align: right;\">\n",
       "      <th></th>\n",
       "      <th>displacement</th>\n",
       "      <th>horsepower</th>\n",
       "      <th>weight</th>\n",
       "      <th>acceleration</th>\n",
       "      <th>Kilometer_per_liter</th>\n",
       "    </tr>\n",
       "  </thead>\n",
       "  <tbody>\n",
       "    <tr>\n",
       "      <th>0</th>\n",
       "      <td>307.0</td>\n",
       "      <td>130.0</td>\n",
       "      <td>3504</td>\n",
       "      <td>12.0</td>\n",
       "      <td>7.652587</td>\n",
       "    </tr>\n",
       "    <tr>\n",
       "      <th>1</th>\n",
       "      <td>350.0</td>\n",
       "      <td>165.0</td>\n",
       "      <td>3693</td>\n",
       "      <td>11.5</td>\n",
       "      <td>6.377156</td>\n",
       "    </tr>\n",
       "    <tr>\n",
       "      <th>2</th>\n",
       "      <td>318.0</td>\n",
       "      <td>150.0</td>\n",
       "      <td>3436</td>\n",
       "      <td>11.0</td>\n",
       "      <td>7.652587</td>\n",
       "    </tr>\n",
       "    <tr>\n",
       "      <th>3</th>\n",
       "      <td>304.0</td>\n",
       "      <td>150.0</td>\n",
       "      <td>3433</td>\n",
       "      <td>12.0</td>\n",
       "      <td>6.802299</td>\n",
       "    </tr>\n",
       "    <tr>\n",
       "      <th>4</th>\n",
       "      <td>302.0</td>\n",
       "      <td>140.0</td>\n",
       "      <td>3449</td>\n",
       "      <td>10.5</td>\n",
       "      <td>7.227443</td>\n",
       "    </tr>\n",
       "  </tbody>\n",
       "</table>\n",
       "</div>"
      ],
      "text/plain": [
       "   displacement  horsepower  weight  acceleration  Kilometer_per_liter\n",
       "0         307.0       130.0    3504          12.0             7.652587\n",
       "1         350.0       165.0    3693          11.5             6.377156\n",
       "2         318.0       150.0    3436          11.0             7.652587\n",
       "3         304.0       150.0    3433          12.0             6.802299\n",
       "4         302.0       140.0    3449          10.5             7.227443"
      ]
     },
     "execution_count": 66,
     "metadata": {},
     "output_type": "execute_result"
    }
   ],
   "source": [
    "vehicle_num.head()"
   ]
  },
  {
   "cell_type": "code",
   "execution_count": 67,
   "metadata": {},
   "outputs": [],
   "source": [
    "from statsmodels.stats.outliers_influence import variance_inflation_factor"
   ]
  },
  {
   "cell_type": "code",
   "execution_count": 68,
   "metadata": {},
   "outputs": [],
   "source": [
    "vehicle_num.drop('Kilometer_per_liter', axis=1,inplace=True)"
   ]
  },
  {
   "cell_type": "code",
   "execution_count": 69,
   "metadata": {},
   "outputs": [
    {
     "data": {
      "text/plain": [
       "4"
      ]
     },
     "execution_count": 69,
     "metadata": {},
     "output_type": "execute_result"
    }
   ],
   "source": [
    "vehicle_num.shape[1]"
   ]
  },
  {
   "cell_type": "code",
   "execution_count": 70,
   "metadata": {},
   "outputs": [
    {
     "data": {
      "application/javascript": [
       "\n",
       "        if (window._pyforest_update_imports_cell) { window._pyforest_update_imports_cell('import matplotlib.pyplot as plt\\nimport seaborn as sns\\nimport numpy as np\\nimport pandas as pd'); }\n",
       "    "
      ],
      "text/plain": [
       "<IPython.core.display.Javascript object>"
      ]
     },
     "metadata": {},
     "output_type": "display_data"
    },
    {
     "data": {
      "application/javascript": [
       "\n",
       "        if (window._pyforest_update_imports_cell) { window._pyforest_update_imports_cell('import matplotlib.pyplot as plt\\nimport seaborn as sns\\nimport numpy as np\\nimport pandas as pd'); }\n",
       "    "
      ],
      "text/plain": [
       "<IPython.core.display.Javascript object>"
      ]
     },
     "metadata": {},
     "output_type": "display_data"
    },
    {
     "data": {
      "application/javascript": [
       "\n",
       "        if (window._pyforest_update_imports_cell) { window._pyforest_update_imports_cell('import matplotlib.pyplot as plt\\nimport seaborn as sns\\nimport numpy as np\\nimport pandas as pd'); }\n",
       "    "
      ],
      "text/plain": [
       "<IPython.core.display.Javascript object>"
      ]
     },
     "metadata": {},
     "output_type": "display_data"
    },
    {
     "name": "stdout",
     "output_type": "stream",
     "text": [
      "       features  vif_value\n",
      "0  displacement   3.085497\n",
      "1  acceleration   3.085497\n"
     ]
    }
   ],
   "source": [
    "for ind in range(len(vehicle_num.columns)):\n",
    "    vif=pd.DataFrame()\n",
    "    vif['features']=vehicle_num.columns\n",
    "    vif['vif_value']=[variance_inflation_factor(vehicle_num.values,i) for i in range(vehicle_num.shape[1])]\n",
    "    multi = vif[vif['vif_value'] > 10]\n",
    "    if(multi.empty == False):\n",
    "        df_sorted = multi.sort_values(by ='vif_value',ascending = False)\n",
    "    else:\n",
    "        print(vif)\n",
    "        break      \n",
    "    if (df_sorted.empty == False):\n",
    "        vehicle_num = vehicle_num.drop(df_sorted.features.iloc[0],axis=1)\n",
    "    else:\n",
    "        print(vif)"
   ]
  },
  {
   "cell_type": "code",
   "execution_count": 71,
   "metadata": {},
   "outputs": [
    {
     "data": {
      "application/javascript": [
       "\n",
       "        if (window._pyforest_update_imports_cell) { window._pyforest_update_imports_cell('import matplotlib.pyplot as plt\\nimport seaborn as sns\\nimport numpy as np\\nimport pandas as pd'); }\n",
       "    "
      ],
      "text/plain": [
       "<IPython.core.display.Javascript object>"
      ]
     },
     "metadata": {},
     "output_type": "display_data"
    }
   ],
   "source": [
    "x=pd.concat([vehicle_num[['displacement','acceleration']],cat_dum],axis=1)\n",
    "y=vehicle['Kilometer_per_liter']"
   ]
  },
  {
   "cell_type": "code",
   "execution_count": 72,
   "metadata": {},
   "outputs": [],
   "source": [
    "x = sm.add_constant(x)\n",
    "from sklearn.model_selection import train_test_split\n",
    "x_train,x_test,y_train,y_test=train_test_split(x,y,test_size=0.2,random_state=0)\n"
   ]
  },
  {
   "cell_type": "code",
   "execution_count": 73,
   "metadata": {
    "scrolled": true
   },
   "outputs": [
    {
     "data": {
      "text/html": [
       "<table class=\"simpletable\">\n",
       "<caption>OLS Regression Results</caption>\n",
       "<tr>\n",
       "  <th>Dep. Variable:</th>    <td>Kilometer_per_liter</td> <th>  R-squared:         </th> <td>   0.815</td>\n",
       "</tr>\n",
       "<tr>\n",
       "  <th>Model:</th>                    <td>OLS</td>         <th>  Adj. R-squared:    </th> <td>   0.802</td>\n",
       "</tr>\n",
       "<tr>\n",
       "  <th>Method:</th>              <td>Least Squares</td>    <th>  F-statistic:       </th> <td>   65.28</td>\n",
       "</tr>\n",
       "<tr>\n",
       "  <th>Date:</th>              <td>Fri, 01 Jan 2021</td>   <th>  Prob (F-statistic):</th> <td>4.08e-96</td>\n",
       "</tr>\n",
       "<tr>\n",
       "  <th>Time:</th>                  <td>18:46:39</td>       <th>  Log-Likelihood:    </th> <td> -562.97</td>\n",
       "</tr>\n",
       "<tr>\n",
       "  <th>No. Observations:</th>       <td>   318</td>        <th>  AIC:               </th> <td>   1168.</td>\n",
       "</tr>\n",
       "<tr>\n",
       "  <th>Df Residuals:</th>           <td>   297</td>        <th>  BIC:               </th> <td>   1247.</td>\n",
       "</tr>\n",
       "<tr>\n",
       "  <th>Df Model:</th>               <td>    20</td>        <th>                     </th>     <td> </td>   \n",
       "</tr>\n",
       "<tr>\n",
       "  <th>Covariance Type:</th>       <td>nonrobust</td>      <th>                     </th>     <td> </td>   \n",
       "</tr>\n",
       "</table>\n",
       "<table class=\"simpletable\">\n",
       "<tr>\n",
       "        <td></td>          <th>coef</th>     <th>std err</th>      <th>t</th>      <th>P>|t|</th>  <th>[0.025</th>    <th>0.975]</th>  \n",
       "</tr>\n",
       "<tr>\n",
       "  <th>const</th>        <td>    8.1932</td> <td>    1.170</td> <td>    7.004</td> <td> 0.000</td> <td>    5.891</td> <td>   10.495</td>\n",
       "</tr>\n",
       "<tr>\n",
       "  <th>displacement</th> <td>   -0.0183</td> <td>    0.003</td> <td>   -6.190</td> <td> 0.000</td> <td>   -0.024</td> <td>   -0.012</td>\n",
       "</tr>\n",
       "<tr>\n",
       "  <th>acceleration</th> <td>    0.0196</td> <td>    0.039</td> <td>    0.502</td> <td> 0.616</td> <td>   -0.057</td> <td>    0.096</td>\n",
       "</tr>\n",
       "<tr>\n",
       "  <th>origin_2</th>     <td>    0.4646</td> <td>    0.287</td> <td>    1.619</td> <td> 0.107</td> <td>   -0.100</td> <td>    1.029</td>\n",
       "</tr>\n",
       "<tr>\n",
       "  <th>origin_3</th>     <td>    1.1274</td> <td>    0.279</td> <td>    4.048</td> <td> 0.000</td> <td>    0.579</td> <td>    1.676</td>\n",
       "</tr>\n",
       "<tr>\n",
       "  <th>cylinders_4</th>  <td>    4.0175</td> <td>    0.899</td> <td>    4.467</td> <td> 0.000</td> <td>    2.248</td> <td>    5.787</td>\n",
       "</tr>\n",
       "<tr>\n",
       "  <th>cylinders_5</th>  <td>    3.3258</td> <td>    1.294</td> <td>    2.570</td> <td> 0.011</td> <td>    0.779</td> <td>    5.873</td>\n",
       "</tr>\n",
       "<tr>\n",
       "  <th>cylinders_6</th>  <td>    3.1234</td> <td>    0.993</td> <td>    3.146</td> <td> 0.002</td> <td>    1.170</td> <td>    5.077</td>\n",
       "</tr>\n",
       "<tr>\n",
       "  <th>cylinders_8</th>  <td>    3.9803</td> <td>    1.146</td> <td>    3.473</td> <td> 0.001</td> <td>    1.725</td> <td>    6.236</td>\n",
       "</tr>\n",
       "<tr>\n",
       "  <th>year_1971</th>    <td>    0.2586</td> <td>    0.465</td> <td>    0.555</td> <td> 0.579</td> <td>   -0.657</td> <td>    1.175</td>\n",
       "</tr>\n",
       "<tr>\n",
       "  <th>year_1972</th>    <td>   -0.4254</td> <td>    0.479</td> <td>   -0.887</td> <td> 0.376</td> <td>   -1.369</td> <td>    0.518</td>\n",
       "</tr>\n",
       "<tr>\n",
       "  <th>year_1973</th>    <td>   -0.4744</td> <td>    0.434</td> <td>   -1.093</td> <td> 0.275</td> <td>   -1.329</td> <td>    0.380</td>\n",
       "</tr>\n",
       "<tr>\n",
       "  <th>year_1974</th>    <td>    0.0645</td> <td>    0.483</td> <td>    0.134</td> <td> 0.894</td> <td>   -0.886</td> <td>    1.015</td>\n",
       "</tr>\n",
       "<tr>\n",
       "  <th>year_1975</th>    <td>    0.0633</td> <td>    0.476</td> <td>    0.133</td> <td> 0.894</td> <td>   -0.873</td> <td>    1.000</td>\n",
       "</tr>\n",
       "<tr>\n",
       "  <th>year_1976</th>    <td>    0.1627</td> <td>    0.451</td> <td>    0.361</td> <td> 0.719</td> <td>   -0.725</td> <td>    1.051</td>\n",
       "</tr>\n",
       "<tr>\n",
       "  <th>year_1977</th>    <td>    1.0386</td> <td>    0.473</td> <td>    2.196</td> <td> 0.029</td> <td>    0.108</td> <td>    1.969</td>\n",
       "</tr>\n",
       "<tr>\n",
       "  <th>year_1978</th>    <td>    0.8137</td> <td>    0.443</td> <td>    1.836</td> <td> 0.067</td> <td>   -0.059</td> <td>    1.686</td>\n",
       "</tr>\n",
       "<tr>\n",
       "  <th>year_1979</th>    <td>    1.7236</td> <td>    0.481</td> <td>    3.584</td> <td> 0.000</td> <td>    0.777</td> <td>    2.670</td>\n",
       "</tr>\n",
       "<tr>\n",
       "  <th>year_1980</th>    <td>    3.2752</td> <td>    0.486</td> <td>    6.737</td> <td> 0.000</td> <td>    2.318</td> <td>    4.232</td>\n",
       "</tr>\n",
       "<tr>\n",
       "  <th>year_1981</th>    <td>    2.7487</td> <td>    0.486</td> <td>    5.653</td> <td> 0.000</td> <td>    1.792</td> <td>    3.706</td>\n",
       "</tr>\n",
       "<tr>\n",
       "  <th>year_1982</th>    <td>    2.9853</td> <td>    0.481</td> <td>    6.204</td> <td> 0.000</td> <td>    2.038</td> <td>    3.932</td>\n",
       "</tr>\n",
       "</table>\n",
       "<table class=\"simpletable\">\n",
       "<tr>\n",
       "  <th>Omnibus:</th>       <td>40.829</td> <th>  Durbin-Watson:     </th> <td>   1.835</td>\n",
       "</tr>\n",
       "<tr>\n",
       "  <th>Prob(Omnibus):</th> <td> 0.000</td> <th>  Jarque-Bera (JB):  </th> <td>  85.005</td>\n",
       "</tr>\n",
       "<tr>\n",
       "  <th>Skew:</th>          <td> 0.676</td> <th>  Prob(JB):          </th> <td>3.48e-19</td>\n",
       "</tr>\n",
       "<tr>\n",
       "  <th>Kurtosis:</th>      <td> 5.142</td> <th>  Cond. No.          </th> <td>5.57e+03</td>\n",
       "</tr>\n",
       "</table><br/><br/>Warnings:<br/>[1] Standard Errors assume that the covariance matrix of the errors is correctly specified.<br/>[2] The condition number is large, 5.57e+03. This might indicate that there are<br/>strong multicollinearity or other numerical problems."
      ],
      "text/plain": [
       "<class 'statsmodels.iolib.summary.Summary'>\n",
       "\"\"\"\n",
       "                             OLS Regression Results                            \n",
       "===============================================================================\n",
       "Dep. Variable:     Kilometer_per_liter   R-squared:                       0.815\n",
       "Model:                             OLS   Adj. R-squared:                  0.802\n",
       "Method:                  Least Squares   F-statistic:                     65.28\n",
       "Date:                 Fri, 01 Jan 2021   Prob (F-statistic):           4.08e-96\n",
       "Time:                         18:46:39   Log-Likelihood:                -562.97\n",
       "No. Observations:                  318   AIC:                             1168.\n",
       "Df Residuals:                      297   BIC:                             1247.\n",
       "Df Model:                           20                                         \n",
       "Covariance Type:             nonrobust                                         \n",
       "================================================================================\n",
       "                   coef    std err          t      P>|t|      [0.025      0.975]\n",
       "--------------------------------------------------------------------------------\n",
       "const            8.1932      1.170      7.004      0.000       5.891      10.495\n",
       "displacement    -0.0183      0.003     -6.190      0.000      -0.024      -0.012\n",
       "acceleration     0.0196      0.039      0.502      0.616      -0.057       0.096\n",
       "origin_2         0.4646      0.287      1.619      0.107      -0.100       1.029\n",
       "origin_3         1.1274      0.279      4.048      0.000       0.579       1.676\n",
       "cylinders_4      4.0175      0.899      4.467      0.000       2.248       5.787\n",
       "cylinders_5      3.3258      1.294      2.570      0.011       0.779       5.873\n",
       "cylinders_6      3.1234      0.993      3.146      0.002       1.170       5.077\n",
       "cylinders_8      3.9803      1.146      3.473      0.001       1.725       6.236\n",
       "year_1971        0.2586      0.465      0.555      0.579      -0.657       1.175\n",
       "year_1972       -0.4254      0.479     -0.887      0.376      -1.369       0.518\n",
       "year_1973       -0.4744      0.434     -1.093      0.275      -1.329       0.380\n",
       "year_1974        0.0645      0.483      0.134      0.894      -0.886       1.015\n",
       "year_1975        0.0633      0.476      0.133      0.894      -0.873       1.000\n",
       "year_1976        0.1627      0.451      0.361      0.719      -0.725       1.051\n",
       "year_1977        1.0386      0.473      2.196      0.029       0.108       1.969\n",
       "year_1978        0.8137      0.443      1.836      0.067      -0.059       1.686\n",
       "year_1979        1.7236      0.481      3.584      0.000       0.777       2.670\n",
       "year_1980        3.2752      0.486      6.737      0.000       2.318       4.232\n",
       "year_1981        2.7487      0.486      5.653      0.000       1.792       3.706\n",
       "year_1982        2.9853      0.481      6.204      0.000       2.038       3.932\n",
       "==============================================================================\n",
       "Omnibus:                       40.829   Durbin-Watson:                   1.835\n",
       "Prob(Omnibus):                  0.000   Jarque-Bera (JB):               85.005\n",
       "Skew:                           0.676   Prob(JB):                     3.48e-19\n",
       "Kurtosis:                       5.142   Cond. No.                     5.57e+03\n",
       "==============================================================================\n",
       "\n",
       "Warnings:\n",
       "[1] Standard Errors assume that the covariance matrix of the errors is correctly specified.\n",
       "[2] The condition number is large, 5.57e+03. This might indicate that there are\n",
       "strong multicollinearity or other numerical problems.\n",
       "\"\"\""
      ]
     },
     "execution_count": 73,
     "metadata": {},
     "output_type": "execute_result"
    }
   ],
   "source": [
    "ols_with_vif=sm.OLS(y_train,x_train).fit()\n",
    "ols_with_vif.summary()"
   ]
  },
  {
   "cell_type": "code",
   "execution_count": 74,
   "metadata": {},
   "outputs": [],
   "source": [
    "y_pred=ols_with_vif.predict(x_test)"
   ]
  },
  {
   "cell_type": "code",
   "execution_count": 75,
   "metadata": {},
   "outputs": [
    {
     "data": {
      "application/javascript": [
       "\n",
       "        if (window._pyforest_update_imports_cell) { window._pyforest_update_imports_cell('import matplotlib.pyplot as plt\\nimport seaborn as sns\\nimport numpy as np\\nimport pandas as pd'); }\n",
       "    "
      ],
      "text/plain": [
       "<IPython.core.display.Javascript object>"
      ]
     },
     "metadata": {},
     "output_type": "display_data"
    }
   ],
   "source": [
    "result_tabulation=result_tabulation.append(models(ols_with_vif,y_pred,'OLS_WITH_VIF'),ignore_index=True)"
   ]
  },
  {
   "cell_type": "code",
   "execution_count": 76,
   "metadata": {},
   "outputs": [
    {
     "data": {
      "text/html": [
       "<div>\n",
       "<style scoped>\n",
       "    .dataframe tbody tr th:only-of-type {\n",
       "        vertical-align: middle;\n",
       "    }\n",
       "\n",
       "    .dataframe tbody tr th {\n",
       "        vertical-align: top;\n",
       "    }\n",
       "\n",
       "    .dataframe thead th {\n",
       "        text-align: right;\n",
       "    }\n",
       "</style>\n",
       "<table border=\"1\" class=\"dataframe\">\n",
       "  <thead>\n",
       "    <tr style=\"text-align: right;\">\n",
       "      <th></th>\n",
       "      <th>model_name</th>\n",
       "      <th>RMSE</th>\n",
       "      <th>R-Squared</th>\n",
       "      <th>Adj. R-Squared</th>\n",
       "    </tr>\n",
       "  </thead>\n",
       "  <tbody>\n",
       "    <tr>\n",
       "      <th>0</th>\n",
       "      <td>OLS_WITH_LOG</td>\n",
       "      <td>1.161455</td>\n",
       "      <td>0.886720</td>\n",
       "      <td>0.878272</td>\n",
       "    </tr>\n",
       "    <tr>\n",
       "      <th>1</th>\n",
       "      <td>OLS WITHOUT LOG</td>\n",
       "      <td>1.429391</td>\n",
       "      <td>0.868250</td>\n",
       "      <td>0.858424</td>\n",
       "    </tr>\n",
       "    <tr>\n",
       "      <th>2</th>\n",
       "      <td>OLS_WITH_VIF</td>\n",
       "      <td>1.877871</td>\n",
       "      <td>0.814668</td>\n",
       "      <td>0.802187</td>\n",
       "    </tr>\n",
       "  </tbody>\n",
       "</table>\n",
       "</div>"
      ],
      "text/plain": [
       "        model_name      RMSE  R-Squared  Adj. R-Squared\n",
       "0     OLS_WITH_LOG  1.161455   0.886720        0.878272\n",
       "1  OLS WITHOUT LOG  1.429391   0.868250        0.858424\n",
       "2     OLS_WITH_VIF  1.877871   0.814668        0.802187"
      ]
     },
     "execution_count": 76,
     "metadata": {},
     "output_type": "execute_result"
    }
   ],
   "source": [
    "result_tabulation"
   ]
  },
  {
   "cell_type": "markdown",
   "metadata": {},
   "source": [
    "#  FORWARD FEATURE SELECTION MODEL"
   ]
  },
  {
   "cell_type": "code",
   "execution_count": 77,
   "metadata": {},
   "outputs": [],
   "source": [
    "from sklearn.linear_model import LinearRegression"
   ]
  },
  {
   "cell_type": "code",
   "execution_count": 78,
   "metadata": {},
   "outputs": [
    {
     "data": {
      "application/javascript": [
       "\n",
       "        if (window._pyforest_update_imports_cell) { window._pyforest_update_imports_cell('import matplotlib.pyplot as plt\\nimport seaborn as sns\\nimport numpy as np\\nimport pandas as pd'); }\n",
       "    "
      ],
      "text/plain": [
       "<IPython.core.display.Javascript object>"
      ]
     },
     "metadata": {},
     "output_type": "display_data"
    }
   ],
   "source": [
    "x=pd.concat([vehicle_num[['displacement','acceleration']],cat_dum],axis=1)\n",
    "y=vehicle['Kilometer_per_liter']"
   ]
  },
  {
   "cell_type": "code",
   "execution_count": 79,
   "metadata": {},
   "outputs": [],
   "source": [
    "from sklearn.model_selection import train_test_split\n",
    "x_train,x_test,y_train,y_test=train_test_split(x,y,test_size=0.2,random_state=0)"
   ]
  },
  {
   "cell_type": "code",
   "execution_count": 80,
   "metadata": {},
   "outputs": [
    {
     "name": "stderr",
     "output_type": "stream",
     "text": [
      "[Parallel(n_jobs=-1)]: Using backend LokyBackend with 4 concurrent workers.\n",
      "[Parallel(n_jobs=-1)]: Done  20 out of  20 | elapsed:    5.5s finished\n",
      "\n",
      "[2021-01-01 18:46:45] Features: 1/20 -- score: 0.6292760715204802[Parallel(n_jobs=-1)]: Using backend LokyBackend with 4 concurrent workers.\n",
      "[Parallel(n_jobs=-1)]: Done  12 out of  19 | elapsed:    0.0s remaining:    0.0s\n",
      "[Parallel(n_jobs=-1)]: Done  19 out of  19 | elapsed:    0.1s finished\n",
      "\n",
      "[2021-01-01 18:46:45] Features: 2/20 -- score: 0.6659889198024928[Parallel(n_jobs=-1)]: Using backend LokyBackend with 4 concurrent workers.\n",
      "[Parallel(n_jobs=-1)]: Done  18 out of  18 | elapsed:    0.1s finished\n",
      "\n",
      "[2021-01-01 18:46:45] Features: 3/20 -- score: 0.7026128505958208[Parallel(n_jobs=-1)]: Using backend LokyBackend with 4 concurrent workers.\n",
      "[Parallel(n_jobs=-1)]: Done  10 out of  17 | elapsed:    0.1s remaining:    0.0s\n",
      "[Parallel(n_jobs=-1)]: Done  17 out of  17 | elapsed:    0.1s finished\n",
      "\n",
      "[2021-01-01 18:46:45] Features: 4/20 -- score: 0.7411430734586832[Parallel(n_jobs=-1)]: Using backend LokyBackend with 4 concurrent workers.\n",
      "[Parallel(n_jobs=-1)]: Done  16 out of  16 | elapsed:    0.0s finished\n",
      "\n",
      "[2021-01-01 18:46:45] Features: 5/20 -- score: 0.7522597875830112[Parallel(n_jobs=-1)]: Using backend LokyBackend with 4 concurrent workers.\n",
      "[Parallel(n_jobs=-1)]: Done  15 out of  15 | elapsed:    0.1s finished\n",
      "\n",
      "[2021-01-01 18:46:45] Features: 6/20 -- score: 0.7631293247236803[Parallel(n_jobs=-1)]: Using backend LokyBackend with 4 concurrent workers.\n",
      "[Parallel(n_jobs=-1)]: Done  14 out of  14 | elapsed:    0.0s finished\n",
      "\n",
      "[2021-01-01 18:46:46] Features: 7/20 -- score: 0.7710050311883806[Parallel(n_jobs=-1)]: Using backend LokyBackend with 4 concurrent workers.\n",
      "[Parallel(n_jobs=-1)]: Done  13 out of  13 | elapsed:    0.0s remaining:    0.0s\n",
      "[Parallel(n_jobs=-1)]: Done  13 out of  13 | elapsed:    0.0s finished\n",
      "\n",
      "[2021-01-01 18:46:46] Features: 8/20 -- score: 0.7758246006378394[Parallel(n_jobs=-1)]: Using backend LokyBackend with 4 concurrent workers.\n",
      "[Parallel(n_jobs=-1)]: Done  12 out of  12 | elapsed:    0.0s remaining:    0.0s\n",
      "[Parallel(n_jobs=-1)]: Done  12 out of  12 | elapsed:    0.0s finished\n",
      "\n",
      "[2021-01-01 18:46:46] Features: 9/20 -- score: 0.7796955530381997[Parallel(n_jobs=-1)]: Using backend LokyBackend with 4 concurrent workers.\n",
      "[Parallel(n_jobs=-1)]: Done  11 out of  11 | elapsed:    0.0s finished\n",
      "\n",
      "[2021-01-01 18:46:46] Features: 10/20 -- score: 0.7823056427195023[Parallel(n_jobs=-1)]: Using backend LokyBackend with 4 concurrent workers.\n",
      "[Parallel(n_jobs=-1)]: Done  10 out of  10 | elapsed:    0.0s finished\n",
      "\n",
      "[2021-01-01 18:46:46] Features: 11/20 -- score: 0.7835562306756111[Parallel(n_jobs=-1)]: Using backend LokyBackend with 4 concurrent workers.\n",
      "[Parallel(n_jobs=-1)]: Done   7 out of   9 | elapsed:    0.0s remaining:    0.0s\n",
      "[Parallel(n_jobs=-1)]: Done   9 out of   9 | elapsed:    0.0s finished\n",
      "\n",
      "[2021-01-01 18:46:46] Features: 12/20 -- score: 0.7853573411660306[Parallel(n_jobs=-1)]: Using backend LokyBackend with 4 concurrent workers.\n",
      "[Parallel(n_jobs=-1)]: Done   6 out of   8 | elapsed:    0.0s remaining:    0.0s\n",
      "[Parallel(n_jobs=-1)]: Done   8 out of   8 | elapsed:    0.0s finished\n",
      "\n",
      "[2021-01-01 18:46:46] Features: 13/20 -- score: 0.7858286540203467[Parallel(n_jobs=-1)]: Using backend LokyBackend with 4 concurrent workers.\n",
      "[Parallel(n_jobs=-1)]: Done   4 out of   7 | elapsed:    0.0s remaining:    0.0s\n",
      "[Parallel(n_jobs=-1)]: Done   7 out of   7 | elapsed:    0.0s finished\n",
      "\n",
      "[2021-01-01 18:46:46] Features: 14/20 -- score: 0.7856416941994547[Parallel(n_jobs=-1)]: Using backend LokyBackend with 4 concurrent workers.\n",
      "[Parallel(n_jobs=-1)]: Done   3 out of   6 | elapsed:    0.0s remaining:    0.0s\n",
      "[Parallel(n_jobs=-1)]: Done   6 out of   6 | elapsed:    0.0s finished\n",
      "\n",
      "[2021-01-01 18:46:47] Features: 15/20 -- score: 0.7853185167098622[Parallel(n_jobs=-1)]: Using backend LokyBackend with 4 concurrent workers.\n",
      "[Parallel(n_jobs=-1)]: Done   5 out of   5 | elapsed:    0.0s finished\n",
      "\n",
      "[2021-01-01 18:46:47] Features: 16/20 -- score: 0.7848848832674195[Parallel(n_jobs=-1)]: Using backend LokyBackend with 4 concurrent workers.\n",
      "[Parallel(n_jobs=-1)]: Done   4 out of   4 | elapsed:    0.0s finished\n",
      "\n",
      "[2021-01-01 18:46:47] Features: 17/20 -- score: 0.784003086929548[Parallel(n_jobs=-1)]: Using backend LokyBackend with 4 concurrent workers.\n",
      "[Parallel(n_jobs=-1)]: Done   3 out of   3 | elapsed:    0.0s finished\n",
      "\n",
      "[2021-01-01 18:46:47] Features: 18/20 -- score: 0.7891559327886168[Parallel(n_jobs=-1)]: Using backend LokyBackend with 4 concurrent workers.\n",
      "[Parallel(n_jobs=-1)]: Done   2 out of   2 | elapsed:    0.0s finished\n",
      "\n",
      "[2021-01-01 18:46:47] Features: 19/20 -- score: 0.7873175745518475[Parallel(n_jobs=-1)]: Using backend LokyBackend with 4 concurrent workers.\n",
      "[Parallel(n_jobs=-1)]: Done   1 out of   1 | elapsed:    0.0s finished\n",
      "\n",
      "[2021-01-01 18:46:47] Features: 20/20 -- score: 0.7852829591683627"
     ]
    }
   ],
   "source": [
    "from mlxtend.feature_selection import SequentialFeatureSelector as sfs\n",
    "linreg=LinearRegression()\n",
    "lin_for=sfs(estimator=linreg,k_features='best',forward=True,verbose=2,scoring='r2',n_jobs=-1)\n",
    "sfs_forward=lin_for.fit(x_train,y_train)\n"
   ]
  },
  {
   "cell_type": "code",
   "execution_count": 81,
   "metadata": {},
   "outputs": [
    {
     "data": {
      "text/plain": [
       "('displacement',\n",
       " 'origin_2',\n",
       " 'origin_3',\n",
       " 'cylinders_4',\n",
       " 'cylinders_5',\n",
       " 'cylinders_6',\n",
       " 'cylinders_8',\n",
       " 'year_1971',\n",
       " 'year_1972',\n",
       " 'year_1973',\n",
       " 'year_1974',\n",
       " 'year_1975',\n",
       " 'year_1977',\n",
       " 'year_1978',\n",
       " 'year_1979',\n",
       " 'year_1980',\n",
       " 'year_1981',\n",
       " 'year_1982')"
      ]
     },
     "execution_count": 81,
     "metadata": {},
     "output_type": "execute_result"
    }
   ],
   "source": [
    "sfs_forward.k_feature_names_"
   ]
  },
  {
   "cell_type": "code",
   "execution_count": 82,
   "metadata": {},
   "outputs": [],
   "source": [
    "x=x[['displacement',\n",
    " 'origin_2',\n",
    " 'origin_3',\n",
    " 'cylinders_4',\n",
    " 'cylinders_5',\n",
    " 'cylinders_6',\n",
    " 'cylinders_8',\n",
    " 'year_1971',\n",
    " 'year_1972',\n",
    " 'year_1973',\n",
    " 'year_1974',\n",
    " 'year_1975',\n",
    " 'year_1977',\n",
    " 'year_1978',\n",
    " 'year_1979',\n",
    " 'year_1980',\n",
    " 'year_1981',\n",
    " 'year_1982']]\n",
    "y=vehicle['Kilometer_per_liter']"
   ]
  },
  {
   "cell_type": "code",
   "execution_count": 83,
   "metadata": {},
   "outputs": [],
   "source": [
    "x = sm.add_constant(x)\n",
    "from sklearn.model_selection import train_test_split\n",
    "x_train,x_test,y_train,y_test=train_test_split(x,y,test_size=0.2,random_state=0)\n"
   ]
  },
  {
   "cell_type": "code",
   "execution_count": 84,
   "metadata": {},
   "outputs": [],
   "source": [
    "ols_sfs=sm.OLS(y_train,x_train).fit()\n",
    "ols_sfs.summary()\n",
    "y_pred=ols_sfs.predict(x_test)"
   ]
  },
  {
   "cell_type": "code",
   "execution_count": 85,
   "metadata": {},
   "outputs": [
    {
     "data": {
      "application/javascript": [
       "\n",
       "        if (window._pyforest_update_imports_cell) { window._pyforest_update_imports_cell('import matplotlib.pyplot as plt\\nimport seaborn as sns\\nimport numpy as np\\nimport pandas as pd'); }\n",
       "    "
      ],
      "text/plain": [
       "<IPython.core.display.Javascript object>"
      ]
     },
     "metadata": {},
     "output_type": "display_data"
    }
   ],
   "source": [
    "result_tabulation=result_tabulation.append(models(ols_sfs,y_pred,'OLS WITH FORWARD FS'),ignore_index=True)"
   ]
  },
  {
   "cell_type": "markdown",
   "metadata": {},
   "source": [
    "#  BACKWARD FEATURE SELECTION MODEL\n"
   ]
  },
  {
   "cell_type": "code",
   "execution_count": 86,
   "metadata": {},
   "outputs": [
    {
     "name": "stderr",
     "output_type": "stream",
     "text": [
      "[Parallel(n_jobs=-1)]: Using backend LokyBackend with 4 concurrent workers.\n",
      "[Parallel(n_jobs=-1)]: Done  12 out of  19 | elapsed:    0.1s remaining:    0.0s\n",
      "[Parallel(n_jobs=-1)]: Done  19 out of  19 | elapsed:    0.1s finished\n",
      "\n",
      "[2021-01-01 18:46:47] Features: 18/1 -- score: 0.7896825970480346[Parallel(n_jobs=-1)]: Using backend LokyBackend with 4 concurrent workers.\n",
      "[Parallel(n_jobs=-1)]: Done  18 out of  18 | elapsed:    0.1s finished\n",
      "\n",
      "[2021-01-01 18:46:47] Features: 17/1 -- score: 0.7899358903673827[Parallel(n_jobs=-1)]: Using backend LokyBackend with 4 concurrent workers.\n",
      "[Parallel(n_jobs=-1)]: Done  17 out of  17 | elapsed:    0.1s finished\n",
      "\n",
      "[2021-01-01 18:46:48] Features: 16/1 -- score: 0.7899751288815962[Parallel(n_jobs=-1)]: Using backend LokyBackend with 4 concurrent workers.\n",
      "[Parallel(n_jobs=-1)]: Done  16 out of  16 | elapsed:    0.1s finished\n",
      "\n",
      "[2021-01-01 18:46:48] Features: 15/1 -- score: 0.7899751288815967[Parallel(n_jobs=-1)]: Using backend LokyBackend with 4 concurrent workers.\n",
      "[Parallel(n_jobs=-1)]: Done  15 out of  15 | elapsed:    0.1s finished\n",
      "\n",
      "[2021-01-01 18:46:48] Features: 14/1 -- score: 0.7893346148964943[Parallel(n_jobs=-1)]: Using backend LokyBackend with 4 concurrent workers.\n",
      "[Parallel(n_jobs=-1)]: Done  14 out of  14 | elapsed:    0.1s finished\n",
      "\n",
      "[2021-01-01 18:46:48] Features: 13/1 -- score: 0.7886638351916011[Parallel(n_jobs=-1)]: Using backend LokyBackend with 4 concurrent workers.\n",
      "[Parallel(n_jobs=-1)]: Done  13 out of  13 | elapsed:    0.1s remaining:    0.0s\n",
      "[Parallel(n_jobs=-1)]: Done  13 out of  13 | elapsed:    0.1s finished\n",
      "\n",
      "[2021-01-01 18:46:48] Features: 12/1 -- score: 0.787442767495645[Parallel(n_jobs=-1)]: Using backend LokyBackend with 4 concurrent workers.\n",
      "[Parallel(n_jobs=-1)]: Done  12 out of  12 | elapsed:    0.0s remaining:    0.0s\n",
      "[Parallel(n_jobs=-1)]: Done  12 out of  12 | elapsed:    0.1s finished\n",
      "\n",
      "[2021-01-01 18:46:49] Features: 11/1 -- score: 0.783713246504066[Parallel(n_jobs=-1)]: Using backend LokyBackend with 4 concurrent workers.\n",
      "[Parallel(n_jobs=-1)]: Done  11 out of  11 | elapsed:    0.1s finished\n",
      "\n",
      "[2021-01-01 18:46:49] Features: 10/1 -- score: 0.7782970472305593[Parallel(n_jobs=-1)]: Using backend LokyBackend with 4 concurrent workers.\n",
      "[Parallel(n_jobs=-1)]: Done   3 out of  10 | elapsed:    0.0s remaining:    0.1s\n",
      "[Parallel(n_jobs=-1)]: Done  10 out of  10 | elapsed:    0.1s finished\n",
      "\n",
      "[2021-01-01 18:46:49] Features: 9/1 -- score: 0.7695172261371857[Parallel(n_jobs=-1)]: Using backend LokyBackend with 4 concurrent workers.\n",
      "[Parallel(n_jobs=-1)]: Done   7 out of   9 | elapsed:    0.0s remaining:    0.0s\n",
      "[Parallel(n_jobs=-1)]: Done   9 out of   9 | elapsed:    0.0s finished\n",
      "\n",
      "[2021-01-01 18:46:49] Features: 8/1 -- score: 0.7717137444490139[Parallel(n_jobs=-1)]: Using backend LokyBackend with 4 concurrent workers.\n",
      "[Parallel(n_jobs=-1)]: Done   6 out of   8 | elapsed:    0.0s remaining:    0.0s\n",
      "[Parallel(n_jobs=-1)]: Done   8 out of   8 | elapsed:    0.0s finished\n",
      "\n",
      "[2021-01-01 18:46:49] Features: 7/1 -- score: 0.7710050311883806[Parallel(n_jobs=-1)]: Using backend LokyBackend with 4 concurrent workers.\n",
      "[Parallel(n_jobs=-1)]: Done   4 out of   7 | elapsed:    0.0s remaining:    0.0s\n",
      "[Parallel(n_jobs=-1)]: Done   7 out of   7 | elapsed:    0.0s finished\n",
      "\n",
      "[2021-01-01 18:46:49] Features: 6/1 -- score: 0.7631293247236803[Parallel(n_jobs=-1)]: Using backend LokyBackend with 4 concurrent workers.\n",
      "[Parallel(n_jobs=-1)]: Done   3 out of   6 | elapsed:    0.0s remaining:    0.0s\n",
      "[Parallel(n_jobs=-1)]: Done   6 out of   6 | elapsed:    0.0s finished\n",
      "\n",
      "[2021-01-01 18:46:49] Features: 5/1 -- score: 0.7522597875830114[Parallel(n_jobs=-1)]: Using backend LokyBackend with 4 concurrent workers.\n",
      "[Parallel(n_jobs=-1)]: Done   5 out of   5 | elapsed:    0.0s finished\n",
      "\n",
      "[2021-01-01 18:46:49] Features: 4/1 -- score: 0.7411430734586832[Parallel(n_jobs=-1)]: Using backend LokyBackend with 4 concurrent workers.\n",
      "[Parallel(n_jobs=-1)]: Done   4 out of   4 | elapsed:    0.0s finished\n",
      "\n",
      "[2021-01-01 18:46:50] Features: 3/1 -- score: 0.7026128505958209[Parallel(n_jobs=-1)]: Using backend LokyBackend with 4 concurrent workers.\n",
      "[Parallel(n_jobs=-1)]: Done   3 out of   3 | elapsed:    0.0s finished\n",
      "\n",
      "[2021-01-01 18:46:50] Features: 2/1 -- score: 0.6659889198024928[Parallel(n_jobs=-1)]: Using backend LokyBackend with 4 concurrent workers.\n",
      "[Parallel(n_jobs=-1)]: Done   2 out of   2 | elapsed:    0.0s finished\n",
      "\n",
      "[2021-01-01 18:46:50] Features: 1/1 -- score: 0.6292760715204802"
     ]
    }
   ],
   "source": [
    "linreg=LinearRegression()\n",
    "lin_for=sfs(estimator=linreg,k_features='best',forward=False,verbose=2,scoring='r2',n_jobs=-1)\n",
    "sfs_back=lin_for.fit(x_train,y_train)\n"
   ]
  },
  {
   "cell_type": "code",
   "execution_count": 87,
   "metadata": {},
   "outputs": [
    {
     "data": {
      "text/plain": [
       "('displacement',\n",
       " 'origin_2',\n",
       " 'origin_3',\n",
       " 'cylinders_4',\n",
       " 'cylinders_5',\n",
       " 'cylinders_6',\n",
       " 'cylinders_8',\n",
       " 'year_1972',\n",
       " 'year_1973',\n",
       " 'year_1977',\n",
       " 'year_1978',\n",
       " 'year_1979',\n",
       " 'year_1980',\n",
       " 'year_1981',\n",
       " 'year_1982')"
      ]
     },
     "execution_count": 87,
     "metadata": {},
     "output_type": "execute_result"
    }
   ],
   "source": [
    "sfs_back.k_feature_names_"
   ]
  },
  {
   "cell_type": "code",
   "execution_count": 88,
   "metadata": {},
   "outputs": [],
   "source": [
    "x=x[['displacement',\n",
    " 'origin_2',\n",
    " 'origin_3',\n",
    " 'cylinders_4',\n",
    " 'cylinders_5',\n",
    " 'cylinders_6',\n",
    " 'cylinders_8',\n",
    " 'year_1972',\n",
    " 'year_1973',\n",
    " 'year_1977',\n",
    " 'year_1978',\n",
    " 'year_1979',\n",
    " 'year_1980',\n",
    " 'year_1981',\n",
    " 'year_1982']]\n",
    "y=vehicle['Kilometer_per_liter']"
   ]
  },
  {
   "cell_type": "code",
   "execution_count": 89,
   "metadata": {},
   "outputs": [],
   "source": [
    "x = sm.add_constant(x)\n",
    "from sklearn.model_selection import train_test_split\n",
    "x_train,x_test,y_train,y_test=train_test_split(x,y,test_size=0.2,random_state=0)\n"
   ]
  },
  {
   "cell_type": "code",
   "execution_count": 90,
   "metadata": {},
   "outputs": [],
   "source": [
    "ols_back=sm.OLS(y_train,x_train).fit()\n",
    "ols_back.summary()\n",
    "y_pred=ols_back.predict(x_test)"
   ]
  },
  {
   "cell_type": "code",
   "execution_count": 91,
   "metadata": {},
   "outputs": [
    {
     "data": {
      "application/javascript": [
       "\n",
       "        if (window._pyforest_update_imports_cell) { window._pyforest_update_imports_cell('import matplotlib.pyplot as plt\\nimport seaborn as sns\\nimport numpy as np\\nimport pandas as pd'); }\n",
       "    "
      ],
      "text/plain": [
       "<IPython.core.display.Javascript object>"
      ]
     },
     "metadata": {},
     "output_type": "display_data"
    }
   ],
   "source": [
    "result_tabulation=result_tabulation.append(models(ols_back,y_pred,'OLS WITH BACKWARD FE'),ignore_index=True)"
   ]
  },
  {
   "cell_type": "code",
   "execution_count": 92,
   "metadata": {},
   "outputs": [
    {
     "data": {
      "text/html": [
       "<div>\n",
       "<style scoped>\n",
       "    .dataframe tbody tr th:only-of-type {\n",
       "        vertical-align: middle;\n",
       "    }\n",
       "\n",
       "    .dataframe tbody tr th {\n",
       "        vertical-align: top;\n",
       "    }\n",
       "\n",
       "    .dataframe thead th {\n",
       "        text-align: right;\n",
       "    }\n",
       "</style>\n",
       "<table border=\"1\" class=\"dataframe\">\n",
       "  <thead>\n",
       "    <tr style=\"text-align: right;\">\n",
       "      <th></th>\n",
       "      <th>model_name</th>\n",
       "      <th>RMSE</th>\n",
       "      <th>R-Squared</th>\n",
       "      <th>Adj. R-Squared</th>\n",
       "    </tr>\n",
       "  </thead>\n",
       "  <tbody>\n",
       "    <tr>\n",
       "      <th>0</th>\n",
       "      <td>OLS_WITH_LOG</td>\n",
       "      <td>1.161455</td>\n",
       "      <td>0.886720</td>\n",
       "      <td>0.878272</td>\n",
       "    </tr>\n",
       "    <tr>\n",
       "      <th>1</th>\n",
       "      <td>OLS WITHOUT LOG</td>\n",
       "      <td>1.429391</td>\n",
       "      <td>0.868250</td>\n",
       "      <td>0.858424</td>\n",
       "    </tr>\n",
       "    <tr>\n",
       "      <th>2</th>\n",
       "      <td>OLS_WITH_VIF</td>\n",
       "      <td>1.877871</td>\n",
       "      <td>0.814668</td>\n",
       "      <td>0.802187</td>\n",
       "    </tr>\n",
       "    <tr>\n",
       "      <th>3</th>\n",
       "      <td>OLS WITH FORWARD FS</td>\n",
       "      <td>1.829511</td>\n",
       "      <td>0.814406</td>\n",
       "      <td>0.803233</td>\n",
       "    </tr>\n",
       "    <tr>\n",
       "      <th>4</th>\n",
       "      <td>OLS WITH BACKWARD FE</td>\n",
       "      <td>1.834691</td>\n",
       "      <td>0.814237</td>\n",
       "      <td>0.805010</td>\n",
       "    </tr>\n",
       "  </tbody>\n",
       "</table>\n",
       "</div>"
      ],
      "text/plain": [
       "             model_name      RMSE  R-Squared  Adj. R-Squared\n",
       "0          OLS_WITH_LOG  1.161455   0.886720        0.878272\n",
       "1       OLS WITHOUT LOG  1.429391   0.868250        0.858424\n",
       "2          OLS_WITH_VIF  1.877871   0.814668        0.802187\n",
       "3   OLS WITH FORWARD FS  1.829511   0.814406        0.803233\n",
       "4  OLS WITH BACKWARD FE  1.834691   0.814237        0.805010"
      ]
     },
     "execution_count": 92,
     "metadata": {},
     "output_type": "execute_result"
    }
   ],
   "source": [
    "result_tabulation"
   ]
  },
  {
   "cell_type": "markdown",
   "metadata": {},
   "source": [
    "# SGD"
   ]
  },
  {
   "cell_type": "code",
   "execution_count": 93,
   "metadata": {},
   "outputs": [],
   "source": [
    "x=vehicle_new\n",
    "y=vehicle['Kilometer_per_liter']\n",
    "x_train,x_test,y_train,y_test=train_test_split(x,y,test_size=0.2,random_state=0)"
   ]
  },
  {
   "cell_type": "code",
   "execution_count": 94,
   "metadata": {},
   "outputs": [
    {
     "data": {
      "text/plain": [
       "SGDRegressor()"
      ]
     },
     "execution_count": 94,
     "metadata": {},
     "output_type": "execute_result"
    }
   ],
   "source": [
    "from sklearn.linear_model import SGDRegressor\n",
    "sgd=SGDRegressor()\n",
    "sgd.fit(x_train,y_train)"
   ]
  },
  {
   "cell_type": "code",
   "execution_count": 95,
   "metadata": {},
   "outputs": [],
   "source": [
    "y_pred=sgd.predict(x_test)"
   ]
  },
  {
   "cell_type": "code",
   "execution_count": 96,
   "metadata": {},
   "outputs": [],
   "source": [
    "def reg_model(model,y_pred):\n",
    "    n=x_train.shape[0]+y_train.shape[0]\n",
    "    p=x_train.shape[1]\n",
    "    r_sq=metrics.r2_score(y_pred,y_test)\n",
    "    model_reg=pd.Series({'model_name':str(model),\n",
    "                     'RMSE':metrics.mean_squared_error(y_pred,y_test),\n",
    "                     'R-Squared':r_sq,\n",
    "                     'Adj. R-Squared':(1-((1-r_sq))*(n-1))/(n-p-1)})\n",
    "    return model_reg\n"
   ]
  },
  {
   "cell_type": "code",
   "execution_count": 97,
   "metadata": {},
   "outputs": [
    {
     "data": {
      "application/javascript": [
       "\n",
       "        if (window._pyforest_update_imports_cell) { window._pyforest_update_imports_cell('import matplotlib.pyplot as plt\\nimport seaborn as sns\\nimport numpy as np\\nimport pandas as pd'); }\n",
       "    "
      ],
      "text/plain": [
       "<IPython.core.display.Javascript object>"
      ]
     },
     "metadata": {},
     "output_type": "display_data"
    }
   ],
   "source": [
    "result_tabulation=result_tabulation.append(reg_model('SGD',y_pred),ignore_index=True)"
   ]
  },
  {
   "cell_type": "code",
   "execution_count": 98,
   "metadata": {},
   "outputs": [
    {
     "data": {
      "text/html": [
       "<div>\n",
       "<style scoped>\n",
       "    .dataframe tbody tr th:only-of-type {\n",
       "        vertical-align: middle;\n",
       "    }\n",
       "\n",
       "    .dataframe tbody tr th {\n",
       "        vertical-align: top;\n",
       "    }\n",
       "\n",
       "    .dataframe thead th {\n",
       "        text-align: right;\n",
       "    }\n",
       "</style>\n",
       "<table border=\"1\" class=\"dataframe\">\n",
       "  <thead>\n",
       "    <tr style=\"text-align: right;\">\n",
       "      <th></th>\n",
       "      <th>model_name</th>\n",
       "      <th>RMSE</th>\n",
       "      <th>R-Squared</th>\n",
       "      <th>Adj. R-Squared</th>\n",
       "    </tr>\n",
       "  </thead>\n",
       "  <tbody>\n",
       "    <tr>\n",
       "      <th>0</th>\n",
       "      <td>OLS_WITH_LOG</td>\n",
       "      <td>1.161455e+00</td>\n",
       "      <td>0.886720</td>\n",
       "      <td>0.878272</td>\n",
       "    </tr>\n",
       "    <tr>\n",
       "      <th>1</th>\n",
       "      <td>OLS WITHOUT LOG</td>\n",
       "      <td>1.429391e+00</td>\n",
       "      <td>0.868250</td>\n",
       "      <td>0.858424</td>\n",
       "    </tr>\n",
       "    <tr>\n",
       "      <th>2</th>\n",
       "      <td>OLS_WITH_VIF</td>\n",
       "      <td>1.877871e+00</td>\n",
       "      <td>0.814668</td>\n",
       "      <td>0.802187</td>\n",
       "    </tr>\n",
       "    <tr>\n",
       "      <th>3</th>\n",
       "      <td>OLS WITH FORWARD FS</td>\n",
       "      <td>1.829511e+00</td>\n",
       "      <td>0.814406</td>\n",
       "      <td>0.803233</td>\n",
       "    </tr>\n",
       "    <tr>\n",
       "      <th>4</th>\n",
       "      <td>OLS WITH BACKWARD FE</td>\n",
       "      <td>1.834691e+00</td>\n",
       "      <td>0.814237</td>\n",
       "      <td>0.805010</td>\n",
       "    </tr>\n",
       "    <tr>\n",
       "      <th>5</th>\n",
       "      <td>SGD</td>\n",
       "      <td>2.470618e+20</td>\n",
       "      <td>-0.185315</td>\n",
       "      <td>-1.226224</td>\n",
       "    </tr>\n",
       "  </tbody>\n",
       "</table>\n",
       "</div>"
      ],
      "text/plain": [
       "             model_name          RMSE  R-Squared  Adj. R-Squared\n",
       "0          OLS_WITH_LOG  1.161455e+00   0.886720        0.878272\n",
       "1       OLS WITHOUT LOG  1.429391e+00   0.868250        0.858424\n",
       "2          OLS_WITH_VIF  1.877871e+00   0.814668        0.802187\n",
       "3   OLS WITH FORWARD FS  1.829511e+00   0.814406        0.803233\n",
       "4  OLS WITH BACKWARD FE  1.834691e+00   0.814237        0.805010\n",
       "5                   SGD  2.470618e+20  -0.185315       -1.226224"
      ]
     },
     "execution_count": 98,
     "metadata": {},
     "output_type": "execute_result"
    }
   ],
   "source": [
    "result_tabulation"
   ]
  },
  {
   "cell_type": "markdown",
   "metadata": {},
   "source": [
    "# SGD USING RANDOMIZED SEARCH CROSS VALIDATION"
   ]
  },
  {
   "cell_type": "code",
   "execution_count": 99,
   "metadata": {},
   "outputs": [
    {
     "data": {
      "application/javascript": [
       "\n",
       "        if (window._pyforest_update_imports_cell) { window._pyforest_update_imports_cell('import matplotlib.pyplot as plt\\nimport seaborn as sns\\nimport numpy as np\\nimport pandas as pd'); }\n",
       "    "
      ],
      "text/plain": [
       "<IPython.core.display.Javascript object>"
      ]
     },
     "metadata": {},
     "output_type": "display_data"
    }
   ],
   "source": [
    "loss=['squared_loss','huber', 'epsilon_insensitive','squared_epsilon_insensitive']\n",
    "penalty=['l2', 'l1', 'elasticnet']\n",
    "alpha=[i for i in np.linspace(0.001,1)]\n",
    "learning_rate=['invscaling','constant','adaptive']\n"
   ]
  },
  {
   "cell_type": "code",
   "execution_count": 100,
   "metadata": {},
   "outputs": [],
   "source": [
    "sgd_params={'loss':loss,'penalty':penalty,'alpha':alpha,'learning_rate':learning_rate}"
   ]
  },
  {
   "cell_type": "code",
   "execution_count": 101,
   "metadata": {},
   "outputs": [
    {
     "data": {
      "text/plain": [
       "RandomizedSearchCV(cv=5, estimator=SGDRegressor(),\n",
       "                   param_distributions={'alpha': [0.001, 0.021387755102040818,\n",
       "                                                  0.041775510204081635,\n",
       "                                                  0.062163265306122456,\n",
       "                                                  0.08255102040816327,\n",
       "                                                  0.10293877551020408,\n",
       "                                                  0.12332653061224491,\n",
       "                                                  0.1437142857142857,\n",
       "                                                  0.16410204081632654,\n",
       "                                                  0.18448979591836737,\n",
       "                                                  0.20487755102040817,\n",
       "                                                  0.225265306122449,\n",
       "                                                  0.24565306122448982,\n",
       "                                                  0.26604081632653065,\n",
       "                                                  0.286...\n",
       "                                                  0.40875510204081633,\n",
       "                                                  0.42914285714285716,\n",
       "                                                  0.449530612244898,\n",
       "                                                  0.4699183673469388,\n",
       "                                                  0.49030612244897964,\n",
       "                                                  0.5106938775510205,\n",
       "                                                  0.5310816326530613,\n",
       "                                                  0.551469387755102,\n",
       "                                                  0.5718571428571428,\n",
       "                                                  0.5922448979591837, ...],\n",
       "                                        'learning_rate': ['invscaling',\n",
       "                                                          'constant',\n",
       "                                                          'adaptive'],\n",
       "                                        'loss': ['squared_loss', 'huber',\n",
       "                                                 'epsilon_insensitive',\n",
       "                                                 'squared_epsilon_insensitive'],\n",
       "                                        'penalty': ['l2', 'l1', 'elasticnet']})"
      ]
     },
     "execution_count": 101,
     "metadata": {},
     "output_type": "execute_result"
    }
   ],
   "source": [
    "from sklearn.model_selection import RandomizedSearchCV\n",
    "rand=RandomizedSearchCV(estimator=sgd,param_distributions=sgd_params,cv=5)\n",
    "rand"
   ]
  },
  {
   "cell_type": "code",
   "execution_count": 102,
   "metadata": {},
   "outputs": [
    {
     "data": {
      "text/plain": [
       "RandomizedSearchCV(cv=5, estimator=SGDRegressor(),\n",
       "                   param_distributions={'alpha': [0.001, 0.021387755102040818,\n",
       "                                                  0.041775510204081635,\n",
       "                                                  0.062163265306122456,\n",
       "                                                  0.08255102040816327,\n",
       "                                                  0.10293877551020408,\n",
       "                                                  0.12332653061224491,\n",
       "                                                  0.1437142857142857,\n",
       "                                                  0.16410204081632654,\n",
       "                                                  0.18448979591836737,\n",
       "                                                  0.20487755102040817,\n",
       "                                                  0.225265306122449,\n",
       "                                                  0.24565306122448982,\n",
       "                                                  0.26604081632653065,\n",
       "                                                  0.286...\n",
       "                                                  0.40875510204081633,\n",
       "                                                  0.42914285714285716,\n",
       "                                                  0.449530612244898,\n",
       "                                                  0.4699183673469388,\n",
       "                                                  0.49030612244897964,\n",
       "                                                  0.5106938775510205,\n",
       "                                                  0.5310816326530613,\n",
       "                                                  0.551469387755102,\n",
       "                                                  0.5718571428571428,\n",
       "                                                  0.5922448979591837, ...],\n",
       "                                        'learning_rate': ['invscaling',\n",
       "                                                          'constant',\n",
       "                                                          'adaptive'],\n",
       "                                        'loss': ['squared_loss', 'huber',\n",
       "                                                 'epsilon_insensitive',\n",
       "                                                 'squared_epsilon_insensitive'],\n",
       "                                        'penalty': ['l2', 'l1', 'elasticnet']})"
      ]
     },
     "execution_count": 102,
     "metadata": {},
     "output_type": "execute_result"
    }
   ],
   "source": [
    "rand.fit(x_train,y_train)"
   ]
  },
  {
   "cell_type": "code",
   "execution_count": 103,
   "metadata": {},
   "outputs": [
    {
     "data": {
      "text/plain": [
       "{'penalty': 'l2',\n",
       " 'loss': 'squared_loss',\n",
       " 'learning_rate': 'adaptive',\n",
       " 'alpha': 0.6941836734693878}"
      ]
     },
     "execution_count": 103,
     "metadata": {},
     "output_type": "execute_result"
    }
   ],
   "source": [
    "rand.best_params_"
   ]
  },
  {
   "cell_type": "code",
   "execution_count": 104,
   "metadata": {},
   "outputs": [
    {
     "data": {
      "text/plain": [
       "SGDRegressor(alpha=0.062163265306122456, learning_rate='adaptive',\n",
       "             loss='epsilon_insensitive', penalty='l1')"
      ]
     },
     "execution_count": 104,
     "metadata": {},
     "output_type": "execute_result"
    }
   ],
   "source": [
    "sgd=SGDRegressor(penalty='l1',loss='epsilon_insensitive',learning_rate='adaptive',alpha=0.062163265306122456)\n",
    "sgd.fit(x_train,y_train)"
   ]
  },
  {
   "cell_type": "code",
   "execution_count": 105,
   "metadata": {},
   "outputs": [],
   "source": [
    "y_pred=sgd.predict(x_test)"
   ]
  },
  {
   "cell_type": "code",
   "execution_count": 106,
   "metadata": {},
   "outputs": [
    {
     "data": {
      "application/javascript": [
       "\n",
       "        if (window._pyforest_update_imports_cell) { window._pyforest_update_imports_cell('import matplotlib.pyplot as plt\\nimport seaborn as sns\\nimport numpy as np\\nimport pandas as pd'); }\n",
       "    "
      ],
      "text/plain": [
       "<IPython.core.display.Javascript object>"
      ]
     },
     "metadata": {},
     "output_type": "display_data"
    }
   ],
   "source": [
    "result_tabulation=result_tabulation.append(reg_model('RANDOMIZED_SEARCH_SGD',y_pred),ignore_index=True)"
   ]
  },
  {
   "cell_type": "code",
   "execution_count": 107,
   "metadata": {},
   "outputs": [
    {
     "data": {
      "text/html": [
       "<div>\n",
       "<style scoped>\n",
       "    .dataframe tbody tr th:only-of-type {\n",
       "        vertical-align: middle;\n",
       "    }\n",
       "\n",
       "    .dataframe tbody tr th {\n",
       "        vertical-align: top;\n",
       "    }\n",
       "\n",
       "    .dataframe thead th {\n",
       "        text-align: right;\n",
       "    }\n",
       "</style>\n",
       "<table border=\"1\" class=\"dataframe\">\n",
       "  <thead>\n",
       "    <tr style=\"text-align: right;\">\n",
       "      <th></th>\n",
       "      <th>model_name</th>\n",
       "      <th>RMSE</th>\n",
       "      <th>R-Squared</th>\n",
       "      <th>Adj. R-Squared</th>\n",
       "    </tr>\n",
       "  </thead>\n",
       "  <tbody>\n",
       "    <tr>\n",
       "      <th>0</th>\n",
       "      <td>OLS_WITH_LOG</td>\n",
       "      <td>1.161455e+00</td>\n",
       "      <td>0.886720</td>\n",
       "      <td>0.878272</td>\n",
       "    </tr>\n",
       "    <tr>\n",
       "      <th>1</th>\n",
       "      <td>OLS WITHOUT LOG</td>\n",
       "      <td>1.429391e+00</td>\n",
       "      <td>0.868250</td>\n",
       "      <td>0.858424</td>\n",
       "    </tr>\n",
       "    <tr>\n",
       "      <th>2</th>\n",
       "      <td>OLS_WITH_VIF</td>\n",
       "      <td>1.877871e+00</td>\n",
       "      <td>0.814668</td>\n",
       "      <td>0.802187</td>\n",
       "    </tr>\n",
       "    <tr>\n",
       "      <th>3</th>\n",
       "      <td>OLS WITH FORWARD FS</td>\n",
       "      <td>1.829511e+00</td>\n",
       "      <td>0.814406</td>\n",
       "      <td>0.803233</td>\n",
       "    </tr>\n",
       "    <tr>\n",
       "      <th>4</th>\n",
       "      <td>OLS WITH BACKWARD FE</td>\n",
       "      <td>1.834691e+00</td>\n",
       "      <td>0.814237</td>\n",
       "      <td>0.805010</td>\n",
       "    </tr>\n",
       "    <tr>\n",
       "      <th>5</th>\n",
       "      <td>SGD</td>\n",
       "      <td>2.470618e+20</td>\n",
       "      <td>-0.185315</td>\n",
       "      <td>-1.226224</td>\n",
       "    </tr>\n",
       "    <tr>\n",
       "      <th>6</th>\n",
       "      <td>RANDOMIZED_SEARCH_SGD</td>\n",
       "      <td>3.096107e+00</td>\n",
       "      <td>0.573792</td>\n",
       "      <td>-0.439873</td>\n",
       "    </tr>\n",
       "  </tbody>\n",
       "</table>\n",
       "</div>"
      ],
      "text/plain": [
       "              model_name          RMSE  R-Squared  Adj. R-Squared\n",
       "0           OLS_WITH_LOG  1.161455e+00   0.886720        0.878272\n",
       "1        OLS WITHOUT LOG  1.429391e+00   0.868250        0.858424\n",
       "2           OLS_WITH_VIF  1.877871e+00   0.814668        0.802187\n",
       "3    OLS WITH FORWARD FS  1.829511e+00   0.814406        0.803233\n",
       "4   OLS WITH BACKWARD FE  1.834691e+00   0.814237        0.805010\n",
       "5                    SGD  2.470618e+20  -0.185315       -1.226224\n",
       "6  RANDOMIZED_SEARCH_SGD  3.096107e+00   0.573792       -0.439873"
      ]
     },
     "execution_count": 107,
     "metadata": {},
     "output_type": "execute_result"
    }
   ],
   "source": [
    "result_tabulation"
   ]
  },
  {
   "cell_type": "markdown",
   "metadata": {},
   "source": [
    "# SGD USING GRID SEARCH CROSS VALIDATION"
   ]
  },
  {
   "cell_type": "code",
   "execution_count": 108,
   "metadata": {},
   "outputs": [
    {
     "data": {
      "text/plain": [
       "GridSearchCV(cv=5,\n",
       "             estimator=SGDRegressor(alpha=0.062163265306122456,\n",
       "                                    learning_rate='adaptive',\n",
       "                                    loss='epsilon_insensitive', penalty='l1'),\n",
       "             param_grid={'alpha': [0.001, 0.021387755102040818,\n",
       "                                   0.041775510204081635, 0.062163265306122456,\n",
       "                                   0.08255102040816327, 0.10293877551020408,\n",
       "                                   0.12332653061224491, 0.1437142857142857,\n",
       "                                   0.16410204081632654, 0.18448979591836737,\n",
       "                                   0.20487...\n",
       "                                   0.40875510204081633, 0.42914285714285716,\n",
       "                                   0.449530612244898, 0.4699183673469388,\n",
       "                                   0.49030612244897964, 0.5106938775510205,\n",
       "                                   0.5310816326530613, 0.551469387755102,\n",
       "                                   0.5718571428571428, 0.5922448979591837, ...],\n",
       "                         'learning_rate': ['invscaling', 'constant',\n",
       "                                           'adaptive'],\n",
       "                         'loss': ['squared_loss', 'huber',\n",
       "                                  'epsilon_insensitive',\n",
       "                                  'squared_epsilon_insensitive'],\n",
       "                         'penalty': ['l2', 'l1', 'elasticnet']})"
      ]
     },
     "execution_count": 108,
     "metadata": {},
     "output_type": "execute_result"
    }
   ],
   "source": [
    "from sklearn.model_selection import GridSearchCV\n",
    "grid=GridSearchCV(estimator=sgd,param_grid=sgd_params,cv=5)\n",
    "grid"
   ]
  },
  {
   "cell_type": "code",
   "execution_count": 109,
   "metadata": {
    "scrolled": true
   },
   "outputs": [
    {
     "data": {
      "text/plain": [
       "GridSearchCV(cv=5,\n",
       "             estimator=SGDRegressor(alpha=0.062163265306122456,\n",
       "                                    learning_rate='adaptive',\n",
       "                                    loss='epsilon_insensitive', penalty='l1'),\n",
       "             param_grid={'alpha': [0.001, 0.021387755102040818,\n",
       "                                   0.041775510204081635, 0.062163265306122456,\n",
       "                                   0.08255102040816327, 0.10293877551020408,\n",
       "                                   0.12332653061224491, 0.1437142857142857,\n",
       "                                   0.16410204081632654, 0.18448979591836737,\n",
       "                                   0.20487...\n",
       "                                   0.40875510204081633, 0.42914285714285716,\n",
       "                                   0.449530612244898, 0.4699183673469388,\n",
       "                                   0.49030612244897964, 0.5106938775510205,\n",
       "                                   0.5310816326530613, 0.551469387755102,\n",
       "                                   0.5718571428571428, 0.5922448979591837, ...],\n",
       "                         'learning_rate': ['invscaling', 'constant',\n",
       "                                           'adaptive'],\n",
       "                         'loss': ['squared_loss', 'huber',\n",
       "                                  'epsilon_insensitive',\n",
       "                                  'squared_epsilon_insensitive'],\n",
       "                         'penalty': ['l2', 'l1', 'elasticnet']})"
      ]
     },
     "execution_count": 109,
     "metadata": {},
     "output_type": "execute_result"
    }
   ],
   "source": [
    "grid.fit(x_train, y_train)"
   ]
  },
  {
   "cell_type": "code",
   "execution_count": 110,
   "metadata": {},
   "outputs": [
    {
     "data": {
      "text/plain": [
       "{'alpha': 0.001,\n",
       " 'learning_rate': 'adaptive',\n",
       " 'loss': 'epsilon_insensitive',\n",
       " 'penalty': 'l1'}"
      ]
     },
     "execution_count": 110,
     "metadata": {},
     "output_type": "execute_result"
    }
   ],
   "source": [
    "grid.best_params_"
   ]
  },
  {
   "cell_type": "code",
   "execution_count": 111,
   "metadata": {},
   "outputs": [],
   "source": [
    "grid=SGDRegressor(alpha=0.001,learning_rate='adaptive',loss='epsilon_insensitive', penalty ='l1' )"
   ]
  },
  {
   "cell_type": "code",
   "execution_count": 112,
   "metadata": {},
   "outputs": [
    {
     "data": {
      "text/plain": [
       "SGDRegressor(alpha=0.001, learning_rate='adaptive', loss='epsilon_insensitive',\n",
       "             penalty='l1')"
      ]
     },
     "execution_count": 112,
     "metadata": {},
     "output_type": "execute_result"
    }
   ],
   "source": [
    "grid.fit(x_train, y_train)"
   ]
  },
  {
   "cell_type": "code",
   "execution_count": 113,
   "metadata": {},
   "outputs": [],
   "source": [
    "y_pred=grid.predict(x_test)"
   ]
  },
  {
   "cell_type": "code",
   "execution_count": 114,
   "metadata": {},
   "outputs": [
    {
     "data": {
      "application/javascript": [
       "\n",
       "        if (window._pyforest_update_imports_cell) { window._pyforest_update_imports_cell('import matplotlib.pyplot as plt\\nimport seaborn as sns\\nimport numpy as np\\nimport pandas as pd'); }\n",
       "    "
      ],
      "text/plain": [
       "<IPython.core.display.Javascript object>"
      ]
     },
     "metadata": {},
     "output_type": "display_data"
    }
   ],
   "source": [
    "result_tabulation=result_tabulation.append(reg_model('GRID SEARCH SGD',y_pred),ignore_index=True)"
   ]
  },
  {
   "cell_type": "code",
   "execution_count": 116,
   "metadata": {},
   "outputs": [],
   "source": [
    "from sklearn.linear_model import LinearRegression\n",
    "from sklearn.neighbors import KNeighborsRegressor\n",
    "from xgboost import XGBRegressor\n",
    "from sklearn.svm import SVR\n",
    "from sklearn.tree import DecisionTreeRegressor\n",
    "from sklearn import metrics\n",
    "\n",
    "from sklearn.model_selection import train_test_split\n",
    "X_train,X_test,Y_train,Y_test=train_test_split(x,y,test_size=0.2,random_state=0)"
   ]
  },
  {
   "cell_type": "markdown",
   "metadata": {},
   "source": [
    "\n",
    "\n",
    "\n",
    "\n",
    "modelss=[LinearRegression(),KNeighborsRegressor(),XGBRegressor(),SVR(),DecisionTreeRegressor(),RandomForestRegressor()]\n",
    "for i in modelss:\n",
    "        mod=i\n",
    "        print(str(i))\n",
    "        mod.fit(X_train,Y_train)\n",
    "        y_pred=mod.predict(X_test)\n",
    "        acc_score=mod.score(X_train,Y_train)\n",
    "        r2_scr=metrics.r2_score(y_pred,Y_test)\n",
    "        mse=metrics.mean_squared_error(y_pred,Y_test)\n",
    "        print('accuracy score:',acc_score,'\\n','r2_score:',r2_scr,'\\n','mse:',mse)\n",
    "    \n",
    "\n"
   ]
  },
  {
   "cell_type": "code",
   "execution_count": 117,
   "metadata": {},
   "outputs": [
    {
     "data": {
      "application/javascript": [
       "\n",
       "        if (window._pyforest_update_imports_cell) { window._pyforest_update_imports_cell('from sklearn.ensemble import RandomForestRegressor\\nimport matplotlib.pyplot as plt\\nimport numpy as np\\nimport seaborn as sns\\nimport pandas as pd'); }\n",
       "    "
      ],
      "text/plain": [
       "<IPython.core.display.Javascript object>"
      ]
     },
     "metadata": {},
     "output_type": "display_data"
    },
    {
     "name": "stdout",
     "output_type": "stream",
     "text": [
      "LinearRegression()\n"
     ]
    },
    {
     "data": {
      "application/javascript": [
       "\n",
       "        if (window._pyforest_update_imports_cell) { window._pyforest_update_imports_cell('from sklearn.ensemble import RandomForestRegressor\\nimport matplotlib.pyplot as plt\\nimport numpy as np\\nimport seaborn as sns\\nimport pandas as pd'); }\n",
       "    "
      ],
      "text/plain": [
       "<IPython.core.display.Javascript object>"
      ]
     },
     "metadata": {},
     "output_type": "display_data"
    },
    {
     "name": "stdout",
     "output_type": "stream",
     "text": [
      "KNeighborsRegressor()\n"
     ]
    },
    {
     "data": {
      "application/javascript": [
       "\n",
       "        if (window._pyforest_update_imports_cell) { window._pyforest_update_imports_cell('from sklearn.ensemble import RandomForestRegressor\\nimport matplotlib.pyplot as plt\\nimport numpy as np\\nimport seaborn as sns\\nimport pandas as pd'); }\n",
       "    "
      ],
      "text/plain": [
       "<IPython.core.display.Javascript object>"
      ]
     },
     "metadata": {},
     "output_type": "display_data"
    },
    {
     "name": "stdout",
     "output_type": "stream",
     "text": [
      "XGBRegressor(base_score=None, booster=None, colsample_bylevel=None,\n",
      "             colsample_bynode=None, colsample_bytree=None, gamma=None,\n",
      "             gpu_id=None, importance_type='gain', interaction_constraints=None,\n",
      "             learning_rate=None, max_delta_step=None, max_depth=None,\n",
      "             min_child_weight=None, missing=nan, monotone_constraints=None,\n",
      "             n_estimators=100, n_jobs=None, num_parallel_tree=None,\n",
      "             random_state=None, reg_alpha=None, reg_lambda=None,\n",
      "             scale_pos_weight=None, subsample=None, tree_method=None,\n",
      "             validate_parameters=None, verbosity=None)\n"
     ]
    },
    {
     "data": {
      "application/javascript": [
       "\n",
       "        if (window._pyforest_update_imports_cell) { window._pyforest_update_imports_cell('from sklearn.ensemble import RandomForestRegressor\\nimport matplotlib.pyplot as plt\\nimport numpy as np\\nimport seaborn as sns\\nimport pandas as pd'); }\n",
       "    "
      ],
      "text/plain": [
       "<IPython.core.display.Javascript object>"
      ]
     },
     "metadata": {},
     "output_type": "display_data"
    },
    {
     "name": "stdout",
     "output_type": "stream",
     "text": [
      "SVR()\n"
     ]
    },
    {
     "data": {
      "application/javascript": [
       "\n",
       "        if (window._pyforest_update_imports_cell) { window._pyforest_update_imports_cell('from sklearn.ensemble import RandomForestRegressor\\nimport matplotlib.pyplot as plt\\nimport numpy as np\\nimport seaborn as sns\\nimport pandas as pd'); }\n",
       "    "
      ],
      "text/plain": [
       "<IPython.core.display.Javascript object>"
      ]
     },
     "metadata": {},
     "output_type": "display_data"
    },
    {
     "name": "stdout",
     "output_type": "stream",
     "text": [
      "DecisionTreeRegressor()\n"
     ]
    },
    {
     "data": {
      "application/javascript": [
       "\n",
       "        if (window._pyforest_update_imports_cell) { window._pyforest_update_imports_cell('from sklearn.ensemble import RandomForestRegressor\\nimport matplotlib.pyplot as plt\\nimport numpy as np\\nimport seaborn as sns\\nimport pandas as pd'); }\n",
       "    "
      ],
      "text/plain": [
       "<IPython.core.display.Javascript object>"
      ]
     },
     "metadata": {},
     "output_type": "display_data"
    },
    {
     "name": "stdout",
     "output_type": "stream",
     "text": [
      "RandomForestRegressor()\n"
     ]
    },
    {
     "data": {
      "application/javascript": [
       "\n",
       "        if (window._pyforest_update_imports_cell) { window._pyforest_update_imports_cell('from sklearn.ensemble import RandomForestRegressor\\nimport matplotlib.pyplot as plt\\nimport numpy as np\\nimport seaborn as sns\\nimport pandas as pd'); }\n",
       "    "
      ],
      "text/plain": [
       "<IPython.core.display.Javascript object>"
      ]
     },
     "metadata": {},
     "output_type": "display_data"
    },
    {
     "name": "stdout",
     "output_type": "stream",
     "text": [
      "                   model_name          RMSE  R-Squared  Adj. R-Squared\n",
      "0                OLS_WITH_LOG  1.161455e+00   0.886720        0.878272\n",
      "1             OLS WITHOUT LOG  1.429391e+00   0.868250        0.858424\n",
      "2                OLS_WITH_VIF  1.877871e+00   0.814668        0.802187\n",
      "3         OLS WITH FORWARD FS  1.829511e+00   0.814406        0.803233\n",
      "4        OLS WITH BACKWARD FE  1.834691e+00   0.814237        0.805010\n",
      "5                         SGD  2.470618e+20  -0.185315       -1.226224\n",
      "6       RANDOMIZED_SEARCH_SGD  3.096107e+00   0.573792       -0.439873\n",
      "7             GRID SEARCH SGD  1.707485e+00   0.784730       -0.221364\n",
      "8          LinearRegression()  1.161455e+00   0.878948       -0.123765\n",
      "9       KNeighborsRegressor()  3.561351e+00   0.601594       -0.411073\n",
      "10  XGBRegressor(base_score=0  2.180704e+00   0.743036       -0.264555\n",
      "11                      SVR()  3.242758e+00   0.574301       -0.439346\n",
      "12    DecisionTreeRegressor()  5.254478e+00   0.436741       -0.581842\n",
      "13    RandomForestRegressor()  2.245216e+00   0.734685       -0.273206\n"
     ]
    }
   ],
   "source": [
    "modelss=[LinearRegression(),KNeighborsRegressor(),XGBRegressor(),SVR(),DecisionTreeRegressor(),RandomForestRegressor()]\n",
    "for i in modelss:\n",
    "        mod=i\n",
    "        mod.fit(X_train,Y_train)\n",
    "        y_pred=mod.predict(X_test)\n",
    "        result_tabulation=result_tabulation.append(reg_model(str(i)[0:25],y_pred),ignore_index=True)\n",
    "print(result_tabulation)"
   ]
  }
 ],
 "metadata": {
  "kernelspec": {
   "display_name": "Python 3",
   "language": "python",
   "name": "python3"
  },
  "language_info": {
   "codemirror_mode": {
    "name": "ipython",
    "version": 3
   },
   "file_extension": ".py",
   "mimetype": "text/x-python",
   "name": "python",
   "nbconvert_exporter": "python",
   "pygments_lexer": "ipython3",
   "version": "3.7.6"
  }
 },
 "nbformat": 4,
 "nbformat_minor": 4
}
