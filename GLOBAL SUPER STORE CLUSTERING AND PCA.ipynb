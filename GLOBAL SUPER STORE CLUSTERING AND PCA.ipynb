{
 "cells": [
  {
   "cell_type": "markdown",
   "metadata": {},
   "source": [
    "# 2.For global superstore data study sales, profit and costs based on continents, categories, subcategories using clustering and PCA. Do you see distinct patterns?"
   ]
  },
  {
   "cell_type": "markdown",
   "metadata": {},
   "source": [
    "# IMPORTING LIBRARIES"
   ]
  },
  {
   "cell_type": "code",
   "execution_count": 1,
   "metadata": {},
   "outputs": [],
   "source": [
    "import warnings\n",
    "from warnings import filterwarnings\n",
    "filterwarnings('ignore')"
   ]
  },
  {
   "cell_type": "code",
   "execution_count": 2,
   "metadata": {},
   "outputs": [],
   "source": [
    "import numpy as np\n",
    "import pandas as pd\n",
    "import seaborn as sns\n",
    "import sklearn\n",
    "import matplotlib.pyplot as plt"
   ]
  },
  {
   "cell_type": "markdown",
   "metadata": {},
   "source": [
    "# LOADING DATASET"
   ]
  },
  {
   "cell_type": "code",
   "execution_count": 3,
   "metadata": {},
   "outputs": [
    {
     "data": {
      "text/html": [
       "<div>\n",
       "<style scoped>\n",
       "    .dataframe tbody tr th:only-of-type {\n",
       "        vertical-align: middle;\n",
       "    }\n",
       "\n",
       "    .dataframe tbody tr th {\n",
       "        vertical-align: top;\n",
       "    }\n",
       "\n",
       "    .dataframe thead th {\n",
       "        text-align: right;\n",
       "    }\n",
       "</style>\n",
       "<table border=\"1\" class=\"dataframe\">\n",
       "  <thead>\n",
       "    <tr style=\"text-align: right;\">\n",
       "      <th></th>\n",
       "      <th>Row ID</th>\n",
       "      <th>Order ID</th>\n",
       "      <th>Order Date</th>\n",
       "      <th>Ship Date</th>\n",
       "      <th>Ship Mode</th>\n",
       "      <th>Customer ID</th>\n",
       "      <th>Customer Name</th>\n",
       "      <th>Segment</th>\n",
       "      <th>Postal Code</th>\n",
       "      <th>City</th>\n",
       "      <th>...</th>\n",
       "      <th>Product Name</th>\n",
       "      <th>Sub-Category</th>\n",
       "      <th>Category</th>\n",
       "      <th>Sales</th>\n",
       "      <th>Quantity</th>\n",
       "      <th>Discount</th>\n",
       "      <th>Profit</th>\n",
       "      <th>Margin</th>\n",
       "      <th>Shipping Cost</th>\n",
       "      <th>Order Priority</th>\n",
       "    </tr>\n",
       "  </thead>\n",
       "  <tbody>\n",
       "    <tr>\n",
       "      <th>0</th>\n",
       "      <td>24599</td>\n",
       "      <td>IN-2017-CA120551-42816</td>\n",
       "      <td>22-03-17</td>\n",
       "      <td>29-03-17</td>\n",
       "      <td>Standard Class</td>\n",
       "      <td>CA-120551</td>\n",
       "      <td>Cathy Armstrong</td>\n",
       "      <td>Home Office</td>\n",
       "      <td>NaN</td>\n",
       "      <td>Herat</td>\n",
       "      <td>...</td>\n",
       "      <td>Ikea Library with Doors, Mobile</td>\n",
       "      <td>Bookcases</td>\n",
       "      <td>Furniture</td>\n",
       "      <td>731.82</td>\n",
       "      <td>2</td>\n",
       "      <td>0.0</td>\n",
       "      <td>102.42</td>\n",
       "      <td>14.00%</td>\n",
       "      <td>39.66</td>\n",
       "      <td>Medium</td>\n",
       "    </tr>\n",
       "    <tr>\n",
       "      <th>1</th>\n",
       "      <td>29465</td>\n",
       "      <td>ID-2015-BD116051-42248</td>\n",
       "      <td>01-09-15</td>\n",
       "      <td>04-09-15</td>\n",
       "      <td>Second Class</td>\n",
       "      <td>BD-116051</td>\n",
       "      <td>Brian Dahlen</td>\n",
       "      <td>Consumer</td>\n",
       "      <td>NaN</td>\n",
       "      <td>Herat</td>\n",
       "      <td>...</td>\n",
       "      <td>Acme Scissors, Easy Grip</td>\n",
       "      <td>Supplies</td>\n",
       "      <td>Office Supplies</td>\n",
       "      <td>243.54</td>\n",
       "      <td>9</td>\n",
       "      <td>0.0</td>\n",
       "      <td>104.49</td>\n",
       "      <td>42.90%</td>\n",
       "      <td>18.72</td>\n",
       "      <td>Medium</td>\n",
       "    </tr>\n",
       "    <tr>\n",
       "      <th>2</th>\n",
       "      <td>24598</td>\n",
       "      <td>IN-2017-CA120551-42816</td>\n",
       "      <td>22-03-17</td>\n",
       "      <td>29-03-17</td>\n",
       "      <td>Standard Class</td>\n",
       "      <td>CA-120551</td>\n",
       "      <td>Cathy Armstrong</td>\n",
       "      <td>Home Office</td>\n",
       "      <td>NaN</td>\n",
       "      <td>Herat</td>\n",
       "      <td>...</td>\n",
       "      <td>Epson Receipt Printer, White</td>\n",
       "      <td>Machines</td>\n",
       "      <td>Technology</td>\n",
       "      <td>346.32</td>\n",
       "      <td>3</td>\n",
       "      <td>0.0</td>\n",
       "      <td>13.77</td>\n",
       "      <td>3.98%</td>\n",
       "      <td>14.10</td>\n",
       "      <td>Medium</td>\n",
       "    </tr>\n",
       "    <tr>\n",
       "      <th>3</th>\n",
       "      <td>24597</td>\n",
       "      <td>IN-2017-CA120551-42816</td>\n",
       "      <td>22-03-17</td>\n",
       "      <td>29-03-17</td>\n",
       "      <td>Standard Class</td>\n",
       "      <td>CA-120551</td>\n",
       "      <td>Cathy Armstrong</td>\n",
       "      <td>Home Office</td>\n",
       "      <td>NaN</td>\n",
       "      <td>Herat</td>\n",
       "      <td>...</td>\n",
       "      <td>Rubbermaid Door Stop, Erganomic</td>\n",
       "      <td>Furnishings</td>\n",
       "      <td>Furniture</td>\n",
       "      <td>169.68</td>\n",
       "      <td>4</td>\n",
       "      <td>0.0</td>\n",
       "      <td>79.68</td>\n",
       "      <td>46.96%</td>\n",
       "      <td>11.01</td>\n",
       "      <td>Medium</td>\n",
       "    </tr>\n",
       "    <tr>\n",
       "      <th>4</th>\n",
       "      <td>29464</td>\n",
       "      <td>ID-2015-BD116051-42248</td>\n",
       "      <td>01-09-15</td>\n",
       "      <td>04-09-15</td>\n",
       "      <td>Second Class</td>\n",
       "      <td>BD-116051</td>\n",
       "      <td>Brian Dahlen</td>\n",
       "      <td>Consumer</td>\n",
       "      <td>NaN</td>\n",
       "      <td>Herat</td>\n",
       "      <td>...</td>\n",
       "      <td>Cameo Interoffice Envelope, with clear poly wi...</td>\n",
       "      <td>Envelopes</td>\n",
       "      <td>Office Supplies</td>\n",
       "      <td>203.88</td>\n",
       "      <td>4</td>\n",
       "      <td>0.0</td>\n",
       "      <td>24.36</td>\n",
       "      <td>11.95%</td>\n",
       "      <td>5.72</td>\n",
       "      <td>Medium</td>\n",
       "    </tr>\n",
       "  </tbody>\n",
       "</table>\n",
       "<p>5 rows × 25 columns</p>\n",
       "</div>"
      ],
      "text/plain": [
       "   Row ID                Order ID Order Date Ship Date       Ship Mode  \\\n",
       "0   24599  IN-2017-CA120551-42816   22-03-17  29-03-17  Standard Class   \n",
       "1   29465  ID-2015-BD116051-42248   01-09-15  04-09-15    Second Class   \n",
       "2   24598  IN-2017-CA120551-42816   22-03-17  29-03-17  Standard Class   \n",
       "3   24597  IN-2017-CA120551-42816   22-03-17  29-03-17  Standard Class   \n",
       "4   29464  ID-2015-BD116051-42248   01-09-15  04-09-15    Second Class   \n",
       "\n",
       "  Customer ID    Customer Name      Segment  Postal Code   City  ...  \\\n",
       "0   CA-120551  Cathy Armstrong  Home Office          NaN  Herat  ...   \n",
       "1   BD-116051     Brian Dahlen     Consumer          NaN  Herat  ...   \n",
       "2   CA-120551  Cathy Armstrong  Home Office          NaN  Herat  ...   \n",
       "3   CA-120551  Cathy Armstrong  Home Office          NaN  Herat  ...   \n",
       "4   BD-116051     Brian Dahlen     Consumer          NaN  Herat  ...   \n",
       "\n",
       "                                        Product Name Sub-Category  \\\n",
       "0                    Ikea Library with Doors, Mobile    Bookcases   \n",
       "1                           Acme Scissors, Easy Grip     Supplies   \n",
       "2                       Epson Receipt Printer, White     Machines   \n",
       "3                    Rubbermaid Door Stop, Erganomic  Furnishings   \n",
       "4  Cameo Interoffice Envelope, with clear poly wi...    Envelopes   \n",
       "\n",
       "          Category   Sales Quantity Discount  Profit  Margin  Shipping Cost  \\\n",
       "0        Furniture  731.82        2      0.0  102.42  14.00%          39.66   \n",
       "1  Office Supplies  243.54        9      0.0  104.49  42.90%          18.72   \n",
       "2       Technology  346.32        3      0.0   13.77   3.98%          14.10   \n",
       "3        Furniture  169.68        4      0.0   79.68  46.96%          11.01   \n",
       "4  Office Supplies  203.88        4      0.0   24.36  11.95%           5.72   \n",
       "\n",
       "   Order Priority  \n",
       "0          Medium  \n",
       "1          Medium  \n",
       "2          Medium  \n",
       "3          Medium  \n",
       "4          Medium  \n",
       "\n",
       "[5 rows x 25 columns]"
      ]
     },
     "execution_count": 3,
     "metadata": {},
     "output_type": "execute_result"
    }
   ],
   "source": [
    "df=pd.read_csv('C:\\\\Users\\\\sowndariya\\\\Desktop\\\\Prasath sir\\\\Datasets\\\\global_superstore_2018.csv')\n",
    "df.head()"
   ]
  },
  {
   "cell_type": "markdown",
   "metadata": {},
   "source": [
    "# EXPLORATORY DATA ANALYSIS"
   ]
  },
  {
   "cell_type": "code",
   "execution_count": 4,
   "metadata": {},
   "outputs": [],
   "source": [
    "pd.set_option('max_rows',60000)\n",
    "pd.set_option('max_columns',25)"
   ]
  },
  {
   "cell_type": "code",
   "execution_count": 5,
   "metadata": {},
   "outputs": [
    {
     "data": {
      "text/plain": [
       "(51290, 25)"
      ]
     },
     "execution_count": 5,
     "metadata": {},
     "output_type": "execute_result"
    }
   ],
   "source": [
    "df.shape"
   ]
  },
  {
   "cell_type": "code",
   "execution_count": 6,
   "metadata": {},
   "outputs": [
    {
     "data": {
      "text/plain": [
       "array(['Home Office', 'Consumer', 'Corporate'], dtype=object)"
      ]
     },
     "execution_count": 6,
     "metadata": {},
     "output_type": "execute_result"
    }
   ],
   "source": [
    "df['Segment'].unique()"
   ]
  },
  {
   "cell_type": "code",
   "execution_count": 7,
   "metadata": {},
   "outputs": [
    {
     "name": "stdout",
     "output_type": "stream",
     "text": [
      "<class 'pandas.core.frame.DataFrame'>\n",
      "RangeIndex: 51290 entries, 0 to 51289\n",
      "Data columns (total 25 columns):\n",
      " #   Column          Non-Null Count  Dtype  \n",
      "---  ------          --------------  -----  \n",
      " 0   Row ID          51290 non-null  int64  \n",
      " 1   Order ID        51290 non-null  object \n",
      " 2   Order Date      51290 non-null  object \n",
      " 3   Ship Date       51290 non-null  object \n",
      " 4   Ship Mode       51290 non-null  object \n",
      " 5   Customer ID     51290 non-null  object \n",
      " 6   Customer Name   51290 non-null  object \n",
      " 7   Segment         51290 non-null  object \n",
      " 8   Postal Code     9994 non-null   float64\n",
      " 9   City            51290 non-null  object \n",
      " 10  State           51290 non-null  object \n",
      " 11  Country         51290 non-null  object \n",
      " 12  Region          51290 non-null  object \n",
      " 13  Market          51290 non-null  object \n",
      " 14  Product ID      51290 non-null  object \n",
      " 15  Product Name    51290 non-null  object \n",
      " 16  Sub-Category    51290 non-null  object \n",
      " 17  Category        51290 non-null  object \n",
      " 18  Sales           51290 non-null  float64\n",
      " 19  Quantity        51290 non-null  int64  \n",
      " 20  Discount        51290 non-null  float64\n",
      " 21  Profit          51290 non-null  float64\n",
      " 22  Margin          51290 non-null  object \n",
      " 23  Shipping Cost   51290 non-null  float64\n",
      " 24  Order Priority  51290 non-null  object \n",
      "dtypes: float64(5), int64(2), object(18)\n",
      "memory usage: 9.8+ MB\n"
     ]
    }
   ],
   "source": [
    "df.info()"
   ]
  },
  {
   "cell_type": "code",
   "execution_count": 8,
   "metadata": {},
   "outputs": [
    {
     "data": {
      "text/plain": [
       "Row ID                0\n",
       "Order ID              0\n",
       "Order Date            0\n",
       "Ship Date             0\n",
       "Ship Mode             0\n",
       "Customer ID           0\n",
       "Customer Name         0\n",
       "Segment               0\n",
       "Postal Code       41296\n",
       "City                  0\n",
       "State                 0\n",
       "Country               0\n",
       "Region                0\n",
       "Market                0\n",
       "Product ID            0\n",
       "Product Name          0\n",
       "Sub-Category          0\n",
       "Category              0\n",
       "Sales                 0\n",
       "Quantity              0\n",
       "Discount              0\n",
       "Profit                0\n",
       "Margin                0\n",
       "Shipping Cost         0\n",
       "Order Priority        0\n",
       "dtype: int64"
      ]
     },
     "execution_count": 8,
     "metadata": {},
     "output_type": "execute_result"
    }
   ],
   "source": [
    "df.isnull().sum()"
   ]
  },
  {
   "cell_type": "code",
   "execution_count": 9,
   "metadata": {},
   "outputs": [
    {
     "data": {
      "text/plain": [
       "Row ID            51290\n",
       "Order ID          25728\n",
       "Order Date         1429\n",
       "Ship Date          1463\n",
       "Ship Mode             4\n",
       "Customer ID       17415\n",
       "Customer Name       796\n",
       "Segment               3\n",
       "Postal Code         631\n",
       "City               3650\n",
       "State              1106\n",
       "Country             165\n",
       "Region               23\n",
       "Market                5\n",
       "Product ID         3788\n",
       "Product Name       3788\n",
       "Sub-Category         17\n",
       "Category              3\n",
       "Sales             22995\n",
       "Quantity             14\n",
       "Discount             27\n",
       "Profit            24575\n",
       "Margin             5942\n",
       "Shipping Cost     16452\n",
       "Order Priority        4\n",
       "dtype: int64"
      ]
     },
     "execution_count": 9,
     "metadata": {},
     "output_type": "execute_result"
    }
   ],
   "source": [
    "df.nunique()"
   ]
  },
  {
   "cell_type": "code",
   "execution_count": 10,
   "metadata": {},
   "outputs": [
    {
     "data": {
      "text/plain": [
       "Row ID              int64\n",
       "Order ID           object\n",
       "Order Date         object\n",
       "Ship Date          object\n",
       "Ship Mode          object\n",
       "Customer ID        object\n",
       "Customer Name      object\n",
       "Segment            object\n",
       "Postal Code       float64\n",
       "City               object\n",
       "State              object\n",
       "Country            object\n",
       "Region             object\n",
       "Market             object\n",
       "Product ID         object\n",
       "Product Name       object\n",
       "Sub-Category       object\n",
       "Category           object\n",
       "Sales             float64\n",
       "Quantity            int64\n",
       "Discount          float64\n",
       "Profit            float64\n",
       "Margin             object\n",
       "Shipping Cost     float64\n",
       "Order Priority     object\n",
       "dtype: object"
      ]
     },
     "execution_count": 10,
     "metadata": {},
     "output_type": "execute_result"
    }
   ],
   "source": [
    "df.dtypes"
   ]
  },
  {
   "cell_type": "code",
   "execution_count": 11,
   "metadata": {},
   "outputs": [
    {
     "data": {
      "text/plain": [
       "Index(['Row ID', 'Order ID', 'Order Date', 'Ship Date', 'Ship Mode',\n",
       "       'Customer ID', 'Customer Name', 'Segment', 'Postal Code', 'City',\n",
       "       'State', 'Country', 'Region', 'Market', 'Product ID', 'Product Name',\n",
       "       'Sub-Category', 'Category', 'Sales', 'Quantity', 'Discount', 'Profit',\n",
       "       'Margin', 'Shipping Cost', 'Order Priority'],\n",
       "      dtype='object')"
      ]
     },
     "execution_count": 11,
     "metadata": {},
     "output_type": "execute_result"
    }
   ],
   "source": [
    "df.columns"
   ]
  },
  {
   "cell_type": "code",
   "execution_count": 12,
   "metadata": {},
   "outputs": [],
   "source": [
    "df.drop(['Row ID','Order ID','Order Date', 'Ship Date', 'Ship Mode',\n",
    "       'Customer ID', 'Customer Name','Order Priority','Postal Code','Product ID', 'Product Name',\n",
    "         'Quantity', 'Discount','Margin','Segment', 'City', 'State', 'Country',],axis=1,inplace=True)\n"
   ]
  },
  {
   "cell_type": "code",
   "execution_count": 13,
   "metadata": {},
   "outputs": [
    {
     "data": {
      "text/plain": [
       "Index(['Region', 'Market', 'Sub-Category', 'Category', 'Sales', 'Profit',\n",
       "       'Shipping Cost'],\n",
       "      dtype='object')"
      ]
     },
     "execution_count": 13,
     "metadata": {},
     "output_type": "execute_result"
    }
   ],
   "source": [
    "df.columns"
   ]
  },
  {
   "cell_type": "code",
   "execution_count": 14,
   "metadata": {},
   "outputs": [
    {
     "data": {
      "text/plain": [
       "Region            object\n",
       "Market            object\n",
       "Sub-Category      object\n",
       "Category          object\n",
       "Sales            float64\n",
       "Profit           float64\n",
       "Shipping Cost    float64\n",
       "dtype: object"
      ]
     },
     "execution_count": 14,
     "metadata": {},
     "output_type": "execute_result"
    }
   ],
   "source": [
    "df.dtypes"
   ]
  },
  {
   "cell_type": "code",
   "execution_count": 15,
   "metadata": {},
   "outputs": [
    {
     "data": {
      "text/plain": [
       "Index(['Region', 'Market', 'Sub-Category', 'Category', 'Sales', 'Profit',\n",
       "       'Shipping Cost'],\n",
       "      dtype='object')"
      ]
     },
     "execution_count": 15,
     "metadata": {},
     "output_type": "execute_result"
    }
   ],
   "source": [
    "df.columns"
   ]
  },
  {
   "cell_type": "markdown",
   "metadata": {},
   "source": [
    "# CLUSTERING DATA USING PANDAS- GROUPBY"
   ]
  },
  {
   "cell_type": "markdown",
   "metadata": {},
   "source": [
    "# MARKET Vs SALES,PROFIT,COST"
   ]
  },
  {
   "cell_type": "code",
   "execution_count": 16,
   "metadata": {},
   "outputs": [
    {
     "data": {
      "text/plain": [
       "<matplotlib.axes._subplots.AxesSubplot at 0x22a64931288>"
      ]
     },
     "execution_count": 16,
     "metadata": {},
     "output_type": "execute_result"
    },
    {
     "data": {
      "image/png": "[encoded data removed]",
      "text/plain": [
       "<Figure size 432x288 with 1 Axes>"
      ]
     },
     "metadata": {},
     "output_type": "display_data"
    }
   ],
   "source": [
    "sns.set_style('whitegrid')\n",
    "df.groupby('Market')[['Sales']].sum().plot.bar(color='k')"
   ]
  },
  {
   "cell_type": "code",
   "execution_count": 17,
   "metadata": {},
   "outputs": [
    {
     "data": {
      "text/plain": [
       "<matplotlib.axes._subplots.AxesSubplot at 0x22a67825208>"
      ]
     },
     "execution_count": 17,
     "metadata": {},
     "output_type": "execute_result"
    },
    {
     "data": {
      "image/png": "[encoded data removed]",
      "text/plain": [
       "<Figure size 432x288 with 1 Axes>"
      ]
     },
     "metadata": {},
     "output_type": "display_data"
    }
   ],
   "source": [
    "sns.set_style('darkgrid')\n",
    "df.groupby('Market')[['Shipping Cost']].sum().plot.bar(color='r')"
   ]
  },
  {
   "cell_type": "code",
   "execution_count": 18,
   "metadata": {},
   "outputs": [
    {
     "data": {
      "text/plain": [
       "<matplotlib.axes._subplots.AxesSubplot at 0x22a6787e208>"
      ]
     },
     "execution_count": 18,
     "metadata": {},
     "output_type": "execute_result"
    },
    {
     "data": {
      "image/png": "[encoded data removed]",
      "text/plain": [
       "<Figure size 432x288 with 1 Axes>"
      ]
     },
     "metadata": {},
     "output_type": "display_data"
    }
   ],
   "source": [
    "sns.set_style('darkgrid')\n",
    "df.groupby('Market')[['Profit']].sum().plot.bar(color='b')"
   ]
  },
  {
   "cell_type": "code",
   "execution_count": 19,
   "metadata": {},
   "outputs": [
    {
     "name": "stdout",
     "output_type": "stream",
     "text": [
      "                    Profit         Sales  Shipping Cost\n",
      "Market                                                 \n",
      "Africa         88871.63100  7.837732e+05     88839.4700\n",
      "Asia Pacific  403176.03800  4.042658e+06    437858.1640\n",
      "Europe        449551.72350  3.287336e+06    348905.0340\n",
      "LATAM         221643.48708  2.164605e+06    235025.6150\n",
      "USCA          304214.41170  2.364129e+06    247457.4204\n"
     ]
    },
    {
     "data": {
      "text/plain": [
       "Text(0.5, 0, 'Market')"
      ]
     },
     "execution_count": 19,
     "metadata": {},
     "output_type": "execute_result"
    },
    {
     "data": {
      "image/png": "[encoded data removed]",
      "text/plain": [
       "<Figure size 504x504 with 1 Axes>"
      ]
     },
     "metadata": {},
     "output_type": "display_data"
    }
   ],
   "source": [
    "sns.set_style('darkgrid')\n",
    "print(df.groupby('Market')[['Profit','Sales','Shipping Cost']].sum())\n",
    "df.groupby('Market')[['Profit','Sales','Shipping Cost']].sum().plot.bar(figsize=(7,7))\n",
    "plt.ylabel('Amount',fontsize=16,color='b')\n",
    "plt.xlabel('Market',fontsize=16,color='r')"
   ]
  },
  {
   "cell_type": "markdown",
   "metadata": {},
   "source": [
    "# SUB-CATEGORY Vs SALES,PROFIT,COST"
   ]
  },
  {
   "cell_type": "code",
   "execution_count": 20,
   "metadata": {},
   "outputs": [
    {
     "data": {
      "text/plain": [
       "<matplotlib.axes._subplots.AxesSubplot at 0x22a67abfc08>"
      ]
     },
     "execution_count": 20,
     "metadata": {},
     "output_type": "execute_result"
    },
    {
     "data": {
      "image/png": "[encoded data removed]",
      "text/plain": [
       "<Figure size 432x288 with 1 Axes>"
      ]
     },
     "metadata": {},
     "output_type": "display_data"
    },
    {
     "data": {
      "image/png": "[encoded data removed]",
      "text/plain": [
       "<Figure size 432x288 with 1 Axes>"
      ]
     },
     "metadata": {},
     "output_type": "display_data"
    },
    {
     "data": {
      "image/png": "[encoded data removed]",
      "text/plain": [
       "<Figure size 432x288 with 1 Axes>"
      ]
     },
     "metadata": {},
     "output_type": "display_data"
    }
   ],
   "source": [
    "sns.set_style('whitegrid')\n",
    "df.groupby('Sub-Category')[['Sales']].sum().plot.bar(color='k')\n",
    "df.groupby('Sub-Category')[['Shipping Cost']].sum().plot.bar(color='r')\n",
    "df.groupby('Sub-Category')[['Profit']].sum().plot.bar(color='b')"
   ]
  },
  {
   "cell_type": "code",
   "execution_count": 21,
   "metadata": {},
   "outputs": [
    {
     "name": "stdout",
     "output_type": "stream",
     "text": [
      "                    Profit         Sales  Shipping Cost\n",
      "Sub-Category                                           \n",
      "Accessories   129626.30620  7.492370e+05     83592.3340\n",
      "Appliances    141562.58770  1.010536e+06    108307.7460\n",
      "Art            57829.85930  3.716132e+05     41889.0820\n",
      "Binders        72433.15160  4.618694e+05     49773.1020\n",
      "Bookcases     161924.41950  1.466572e+06    155487.9670\n",
      "Chairs        140396.26750  1.501682e+06    164253.3520\n",
      "Copiers       258567.54818  1.509436e+06    159501.2049\n",
      "Envelopes      28849.48730  1.692175e+05     18582.9680\n",
      "Fasteners      13844.28890  8.949505e+04     10300.0680\n",
      "Furnishings    46845.43190  3.851560e+05     40981.6560\n",
      "Labels         14988.92370  7.335028e+04      8840.7250\n",
      "Machines       58867.87300  7.790601e+05     79149.8485\n",
      "Paper          58111.65350  2.417875e+05     26864.0850\n",
      "Phones        216717.00580  1.706824e+06    184953.4920\n",
      "Storage       108416.68060  1.126813e+06    120793.8520\n",
      "Supplies       22559.19530  2.428111e+05     24950.8270\n",
      "Tables        -64083.38870  7.570419e+05     79863.3940\n"
     ]
    },
    {
     "data": {
      "text/plain": [
       "Text(0.5, 0, 'Sub Categories')"
      ]
     },
     "execution_count": 21,
     "metadata": {},
     "output_type": "execute_result"
    },
    {
     "data": {
      "image/png": "[encoded data removed]",
      "text/plain": [
       "<Figure size 1080x864 with 1 Axes>"
      ]
     },
     "metadata": {},
     "output_type": "display_data"
    }
   ],
   "source": [
    "sns.set_style('darkgrid')\n",
    "print(df.groupby('Sub-Category')[['Profit','Sales','Shipping Cost']].sum())\n",
    "df.groupby('Sub-Category')[['Profit','Sales','Shipping Cost']].sum().plot.bar(figsize=(15,12))\n",
    "plt.ylabel('Amount',fontsize=16,color='b')\n",
    "plt.xlabel('Sub Categories',fontsize=16,color='r')"
   ]
  },
  {
   "cell_type": "markdown",
   "metadata": {},
   "source": [
    "# CATEGORY Vs SALES,PROFIT,COST"
   ]
  },
  {
   "cell_type": "code",
   "execution_count": 22,
   "metadata": {},
   "outputs": [
    {
     "data": {
      "text/plain": [
       "<matplotlib.axes._subplots.AxesSubplot at 0x22a67c13d48>"
      ]
     },
     "execution_count": 22,
     "metadata": {},
     "output_type": "execute_result"
    },
    {
     "data": {
      "image/png": "[encoded data removed]",
      "text/plain": [
       "<Figure size 432x288 with 1 Axes>"
      ]
     },
     "metadata": {},
     "output_type": "display_data"
    },
    {
     "data": {
      "image/png": "[encoded data removed]",
      "text/plain": [
       "<Figure size 432x288 with 1 Axes>"
      ]
     },
     "metadata": {},
     "output_type": "display_data"
    },
    {
     "data": {
      "image/png": "[encoded data removed]",
      "text/plain": [
       "<Figure size 432x288 with 1 Axes>"
      ]
     },
     "metadata": {},
     "output_type": "display_data"
    }
   ],
   "source": [
    "sns.set_style('whitegrid')\n",
    "df.groupby('Category')[['Sales']].sum().plot.bar(color='k')\n",
    "df.groupby('Category')[['Shipping Cost']].sum().plot.bar(color='r')\n",
    "df.groupby('Category')[['Profit']].sum().plot.bar(color='b')"
   ]
  },
  {
   "cell_type": "code",
   "execution_count": 23,
   "metadata": {},
   "outputs": [
    {
     "name": "stdout",
     "output_type": "stream",
     "text": [
      "                       Profit         Sales  Shipping Cost\n",
      "Category                                                  \n",
      "Furniture        285082.73020  4.110452e+06    440586.3690\n",
      "Office Supplies  518595.82790  3.787493e+06    410302.4550\n",
      "Technology       663778.73318  4.744557e+06    507196.8794\n"
     ]
    },
    {
     "data": {
      "text/plain": [
       "Text(0.5, 0, 'Categories')"
      ]
     },
     "execution_count": 23,
     "metadata": {},
     "output_type": "execute_result"
    },
    {
     "data": {
      "image/png": "[encoded data removed]",
      "text/plain": [
       "<Figure size 504x504 with 1 Axes>"
      ]
     },
     "metadata": {},
     "output_type": "display_data"
    }
   ],
   "source": [
    "sns.set_style('darkgrid')\n",
    "print(df.groupby('Category')[['Profit','Sales','Shipping Cost']].sum())\n",
    "df.groupby('Category')[['Profit','Sales','Shipping Cost']].sum().plot.bar(figsize=(7,7))\n",
    "plt.ylabel('Amount',fontsize=16,color='b')\n",
    "plt.xlabel('Categories',fontsize=16,color='r')"
   ]
  },
  {
   "cell_type": "markdown",
   "metadata": {},
   "source": [
    "# CLUSTERS OF MARKET"
   ]
  },
  {
   "cell_type": "code",
   "execution_count": 24,
   "metadata": {},
   "outputs": [
    {
     "data": {
      "text/plain": [
       "array(['Asia Pacific', 'Europe', 'Africa', 'LATAM', 'USCA'], dtype=object)"
      ]
     },
     "execution_count": 24,
     "metadata": {},
     "output_type": "execute_result"
    }
   ],
   "source": [
    "df['Market'].unique()"
   ]
  },
  {
   "cell_type": "code",
   "execution_count": 25,
   "metadata": {},
   "outputs": [],
   "source": [
    "Asia=df[df.Market=='Asia Pacific']\n",
    "Europe=df[df.Market=='Europe']\n",
    "Africa=df[df.Market=='Africa']\n",
    "LATAM=df[df.Market=='LATAM']\n",
    "USCA=df[df.Market=='USCA']\n"
   ]
  },
  {
   "cell_type": "code",
   "execution_count": 26,
   "metadata": {},
   "outputs": [
    {
     "name": "stdout",
     "output_type": "stream",
     "text": [
      "(14302, 7)\n",
      "(11729, 7)\n",
      "(4587, 7)\n",
      "(10294, 7)\n",
      "(10378, 7)\n",
      "Asia Pacific    14302\n",
      "Europe          11729\n",
      "USCA            10378\n",
      "LATAM           10294\n",
      "Africa           4587\n",
      "Name: Market, dtype: int64\n"
     ]
    }
   ],
   "source": [
    "d=[Asia, Europe, Africa, LATAM, USCA]\n",
    "for i in d:\n",
    "    print(i.shape)\n",
    "print(df['Market'].value_counts())"
   ]
  },
  {
   "cell_type": "markdown",
   "metadata": {},
   "source": [
    "# CLUSTERS OF SUB-CATEGORY"
   ]
  },
  {
   "cell_type": "code",
   "execution_count": 27,
   "metadata": {},
   "outputs": [
    {
     "data": {
      "text/plain": [
       "array(['Bookcases', 'Supplies', 'Machines', 'Furnishings', 'Envelopes',\n",
       "       'Tables', 'Chairs', 'Phones', 'Appliances', 'Copiers', 'Storage',\n",
       "       'Paper', 'Accessories', 'Art', 'Binders', 'Labels', 'Fasteners'],\n",
       "      dtype=object)"
      ]
     },
     "execution_count": 27,
     "metadata": {},
     "output_type": "execute_result"
    }
   ],
   "source": [
    "df['Sub-Category'].unique()"
   ]
  },
  {
   "cell_type": "code",
   "execution_count": 28,
   "metadata": {},
   "outputs": [],
   "source": [
    "bookcase=df[df['Sub-Category']=='Bookcases']\n",
    "supplies=df[df['Sub-Category']=='Supplies']\n",
    "Machines=df[df['Sub-Category']=='Machines']\n",
    "furnishing=df[df['Sub-Category']=='Furnishings']\n",
    "envelopes=df[df['Sub-Category']=='Envelopes']\n",
    "Tables=df[df['Sub-Category']=='Tables']\n",
    "chairs=df[df['Sub-Category']=='Chairs']\n",
    "phones=df[df['Sub-Category']=='Phones']\n",
    "appliances=df[df['Sub-Category']=='Appliances']\n",
    "copiers=df[df['Sub-Category']=='Copiers']\n",
    "storage=df[df['Sub-Category']=='Storage']\n",
    "paper=df[df['Sub-Category']=='Paper']\n",
    "accessories=df[df['Sub-Category']=='Accessories']\n",
    "art=df[df['Sub-Category']=='Art']\n",
    "binders=df[df['Sub-Category']=='Binders']\n",
    "labels=df[df['Sub-Category']=='Labels']\n",
    "fasteners=df[df['Sub-Category']=='Fasteners']"
   ]
  },
  {
   "cell_type": "code",
   "execution_count": 29,
   "metadata": {},
   "outputs": [
    {
     "name": "stdout",
     "output_type": "stream",
     "text": [
      "(2411, 7)\n",
      "(2407, 7)\n",
      "(1486, 7)\n",
      "(3154, 7)\n",
      "(2387, 7)\n",
      "(861, 7)\n",
      "(3434, 7)\n",
      "(3357, 7)\n",
      "(1742, 7)\n",
      "(2223, 7)\n",
      "(5049, 7)\n",
      "(3492, 7)\n",
      "(3075, 7)\n",
      "(4864, 7)\n",
      "(6146, 7)\n",
      "(2601, 7)\n",
      "(2601, 7)\n",
      "Binders        6146\n",
      "Storage        5049\n",
      "Art            4864\n",
      "Paper          3492\n",
      "Chairs         3434\n",
      "Phones         3357\n",
      "Furnishings    3154\n",
      "Accessories    3075\n",
      "Labels         2601\n",
      "Fasteners      2601\n",
      "Bookcases      2411\n",
      "Supplies       2407\n",
      "Envelopes      2387\n",
      "Copiers        2223\n",
      "Appliances     1742\n",
      "Machines       1486\n",
      "Tables          861\n",
      "Name: Sub-Category, dtype: int64\n"
     ]
    }
   ],
   "source": [
    "sub_cat=[bookcase, supplies, Machines, furnishing, envelopes,\n",
    "       Tables, chairs, phones, appliances, copiers, storage,\n",
    "       paper, accessories, art, binders, labels, fasteners]\n",
    "for i in sub_cat:\n",
    "    print(i.shape)\n",
    "print(df['Sub-Category'].value_counts())"
   ]
  },
  {
   "cell_type": "markdown",
   "metadata": {},
   "source": [
    "# CLUSTERS OF CATEGORY"
   ]
  },
  {
   "cell_type": "code",
   "execution_count": 30,
   "metadata": {},
   "outputs": [
    {
     "data": {
      "text/plain": [
       "array(['Furniture', 'Office Supplies', 'Technology'], dtype=object)"
      ]
     },
     "execution_count": 30,
     "metadata": {},
     "output_type": "execute_result"
    }
   ],
   "source": [
    "df['Category'].unique()"
   ]
  },
  {
   "cell_type": "code",
   "execution_count": 31,
   "metadata": {},
   "outputs": [],
   "source": [
    "Furniture=df[df['Category']=='Furniture']\n",
    "Office=df[df['Category']=='Office Supplies']\n",
    "Tech=df[df['Category']=='Technology']"
   ]
  },
  {
   "cell_type": "code",
   "execution_count": 32,
   "metadata": {},
   "outputs": [
    {
     "name": "stdout",
     "output_type": "stream",
     "text": [
      "(9860, 7)\n",
      "(31289, 7)\n",
      "(10141, 7)\n",
      "Office Supplies    31289\n",
      "Technology         10141\n",
      "Furniture           9860\n",
      "Name: Category, dtype: int64\n"
     ]
    }
   ],
   "source": [
    "listt=[Furniture,Office,Tech]\n",
    "for i in listt:\n",
    "    print(i.shape)\n",
    "print(df['Category'].value_counts())\n",
    "    "
   ]
  },
  {
   "cell_type": "code",
   "execution_count": 33,
   "metadata": {},
   "outputs": [],
   "source": [
    "df.drop(['Region'],axis=1,inplace=True)"
   ]
  },
  {
   "cell_type": "code",
   "execution_count": 34,
   "metadata": {},
   "outputs": [
    {
     "data": {
      "text/plain": [
       "Index(['Market', 'Sub-Category', 'Category', 'Sales', 'Profit',\n",
       "       'Shipping Cost'],\n",
       "      dtype='object')"
      ]
     },
     "execution_count": 34,
     "metadata": {},
     "output_type": "execute_result"
    }
   ],
   "source": [
    "df.columns"
   ]
  },
  {
   "cell_type": "markdown",
   "metadata": {},
   "source": [
    "# K-MEANS"
   ]
  },
  {
   "cell_type": "markdown",
   "metadata": {},
   "source": [
    "## DUMMY CODING"
   ]
  },
  {
   "cell_type": "code",
   "execution_count": 35,
   "metadata": {},
   "outputs": [
    {
     "data": {
      "text/plain": [
       "Index(['Sales', 'Profit', 'Shipping Cost', 'Market_Asia Pacific',\n",
       "       'Market_Europe', 'Market_LATAM', 'Market_USCA',\n",
       "       'Sub-Category_Appliances', 'Sub-Category_Art', 'Sub-Category_Binders',\n",
       "       'Sub-Category_Bookcases', 'Sub-Category_Chairs', 'Sub-Category_Copiers',\n",
       "       'Sub-Category_Envelopes', 'Sub-Category_Fasteners',\n",
       "       'Sub-Category_Furnishings', 'Sub-Category_Labels',\n",
       "       'Sub-Category_Machines', 'Sub-Category_Paper', 'Sub-Category_Phones',\n",
       "       'Sub-Category_Storage', 'Sub-Category_Supplies', 'Sub-Category_Tables',\n",
       "       'Category_Office Supplies', 'Category_Technology'],\n",
       "      dtype='object')"
      ]
     },
     "execution_count": 35,
     "metadata": {},
     "output_type": "execute_result"
    }
   ],
   "source": [
    "categorical=[col for col in df.columns.values if df[col].dtype=='object']\n",
    "df_cat=df[categorical]\n",
    "df_num=df.drop(df_cat,axis=1)\n",
    "df_cat=pd.get_dummies(df_cat,drop_first=True)\n",
    "data=pd.concat([df_num,df_cat],axis=1)\n",
    "data.columns"
   ]
  },
  {
   "cell_type": "markdown",
   "metadata": {},
   "source": [
    "# ELBOW METHOD"
   ]
  },
  {
   "cell_type": "code",
   "execution_count": 36,
   "metadata": {},
   "outputs": [
    {
     "data": {
      "text/plain": [
       "KMeans(algorithm='auto', copy_x=True, init='k-means++', max_iter=300,\n",
       "       n_clusters=3, n_init=10, n_jobs=None, precompute_distances='auto',\n",
       "       random_state=None, tol=0.0001, verbose=0)"
      ]
     },
     "execution_count": 36,
     "metadata": {},
     "output_type": "execute_result"
    }
   ],
   "source": [
    "from sklearn.cluster import KMeans\n",
    "km=KMeans(3)\n",
    "km.fit(data)\n"
   ]
  },
  {
   "cell_type": "code",
   "execution_count": 37,
   "metadata": {},
   "outputs": [
    {
     "data": {
      "text/plain": [
       "Text(0, 0.5, 'WCSS')"
      ]
     },
     "execution_count": 37,
     "metadata": {},
     "output_type": "execute_result"
    },
    {
     "data": {
      "image/png": "[encoded data removed]",
      "text/plain": [
       "<Figure size 432x288 with 1 Axes>"
      ]
     },
     "metadata": {},
     "output_type": "display_data"
    }
   ],
   "source": [
    "wcss = []\n",
    "for i in range(1,11):\n",
    "  kmeans = KMeans(n_clusters=i, init= 'k-means++', random_state=1)\n",
    "  kmeans.fit(data)\n",
    "  wcss.append(kmeans.inertia_)\n",
    "plt.plot(range(1,11),wcss)\n",
    "plt.title('The elbow method')\n",
    "plt.xlabel('Number of clusters')\n",
    "plt.ylabel('WCSS')\n"
   ]
  },
  {
   "cell_type": "code",
   "execution_count": 38,
   "metadata": {},
   "outputs": [
    {
     "data": {
      "text/plain": [
       "Text(0, 0.5, 'WCSS')"
      ]
     },
     "execution_count": 38,
     "metadata": {},
     "output_type": "execute_result"
    },
    {
     "data": {
      "image/png": "[encoded data removed]",
      "text/plain": [
       "<Figure size 432x288 with 1 Axes>"
      ]
     },
     "metadata": {},
     "output_type": "display_data"
    }
   ],
   "source": [
    "km=KMeans(5)\n",
    "km.fit(data)\n",
    "wcss = []\n",
    "for i in range(1,11):\n",
    "  kmeans = KMeans(n_clusters=i, init= 'k-means++', random_state=1)\n",
    "  kmeans.fit(data)\n",
    "  wcss.append(kmeans.inertia_)\n",
    "plt.plot(range(1,11),wcss)\n",
    "plt.title('The elbow method')\n",
    "plt.xlabel('Number of clusters')\n",
    "plt.ylabel('WCSS')"
   ]
  },
  {
   "cell_type": "markdown",
   "metadata": {},
   "source": [
    "# SILHOUTTE METHOD"
   ]
  },
  {
   "cell_type": "code",
   "execution_count": 39,
   "metadata": {},
   "outputs": [
    {
     "data": {
      "image/png": "[encoded data removed]",
      "text/plain": [
       "<Figure size 432x288 with 1 Axes>"
      ]
     },
     "metadata": {},
     "output_type": "display_data"
    }
   ],
   "source": [
    "from sklearn.metrics import silhouette_score\n",
    "silhouette_scores = [] \n",
    "\n",
    "for n_cluster in range(2, 8):\n",
    "    silhouette_scores.append( \n",
    "        silhouette_score(data, KMeans(n_clusters = n_cluster).fit_predict(data))) \n",
    "    \n",
    "# Plotting a bar graph to compare the results \n",
    "k = [2, 3, 4, 5, 6,7] \n",
    "plt.bar(k, silhouette_scores) \n",
    "plt.xlabel('Number of clusters', fontsize = 10) \n",
    "plt.ylabel('Silhouette Score', fontsize = 10) \n",
    "plt.show() "
   ]
  },
  {
   "cell_type": "markdown",
   "metadata": {},
   "source": [
    "# PCA"
   ]
  },
  {
   "cell_type": "code",
   "execution_count": 40,
   "metadata": {},
   "outputs": [
    {
     "data": {
      "text/plain": [
       "array([[ 4.89794066e+02,  1.78925580e+01,  3.07894294e+01, ...,\n",
       "        -1.33689263e-02,  3.03600022e-15,  9.60398825e-15],\n",
       "       [ 1.06268340e+01, -7.52850893e+01,  6.76475501e+00, ...,\n",
       "         1.94266227e-04,  4.28085115e-16,  5.16345487e-16],\n",
       "       [ 9.37930709e+01,  3.27783675e+01,  2.16306801e+01, ...,\n",
       "        -2.51695682e-01, -5.54269209e-17,  2.91057682e-15],\n",
       "       ...,\n",
       "       [-2.42832617e+02, -7.95509018e+00,  3.32192485e+00, ...,\n",
       "         1.52871758e-02,  2.37554260e-17, -7.73512439e-18],\n",
       "       [-1.78644701e+02,  1.72132380e+02,  7.72151968e+00, ...,\n",
       "        -2.33540445e-01,  7.89301975e-18,  1.23514068e-18],\n",
       "       [-2.46359256e+02, -1.24196435e+01,  3.26297858e+00, ...,\n",
       "         1.74593801e-02,  6.61788605e-19, -5.94556256e-17]])"
      ]
     },
     "execution_count": 40,
     "metadata": {},
     "output_type": "execute_result"
    }
   ],
   "source": [
    "from sklearn.decomposition import PCA\n",
    "\n",
    "pca = PCA()\n",
    "dd=pca.fit_transform(data)\n",
    "dd\n"
   ]
  },
  {
   "cell_type": "code",
   "execution_count": 41,
   "metadata": {},
   "outputs": [
    {
     "ename": "NameError",
     "evalue": "name 'PCA_component' is not defined",
     "output_type": "error",
     "traceback": [
      "\u001b[1;31m---------------------------------------------------------------------------\u001b[0m",
      "\u001b[1;31mNameError\u001b[0m                                 Traceback (most recent call last)",
      "\u001b[1;32m<ipython-input-41-5e1228f3cda0>\u001b[0m in \u001b[0;36m<module>\u001b[1;34m\u001b[0m\n\u001b[0;32m      1\u001b[0m \u001b[0mPCA_components\u001b[0m \u001b[1;33m=\u001b[0m \u001b[0mpd\u001b[0m\u001b[1;33m.\u001b[0m\u001b[0mDataFrame\u001b[0m\u001b[1;33m(\u001b[0m\u001b[0mdd\u001b[0m\u001b[1;33m)\u001b[0m\u001b[1;33m\u001b[0m\u001b[1;33m\u001b[0m\u001b[0m\n\u001b[1;32m----> 2\u001b[1;33m \u001b[0mPCA_component\u001b[0m\u001b[1;33m\u001b[0m\u001b[1;33m\u001b[0m\u001b[0m\n\u001b[0m",
      "\u001b[1;31mNameError\u001b[0m: name 'PCA_component' is not defined"
     ]
    }
   ],
   "source": [
    "PCA_components = pd.DataFrame(dd)\n",
    "PCA_component"
   ]
  },
  {
   "cell_type": "code",
   "execution_count": null,
   "metadata": {},
   "outputs": [],
   "source": [
    "features = range(pca.n_components_)\n",
    "plt.bar(features, pca.explained_variance_ratio_, color='black')\n",
    "plt.xlabel('PCA features')\n",
    "plt.ylabel('variance %')\n",
    "plt.xticks(features)"
   ]
  },
  {
   "cell_type": "markdown",
   "metadata": {},
   "source": [
    "# KMEANS WITH PCA"
   ]
  },
  {
   "cell_type": "code",
   "execution_count": null,
   "metadata": {},
   "outputs": [],
   "source": [
    "ks = range(1, 10)\n",
    "inertias = []\n",
    "for k in ks:\n",
    "    # Create a KMeans instance with k clusters: model\n",
    "    model = KMeans(n_clusters=k)\n",
    "    \n",
    "    # Fit model to samples\n",
    "    model.fit(PCA_components.iloc[:,:])\n",
    "    \n",
    "    # Append the inertia to the list of inertias\n",
    "    inertias.append(model.inertia_)\n",
    "    \n",
    "plt.plot(ks, inertias, '-o', color='black')\n",
    "plt.xlabel('number of clusters, k')\n",
    "plt.ylabel('inertia')\n",
    "plt.xticks(ks)\n",
    "plt.show()"
   ]
  },
  {
   "cell_type": "markdown",
   "metadata": {},
   "source": [
    "# HENCE, THE NUMBER OF CLUSTERS FOR GIVEN DATASET IS 5."
   ]
  },
  {
   "cell_type": "code",
   "execution_count": null,
   "metadata": {},
   "outputs": [],
   "source": [
    "# FOR MARKET ALONE clustering"
   ]
  },
  {
   "cell_type": "code",
   "execution_count": null,
   "metadata": {},
   "outputs": [],
   "source": [
    "df1=df.drop(['Sub-Category','Category','Region'],axis=1)\n",
    "df1.head()"
   ]
  },
  {
   "cell_type": "code",
   "execution_count": null,
   "metadata": {},
   "outputs": [],
   "source": [
    "# Import label encoder \n",
    "from sklearn import preprocessing \n",
    "\n",
    "label_encoder = preprocessing.LabelEncoder() \n",
    "\n",
    "df1['Market']= label_encoder.fit_transform(df1['Market']) \n",
    "\n",
    "df1['Market'].unique() \n"
   ]
  },
  {
   "cell_type": "code",
   "execution_count": null,
   "metadata": {},
   "outputs": [],
   "source": [
    "#STANDARADIZATION\n",
    "from sklearn.preprocessing import StandardScaler\n",
    "std=StandardScaler()\n",
    "dff=std.fit_transform(df1)\n",
    "dff\n",
    "\n"
   ]
  },
  {
   "cell_type": "code",
   "execution_count": null,
   "metadata": {},
   "outputs": [],
   "source": [
    "from sklearn.cluster import KMeans\n",
    "km=KMeans(5)\n",
    "km.fit(dff)\n",
    "df1['Group']=km.fit_predict(dff)"
   ]
  },
  {
   "cell_type": "code",
   "execution_count": null,
   "metadata": {},
   "outputs": [],
   "source": [
    "df1['Group'].unique()"
   ]
  },
  {
   "cell_type": "code",
   "execution_count": null,
   "metadata": {},
   "outputs": [],
   "source": [
    "wcss = []\n",
    "for i in range(1,11):\n",
    "  kmeans = KMeans(n_clusters=i, init= 'k-means++', random_state=1)\n",
    "  kmeans.fit(df1)\n",
    "  wcss.append(kmeans.inertia_)\n",
    "plt.plot(range(1,11),wcss)\n",
    "plt.title('The elbow method')\n",
    "plt.xlabel('Number of clusters')\n",
    "plt.ylabel('WCSS')"
   ]
  },
  {
   "cell_type": "code",
   "execution_count": null,
   "metadata": {},
   "outputs": [],
   "source": [
    "df1['Group'].value_counts()"
   ]
  },
  {
   "cell_type": "code",
   "execution_count": null,
   "metadata": {},
   "outputs": [],
   "source": [
    "grp0=df1[df1['Group']==0]\n",
    "grp1=df1[df1['Group']==1]\n",
    "grp2=df1[df1['Group']==2]\n",
    "grp3=df1[df1['Group']==3]\n",
    "grp4=df1[df1['Group']==4]\n"
   ]
  },
  {
   "cell_type": "code",
   "execution_count": null,
   "metadata": {},
   "outputs": [],
   "source": [
    "# DBSCAN"
   ]
  },
  {
   "cell_type": "code",
   "execution_count": null,
   "metadata": {},
   "outputs": [],
   "source": [
    "from sklearn.cluster import DBSCAN\n",
    "db=DBSCAN(eps=0.7)\n",
    "db.fit(dff)"
   ]
  },
  {
   "cell_type": "code",
   "execution_count": null,
   "metadata": {},
   "outputs": [],
   "source": [
    "core_samples_mask = np.zeros_like(db.labels_, dtype=bool)\n",
    "core_samples_mask[db.core_sample_indices_] = True\n",
    "labels = db.labels_"
   ]
  },
  {
   "cell_type": "code",
   "execution_count": null,
   "metadata": {},
   "outputs": [],
   "source": [
    "n_clusters_ = len(set(labels)) - (1 if -1 in labels else 0)\n",
    "n_noise_ = list(labels).count(-1)"
   ]
  },
  {
   "cell_type": "code",
   "execution_count": null,
   "metadata": {},
   "outputs": [],
   "source": [
    "n_clusters_"
   ]
  },
  {
   "cell_type": "code",
   "execution_count": null,
   "metadata": {},
   "outputs": [],
   "source": [
    "n_noise_"
   ]
  }
 ],
 "metadata": {
  "kernelspec": {
   "display_name": "Python 3",
   "language": "python",
   "name": "python3"
  },
  "language_info": {
   "codemirror_mode": {
    "name": "ipython",
    "version": 3
   },
   "file_extension": ".py",
   "mimetype": "text/x-python",
   "name": "python",
   "nbconvert_exporter": "python",
   "pygments_lexer": "ipython3",
   "version": "3.7.6"
  }
 },
 "nbformat": 4,
 "nbformat_minor": 4
}
