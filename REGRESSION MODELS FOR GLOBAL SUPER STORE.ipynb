{
 "cells": [
  {
   "cell_type": "markdown",
   "metadata": {},
   "source": [
    "# 3. In global superstore build regression models for sales, profits, costs based on continent, country, category, and subcategory. Evaluate the models accuracies and errors\n"
   ]
  },
  {
   "cell_type": "markdown",
   "metadata": {},
   "source": [
    "# IMPORTING LIBRARIES"
   ]
  },
  {
   "cell_type": "code",
   "execution_count": 1,
   "metadata": {},
   "outputs": [],
   "source": [
    "import warnings\n",
    "from warnings import filterwarnings\n",
    "filterwarnings('ignore')"
   ]
  },
  {
   "cell_type": "code",
   "execution_count": 2,
   "metadata": {},
   "outputs": [],
   "source": [
    "import numpy as np\n",
    "import pandas as pd\n",
    "import seaborn as sns\n",
    "import sklearn\n",
    "import matplotlib.pyplot as plt"
   ]
  },
  {
   "cell_type": "markdown",
   "metadata": {},
   "source": [
    "# LOADING DATASET"
   ]
  },
  {
   "cell_type": "code",
   "execution_count": 3,
   "metadata": {},
   "outputs": [
    {
     "data": {
      "text/html": [
       "<div>\n",
       "<style scoped>\n",
       "    .dataframe tbody tr th:only-of-type {\n",
       "        vertical-align: middle;\n",
       "    }\n",
       "\n",
       "    .dataframe tbody tr th {\n",
       "        vertical-align: top;\n",
       "    }\n",
       "\n",
       "    .dataframe thead th {\n",
       "        text-align: right;\n",
       "    }\n",
       "</style>\n",
       "<table border=\"1\" class=\"dataframe\">\n",
       "  <thead>\n",
       "    <tr style=\"text-align: right;\">\n",
       "      <th></th>\n",
       "      <th>Row ID</th>\n",
       "      <th>Order ID</th>\n",
       "      <th>Order Date</th>\n",
       "      <th>Ship Date</th>\n",
       "      <th>Ship Mode</th>\n",
       "      <th>Customer ID</th>\n",
       "      <th>Customer Name</th>\n",
       "      <th>Segment</th>\n",
       "      <th>Postal Code</th>\n",
       "      <th>City</th>\n",
       "      <th>...</th>\n",
       "      <th>Product Name</th>\n",
       "      <th>Sub-Category</th>\n",
       "      <th>Category</th>\n",
       "      <th>Sales</th>\n",
       "      <th>Quantity</th>\n",
       "      <th>Discount</th>\n",
       "      <th>Profit</th>\n",
       "      <th>Margin</th>\n",
       "      <th>Shipping Cost</th>\n",
       "      <th>Order Priority</th>\n",
       "    </tr>\n",
       "  </thead>\n",
       "  <tbody>\n",
       "    <tr>\n",
       "      <th>0</th>\n",
       "      <td>24599</td>\n",
       "      <td>IN-2017-CA120551-42816</td>\n",
       "      <td>22-03-17</td>\n",
       "      <td>29-03-17</td>\n",
       "      <td>Standard Class</td>\n",
       "      <td>CA-120551</td>\n",
       "      <td>Cathy Armstrong</td>\n",
       "      <td>Home Office</td>\n",
       "      <td>NaN</td>\n",
       "      <td>Herat</td>\n",
       "      <td>...</td>\n",
       "      <td>Ikea Library with Doors, Mobile</td>\n",
       "      <td>Bookcases</td>\n",
       "      <td>Furniture</td>\n",
       "      <td>731.82</td>\n",
       "      <td>2</td>\n",
       "      <td>0.0</td>\n",
       "      <td>102.42</td>\n",
       "      <td>14.00%</td>\n",
       "      <td>39.66</td>\n",
       "      <td>Medium</td>\n",
       "    </tr>\n",
       "    <tr>\n",
       "      <th>1</th>\n",
       "      <td>29465</td>\n",
       "      <td>ID-2015-BD116051-42248</td>\n",
       "      <td>01-09-15</td>\n",
       "      <td>04-09-15</td>\n",
       "      <td>Second Class</td>\n",
       "      <td>BD-116051</td>\n",
       "      <td>Brian Dahlen</td>\n",
       "      <td>Consumer</td>\n",
       "      <td>NaN</td>\n",
       "      <td>Herat</td>\n",
       "      <td>...</td>\n",
       "      <td>Acme Scissors, Easy Grip</td>\n",
       "      <td>Supplies</td>\n",
       "      <td>Office Supplies</td>\n",
       "      <td>243.54</td>\n",
       "      <td>9</td>\n",
       "      <td>0.0</td>\n",
       "      <td>104.49</td>\n",
       "      <td>42.90%</td>\n",
       "      <td>18.72</td>\n",
       "      <td>Medium</td>\n",
       "    </tr>\n",
       "    <tr>\n",
       "      <th>2</th>\n",
       "      <td>24598</td>\n",
       "      <td>IN-2017-CA120551-42816</td>\n",
       "      <td>22-03-17</td>\n",
       "      <td>29-03-17</td>\n",
       "      <td>Standard Class</td>\n",
       "      <td>CA-120551</td>\n",
       "      <td>Cathy Armstrong</td>\n",
       "      <td>Home Office</td>\n",
       "      <td>NaN</td>\n",
       "      <td>Herat</td>\n",
       "      <td>...</td>\n",
       "      <td>Epson Receipt Printer, White</td>\n",
       "      <td>Machines</td>\n",
       "      <td>Technology</td>\n",
       "      <td>346.32</td>\n",
       "      <td>3</td>\n",
       "      <td>0.0</td>\n",
       "      <td>13.77</td>\n",
       "      <td>3.98%</td>\n",
       "      <td>14.10</td>\n",
       "      <td>Medium</td>\n",
       "    </tr>\n",
       "    <tr>\n",
       "      <th>3</th>\n",
       "      <td>24597</td>\n",
       "      <td>IN-2017-CA120551-42816</td>\n",
       "      <td>22-03-17</td>\n",
       "      <td>29-03-17</td>\n",
       "      <td>Standard Class</td>\n",
       "      <td>CA-120551</td>\n",
       "      <td>Cathy Armstrong</td>\n",
       "      <td>Home Office</td>\n",
       "      <td>NaN</td>\n",
       "      <td>Herat</td>\n",
       "      <td>...</td>\n",
       "      <td>Rubbermaid Door Stop, Erganomic</td>\n",
       "      <td>Furnishings</td>\n",
       "      <td>Furniture</td>\n",
       "      <td>169.68</td>\n",
       "      <td>4</td>\n",
       "      <td>0.0</td>\n",
       "      <td>79.68</td>\n",
       "      <td>46.96%</td>\n",
       "      <td>11.01</td>\n",
       "      <td>Medium</td>\n",
       "    </tr>\n",
       "    <tr>\n",
       "      <th>4</th>\n",
       "      <td>29464</td>\n",
       "      <td>ID-2015-BD116051-42248</td>\n",
       "      <td>01-09-15</td>\n",
       "      <td>04-09-15</td>\n",
       "      <td>Second Class</td>\n",
       "      <td>BD-116051</td>\n",
       "      <td>Brian Dahlen</td>\n",
       "      <td>Consumer</td>\n",
       "      <td>NaN</td>\n",
       "      <td>Herat</td>\n",
       "      <td>...</td>\n",
       "      <td>Cameo Interoffice Envelope, with clear poly wi...</td>\n",
       "      <td>Envelopes</td>\n",
       "      <td>Office Supplies</td>\n",
       "      <td>203.88</td>\n",
       "      <td>4</td>\n",
       "      <td>0.0</td>\n",
       "      <td>24.36</td>\n",
       "      <td>11.95%</td>\n",
       "      <td>5.72</td>\n",
       "      <td>Medium</td>\n",
       "    </tr>\n",
       "  </tbody>\n",
       "</table>\n",
       "<p>5 rows × 25 columns</p>\n",
       "</div>"
      ],
      "text/plain": [
       "   Row ID                Order ID Order Date Ship Date       Ship Mode  \\\n",
       "0   24599  IN-2017-CA120551-42816   22-03-17  29-03-17  Standard Class   \n",
       "1   29465  ID-2015-BD116051-42248   01-09-15  04-09-15    Second Class   \n",
       "2   24598  IN-2017-CA120551-42816   22-03-17  29-03-17  Standard Class   \n",
       "3   24597  IN-2017-CA120551-42816   22-03-17  29-03-17  Standard Class   \n",
       "4   29464  ID-2015-BD116051-42248   01-09-15  04-09-15    Second Class   \n",
       "\n",
       "  Customer ID    Customer Name      Segment  Postal Code   City  ...  \\\n",
       "0   CA-120551  Cathy Armstrong  Home Office          NaN  Herat  ...   \n",
       "1   BD-116051     Brian Dahlen     Consumer          NaN  Herat  ...   \n",
       "2   CA-120551  Cathy Armstrong  Home Office          NaN  Herat  ...   \n",
       "3   CA-120551  Cathy Armstrong  Home Office          NaN  Herat  ...   \n",
       "4   BD-116051     Brian Dahlen     Consumer          NaN  Herat  ...   \n",
       "\n",
       "                                        Product Name Sub-Category  \\\n",
       "0                    Ikea Library with Doors, Mobile    Bookcases   \n",
       "1                           Acme Scissors, Easy Grip     Supplies   \n",
       "2                       Epson Receipt Printer, White     Machines   \n",
       "3                    Rubbermaid Door Stop, Erganomic  Furnishings   \n",
       "4  Cameo Interoffice Envelope, with clear poly wi...    Envelopes   \n",
       "\n",
       "          Category   Sales Quantity Discount  Profit  Margin  Shipping Cost  \\\n",
       "0        Furniture  731.82        2      0.0  102.42  14.00%          39.66   \n",
       "1  Office Supplies  243.54        9      0.0  104.49  42.90%          18.72   \n",
       "2       Technology  346.32        3      0.0   13.77   3.98%          14.10   \n",
       "3        Furniture  169.68        4      0.0   79.68  46.96%          11.01   \n",
       "4  Office Supplies  203.88        4      0.0   24.36  11.95%           5.72   \n",
       "\n",
       "   Order Priority  \n",
       "0          Medium  \n",
       "1          Medium  \n",
       "2          Medium  \n",
       "3          Medium  \n",
       "4          Medium  \n",
       "\n",
       "[5 rows x 25 columns]"
      ]
     },
     "execution_count": 3,
     "metadata": {},
     "output_type": "execute_result"
    }
   ],
   "source": [
    "df=pd.read_csv('C:\\\\Users\\\\sowndariya\\\\Desktop\\\\Prasath sir\\\\Datasets\\\\global_superstore_2018.csv')\n",
    "df.head()"
   ]
  },
  {
   "cell_type": "markdown",
   "metadata": {},
   "source": [
    "# EXPLORATORY DATA ANALYSIS"
   ]
  },
  {
   "cell_type": "code",
   "execution_count": 4,
   "metadata": {},
   "outputs": [],
   "source": [
    "pd.set_option('max_rows',60000)\n",
    "pd.set_option('max_columns',25)"
   ]
  },
  {
   "cell_type": "code",
   "execution_count": 5,
   "metadata": {},
   "outputs": [
    {
     "data": {
      "text/plain": [
       "(51290, 25)"
      ]
     },
     "execution_count": 5,
     "metadata": {},
     "output_type": "execute_result"
    }
   ],
   "source": [
    "df.shape"
   ]
  },
  {
   "cell_type": "code",
   "execution_count": 6,
   "metadata": {},
   "outputs": [
    {
     "data": {
      "text/plain": [
       "array(['Home Office', 'Consumer', 'Corporate'], dtype=object)"
      ]
     },
     "execution_count": 6,
     "metadata": {},
     "output_type": "execute_result"
    }
   ],
   "source": [
    "df['Segment'].unique()"
   ]
  },
  {
   "cell_type": "code",
   "execution_count": 7,
   "metadata": {},
   "outputs": [
    {
     "name": "stdout",
     "output_type": "stream",
     "text": [
      "<class 'pandas.core.frame.DataFrame'>\n",
      "RangeIndex: 51290 entries, 0 to 51289\n",
      "Data columns (total 25 columns):\n",
      " #   Column          Non-Null Count  Dtype  \n",
      "---  ------          --------------  -----  \n",
      " 0   Row ID          51290 non-null  int64  \n",
      " 1   Order ID        51290 non-null  object \n",
      " 2   Order Date      51290 non-null  object \n",
      " 3   Ship Date       51290 non-null  object \n",
      " 4   Ship Mode       51290 non-null  object \n",
      " 5   Customer ID     51290 non-null  object \n",
      " 6   Customer Name   51290 non-null  object \n",
      " 7   Segment         51290 non-null  object \n",
      " 8   Postal Code     9994 non-null   float64\n",
      " 9   City            51290 non-null  object \n",
      " 10  State           51290 non-null  object \n",
      " 11  Country         51290 non-null  object \n",
      " 12  Region          51290 non-null  object \n",
      " 13  Market          51290 non-null  object \n",
      " 14  Product ID      51290 non-null  object \n",
      " 15  Product Name    51290 non-null  object \n",
      " 16  Sub-Category    51290 non-null  object \n",
      " 17  Category        51290 non-null  object \n",
      " 18  Sales           51290 non-null  float64\n",
      " 19  Quantity        51290 non-null  int64  \n",
      " 20  Discount        51290 non-null  float64\n",
      " 21  Profit          51290 non-null  float64\n",
      " 22  Margin          51290 non-null  object \n",
      " 23  Shipping Cost   51290 non-null  float64\n",
      " 24  Order Priority  51290 non-null  object \n",
      "dtypes: float64(5), int64(2), object(18)\n",
      "memory usage: 9.8+ MB\n"
     ]
    }
   ],
   "source": [
    "df.info()"
   ]
  },
  {
   "cell_type": "code",
   "execution_count": 8,
   "metadata": {},
   "outputs": [
    {
     "data": {
      "text/plain": [
       "Row ID                0\n",
       "Order ID              0\n",
       "Order Date            0\n",
       "Ship Date             0\n",
       "Ship Mode             0\n",
       "Customer ID           0\n",
       "Customer Name         0\n",
       "Segment               0\n",
       "Postal Code       41296\n",
       "City                  0\n",
       "State                 0\n",
       "Country               0\n",
       "Region                0\n",
       "Market                0\n",
       "Product ID            0\n",
       "Product Name          0\n",
       "Sub-Category          0\n",
       "Category              0\n",
       "Sales                 0\n",
       "Quantity              0\n",
       "Discount              0\n",
       "Profit                0\n",
       "Margin                0\n",
       "Shipping Cost         0\n",
       "Order Priority        0\n",
       "dtype: int64"
      ]
     },
     "execution_count": 8,
     "metadata": {},
     "output_type": "execute_result"
    }
   ],
   "source": [
    "df.isnull().sum()"
   ]
  },
  {
   "cell_type": "code",
   "execution_count": 9,
   "metadata": {},
   "outputs": [
    {
     "data": {
      "text/plain": [
       "Row ID            51290\n",
       "Order ID          25728\n",
       "Order Date         1429\n",
       "Ship Date          1463\n",
       "Ship Mode             4\n",
       "Customer ID       17415\n",
       "Customer Name       796\n",
       "Segment               3\n",
       "Postal Code         631\n",
       "City               3650\n",
       "State              1106\n",
       "Country             165\n",
       "Region               23\n",
       "Market                5\n",
       "Product ID         3788\n",
       "Product Name       3788\n",
       "Sub-Category         17\n",
       "Category              3\n",
       "Sales             22995\n",
       "Quantity             14\n",
       "Discount             27\n",
       "Profit            24575\n",
       "Margin             5942\n",
       "Shipping Cost     16452\n",
       "Order Priority        4\n",
       "dtype: int64"
      ]
     },
     "execution_count": 9,
     "metadata": {},
     "output_type": "execute_result"
    }
   ],
   "source": [
    "df.nunique()"
   ]
  },
  {
   "cell_type": "code",
   "execution_count": 10,
   "metadata": {},
   "outputs": [
    {
     "data": {
      "text/plain": [
       "Row ID              int64\n",
       "Order ID           object\n",
       "Order Date         object\n",
       "Ship Date          object\n",
       "Ship Mode          object\n",
       "Customer ID        object\n",
       "Customer Name      object\n",
       "Segment            object\n",
       "Postal Code       float64\n",
       "City               object\n",
       "State              object\n",
       "Country            object\n",
       "Region             object\n",
       "Market             object\n",
       "Product ID         object\n",
       "Product Name       object\n",
       "Sub-Category       object\n",
       "Category           object\n",
       "Sales             float64\n",
       "Quantity            int64\n",
       "Discount          float64\n",
       "Profit            float64\n",
       "Margin             object\n",
       "Shipping Cost     float64\n",
       "Order Priority     object\n",
       "dtype: object"
      ]
     },
     "execution_count": 10,
     "metadata": {},
     "output_type": "execute_result"
    }
   ],
   "source": [
    "df.dtypes"
   ]
  },
  {
   "cell_type": "code",
   "execution_count": 11,
   "metadata": {},
   "outputs": [
    {
     "data": {
      "text/plain": [
       "Index(['Row ID', 'Order ID', 'Order Date', 'Ship Date', 'Ship Mode',\n",
       "       'Customer ID', 'Customer Name', 'Segment', 'Postal Code', 'City',\n",
       "       'State', 'Country', 'Region', 'Market', 'Product ID', 'Product Name',\n",
       "       'Sub-Category', 'Category', 'Sales', 'Quantity', 'Discount', 'Profit',\n",
       "       'Margin', 'Shipping Cost', 'Order Priority'],\n",
       "      dtype='object')"
      ]
     },
     "execution_count": 11,
     "metadata": {},
     "output_type": "execute_result"
    }
   ],
   "source": [
    "df.columns"
   ]
  },
  {
   "cell_type": "code",
   "execution_count": 12,
   "metadata": {},
   "outputs": [
    {
     "data": {
      "text/plain": [
       "Row ID              int64\n",
       "Order ID           object\n",
       "Order Date         object\n",
       "Ship Date          object\n",
       "Ship Mode          object\n",
       "Customer ID        object\n",
       "Customer Name      object\n",
       "Segment            object\n",
       "Postal Code       float64\n",
       "City               object\n",
       "State              object\n",
       "Country            object\n",
       "Region             object\n",
       "Market             object\n",
       "Product ID         object\n",
       "Product Name       object\n",
       "Sub-Category       object\n",
       "Category           object\n",
       "Sales             float64\n",
       "Quantity            int64\n",
       "Discount          float64\n",
       "Profit            float64\n",
       "Margin             object\n",
       "Shipping Cost     float64\n",
       "Order Priority     object\n",
       "dtype: object"
      ]
     },
     "execution_count": 12,
     "metadata": {},
     "output_type": "execute_result"
    }
   ],
   "source": [
    "df.dtypes"
   ]
  },
  {
   "cell_type": "code",
   "execution_count": 13,
   "metadata": {},
   "outputs": [
    {
     "data": {
      "text/plain": [
       "Index(['Row ID', 'Order ID', 'Order Date', 'Ship Date', 'Ship Mode',\n",
       "       'Customer ID', 'Customer Name', 'Segment', 'Postal Code', 'City',\n",
       "       'State', 'Country', 'Region', 'Market', 'Product ID', 'Product Name',\n",
       "       'Sub-Category', 'Category', 'Sales', 'Quantity', 'Discount', 'Profit',\n",
       "       'Margin', 'Shipping Cost', 'Order Priority'],\n",
       "      dtype='object')"
      ]
     },
     "execution_count": 13,
     "metadata": {},
     "output_type": "execute_result"
    }
   ],
   "source": [
    "df.columns"
   ]
  },
  {
   "cell_type": "code",
   "execution_count": 14,
   "metadata": {},
   "outputs": [
    {
     "data": {
      "image/png": "[encoded data removed]",
      "text/plain": [
       "<Figure size 720x360 with 1 Axes>"
      ]
     },
     "metadata": {
      "needs_background": "light"
     },
     "output_type": "display_data"
    }
   ],
   "source": [
    "#checking null values\n",
    "plt.figure(figsize=(10,5))\n",
    "sns.heatmap(df.isnull(),yticklabels=False,cbar=False,cmap='Greens')\n",
    "plt.show()"
   ]
  },
  {
   "cell_type": "code",
   "execution_count": 15,
   "metadata": {},
   "outputs": [],
   "source": [
    "#remove unwanted columns\n",
    "df.drop(['Row ID', 'Order ID', 'Order Date', 'Ship Date', 'Ship Mode',\n",
    "       'Customer ID', 'Customer Name','Product ID','Quantity','Discount', 'Product Name','Region','Order Priority','City', 'State', 'Country','Postal Code'],axis=1,inplace=True)"
   ]
  },
  {
   "cell_type": "code",
   "execution_count": 16,
   "metadata": {},
   "outputs": [
    {
     "data": {
      "text/plain": [
       "Index(['Segment', 'Market', 'Sub-Category', 'Category', 'Sales', 'Profit',\n",
       "       'Margin', 'Shipping Cost'],\n",
       "      dtype='object')"
      ]
     },
     "execution_count": 16,
     "metadata": {},
     "output_type": "execute_result"
    }
   ],
   "source": [
    "df.columns"
   ]
  },
  {
   "cell_type": "code",
   "execution_count": 17,
   "metadata": {},
   "outputs": [
    {
     "data": {
      "text/html": [
       "<div>\n",
       "<style scoped>\n",
       "    .dataframe tbody tr th:only-of-type {\n",
       "        vertical-align: middle;\n",
       "    }\n",
       "\n",
       "    .dataframe tbody tr th {\n",
       "        vertical-align: top;\n",
       "    }\n",
       "\n",
       "    .dataframe thead th {\n",
       "        text-align: right;\n",
       "    }\n",
       "</style>\n",
       "<table border=\"1\" class=\"dataframe\">\n",
       "  <thead>\n",
       "    <tr style=\"text-align: right;\">\n",
       "      <th></th>\n",
       "      <th>Segment</th>\n",
       "      <th>Market</th>\n",
       "      <th>Sub-Category</th>\n",
       "      <th>Category</th>\n",
       "      <th>Sales</th>\n",
       "      <th>Profit</th>\n",
       "      <th>Margin</th>\n",
       "      <th>Shipping Cost</th>\n",
       "    </tr>\n",
       "  </thead>\n",
       "  <tbody>\n",
       "    <tr>\n",
       "      <th>0</th>\n",
       "      <td>Home Office</td>\n",
       "      <td>Asia Pacific</td>\n",
       "      <td>Bookcases</td>\n",
       "      <td>Furniture</td>\n",
       "      <td>731.82</td>\n",
       "      <td>102.42</td>\n",
       "      <td>14.00%</td>\n",
       "      <td>39.66</td>\n",
       "    </tr>\n",
       "    <tr>\n",
       "      <th>1</th>\n",
       "      <td>Consumer</td>\n",
       "      <td>Asia Pacific</td>\n",
       "      <td>Supplies</td>\n",
       "      <td>Office Supplies</td>\n",
       "      <td>243.54</td>\n",
       "      <td>104.49</td>\n",
       "      <td>42.90%</td>\n",
       "      <td>18.72</td>\n",
       "    </tr>\n",
       "    <tr>\n",
       "      <th>2</th>\n",
       "      <td>Home Office</td>\n",
       "      <td>Asia Pacific</td>\n",
       "      <td>Machines</td>\n",
       "      <td>Technology</td>\n",
       "      <td>346.32</td>\n",
       "      <td>13.77</td>\n",
       "      <td>3.98%</td>\n",
       "      <td>14.10</td>\n",
       "    </tr>\n",
       "    <tr>\n",
       "      <th>3</th>\n",
       "      <td>Home Office</td>\n",
       "      <td>Asia Pacific</td>\n",
       "      <td>Furnishings</td>\n",
       "      <td>Furniture</td>\n",
       "      <td>169.68</td>\n",
       "      <td>79.68</td>\n",
       "      <td>46.96%</td>\n",
       "      <td>11.01</td>\n",
       "    </tr>\n",
       "    <tr>\n",
       "      <th>4</th>\n",
       "      <td>Consumer</td>\n",
       "      <td>Asia Pacific</td>\n",
       "      <td>Envelopes</td>\n",
       "      <td>Office Supplies</td>\n",
       "      <td>203.88</td>\n",
       "      <td>24.36</td>\n",
       "      <td>11.95%</td>\n",
       "      <td>5.72</td>\n",
       "    </tr>\n",
       "  </tbody>\n",
       "</table>\n",
       "</div>"
      ],
      "text/plain": [
       "       Segment        Market Sub-Category         Category   Sales  Profit  \\\n",
       "0  Home Office  Asia Pacific    Bookcases        Furniture  731.82  102.42   \n",
       "1     Consumer  Asia Pacific     Supplies  Office Supplies  243.54  104.49   \n",
       "2  Home Office  Asia Pacific     Machines       Technology  346.32   13.77   \n",
       "3  Home Office  Asia Pacific  Furnishings        Furniture  169.68   79.68   \n",
       "4     Consumer  Asia Pacific    Envelopes  Office Supplies  203.88   24.36   \n",
       "\n",
       "   Margin  Shipping Cost  \n",
       "0  14.00%          39.66  \n",
       "1  42.90%          18.72  \n",
       "2   3.98%          14.10  \n",
       "3  46.96%          11.01  \n",
       "4  11.95%           5.72  "
      ]
     },
     "execution_count": 17,
     "metadata": {},
     "output_type": "execute_result"
    }
   ],
   "source": [
    "df.head()"
   ]
  },
  {
   "cell_type": "code",
   "execution_count": 18,
   "metadata": {},
   "outputs": [],
   "source": [
    "df['Margin']=df['Margin'].apply(lambda x: x[:-1])"
   ]
  },
  {
   "cell_type": "code",
   "execution_count": 19,
   "metadata": {},
   "outputs": [
    {
     "data": {
      "text/html": [
       "<div>\n",
       "<style scoped>\n",
       "    .dataframe tbody tr th:only-of-type {\n",
       "        vertical-align: middle;\n",
       "    }\n",
       "\n",
       "    .dataframe tbody tr th {\n",
       "        vertical-align: top;\n",
       "    }\n",
       "\n",
       "    .dataframe thead th {\n",
       "        text-align: right;\n",
       "    }\n",
       "</style>\n",
       "<table border=\"1\" class=\"dataframe\">\n",
       "  <thead>\n",
       "    <tr style=\"text-align: right;\">\n",
       "      <th></th>\n",
       "      <th>Segment</th>\n",
       "      <th>Market</th>\n",
       "      <th>Sub-Category</th>\n",
       "      <th>Category</th>\n",
       "      <th>Sales</th>\n",
       "      <th>Profit</th>\n",
       "      <th>Margin</th>\n",
       "      <th>Shipping Cost</th>\n",
       "    </tr>\n",
       "  </thead>\n",
       "  <tbody>\n",
       "    <tr>\n",
       "      <th>0</th>\n",
       "      <td>Home Office</td>\n",
       "      <td>Asia Pacific</td>\n",
       "      <td>Bookcases</td>\n",
       "      <td>Furniture</td>\n",
       "      <td>731.82</td>\n",
       "      <td>102.42</td>\n",
       "      <td>14.00</td>\n",
       "      <td>39.66</td>\n",
       "    </tr>\n",
       "    <tr>\n",
       "      <th>1</th>\n",
       "      <td>Consumer</td>\n",
       "      <td>Asia Pacific</td>\n",
       "      <td>Supplies</td>\n",
       "      <td>Office Supplies</td>\n",
       "      <td>243.54</td>\n",
       "      <td>104.49</td>\n",
       "      <td>42.90</td>\n",
       "      <td>18.72</td>\n",
       "    </tr>\n",
       "    <tr>\n",
       "      <th>2</th>\n",
       "      <td>Home Office</td>\n",
       "      <td>Asia Pacific</td>\n",
       "      <td>Machines</td>\n",
       "      <td>Technology</td>\n",
       "      <td>346.32</td>\n",
       "      <td>13.77</td>\n",
       "      <td>3.98</td>\n",
       "      <td>14.10</td>\n",
       "    </tr>\n",
       "    <tr>\n",
       "      <th>3</th>\n",
       "      <td>Home Office</td>\n",
       "      <td>Asia Pacific</td>\n",
       "      <td>Furnishings</td>\n",
       "      <td>Furniture</td>\n",
       "      <td>169.68</td>\n",
       "      <td>79.68</td>\n",
       "      <td>46.96</td>\n",
       "      <td>11.01</td>\n",
       "    </tr>\n",
       "    <tr>\n",
       "      <th>4</th>\n",
       "      <td>Consumer</td>\n",
       "      <td>Asia Pacific</td>\n",
       "      <td>Envelopes</td>\n",
       "      <td>Office Supplies</td>\n",
       "      <td>203.88</td>\n",
       "      <td>24.36</td>\n",
       "      <td>11.95</td>\n",
       "      <td>5.72</td>\n",
       "    </tr>\n",
       "  </tbody>\n",
       "</table>\n",
       "</div>"
      ],
      "text/plain": [
       "       Segment        Market Sub-Category         Category   Sales  Profit  \\\n",
       "0  Home Office  Asia Pacific    Bookcases        Furniture  731.82  102.42   \n",
       "1     Consumer  Asia Pacific     Supplies  Office Supplies  243.54  104.49   \n",
       "2  Home Office  Asia Pacific     Machines       Technology  346.32   13.77   \n",
       "3  Home Office  Asia Pacific  Furnishings        Furniture  169.68   79.68   \n",
       "4     Consumer  Asia Pacific    Envelopes  Office Supplies  203.88   24.36   \n",
       "\n",
       "  Margin  Shipping Cost  \n",
       "0  14.00          39.66  \n",
       "1  42.90          18.72  \n",
       "2   3.98          14.10  \n",
       "3  46.96          11.01  \n",
       "4  11.95           5.72  "
      ]
     },
     "execution_count": 19,
     "metadata": {},
     "output_type": "execute_result"
    }
   ],
   "source": [
    "df.head()"
   ]
  },
  {
   "cell_type": "code",
   "execution_count": 20,
   "metadata": {},
   "outputs": [],
   "source": [
    "df['Margin']=df['Margin'].astype('float')"
   ]
  },
  {
   "cell_type": "code",
   "execution_count": 21,
   "metadata": {},
   "outputs": [
    {
     "data": {
      "text/plain": [
       "Segment           object\n",
       "Market            object\n",
       "Sub-Category      object\n",
       "Category          object\n",
       "Sales            float64\n",
       "Profit           float64\n",
       "Margin           float64\n",
       "Shipping Cost    float64\n",
       "dtype: object"
      ]
     },
     "execution_count": 21,
     "metadata": {},
     "output_type": "execute_result"
    }
   ],
   "source": [
    "df.dtypes"
   ]
  },
  {
   "cell_type": "code",
   "execution_count": 22,
   "metadata": {},
   "outputs": [
    {
     "data": {
      "text/plain": [
       "Segment              3\n",
       "Market               5\n",
       "Sub-Category        17\n",
       "Category             3\n",
       "Sales            22995\n",
       "Profit           24575\n",
       "Margin            5942\n",
       "Shipping Cost    16452\n",
       "dtype: int64"
      ]
     },
     "execution_count": 22,
     "metadata": {},
     "output_type": "execute_result"
    }
   ],
   "source": [
    "df.nunique()"
   ]
  },
  {
   "cell_type": "code",
   "execution_count": 23,
   "metadata": {},
   "outputs": [
    {
     "data": {
      "text/plain": [
       "<matplotlib.axes._subplots.AxesSubplot at 0x20cdd0bbec8>"
      ]
     },
     "execution_count": 23,
     "metadata": {},
     "output_type": "execute_result"
    },
    {
     "data": {
      "image/png": "[encoded data removed]",
      "text/plain": [
       "<Figure size 432x288 with 2 Axes>"
      ]
     },
     "metadata": {
      "needs_background": "light"
     },
     "output_type": "display_data"
    }
   ],
   "source": [
    "sns.heatmap(df.corr(),annot=True)"
   ]
  },
  {
   "cell_type": "markdown",
   "metadata": {},
   "source": [
    "# CLUSTERING DATA USING PANDAS- GROUPBY"
   ]
  },
  {
   "cell_type": "markdown",
   "metadata": {},
   "source": [
    "# MARKET Vs SALES,PROFIT,COST"
   ]
  },
  {
   "cell_type": "code",
   "execution_count": 24,
   "metadata": {},
   "outputs": [
    {
     "name": "stdout",
     "output_type": "stream",
     "text": [
      "                    Profit         Sales  Shipping Cost\n",
      "Market                                                 \n",
      "Africa         88871.63100  7.837732e+05     88839.4700\n",
      "Asia Pacific  403176.03800  4.042658e+06    437858.1640\n",
      "Europe        449551.72350  3.287336e+06    348905.0340\n",
      "LATAM         221643.48708  2.164605e+06    235025.6150\n",
      "USCA          304214.41170  2.364129e+06    247457.4204\n"
     ]
    },
    {
     "data": {
      "text/plain": [
       "Text(0.5, 0, 'Market')"
      ]
     },
     "execution_count": 24,
     "metadata": {},
     "output_type": "execute_result"
    },
    {
     "data": {
      "image/png": "[encoded data removed]",
      "text/plain": [
       "<Figure size 504x504 with 1 Axes>"
      ]
     },
     "metadata": {},
     "output_type": "display_data"
    }
   ],
   "source": [
    "sns.set_style('darkgrid')\n",
    "print(df.groupby('Market')[['Profit','Sales','Shipping Cost']].sum())\n",
    "df.groupby('Market')[['Profit','Sales','Shipping Cost']].sum().plot.bar(figsize=(7,7))\n",
    "plt.ylabel('Amount',fontsize=16,color='b')\n",
    "plt.xlabel('Market',fontsize=16,color='r')"
   ]
  },
  {
   "cell_type": "markdown",
   "metadata": {},
   "source": [
    "# SUB-CATEGORY Vs SALES,PROFIT,COST"
   ]
  },
  {
   "cell_type": "code",
   "execution_count": 25,
   "metadata": {},
   "outputs": [
    {
     "name": "stdout",
     "output_type": "stream",
     "text": [
      "                    Profit         Sales  Shipping Cost\n",
      "Sub-Category                                           \n",
      "Accessories   129626.30620  7.492370e+05     83592.3340\n",
      "Appliances    141562.58770  1.010536e+06    108307.7460\n",
      "Art            57829.85930  3.716132e+05     41889.0820\n",
      "Binders        72433.15160  4.618694e+05     49773.1020\n",
      "Bookcases     161924.41950  1.466572e+06    155487.9670\n",
      "Chairs        140396.26750  1.501682e+06    164253.3520\n",
      "Copiers       258567.54818  1.509436e+06    159501.2049\n",
      "Envelopes      28849.48730  1.692175e+05     18582.9680\n",
      "Fasteners      13844.28890  8.949505e+04     10300.0680\n",
      "Furnishings    46845.43190  3.851560e+05     40981.6560\n",
      "Labels         14988.92370  7.335028e+04      8840.7250\n",
      "Machines       58867.87300  7.790601e+05     79149.8485\n",
      "Paper          58111.65350  2.417875e+05     26864.0850\n",
      "Phones        216717.00580  1.706824e+06    184953.4920\n",
      "Storage       108416.68060  1.126813e+06    120793.8520\n",
      "Supplies       22559.19530  2.428111e+05     24950.8270\n",
      "Tables        -64083.38870  7.570419e+05     79863.3940\n"
     ]
    },
    {
     "data": {
      "text/plain": [
       "Text(0.5, 0, 'Sub Categories')"
      ]
     },
     "execution_count": 25,
     "metadata": {},
     "output_type": "execute_result"
    },
    {
     "data": {
      "image/png": "[encoded data removed]",
      "text/plain": [
       "<Figure size 1080x864 with 1 Axes>"
      ]
     },
     "metadata": {},
     "output_type": "display_data"
    }
   ],
   "source": [
    "sns.set_style('darkgrid')\n",
    "print(df.groupby('Sub-Category')[['Profit','Sales','Shipping Cost']].sum())\n",
    "df.groupby('Sub-Category')[['Profit','Sales','Shipping Cost']].sum().plot.bar(figsize=(15,12))\n",
    "plt.ylabel('Amount',fontsize=16,color='b')\n",
    "plt.xlabel('Sub Categories',fontsize=16,color='r')"
   ]
  },
  {
   "cell_type": "markdown",
   "metadata": {},
   "source": [
    "# CATEGORY Vs SALES,PROFIT,COST"
   ]
  },
  {
   "cell_type": "code",
   "execution_count": 26,
   "metadata": {},
   "outputs": [
    {
     "name": "stdout",
     "output_type": "stream",
     "text": [
      "                       Profit         Sales  Shipping Cost\n",
      "Category                                                  \n",
      "Furniture        285082.73020  4.110452e+06    440586.3690\n",
      "Office Supplies  518595.82790  3.787493e+06    410302.4550\n",
      "Technology       663778.73318  4.744557e+06    507196.8794\n"
     ]
    },
    {
     "data": {
      "text/plain": [
       "Text(0.5, 0, 'Categories')"
      ]
     },
     "execution_count": 26,
     "metadata": {},
     "output_type": "execute_result"
    },
    {
     "data": {
      "image/png": "[encoded data removed]",
      "text/plain": [
       "<Figure size 1080x864 with 1 Axes>"
      ]
     },
     "metadata": {},
     "output_type": "display_data"
    }
   ],
   "source": [
    "sns.set_style('darkgrid')\n",
    "print(df.groupby('Category')[['Profit','Sales','Shipping Cost']].sum())\n",
    "df.groupby('Category')[['Profit','Sales','Shipping Cost']].sum().plot.bar(figsize=(15,12))\n",
    "plt.ylabel('Amount',fontsize=16,color='b')\n",
    "plt.xlabel('Categories',fontsize=16,color='r')"
   ]
  },
  {
   "cell_type": "markdown",
   "metadata": {},
   "source": [
    "# Prediction of Sales for Asia- MARKET"
   ]
  },
  {
   "cell_type": "code",
   "execution_count": 27,
   "metadata": {},
   "outputs": [
    {
     "data": {
      "text/plain": [
       "array(['Asia Pacific', 'Europe', 'Africa', 'LATAM', 'USCA'], dtype=object)"
      ]
     },
     "execution_count": 27,
     "metadata": {},
     "output_type": "execute_result"
    }
   ],
   "source": [
    "df['Market'].unique()"
   ]
  },
  {
   "cell_type": "code",
   "execution_count": 28,
   "metadata": {},
   "outputs": [],
   "source": [
    "Asia=df[df.Market=='Asia Pacific']\n",
    "Europe=df[df.Market=='Europe']\n",
    "Africa=df[df.Market=='Africa']\n",
    "LATAM=df[df.Market=='LATAM']\n",
    "USCA=df[df.Market=='USCA']\n"
   ]
  },
  {
   "cell_type": "code",
   "execution_count": 29,
   "metadata": {},
   "outputs": [],
   "source": [
    "# ASIA"
   ]
  },
  {
   "cell_type": "code",
   "execution_count": 30,
   "metadata": {},
   "outputs": [
    {
     "data": {
      "text/plain": [
       "(14302, 8)"
      ]
     },
     "execution_count": 30,
     "metadata": {},
     "output_type": "execute_result"
    }
   ],
   "source": [
    "Asia.shape"
   ]
  },
  {
   "cell_type": "code",
   "execution_count": 31,
   "metadata": {},
   "outputs": [
    {
     "data": {
      "text/html": [
       "<div>\n",
       "<style scoped>\n",
       "    .dataframe tbody tr th:only-of-type {\n",
       "        vertical-align: middle;\n",
       "    }\n",
       "\n",
       "    .dataframe tbody tr th {\n",
       "        vertical-align: top;\n",
       "    }\n",
       "\n",
       "    .dataframe thead th {\n",
       "        text-align: right;\n",
       "    }\n",
       "</style>\n",
       "<table border=\"1\" class=\"dataframe\">\n",
       "  <thead>\n",
       "    <tr style=\"text-align: right;\">\n",
       "      <th></th>\n",
       "      <th>Segment</th>\n",
       "      <th>Market</th>\n",
       "      <th>Sub-Category</th>\n",
       "      <th>Category</th>\n",
       "      <th>Sales</th>\n",
       "      <th>Profit</th>\n",
       "      <th>Margin</th>\n",
       "      <th>Shipping Cost</th>\n",
       "    </tr>\n",
       "  </thead>\n",
       "  <tbody>\n",
       "    <tr>\n",
       "      <th>0</th>\n",
       "      <td>Home Office</td>\n",
       "      <td>Asia Pacific</td>\n",
       "      <td>Bookcases</td>\n",
       "      <td>Furniture</td>\n",
       "      <td>731.82</td>\n",
       "      <td>102.42</td>\n",
       "      <td>14.00</td>\n",
       "      <td>39.66</td>\n",
       "    </tr>\n",
       "    <tr>\n",
       "      <th>1</th>\n",
       "      <td>Consumer</td>\n",
       "      <td>Asia Pacific</td>\n",
       "      <td>Supplies</td>\n",
       "      <td>Office Supplies</td>\n",
       "      <td>243.54</td>\n",
       "      <td>104.49</td>\n",
       "      <td>42.90</td>\n",
       "      <td>18.72</td>\n",
       "    </tr>\n",
       "    <tr>\n",
       "      <th>2</th>\n",
       "      <td>Home Office</td>\n",
       "      <td>Asia Pacific</td>\n",
       "      <td>Machines</td>\n",
       "      <td>Technology</td>\n",
       "      <td>346.32</td>\n",
       "      <td>13.77</td>\n",
       "      <td>3.98</td>\n",
       "      <td>14.10</td>\n",
       "    </tr>\n",
       "    <tr>\n",
       "      <th>3</th>\n",
       "      <td>Home Office</td>\n",
       "      <td>Asia Pacific</td>\n",
       "      <td>Furnishings</td>\n",
       "      <td>Furniture</td>\n",
       "      <td>169.68</td>\n",
       "      <td>79.68</td>\n",
       "      <td>46.96</td>\n",
       "      <td>11.01</td>\n",
       "    </tr>\n",
       "    <tr>\n",
       "      <th>4</th>\n",
       "      <td>Consumer</td>\n",
       "      <td>Asia Pacific</td>\n",
       "      <td>Envelopes</td>\n",
       "      <td>Office Supplies</td>\n",
       "      <td>203.88</td>\n",
       "      <td>24.36</td>\n",
       "      <td>11.95</td>\n",
       "      <td>5.72</td>\n",
       "    </tr>\n",
       "  </tbody>\n",
       "</table>\n",
       "</div>"
      ],
      "text/plain": [
       "       Segment        Market Sub-Category         Category   Sales  Profit  \\\n",
       "0  Home Office  Asia Pacific    Bookcases        Furniture  731.82  102.42   \n",
       "1     Consumer  Asia Pacific     Supplies  Office Supplies  243.54  104.49   \n",
       "2  Home Office  Asia Pacific     Machines       Technology  346.32   13.77   \n",
       "3  Home Office  Asia Pacific  Furnishings        Furniture  169.68   79.68   \n",
       "4     Consumer  Asia Pacific    Envelopes  Office Supplies  203.88   24.36   \n",
       "\n",
       "   Margin  Shipping Cost  \n",
       "0   14.00          39.66  \n",
       "1   42.90          18.72  \n",
       "2    3.98          14.10  \n",
       "3   46.96          11.01  \n",
       "4   11.95           5.72  "
      ]
     },
     "execution_count": 31,
     "metadata": {},
     "output_type": "execute_result"
    }
   ],
   "source": [
    "Asia.head()"
   ]
  },
  {
   "cell_type": "code",
   "execution_count": 32,
   "metadata": {},
   "outputs": [],
   "source": [
    "#independent and target variable\n",
    "x=Asia.drop(['Sales'],axis=1)\n",
    "y=Asia['Sales']"
   ]
  },
  {
   "cell_type": "code",
   "execution_count": 33,
   "metadata": {},
   "outputs": [
    {
     "data": {
      "image/png": "[encoded data removed]",
      "text/plain": [
       "<Figure size 432x288 with 1 Axes>"
      ]
     },
     "metadata": {},
     "output_type": "display_data"
    }
   ],
   "source": [
    "sns.distplot(y, hist=True)\n",
    "plt.show()"
   ]
  },
  {
   "cell_type": "code",
   "execution_count": 34,
   "metadata": {},
   "outputs": [
    {
     "data": {
      "text/plain": [
       "0    6.596900\n",
       "1    5.499379\n",
       "2    5.850247\n",
       "3    5.139790\n",
       "4    5.322424\n",
       "Name: Sales, dtype: float64"
      ]
     },
     "execution_count": 34,
     "metadata": {},
     "output_type": "execute_result"
    }
   ],
   "source": [
    "#making right skewed target var to normally distributed form\n",
    "y_log=np.log1p(y)\n",
    "y_log.head()"
   ]
  },
  {
   "cell_type": "code",
   "execution_count": 35,
   "metadata": {},
   "outputs": [
    {
     "data": {
      "text/plain": [
       "<matplotlib.axes._subplots.AxesSubplot at 0x20cdda65108>"
      ]
     },
     "execution_count": 35,
     "metadata": {},
     "output_type": "execute_result"
    },
    {
     "data": {
      "image/png": "[encoded data removed]",
      "text/plain": [
       "<Figure size 432x288 with 1 Axes>"
      ]
     },
     "metadata": {},
     "output_type": "display_data"
    }
   ],
   "source": [
    "sns.distplot(y_log)"
   ]
  },
  {
   "cell_type": "code",
   "execution_count": 36,
   "metadata": {},
   "outputs": [
    {
     "data": {
      "text/plain": [
       "array([[<matplotlib.axes._subplots.AxesSubplot object at 0x0000020CDDA44D08>,\n",
       "        <matplotlib.axes._subplots.AxesSubplot object at 0x0000020CDD1BF548>]],\n",
       "      dtype=object)"
      ]
     },
     "execution_count": 36,
     "metadata": {},
     "output_type": "execute_result"
    },
    {
     "data": {
      "image/png": "[encoded data removed]",
      "text/plain": [
       "<Figure size 432x288 with 2 Axes>"
      ]
     },
     "metadata": {},
     "output_type": "display_data"
    }
   ],
   "source": [
    "#comparison\n",
    "graph=pd.DataFrame({'before_log':y,'After_log':y_log})\n",
    "graph.hist()"
   ]
  },
  {
   "cell_type": "code",
   "execution_count": 37,
   "metadata": {},
   "outputs": [],
   "source": [
    "#splitting categorical and numerical variable\n",
    "categorical=[col for col in Asia.columns.values if Asia[col].dtype=='object']\n",
    "df_cat1=Asia[categorical]\n",
    "df_num1=Asia.drop(categorical,axis=1)"
   ]
  },
  {
   "cell_type": "code",
   "execution_count": 38,
   "metadata": {},
   "outputs": [],
   "source": [
    "df_num1.drop('Sales',axis=1,inplace=True)"
   ]
  },
  {
   "cell_type": "code",
   "execution_count": 39,
   "metadata": {},
   "outputs": [
    {
     "data": {
      "text/plain": [
       "(14302, 3)"
      ]
     },
     "execution_count": 39,
     "metadata": {},
     "output_type": "execute_result"
    }
   ],
   "source": [
    "df_num1.shape"
   ]
  },
  {
   "cell_type": "code",
   "execution_count": 40,
   "metadata": {},
   "outputs": [
    {
     "data": {
      "text/plain": [
       "(14302,)"
      ]
     },
     "execution_count": 40,
     "metadata": {},
     "output_type": "execute_result"
    }
   ],
   "source": [
    "y_log.shape"
   ]
  },
  {
   "cell_type": "code",
   "execution_count": 41,
   "metadata": {},
   "outputs": [
    {
     "data": {
      "text/plain": [
       "array([[<matplotlib.axes._subplots.AxesSubplot object at 0x0000020CDD27A908>,\n",
       "        <matplotlib.axes._subplots.AxesSubplot object at 0x0000020CDD2AFC88>],\n",
       "       [<matplotlib.axes._subplots.AxesSubplot object at 0x0000020CDD2E8508>,\n",
       "        <matplotlib.axes._subplots.AxesSubplot object at 0x0000020CDDADFEC8>]],\n",
       "      dtype=object)"
      ]
     },
     "execution_count": 41,
     "metadata": {},
     "output_type": "execute_result"
    },
    {
     "data": {
      "image/png": "[encoded data removed]",
      "text/plain": [
       "<Figure size 432x288 with 4 Axes>"
      ]
     },
     "metadata": {},
     "output_type": "display_data"
    }
   ],
   "source": [
    "#checking skewness \n",
    "df_num1_skew=df_num1.skew()\n",
    "df_num1_skew=df_num1_skew[df_num1_skew>0.75]\n",
    "df_num1[df_num1_skew.index]=np.log1p(df_num1[df_num1_skew.index])\n",
    "df_num1.hist()"
   ]
  },
  {
   "cell_type": "code",
   "execution_count": 42,
   "metadata": {},
   "outputs": [
    {
     "data": {
      "text/plain": [
       "Profit           0\n",
       "Margin           0\n",
       "Shipping Cost    0\n",
       "dtype: int64"
      ]
     },
     "execution_count": 42,
     "metadata": {},
     "output_type": "execute_result"
    }
   ],
   "source": [
    "df_num1.isnull().sum()"
   ]
  },
  {
   "cell_type": "code",
   "execution_count": 43,
   "metadata": {},
   "outputs": [
    {
     "data": {
      "text/html": [
       "<div>\n",
       "<style scoped>\n",
       "    .dataframe tbody tr th:only-of-type {\n",
       "        vertical-align: middle;\n",
       "    }\n",
       "\n",
       "    .dataframe tbody tr th {\n",
       "        vertical-align: top;\n",
       "    }\n",
       "\n",
       "    .dataframe thead th {\n",
       "        text-align: right;\n",
       "    }\n",
       "</style>\n",
       "<table border=\"1\" class=\"dataframe\">\n",
       "  <thead>\n",
       "    <tr style=\"text-align: right;\">\n",
       "      <th></th>\n",
       "      <th>Profit</th>\n",
       "      <th>Margin</th>\n",
       "      <th>Shipping Cost</th>\n",
       "    </tr>\n",
       "  </thead>\n",
       "  <tbody>\n",
       "    <tr>\n",
       "      <th>0</th>\n",
       "      <td>0.010562</td>\n",
       "      <td>0.036862</td>\n",
       "      <td>0.196171</td>\n",
       "    </tr>\n",
       "    <tr>\n",
       "      <th>1</th>\n",
       "      <td>0.010857</td>\n",
       "      <td>0.103296</td>\n",
       "      <td>0.078151</td>\n",
       "    </tr>\n",
       "    <tr>\n",
       "      <th>2</th>\n",
       "      <td>-0.002052</td>\n",
       "      <td>0.013829</td>\n",
       "      <td>0.034614</td>\n",
       "    </tr>\n",
       "    <tr>\n",
       "      <th>3</th>\n",
       "      <td>0.007327</td>\n",
       "      <td>0.112629</td>\n",
       "      <td>-0.002729</td>\n",
       "    </tr>\n",
       "    <tr>\n",
       "      <th>4</th>\n",
       "      <td>-0.000545</td>\n",
       "      <td>0.032150</td>\n",
       "      <td>-0.097432</td>\n",
       "    </tr>\n",
       "  </tbody>\n",
       "</table>\n",
       "</div>"
      ],
      "text/plain": [
       "     Profit    Margin  Shipping Cost\n",
       "0  0.010562  0.036862       0.196171\n",
       "1  0.010857  0.103296       0.078151\n",
       "2 -0.002052  0.013829       0.034614\n",
       "3  0.007327  0.112629      -0.002729\n",
       "4 -0.000545  0.032150      -0.097432"
      ]
     },
     "execution_count": 43,
     "metadata": {},
     "output_type": "execute_result"
    }
   ],
   "source": [
    "#Mean normalisation\n",
    "df_num1=(df_num1-df_num1.mean())/(df_num1.max()-df_num1.min())\n",
    "df_num1.head()"
   ]
  },
  {
   "cell_type": "code",
   "execution_count": 44,
   "metadata": {},
   "outputs": [],
   "source": [
    "# dummy encoding for categorical variables\n",
    "df_cat1=pd.get_dummies(df_cat1,drop_first=True)\n"
   ]
  },
  {
   "cell_type": "code",
   "execution_count": 45,
   "metadata": {},
   "outputs": [
    {
     "data": {
      "text/html": [
       "<div>\n",
       "<style scoped>\n",
       "    .dataframe tbody tr th:only-of-type {\n",
       "        vertical-align: middle;\n",
       "    }\n",
       "\n",
       "    .dataframe tbody tr th {\n",
       "        vertical-align: top;\n",
       "    }\n",
       "\n",
       "    .dataframe thead th {\n",
       "        text-align: right;\n",
       "    }\n",
       "</style>\n",
       "<table border=\"1\" class=\"dataframe\">\n",
       "  <thead>\n",
       "    <tr style=\"text-align: right;\">\n",
       "      <th></th>\n",
       "      <th>Profit</th>\n",
       "      <th>Margin</th>\n",
       "      <th>Shipping Cost</th>\n",
       "      <th>Segment_Corporate</th>\n",
       "      <th>Segment_Home Office</th>\n",
       "      <th>Sub-Category_Appliances</th>\n",
       "      <th>Sub-Category_Art</th>\n",
       "      <th>Sub-Category_Binders</th>\n",
       "      <th>Sub-Category_Bookcases</th>\n",
       "      <th>Sub-Category_Chairs</th>\n",
       "      <th>Sub-Category_Copiers</th>\n",
       "      <th>Sub-Category_Envelopes</th>\n",
       "      <th>Sub-Category_Fasteners</th>\n",
       "      <th>Sub-Category_Furnishings</th>\n",
       "      <th>Sub-Category_Labels</th>\n",
       "      <th>Sub-Category_Machines</th>\n",
       "      <th>Sub-Category_Paper</th>\n",
       "      <th>Sub-Category_Phones</th>\n",
       "      <th>Sub-Category_Storage</th>\n",
       "      <th>Sub-Category_Supplies</th>\n",
       "      <th>Sub-Category_Tables</th>\n",
       "      <th>Category_Office Supplies</th>\n",
       "      <th>Category_Technology</th>\n",
       "    </tr>\n",
       "  </thead>\n",
       "  <tbody>\n",
       "    <tr>\n",
       "      <th>0</th>\n",
       "      <td>0.010562</td>\n",
       "      <td>0.036862</td>\n",
       "      <td>0.196171</td>\n",
       "      <td>0</td>\n",
       "      <td>1</td>\n",
       "      <td>0</td>\n",
       "      <td>0</td>\n",
       "      <td>0</td>\n",
       "      <td>1</td>\n",
       "      <td>0</td>\n",
       "      <td>0</td>\n",
       "      <td>0</td>\n",
       "      <td>0</td>\n",
       "      <td>0</td>\n",
       "      <td>0</td>\n",
       "      <td>0</td>\n",
       "      <td>0</td>\n",
       "      <td>0</td>\n",
       "      <td>0</td>\n",
       "      <td>0</td>\n",
       "      <td>0</td>\n",
       "      <td>0</td>\n",
       "      <td>0</td>\n",
       "    </tr>\n",
       "    <tr>\n",
       "      <th>1</th>\n",
       "      <td>0.010857</td>\n",
       "      <td>0.103296</td>\n",
       "      <td>0.078151</td>\n",
       "      <td>0</td>\n",
       "      <td>0</td>\n",
       "      <td>0</td>\n",
       "      <td>0</td>\n",
       "      <td>0</td>\n",
       "      <td>0</td>\n",
       "      <td>0</td>\n",
       "      <td>0</td>\n",
       "      <td>0</td>\n",
       "      <td>0</td>\n",
       "      <td>0</td>\n",
       "      <td>0</td>\n",
       "      <td>0</td>\n",
       "      <td>0</td>\n",
       "      <td>0</td>\n",
       "      <td>0</td>\n",
       "      <td>1</td>\n",
       "      <td>0</td>\n",
       "      <td>1</td>\n",
       "      <td>0</td>\n",
       "    </tr>\n",
       "    <tr>\n",
       "      <th>2</th>\n",
       "      <td>-0.002052</td>\n",
       "      <td>0.013829</td>\n",
       "      <td>0.034614</td>\n",
       "      <td>0</td>\n",
       "      <td>1</td>\n",
       "      <td>0</td>\n",
       "      <td>0</td>\n",
       "      <td>0</td>\n",
       "      <td>0</td>\n",
       "      <td>0</td>\n",
       "      <td>0</td>\n",
       "      <td>0</td>\n",
       "      <td>0</td>\n",
       "      <td>0</td>\n",
       "      <td>0</td>\n",
       "      <td>1</td>\n",
       "      <td>0</td>\n",
       "      <td>0</td>\n",
       "      <td>0</td>\n",
       "      <td>0</td>\n",
       "      <td>0</td>\n",
       "      <td>0</td>\n",
       "      <td>1</td>\n",
       "    </tr>\n",
       "    <tr>\n",
       "      <th>3</th>\n",
       "      <td>0.007327</td>\n",
       "      <td>0.112629</td>\n",
       "      <td>-0.002729</td>\n",
       "      <td>0</td>\n",
       "      <td>1</td>\n",
       "      <td>0</td>\n",
       "      <td>0</td>\n",
       "      <td>0</td>\n",
       "      <td>0</td>\n",
       "      <td>0</td>\n",
       "      <td>0</td>\n",
       "      <td>0</td>\n",
       "      <td>0</td>\n",
       "      <td>1</td>\n",
       "      <td>0</td>\n",
       "      <td>0</td>\n",
       "      <td>0</td>\n",
       "      <td>0</td>\n",
       "      <td>0</td>\n",
       "      <td>0</td>\n",
       "      <td>0</td>\n",
       "      <td>0</td>\n",
       "      <td>0</td>\n",
       "    </tr>\n",
       "    <tr>\n",
       "      <th>4</th>\n",
       "      <td>-0.000545</td>\n",
       "      <td>0.032150</td>\n",
       "      <td>-0.097432</td>\n",
       "      <td>0</td>\n",
       "      <td>0</td>\n",
       "      <td>0</td>\n",
       "      <td>0</td>\n",
       "      <td>0</td>\n",
       "      <td>0</td>\n",
       "      <td>0</td>\n",
       "      <td>0</td>\n",
       "      <td>1</td>\n",
       "      <td>0</td>\n",
       "      <td>0</td>\n",
       "      <td>0</td>\n",
       "      <td>0</td>\n",
       "      <td>0</td>\n",
       "      <td>0</td>\n",
       "      <td>0</td>\n",
       "      <td>0</td>\n",
       "      <td>0</td>\n",
       "      <td>1</td>\n",
       "      <td>0</td>\n",
       "    </tr>\n",
       "  </tbody>\n",
       "</table>\n",
       "</div>"
      ],
      "text/plain": [
       "     Profit    Margin  Shipping Cost  Segment_Corporate  Segment_Home Office  \\\n",
       "0  0.010562  0.036862       0.196171                  0                    1   \n",
       "1  0.010857  0.103296       0.078151                  0                    0   \n",
       "2 -0.002052  0.013829       0.034614                  0                    1   \n",
       "3  0.007327  0.112629      -0.002729                  0                    1   \n",
       "4 -0.000545  0.032150      -0.097432                  0                    0   \n",
       "\n",
       "   Sub-Category_Appliances  Sub-Category_Art  Sub-Category_Binders  \\\n",
       "0                        0                 0                     0   \n",
       "1                        0                 0                     0   \n",
       "2                        0                 0                     0   \n",
       "3                        0                 0                     0   \n",
       "4                        0                 0                     0   \n",
       "\n",
       "   Sub-Category_Bookcases  Sub-Category_Chairs  Sub-Category_Copiers  \\\n",
       "0                       1                    0                     0   \n",
       "1                       0                    0                     0   \n",
       "2                       0                    0                     0   \n",
       "3                       0                    0                     0   \n",
       "4                       0                    0                     0   \n",
       "\n",
       "   Sub-Category_Envelopes  Sub-Category_Fasteners  Sub-Category_Furnishings  \\\n",
       "0                       0                       0                         0   \n",
       "1                       0                       0                         0   \n",
       "2                       0                       0                         0   \n",
       "3                       0                       0                         1   \n",
       "4                       1                       0                         0   \n",
       "\n",
       "   Sub-Category_Labels  Sub-Category_Machines  Sub-Category_Paper  \\\n",
       "0                    0                      0                   0   \n",
       "1                    0                      0                   0   \n",
       "2                    0                      1                   0   \n",
       "3                    0                      0                   0   \n",
       "4                    0                      0                   0   \n",
       "\n",
       "   Sub-Category_Phones  Sub-Category_Storage  Sub-Category_Supplies  \\\n",
       "0                    0                     0                      0   \n",
       "1                    0                     0                      1   \n",
       "2                    0                     0                      0   \n",
       "3                    0                     0                      0   \n",
       "4                    0                     0                      0   \n",
       "\n",
       "   Sub-Category_Tables  Category_Office Supplies  Category_Technology  \n",
       "0                    0                         0                    0  \n",
       "1                    0                         1                    0  \n",
       "2                    0                         0                    1  \n",
       "3                    0                         0                    0  \n",
       "4                    0                         1                    0  "
      ]
     },
     "execution_count": 45,
     "metadata": {},
     "output_type": "execute_result"
    }
   ],
   "source": [
    "# new dataset after data cleaning\n",
    "data=pd.concat([df_num1,df_cat1],axis=1)\n",
    "data.head()"
   ]
  },
  {
   "cell_type": "code",
   "execution_count": 46,
   "metadata": {},
   "outputs": [
    {
     "data": {
      "text/plain": [
       "Profit                      float64\n",
       "Margin                      float64\n",
       "Shipping Cost               float64\n",
       "Segment_Corporate             uint8\n",
       "Segment_Home Office           uint8\n",
       "Sub-Category_Appliances       uint8\n",
       "Sub-Category_Art              uint8\n",
       "Sub-Category_Binders          uint8\n",
       "Sub-Category_Bookcases        uint8\n",
       "Sub-Category_Chairs           uint8\n",
       "Sub-Category_Copiers          uint8\n",
       "Sub-Category_Envelopes        uint8\n",
       "Sub-Category_Fasteners        uint8\n",
       "Sub-Category_Furnishings      uint8\n",
       "Sub-Category_Labels           uint8\n",
       "Sub-Category_Machines         uint8\n",
       "Sub-Category_Paper            uint8\n",
       "Sub-Category_Phones           uint8\n",
       "Sub-Category_Storage          uint8\n",
       "Sub-Category_Supplies         uint8\n",
       "Sub-Category_Tables           uint8\n",
       "Category_Office Supplies      uint8\n",
       "Category_Technology           uint8\n",
       "dtype: object"
      ]
     },
     "execution_count": 46,
     "metadata": {},
     "output_type": "execute_result"
    }
   ],
   "source": [
    "data.dtypes"
   ]
  },
  {
   "cell_type": "code",
   "execution_count": 47,
   "metadata": {},
   "outputs": [
    {
     "data": {
      "text/plain": [
       "Profit                      0\n",
       "Margin                      0\n",
       "Shipping Cost               0\n",
       "Segment_Corporate           0\n",
       "Segment_Home Office         0\n",
       "Sub-Category_Appliances     0\n",
       "Sub-Category_Art            0\n",
       "Sub-Category_Binders        0\n",
       "Sub-Category_Bookcases      0\n",
       "Sub-Category_Chairs         0\n",
       "Sub-Category_Copiers        0\n",
       "Sub-Category_Envelopes      0\n",
       "Sub-Category_Fasteners      0\n",
       "Sub-Category_Furnishings    0\n",
       "Sub-Category_Labels         0\n",
       "Sub-Category_Machines       0\n",
       "Sub-Category_Paper          0\n",
       "Sub-Category_Phones         0\n",
       "Sub-Category_Storage        0\n",
       "Sub-Category_Supplies       0\n",
       "Sub-Category_Tables         0\n",
       "Category_Office Supplies    0\n",
       "Category_Technology         0\n",
       "dtype: int64"
      ]
     },
     "execution_count": 47,
     "metadata": {},
     "output_type": "execute_result"
    }
   ],
   "source": [
    "data.isnull().sum()"
   ]
  },
  {
   "cell_type": "code",
   "execution_count": 48,
   "metadata": {},
   "outputs": [
    {
     "name": "stdout",
     "output_type": "stream",
     "text": [
      "[0]Linear Regression Training Accuracy: 0.8518185910507118\n",
      "[1]knn Training Accuracy: 0.9017662556965421\n",
      "[2]xg Training Accuracy: 0.9971147957891325\n",
      "[3]svr-lin Training Accuracy: 0.8624044904409597\n",
      "[4]decision tee Training Accuracy: 0.9999999996267088\n",
      "[5]random forest Training Accuracy: 0.9972751267896206\n",
      "Linear Regression r2_Score : 0.8315098314977551\n",
      "Knn Regressor r2_Score : 0.8288683717793565\n",
      "XGBoost Regressor r2_Score : 0.8417521772624297\n",
      "SVRegressor r2_Score : 0.9890822903543509\n",
      "Decision Tree Regressor r2_Score : 0.961977633923664\n",
      "Random Forest Regressor r2_Score : 0.9796466461100708\n"
     ]
    }
   ],
   "source": [
    "# Building Models using different Algorithms\n",
    "X=data\n",
    "Y=y_log\n",
    "\n",
    "\n",
    "from sklearn.model_selection import train_test_split\n",
    "X_train,X_test,Y_train,Y_test=train_test_split(X,Y,test_size=0.2,random_state=0)\n",
    "\n",
    "\n",
    "from sklearn.linear_model import LinearRegression\n",
    "lin=LinearRegression()\n",
    "lin.fit(X_train,Y_train) \n",
    "print('[0]Linear Regression Training Accuracy:',lin.score(X_train,Y_train))\n",
    "y_pred1=lin.predict(X_test)\n",
    "\n",
    "\n",
    "from sklearn.neighbors import KNeighborsRegressor\n",
    "knn=KNeighborsRegressor()\n",
    "knn.fit(X_train,Y_train)\n",
    "print('[1]knn Training Accuracy:' ,knn.score(X_train,Y_train))  \n",
    "y_pred2=knn.predict(X_test)\n",
    "\n",
    "\n",
    "from xgboost import XGBRegressor\n",
    "xg=XGBRegressor()\n",
    "xg.fit(X_train,Y_train)\n",
    "print('[2]xg Training Accuracy:', xg.score(X_train,Y_train))\n",
    "y_pred3=xg.predict(X_test)\n",
    "\n",
    "\n",
    "from sklearn.svm import SVR\n",
    "svr_lin=SVR()\n",
    "svr_lin.fit(X_train,Y_train)\n",
    "print('[3]svr-lin Training Accuracy:' ,svr_lin.score(X_train,Y_train)) \n",
    "y_pred4=svr_lin.predict(X_test)\n",
    "\n",
    "\n",
    "from sklearn.tree import DecisionTreeRegressor\n",
    "tree=DecisionTreeRegressor()\n",
    "tree.fit(X_train,Y_train)\n",
    "print('[4]decision tee Training Accuracy:', tree.score(X_train,Y_train))  \n",
    "y_pred5=tree.predict(X_test)\n",
    "\n",
    "from sklearn.ensemble import RandomForestRegressor\n",
    "forest=RandomForestRegressor()\n",
    "forest.fit(X_train,Y_train)\n",
    "print('[5]random forest Training Accuracy:', forest.score(X_train,Y_train)) \n",
    "y_pred6=forest.predict(X_test)\n",
    "\n",
    "from sklearn.metrics import r2_score\n",
    "\n",
    "print('Linear Regression r2_Score :',r2_score(y_pred1,Y_test))\n",
    "print('Knn Regressor r2_Score :',r2_score(y_pred2,Y_test))\n",
    "print('XGBoost Regressor r2_Score :',r2_score(y_pred4,Y_test))\n",
    "print('SVRegressor r2_Score :',r2_score(y_pred3,Y_test))\n",
    "print('Decision Tree Regressor r2_Score :',r2_score(y_pred5,Y_test))\n",
    "print('Random Forest Regressor r2_Score :',r2_score(y_pred6,Y_test))"
   ]
  },
  {
   "cell_type": "code",
   "execution_count": 49,
   "metadata": {},
   "outputs": [],
   "source": [
    "# Build Model using Best Algorithm with r2-score=0.989\n",
    "from sklearn.svm import SVR\n",
    "svr_lin=SVR('linear')\n",
    "svr_lin.fit(X_train,Y_train)\n",
    "y_pred4=svr_lin.predict(X_test)\n"
   ]
  },
  {
   "cell_type": "code",
   "execution_count": 50,
   "metadata": {},
   "outputs": [
    {
     "name": "stdout",
     "output_type": "stream",
     "text": [
      "SVRegressor r2_Score : 0.9890822903543509\n"
     ]
    }
   ],
   "source": [
    "print('SVRegressor r2_Score :',r2_score(y_pred3,Y_test))\n"
   ]
  },
  {
   "cell_type": "code",
   "execution_count": 51,
   "metadata": {},
   "outputs": [
    {
     "data": {
      "text/plain": [
       "(array([[ 7.10011471e-01,  1.24955601e+00,  4.93624515e+00,\n",
       "          1.02878380e-02,  1.51194725e-03,  5.13670015e-01,\n",
       "         -1.92146855e-02, -2.89555827e-01,  2.02879031e-01,\n",
       "          6.09776763e-02,  2.70773150e-01, -5.23413262e-02,\n",
       "         -2.62396575e-01, -2.04165991e-01, -4.81252112e-01,\n",
       "          1.90906280e-01, -2.95141081e-02,  1.95714152e-01,\n",
       "          1.51271754e-01,  9.66718535e-02,  4.15295113e-01,\n",
       "         -3.72661012e-01, -1.02324818e-01]]),\n",
       " array([4.91131963]))"
      ]
     },
     "execution_count": 51,
     "metadata": {},
     "output_type": "execute_result"
    }
   ],
   "source": [
    "svr_lin.coef_,svr_lin.intercept_"
   ]
  },
  {
   "cell_type": "markdown",
   "metadata": {},
   "source": [
    "# Prediction of Profit for Bookcase SUB-CATEGORY"
   ]
  },
  {
   "cell_type": "code",
   "execution_count": 52,
   "metadata": {},
   "outputs": [
    {
     "data": {
      "text/plain": [
       "array(['Bookcases', 'Supplies', 'Machines', 'Furnishings', 'Envelopes',\n",
       "       'Tables', 'Chairs', 'Phones', 'Appliances', 'Copiers', 'Storage',\n",
       "       'Paper', 'Accessories', 'Art', 'Binders', 'Labels', 'Fasteners'],\n",
       "      dtype=object)"
      ]
     },
     "execution_count": 52,
     "metadata": {},
     "output_type": "execute_result"
    }
   ],
   "source": [
    "df['Sub-Category'].unique()"
   ]
  },
  {
   "cell_type": "code",
   "execution_count": 53,
   "metadata": {},
   "outputs": [],
   "source": [
    "bookcase=df[df['Sub-Category']=='Bookcases']\n",
    "supplies=df[df['Sub-Category']=='Supplies']\n",
    "Machines=df[df['Sub-Category']=='Machines']\n",
    "furnishing=df[df['Sub-Category']=='Furnishings']\n",
    "envelopes=df[df['Sub-Category']=='Envelopes']\n",
    "Tables=df[df['Sub-Category']=='Tables']\n",
    "chairs=df[df['Sub-Category']=='Chairs']\n",
    "phones=df[df['Sub-Category']=='Phones']\n",
    "appliances=df[df['Sub-Category']=='Appliances']\n",
    "copiers=df[df['Sub-Category']=='Copiers']\n",
    "storage=df[df['Sub-Category']=='Storage']\n",
    "paper=df[df['Sub-Category']=='Paper']\n",
    "accessories=df[df['Sub-Category']=='Accessories']\n",
    "art=df[df['Sub-Category']=='Art']\n",
    "binders=df[df['Sub-Category']=='Binders']\n",
    "labels=df[df['Sub-Category']=='Labels']\n",
    "fasteners=df[df['Sub-Category']=='Fasteners']"
   ]
  },
  {
   "cell_type": "code",
   "execution_count": 54,
   "metadata": {},
   "outputs": [
    {
     "data": {
      "text/plain": [
       "(2411, 8)"
      ]
     },
     "execution_count": 54,
     "metadata": {},
     "output_type": "execute_result"
    }
   ],
   "source": [
    "#Data Preparation\n",
    "bookcase.shape"
   ]
  },
  {
   "cell_type": "code",
   "execution_count": 55,
   "metadata": {},
   "outputs": [
    {
     "data": {
      "text/plain": [
       "Index(['Segment', 'Market', 'Sub-Category', 'Category', 'Sales', 'Profit',\n",
       "       'Margin', 'Shipping Cost'],\n",
       "      dtype='object')"
      ]
     },
     "execution_count": 55,
     "metadata": {},
     "output_type": "execute_result"
    }
   ],
   "source": [
    "bookcase.columns"
   ]
  },
  {
   "cell_type": "code",
   "execution_count": 56,
   "metadata": {},
   "outputs": [],
   "source": [
    "bookcase.drop(['Sub-Category'],axis=1,inplace=True)"
   ]
  },
  {
   "cell_type": "code",
   "execution_count": 57,
   "metadata": {},
   "outputs": [
    {
     "data": {
      "text/html": [
       "<div>\n",
       "<style scoped>\n",
       "    .dataframe tbody tr th:only-of-type {\n",
       "        vertical-align: middle;\n",
       "    }\n",
       "\n",
       "    .dataframe tbody tr th {\n",
       "        vertical-align: top;\n",
       "    }\n",
       "\n",
       "    .dataframe thead th {\n",
       "        text-align: right;\n",
       "    }\n",
       "</style>\n",
       "<table border=\"1\" class=\"dataframe\">\n",
       "  <thead>\n",
       "    <tr style=\"text-align: right;\">\n",
       "      <th></th>\n",
       "      <th>Segment</th>\n",
       "      <th>Market</th>\n",
       "      <th>Category</th>\n",
       "      <th>Sales</th>\n",
       "      <th>Profit</th>\n",
       "      <th>Margin</th>\n",
       "      <th>Shipping Cost</th>\n",
       "    </tr>\n",
       "  </thead>\n",
       "  <tbody>\n",
       "    <tr>\n",
       "      <th>0</th>\n",
       "      <td>Home Office</td>\n",
       "      <td>Asia Pacific</td>\n",
       "      <td>Furniture</td>\n",
       "      <td>731.82</td>\n",
       "      <td>102.42</td>\n",
       "      <td>14.00</td>\n",
       "      <td>39.66</td>\n",
       "    </tr>\n",
       "    <tr>\n",
       "      <th>6</th>\n",
       "      <td>Home Office</td>\n",
       "      <td>Asia Pacific</td>\n",
       "      <td>Furniture</td>\n",
       "      <td>2070.15</td>\n",
       "      <td>848.70</td>\n",
       "      <td>41.00</td>\n",
       "      <td>185.01</td>\n",
       "    </tr>\n",
       "    <tr>\n",
       "      <th>65</th>\n",
       "      <td>Corporate</td>\n",
       "      <td>Europe</td>\n",
       "      <td>Furniture</td>\n",
       "      <td>363.75</td>\n",
       "      <td>39.99</td>\n",
       "      <td>10.99</td>\n",
       "      <td>33.38</td>\n",
       "    </tr>\n",
       "    <tr>\n",
       "      <th>66</th>\n",
       "      <td>Consumer</td>\n",
       "      <td>Europe</td>\n",
       "      <td>Furniture</td>\n",
       "      <td>414.03</td>\n",
       "      <td>202.86</td>\n",
       "      <td>49.00</td>\n",
       "      <td>26.48</td>\n",
       "    </tr>\n",
       "    <tr>\n",
       "      <th>72</th>\n",
       "      <td>Consumer</td>\n",
       "      <td>Africa</td>\n",
       "      <td>Furniture</td>\n",
       "      <td>1447.44</td>\n",
       "      <td>506.52</td>\n",
       "      <td>34.99</td>\n",
       "      <td>199.04</td>\n",
       "    </tr>\n",
       "  </tbody>\n",
       "</table>\n",
       "</div>"
      ],
      "text/plain": [
       "        Segment        Market   Category    Sales  Profit  Margin  \\\n",
       "0   Home Office  Asia Pacific  Furniture   731.82  102.42   14.00   \n",
       "6   Home Office  Asia Pacific  Furniture  2070.15  848.70   41.00   \n",
       "65    Corporate        Europe  Furniture   363.75   39.99   10.99   \n",
       "66     Consumer        Europe  Furniture   414.03  202.86   49.00   \n",
       "72     Consumer        Africa  Furniture  1447.44  506.52   34.99   \n",
       "\n",
       "    Shipping Cost  \n",
       "0           39.66  \n",
       "6          185.01  \n",
       "65          33.38  \n",
       "66          26.48  \n",
       "72         199.04  "
      ]
     },
     "execution_count": 57,
     "metadata": {},
     "output_type": "execute_result"
    }
   ],
   "source": [
    "bookcase.head()"
   ]
  },
  {
   "cell_type": "code",
   "execution_count": 58,
   "metadata": {},
   "outputs": [
    {
     "data": {
      "text/html": [
       "<div>\n",
       "<style scoped>\n",
       "    .dataframe tbody tr th:only-of-type {\n",
       "        vertical-align: middle;\n",
       "    }\n",
       "\n",
       "    .dataframe tbody tr th {\n",
       "        vertical-align: top;\n",
       "    }\n",
       "\n",
       "    .dataframe thead th {\n",
       "        text-align: right;\n",
       "    }\n",
       "</style>\n",
       "<table border=\"1\" class=\"dataframe\">\n",
       "  <thead>\n",
       "    <tr style=\"text-align: right;\">\n",
       "      <th></th>\n",
       "      <th>count</th>\n",
       "      <th>unique</th>\n",
       "      <th>top</th>\n",
       "      <th>freq</th>\n",
       "    </tr>\n",
       "  </thead>\n",
       "  <tbody>\n",
       "    <tr>\n",
       "      <th>Segment</th>\n",
       "      <td>2411</td>\n",
       "      <td>3</td>\n",
       "      <td>Consumer</td>\n",
       "      <td>1235</td>\n",
       "    </tr>\n",
       "    <tr>\n",
       "      <th>Market</th>\n",
       "      <td>2411</td>\n",
       "      <td>5</td>\n",
       "      <td>Asia Pacific</td>\n",
       "      <td>764</td>\n",
       "    </tr>\n",
       "    <tr>\n",
       "      <th>Category</th>\n",
       "      <td>2411</td>\n",
       "      <td>1</td>\n",
       "      <td>Furniture</td>\n",
       "      <td>2411</td>\n",
       "    </tr>\n",
       "  </tbody>\n",
       "</table>\n",
       "</div>"
      ],
      "text/plain": [
       "         count unique           top  freq\n",
       "Segment   2411      3      Consumer  1235\n",
       "Market    2411      5  Asia Pacific   764\n",
       "Category  2411      1     Furniture  2411"
      ]
     },
     "execution_count": 58,
     "metadata": {},
     "output_type": "execute_result"
    }
   ],
   "source": [
    "#Statistical Summary\n",
    "bookcase.describe(include=['object']).transpose()"
   ]
  },
  {
   "cell_type": "code",
   "execution_count": 59,
   "metadata": {},
   "outputs": [
    {
     "data": {
      "text/html": [
       "<div>\n",
       "<style scoped>\n",
       "    .dataframe tbody tr th:only-of-type {\n",
       "        vertical-align: middle;\n",
       "    }\n",
       "\n",
       "    .dataframe tbody tr th {\n",
       "        vertical-align: top;\n",
       "    }\n",
       "\n",
       "    .dataframe thead th {\n",
       "        text-align: right;\n",
       "    }\n",
       "</style>\n",
       "<table border=\"1\" class=\"dataframe\">\n",
       "  <thead>\n",
       "    <tr style=\"text-align: right;\">\n",
       "      <th></th>\n",
       "      <th>count</th>\n",
       "      <th>mean</th>\n",
       "      <th>std</th>\n",
       "      <th>min</th>\n",
       "      <th>25%</th>\n",
       "      <th>50%</th>\n",
       "      <th>75%</th>\n",
       "      <th>max</th>\n",
       "    </tr>\n",
       "  </thead>\n",
       "  <tbody>\n",
       "    <tr>\n",
       "      <th>Sales</th>\n",
       "      <td>2411.0</td>\n",
       "      <td>608.283800</td>\n",
       "      <td>602.487519</td>\n",
       "      <td>35.490</td>\n",
       "      <td>230.2720</td>\n",
       "      <td>411.332</td>\n",
       "      <td>755.09250</td>\n",
       "      <td>5667.87</td>\n",
       "    </tr>\n",
       "    <tr>\n",
       "      <th>Profit</th>\n",
       "      <td>2411.0</td>\n",
       "      <td>67.160688</td>\n",
       "      <td>242.859457</td>\n",
       "      <td>-1981.395</td>\n",
       "      <td>-17.9000</td>\n",
       "      <td>44.970</td>\n",
       "      <td>136.04625</td>\n",
       "      <td>2316.51</td>\n",
       "    </tr>\n",
       "    <tr>\n",
       "      <th>Margin</th>\n",
       "      <td>2411.0</td>\n",
       "      <td>1.488731</td>\n",
       "      <td>44.305010</td>\n",
       "      <td>-230.080</td>\n",
       "      <td>-5.5600</td>\n",
       "      <td>12.000</td>\n",
       "      <td>28.98000</td>\n",
       "      <td>50.00</td>\n",
       "    </tr>\n",
       "    <tr>\n",
       "      <th>Shipping Cost</th>\n",
       "      <td>2411.0</td>\n",
       "      <td>64.491069</td>\n",
       "      <td>77.644526</td>\n",
       "      <td>1.190</td>\n",
       "      <td>18.5565</td>\n",
       "      <td>38.151</td>\n",
       "      <td>76.96900</td>\n",
       "      <td>658.35</td>\n",
       "    </tr>\n",
       "  </tbody>\n",
       "</table>\n",
       "</div>"
      ],
      "text/plain": [
       "                count        mean         std       min       25%      50%  \\\n",
       "Sales          2411.0  608.283800  602.487519    35.490  230.2720  411.332   \n",
       "Profit         2411.0   67.160688  242.859457 -1981.395  -17.9000   44.970   \n",
       "Margin         2411.0    1.488731   44.305010  -230.080   -5.5600   12.000   \n",
       "Shipping Cost  2411.0   64.491069   77.644526     1.190   18.5565   38.151   \n",
       "\n",
       "                     75%      max  \n",
       "Sales          755.09250  5667.87  \n",
       "Profit         136.04625  2316.51  \n",
       "Margin          28.98000    50.00  \n",
       "Shipping Cost   76.96900   658.35  "
      ]
     },
     "execution_count": 59,
     "metadata": {},
     "output_type": "execute_result"
    }
   ],
   "source": [
    "bookcase.describe(include=['float']).transpose()"
   ]
  },
  {
   "cell_type": "code",
   "execution_count": 60,
   "metadata": {},
   "outputs": [
    {
     "data": {
      "text/plain": [
       "Segment             3\n",
       "Market              5\n",
       "Category            1\n",
       "Sales            1760\n",
       "Profit           1978\n",
       "Margin            666\n",
       "Shipping Cost    2275\n",
       "dtype: int64"
      ]
     },
     "execution_count": 60,
     "metadata": {},
     "output_type": "execute_result"
    }
   ],
   "source": [
    "bookcase.nunique()"
   ]
  },
  {
   "cell_type": "code",
   "execution_count": 61,
   "metadata": {},
   "outputs": [
    {
     "data": {
      "text/plain": [
       "0     102.42\n",
       "6     848.70\n",
       "65     39.99\n",
       "66    202.86\n",
       "72    506.52\n",
       "Name: Profit, dtype: float64"
      ]
     },
     "execution_count": 61,
     "metadata": {},
     "output_type": "execute_result"
    }
   ],
   "source": [
    "#Splitting Target Variable\n",
    "target=bookcase['Profit']\n",
    "target.head()"
   ]
  },
  {
   "cell_type": "code",
   "execution_count": 62,
   "metadata": {},
   "outputs": [
    {
     "data": {
      "text/plain": [
       "<matplotlib.axes._subplots.AxesSubplot at 0x20ce1e211c8>"
      ]
     },
     "execution_count": 62,
     "metadata": {},
     "output_type": "execute_result"
    },
    {
     "data": {
      "image/png": "[encoded data removed]",
      "text/plain": [
       "<Figure size 432x288 with 1 Axes>"
      ]
     },
     "metadata": {},
     "output_type": "display_data"
    }
   ],
   "source": [
    "sns.distplot(target,hist=True)"
   ]
  },
  {
   "cell_type": "code",
   "execution_count": 63,
   "metadata": {},
   "outputs": [
    {
     "data": {
      "text/plain": [
       "<matplotlib.axes._subplots.AxesSubplot at 0x20cdd9f5988>"
      ]
     },
     "execution_count": 63,
     "metadata": {},
     "output_type": "execute_result"
    },
    {
     "data": {
      "image/png": "[encoded data removed]",
      "text/plain": [
       "<Figure size 432x288 with 1 Axes>"
      ]
     },
     "metadata": {},
     "output_type": "display_data"
    }
   ],
   "source": [
    "target.hist()"
   ]
  },
  {
   "cell_type": "code",
   "execution_count": 64,
   "metadata": {},
   "outputs": [
    {
     "data": {
      "text/plain": [
       "Segment           object\n",
       "Market            object\n",
       "Category          object\n",
       "Sales            float64\n",
       "Profit           float64\n",
       "Margin           float64\n",
       "Shipping Cost    float64\n",
       "dtype: object"
      ]
     },
     "execution_count": 64,
     "metadata": {},
     "output_type": "execute_result"
    }
   ],
   "source": [
    "bookcase.dtypes"
   ]
  },
  {
   "cell_type": "code",
   "execution_count": 65,
   "metadata": {},
   "outputs": [],
   "source": [
    "categ=[col for col in bookcase.columns.values if bookcase[col].dtype=='object']\n",
    "df_cat2=bookcase[categ]\n",
    "df_num2=bookcase.drop(categ,axis=1)"
   ]
  },
  {
   "cell_type": "code",
   "execution_count": 66,
   "metadata": {},
   "outputs": [],
   "source": [
    "df_num2.drop('Profit',axis=1,inplace=True)"
   ]
  },
  {
   "cell_type": "code",
   "execution_count": 67,
   "metadata": {},
   "outputs": [
    {
     "data": {
      "text/plain": [
       "array([[<matplotlib.axes._subplots.AxesSubplot object at 0x0000020CE1BAC808>,\n",
       "        <matplotlib.axes._subplots.AxesSubplot object at 0x0000020CE1BF9BC8>],\n",
       "       [<matplotlib.axes._subplots.AxesSubplot object at 0x0000020CE1C31488>,\n",
       "        <matplotlib.axes._subplots.AxesSubplot object at 0x0000020CE1C67E48>]],\n",
       "      dtype=object)"
      ]
     },
     "execution_count": 67,
     "metadata": {},
     "output_type": "execute_result"
    },
    {
     "data": {
      "image/png": "[encoded data removed]",
      "text/plain": [
       "<Figure size 432x288 with 4 Axes>"
      ]
     },
     "metadata": {},
     "output_type": "display_data"
    }
   ],
   "source": [
    "#checking Skewness\n",
    "df_num2_skew=df_num2.skew()\n",
    "df_num2_skew=df_num2_skew[df_num2_skew>0.75]\n",
    "df_num2[df_num2_skew.index]=np.log1p(df_num2[df_num2_skew.index])\n",
    "df_num2.hist()"
   ]
  },
  {
   "cell_type": "code",
   "execution_count": 68,
   "metadata": {},
   "outputs": [
    {
     "data": {
      "text/html": [
       "<div>\n",
       "<style scoped>\n",
       "    .dataframe tbody tr th:only-of-type {\n",
       "        vertical-align: middle;\n",
       "    }\n",
       "\n",
       "    .dataframe tbody tr th {\n",
       "        vertical-align: top;\n",
       "    }\n",
       "\n",
       "    .dataframe thead th {\n",
       "        text-align: right;\n",
       "    }\n",
       "</style>\n",
       "<table border=\"1\" class=\"dataframe\">\n",
       "  <thead>\n",
       "    <tr style=\"text-align: right;\">\n",
       "      <th></th>\n",
       "      <th>Sales</th>\n",
       "      <th>Margin</th>\n",
       "      <th>Shipping Cost</th>\n",
       "    </tr>\n",
       "  </thead>\n",
       "  <tbody>\n",
       "    <tr>\n",
       "      <th>0</th>\n",
       "      <td>0.111406</td>\n",
       "      <td>0.044670</td>\n",
       "      <td>0.005264</td>\n",
       "    </tr>\n",
       "    <tr>\n",
       "      <th>6</th>\n",
       "      <td>0.317315</td>\n",
       "      <td>0.141071</td>\n",
       "      <td>0.271685</td>\n",
       "    </tr>\n",
       "    <tr>\n",
       "      <th>65</th>\n",
       "      <td>-0.026868</td>\n",
       "      <td>0.033923</td>\n",
       "      <td>-0.024131</td>\n",
       "    </tr>\n",
       "    <tr>\n",
       "      <th>66</th>\n",
       "      <td>-0.001274</td>\n",
       "      <td>0.169635</td>\n",
       "      <td>-0.063382</td>\n",
       "    </tr>\n",
       "    <tr>\n",
       "      <th>72</th>\n",
       "      <td>0.246440</td>\n",
       "      <td>0.119613</td>\n",
       "      <td>0.284426</td>\n",
       "    </tr>\n",
       "  </tbody>\n",
       "</table>\n",
       "</div>"
      ],
      "text/plain": [
       "       Sales    Margin  Shipping Cost\n",
       "0   0.111406  0.044670       0.005264\n",
       "6   0.317315  0.141071       0.271685\n",
       "65 -0.026868  0.033923      -0.024131\n",
       "66 -0.001274  0.169635      -0.063382\n",
       "72  0.246440  0.119613       0.284426"
      ]
     },
     "execution_count": 68,
     "metadata": {},
     "output_type": "execute_result"
    }
   ],
   "source": [
    "#Mean Normalisation\n",
    "df_num2=(df_num2-df_num2.mean())/(df_num2.max()-df_num2.min())\n",
    "df_num2.head()"
   ]
  },
  {
   "cell_type": "code",
   "execution_count": 69,
   "metadata": {},
   "outputs": [],
   "source": [
    "#Dummy Variables\n",
    "df_cat2=pd.get_dummies(df_cat2,drop_first=True)"
   ]
  },
  {
   "cell_type": "code",
   "execution_count": 70,
   "metadata": {},
   "outputs": [],
   "source": [
    "data2=pd.concat([df_num2,df_cat2],axis=1)"
   ]
  },
  {
   "cell_type": "code",
   "execution_count": 71,
   "metadata": {},
   "outputs": [
    {
     "data": {
      "text/html": [
       "<div>\n",
       "<style scoped>\n",
       "    .dataframe tbody tr th:only-of-type {\n",
       "        vertical-align: middle;\n",
       "    }\n",
       "\n",
       "    .dataframe tbody tr th {\n",
       "        vertical-align: top;\n",
       "    }\n",
       "\n",
       "    .dataframe thead th {\n",
       "        text-align: right;\n",
       "    }\n",
       "</style>\n",
       "<table border=\"1\" class=\"dataframe\">\n",
       "  <thead>\n",
       "    <tr style=\"text-align: right;\">\n",
       "      <th></th>\n",
       "      <th>Sales</th>\n",
       "      <th>Margin</th>\n",
       "      <th>Shipping Cost</th>\n",
       "      <th>Segment_Corporate</th>\n",
       "      <th>Segment_Home Office</th>\n",
       "      <th>Market_Asia Pacific</th>\n",
       "      <th>Market_Europe</th>\n",
       "      <th>Market_LATAM</th>\n",
       "      <th>Market_USCA</th>\n",
       "    </tr>\n",
       "  </thead>\n",
       "  <tbody>\n",
       "    <tr>\n",
       "      <th>0</th>\n",
       "      <td>0.111406</td>\n",
       "      <td>0.044670</td>\n",
       "      <td>0.005264</td>\n",
       "      <td>0</td>\n",
       "      <td>1</td>\n",
       "      <td>1</td>\n",
       "      <td>0</td>\n",
       "      <td>0</td>\n",
       "      <td>0</td>\n",
       "    </tr>\n",
       "    <tr>\n",
       "      <th>6</th>\n",
       "      <td>0.317315</td>\n",
       "      <td>0.141071</td>\n",
       "      <td>0.271685</td>\n",
       "      <td>0</td>\n",
       "      <td>1</td>\n",
       "      <td>1</td>\n",
       "      <td>0</td>\n",
       "      <td>0</td>\n",
       "      <td>0</td>\n",
       "    </tr>\n",
       "    <tr>\n",
       "      <th>65</th>\n",
       "      <td>-0.026868</td>\n",
       "      <td>0.033923</td>\n",
       "      <td>-0.024131</td>\n",
       "      <td>1</td>\n",
       "      <td>0</td>\n",
       "      <td>0</td>\n",
       "      <td>1</td>\n",
       "      <td>0</td>\n",
       "      <td>0</td>\n",
       "    </tr>\n",
       "    <tr>\n",
       "      <th>66</th>\n",
       "      <td>-0.001274</td>\n",
       "      <td>0.169635</td>\n",
       "      <td>-0.063382</td>\n",
       "      <td>0</td>\n",
       "      <td>0</td>\n",
       "      <td>0</td>\n",
       "      <td>1</td>\n",
       "      <td>0</td>\n",
       "      <td>0</td>\n",
       "    </tr>\n",
       "    <tr>\n",
       "      <th>72</th>\n",
       "      <td>0.246440</td>\n",
       "      <td>0.119613</td>\n",
       "      <td>0.284426</td>\n",
       "      <td>0</td>\n",
       "      <td>0</td>\n",
       "      <td>0</td>\n",
       "      <td>0</td>\n",
       "      <td>0</td>\n",
       "      <td>0</td>\n",
       "    </tr>\n",
       "  </tbody>\n",
       "</table>\n",
       "</div>"
      ],
      "text/plain": [
       "       Sales    Margin  Shipping Cost  Segment_Corporate  Segment_Home Office  \\\n",
       "0   0.111406  0.044670       0.005264                  0                    1   \n",
       "6   0.317315  0.141071       0.271685                  0                    1   \n",
       "65 -0.026868  0.033923      -0.024131                  1                    0   \n",
       "66 -0.001274  0.169635      -0.063382                  0                    0   \n",
       "72  0.246440  0.119613       0.284426                  0                    0   \n",
       "\n",
       "    Market_Asia Pacific  Market_Europe  Market_LATAM  Market_USCA  \n",
       "0                     1              0             0            0  \n",
       "6                     1              0             0            0  \n",
       "65                    0              1             0            0  \n",
       "66                    0              1             0            0  \n",
       "72                    0              0             0            0  "
      ]
     },
     "execution_count": 71,
     "metadata": {},
     "output_type": "execute_result"
    }
   ],
   "source": [
    "data2.head()"
   ]
  },
  {
   "cell_type": "code",
   "execution_count": 72,
   "metadata": {},
   "outputs": [
    {
     "name": "stdout",
     "output_type": "stream",
     "text": [
      "[0]Linear Regression Training Accuracy: 0.43132431314414055\n",
      "[1]knn Training Accuracy: 0.8398027889623457\n",
      "[2]xg Training Accuracy: 0.9999167772849591\n",
      "[3]svr-lin Training Accuracy: 0.08987224287426798\n",
      "[4]decision tee Training Accuracy: 1.0\n",
      "[5]random forest Training Accuracy: 0.9963968305598534\n",
      "Linear Regression r2_Score : -0.30748095617332516\n",
      "Knn Regressor r2_Score : 0.43180039436554085\n",
      "XGBoost Regressor r2_Score : -89.77739487131078\n",
      "SVRegressor r2_Score : 0.9888016523836042\n",
      "Decision Tree Regressor r2_Score : 0.9503585680651445\n",
      "Random Forest Regressor r2_Score : 0.9738175809765164\n"
     ]
    }
   ],
   "source": [
    "#Building Models using different Algorithms\n",
    "X=data2\n",
    "Y=target\n",
    "\n",
    "from sklearn.model_selection import train_test_split\n",
    "X_train,X_test,Y_train,Y_test=train_test_split(X,Y,test_size=0.2,random_state=0)\n",
    "\n",
    "\n",
    "from sklearn.linear_model import LinearRegression\n",
    "lin=LinearRegression()\n",
    "lin.fit(X_train,Y_train) \n",
    "print('[0]Linear Regression Training Accuracy:',lin.score(X_train,Y_train))\n",
    "y_pred1=lin.predict(X_test)\n",
    "\n",
    "\n",
    "from sklearn.neighbors import KNeighborsRegressor\n",
    "knn=KNeighborsRegressor()\n",
    "knn.fit(X_train,Y_train)\n",
    "print('[1]knn Training Accuracy:' ,knn.score(X_train,Y_train))  \n",
    "y_pred2=knn.predict(X_test)\n",
    "\n",
    "\n",
    "from xgboost import XGBRegressor\n",
    "xg=XGBRegressor()\n",
    "xg.fit(X_train,Y_train)\n",
    "print('[2]xg Training Accuracy:', xg.score(X_train,Y_train))\n",
    "y_pred3=xg.predict(X_test)\n",
    "\n",
    "\n",
    "from sklearn.svm import SVR\n",
    "svr_lin=SVR()\n",
    "svr_lin.fit(X_train,Y_train)\n",
    "print('[3]svr-lin Training Accuracy:' ,svr_lin.score(X_train,Y_train)) \n",
    "y_pred4=svr_lin.predict(X_test)\n",
    "\n",
    "\n",
    "from sklearn.tree import DecisionTreeRegressor\n",
    "tree=DecisionTreeRegressor()\n",
    "tree.fit(X_train,Y_train)\n",
    "print('[4]decision tee Training Accuracy:', tree.score(X_train,Y_train))  \n",
    "y_pred5=tree.predict(X_test)\n",
    "\n",
    "from sklearn.ensemble import RandomForestRegressor\n",
    "forest=RandomForestRegressor()\n",
    "forest.fit(X_train,Y_train)\n",
    "print('[5]random forest Training Accuracy:', forest.score(X_train,Y_train)) \n",
    "y_pred6=forest.predict(X_test)\n",
    "\n",
    "print('Linear Regression r2_Score :',r2_score(y_pred1,Y_test))\n",
    "print('Knn Regressor r2_Score :',r2_score(y_pred2,Y_test))\n",
    "print('XGBoost Regressor r2_Score :',r2_score(y_pred4,Y_test))\n",
    "print('SVRegressor r2_Score :',r2_score(y_pred3,Y_test))\n",
    "print('Decision Tree Regressor r2_Score :',r2_score(y_pred5,Y_test))\n",
    "print('Random Forest Regressor r2_Score :',r2_score(y_pred6,Y_test))"
   ]
  },
  {
   "cell_type": "code",
   "execution_count": 73,
   "metadata": {},
   "outputs": [
    {
     "name": "stdout",
     "output_type": "stream",
     "text": [
      "Random Forest Regressor r2_Score : 0.9733953511574012\n"
     ]
    }
   ],
   "source": [
    "#Best Algorithm\n",
    "from sklearn.ensemble import RandomForestRegressor\n",
    "forest=RandomForestRegressor()\n",
    "forest.fit(X_train,Y_train)\n",
    "y_pred6=forest.predict(X_test)\n",
    "print('Random Forest Regressor r2_Score :',r2_score(y_pred6,Y_test))\n"
   ]
  },
  {
   "cell_type": "markdown",
   "metadata": {},
   "source": [
    "# Prediction of Cost for Furniture CATEGORY"
   ]
  },
  {
   "cell_type": "code",
   "execution_count": 74,
   "metadata": {},
   "outputs": [
    {
     "data": {
      "text/plain": [
       "array(['Furniture', 'Office Supplies', 'Technology'], dtype=object)"
      ]
     },
     "execution_count": 74,
     "metadata": {},
     "output_type": "execute_result"
    }
   ],
   "source": [
    "#data preparation\n",
    "df['Category'].unique()"
   ]
  },
  {
   "cell_type": "code",
   "execution_count": 75,
   "metadata": {},
   "outputs": [],
   "source": [
    "Furniture=df[df['Category']=='Furniture']\n",
    "Office=df[df['Category']=='Office Supplies']\n",
    "Tech=df[df['Category']=='Technology']"
   ]
  },
  {
   "cell_type": "code",
   "execution_count": 76,
   "metadata": {},
   "outputs": [
    {
     "data": {
      "text/plain": [
       "(9860, 8)"
      ]
     },
     "execution_count": 76,
     "metadata": {},
     "output_type": "execute_result"
    }
   ],
   "source": [
    "Furniture.shape"
   ]
  },
  {
   "cell_type": "code",
   "execution_count": 77,
   "metadata": {},
   "outputs": [
    {
     "name": "stdout",
     "output_type": "stream",
     "text": [
      "<class 'pandas.core.frame.DataFrame'>\n",
      "Int64Index: 9860 entries, 0 to 51273\n",
      "Data columns (total 8 columns):\n",
      " #   Column         Non-Null Count  Dtype  \n",
      "---  ------         --------------  -----  \n",
      " 0   Segment        9860 non-null   object \n",
      " 1   Market         9860 non-null   object \n",
      " 2   Sub-Category   9860 non-null   object \n",
      " 3   Category       9860 non-null   object \n",
      " 4   Sales          9860 non-null   float64\n",
      " 5   Profit         9860 non-null   float64\n",
      " 6   Margin         9860 non-null   float64\n",
      " 7   Shipping Cost  9860 non-null   float64\n",
      "dtypes: float64(4), object(4)\n",
      "memory usage: 693.3+ KB\n"
     ]
    }
   ],
   "source": [
    "Furniture.info()"
   ]
  },
  {
   "cell_type": "code",
   "execution_count": 78,
   "metadata": {},
   "outputs": [
    {
     "data": {
      "text/html": [
       "<div>\n",
       "<style scoped>\n",
       "    .dataframe tbody tr th:only-of-type {\n",
       "        vertical-align: middle;\n",
       "    }\n",
       "\n",
       "    .dataframe tbody tr th {\n",
       "        vertical-align: top;\n",
       "    }\n",
       "\n",
       "    .dataframe thead th {\n",
       "        text-align: right;\n",
       "    }\n",
       "</style>\n",
       "<table border=\"1\" class=\"dataframe\">\n",
       "  <thead>\n",
       "    <tr style=\"text-align: right;\">\n",
       "      <th></th>\n",
       "      <th>Sales</th>\n",
       "      <th>Profit</th>\n",
       "      <th>Margin</th>\n",
       "      <th>Shipping Cost</th>\n",
       "    </tr>\n",
       "  </thead>\n",
       "  <tbody>\n",
       "    <tr>\n",
       "      <th>count</th>\n",
       "      <td>9860.000000</td>\n",
       "      <td>9860.000000</td>\n",
       "      <td>9860.000000</td>\n",
       "      <td>9860.000000</td>\n",
       "    </tr>\n",
       "    <tr>\n",
       "      <th>mean</th>\n",
       "      <td>416.881531</td>\n",
       "      <td>28.913056</td>\n",
       "      <td>0.837764</td>\n",
       "      <td>44.684216</td>\n",
       "    </tr>\n",
       "    <tr>\n",
       "      <th>std</th>\n",
       "      <td>553.291298</td>\n",
       "      <td>205.924556</td>\n",
       "      <td>44.705601</td>\n",
       "      <td>72.580550</td>\n",
       "    </tr>\n",
       "    <tr>\n",
       "      <th>min</th>\n",
       "      <td>1.892000</td>\n",
       "      <td>-2750.280000</td>\n",
       "      <td>-473.350000</td>\n",
       "      <td>1.040000</td>\n",
       "    </tr>\n",
       "    <tr>\n",
       "      <th>25%</th>\n",
       "      <td>91.896000</td>\n",
       "      <td>-12.300075</td>\n",
       "      <td>-8.750000</td>\n",
       "      <td>7.380000</td>\n",
       "    </tr>\n",
       "    <tr>\n",
       "      <th>50%</th>\n",
       "      <td>220.590300</td>\n",
       "      <td>15.535600</td>\n",
       "      <td>11.305000</td>\n",
       "      <td>20.292500</td>\n",
       "    </tr>\n",
       "    <tr>\n",
       "      <th>75%</th>\n",
       "      <td>510.013125</td>\n",
       "      <td>69.606000</td>\n",
       "      <td>28.750000</td>\n",
       "      <td>50.907500</td>\n",
       "    </tr>\n",
       "    <tr>\n",
       "      <th>max</th>\n",
       "      <td>5759.964000</td>\n",
       "      <td>2316.510000</td>\n",
       "      <td>50.000000</td>\n",
       "      <td>923.630000</td>\n",
       "    </tr>\n",
       "  </tbody>\n",
       "</table>\n",
       "</div>"
      ],
      "text/plain": [
       "             Sales       Profit       Margin  Shipping Cost\n",
       "count  9860.000000  9860.000000  9860.000000    9860.000000\n",
       "mean    416.881531    28.913056     0.837764      44.684216\n",
       "std     553.291298   205.924556    44.705601      72.580550\n",
       "min       1.892000 -2750.280000  -473.350000       1.040000\n",
       "25%      91.896000   -12.300075    -8.750000       7.380000\n",
       "50%     220.590300    15.535600    11.305000      20.292500\n",
       "75%     510.013125    69.606000    28.750000      50.907500\n",
       "max    5759.964000  2316.510000    50.000000     923.630000"
      ]
     },
     "execution_count": 78,
     "metadata": {},
     "output_type": "execute_result"
    }
   ],
   "source": [
    "#statistical summary\n",
    "Furniture.describe()"
   ]
  },
  {
   "cell_type": "code",
   "execution_count": 79,
   "metadata": {},
   "outputs": [
    {
     "data": {
      "text/html": [
       "<div>\n",
       "<style scoped>\n",
       "    .dataframe tbody tr th:only-of-type {\n",
       "        vertical-align: middle;\n",
       "    }\n",
       "\n",
       "    .dataframe tbody tr th {\n",
       "        vertical-align: top;\n",
       "    }\n",
       "\n",
       "    .dataframe thead th {\n",
       "        text-align: right;\n",
       "    }\n",
       "</style>\n",
       "<table border=\"1\" class=\"dataframe\">\n",
       "  <thead>\n",
       "    <tr style=\"text-align: right;\">\n",
       "      <th></th>\n",
       "      <th>count</th>\n",
       "      <th>unique</th>\n",
       "      <th>top</th>\n",
       "      <th>freq</th>\n",
       "    </tr>\n",
       "  </thead>\n",
       "  <tbody>\n",
       "    <tr>\n",
       "      <th>Segment</th>\n",
       "      <td>9860</td>\n",
       "      <td>3</td>\n",
       "      <td>Consumer</td>\n",
       "      <td>5087</td>\n",
       "    </tr>\n",
       "    <tr>\n",
       "      <th>Market</th>\n",
       "      <td>9860</td>\n",
       "      <td>5</td>\n",
       "      <td>Asia Pacific</td>\n",
       "      <td>2923</td>\n",
       "    </tr>\n",
       "    <tr>\n",
       "      <th>Sub-Category</th>\n",
       "      <td>9860</td>\n",
       "      <td>4</td>\n",
       "      <td>Chairs</td>\n",
       "      <td>3434</td>\n",
       "    </tr>\n",
       "    <tr>\n",
       "      <th>Category</th>\n",
       "      <td>9860</td>\n",
       "      <td>1</td>\n",
       "      <td>Furniture</td>\n",
       "      <td>9860</td>\n",
       "    </tr>\n",
       "  </tbody>\n",
       "</table>\n",
       "</div>"
      ],
      "text/plain": [
       "             count unique           top  freq\n",
       "Segment       9860      3      Consumer  5087\n",
       "Market        9860      5  Asia Pacific  2923\n",
       "Sub-Category  9860      4        Chairs  3434\n",
       "Category      9860      1     Furniture  9860"
      ]
     },
     "execution_count": 79,
     "metadata": {},
     "output_type": "execute_result"
    }
   ],
   "source": [
    "Furniture.describe(include=['object']).transpose()"
   ]
  },
  {
   "cell_type": "code",
   "execution_count": 80,
   "metadata": {},
   "outputs": [
    {
     "data": {
      "text/html": [
       "<div>\n",
       "<style scoped>\n",
       "    .dataframe tbody tr th:only-of-type {\n",
       "        vertical-align: middle;\n",
       "    }\n",
       "\n",
       "    .dataframe tbody tr th {\n",
       "        vertical-align: top;\n",
       "    }\n",
       "\n",
       "    .dataframe thead th {\n",
       "        text-align: right;\n",
       "    }\n",
       "</style>\n",
       "<table border=\"1\" class=\"dataframe\">\n",
       "  <thead>\n",
       "    <tr style=\"text-align: right;\">\n",
       "      <th></th>\n",
       "      <th>count</th>\n",
       "      <th>mean</th>\n",
       "      <th>std</th>\n",
       "      <th>min</th>\n",
       "      <th>25%</th>\n",
       "      <th>50%</th>\n",
       "      <th>75%</th>\n",
       "      <th>max</th>\n",
       "    </tr>\n",
       "  </thead>\n",
       "  <tbody>\n",
       "    <tr>\n",
       "      <th>Sales</th>\n",
       "      <td>9860.0</td>\n",
       "      <td>416.881531</td>\n",
       "      <td>553.291298</td>\n",
       "      <td>1.892</td>\n",
       "      <td>91.896000</td>\n",
       "      <td>220.5903</td>\n",
       "      <td>510.013125</td>\n",
       "      <td>5759.964</td>\n",
       "    </tr>\n",
       "    <tr>\n",
       "      <th>Profit</th>\n",
       "      <td>9860.0</td>\n",
       "      <td>28.913056</td>\n",
       "      <td>205.924556</td>\n",
       "      <td>-2750.280</td>\n",
       "      <td>-12.300075</td>\n",
       "      <td>15.5356</td>\n",
       "      <td>69.606000</td>\n",
       "      <td>2316.510</td>\n",
       "    </tr>\n",
       "    <tr>\n",
       "      <th>Margin</th>\n",
       "      <td>9860.0</td>\n",
       "      <td>0.837764</td>\n",
       "      <td>44.705601</td>\n",
       "      <td>-473.350</td>\n",
       "      <td>-8.750000</td>\n",
       "      <td>11.3050</td>\n",
       "      <td>28.750000</td>\n",
       "      <td>50.000</td>\n",
       "    </tr>\n",
       "    <tr>\n",
       "      <th>Shipping Cost</th>\n",
       "      <td>9860.0</td>\n",
       "      <td>44.684216</td>\n",
       "      <td>72.580550</td>\n",
       "      <td>1.040</td>\n",
       "      <td>7.380000</td>\n",
       "      <td>20.2925</td>\n",
       "      <td>50.907500</td>\n",
       "      <td>923.630</td>\n",
       "    </tr>\n",
       "  </tbody>\n",
       "</table>\n",
       "</div>"
      ],
      "text/plain": [
       "                count        mean         std       min        25%       50%  \\\n",
       "Sales          9860.0  416.881531  553.291298     1.892  91.896000  220.5903   \n",
       "Profit         9860.0   28.913056  205.924556 -2750.280 -12.300075   15.5356   \n",
       "Margin         9860.0    0.837764   44.705601  -473.350  -8.750000   11.3050   \n",
       "Shipping Cost  9860.0   44.684216   72.580550     1.040   7.380000   20.2925   \n",
       "\n",
       "                      75%       max  \n",
       "Sales          510.013125  5759.964  \n",
       "Profit          69.606000  2316.510  \n",
       "Margin          28.750000    50.000  \n",
       "Shipping Cost   50.907500   923.630  "
      ]
     },
     "execution_count": 80,
     "metadata": {},
     "output_type": "execute_result"
    }
   ],
   "source": [
    "Furniture.describe(include=['float']).transpose()"
   ]
  },
  {
   "cell_type": "code",
   "execution_count": 81,
   "metadata": {},
   "outputs": [
    {
     "data": {
      "text/plain": [
       "Segment             3\n",
       "Market              5\n",
       "Sub-Category        4\n",
       "Category            1\n",
       "Sales            6752\n",
       "Profit           7389\n",
       "Margin           1888\n",
       "Shipping Cost    6902\n",
       "dtype: int64"
      ]
     },
     "execution_count": 81,
     "metadata": {},
     "output_type": "execute_result"
    }
   ],
   "source": [
    "Furniture.nunique()"
   ]
  },
  {
   "cell_type": "code",
   "execution_count": 82,
   "metadata": {},
   "outputs": [
    {
     "data": {
      "text/plain": [
       "0     39.66\n",
       "3     11.01\n",
       "5    835.57\n",
       "6    185.01\n",
       "7    106.41\n",
       "Name: Shipping Cost, dtype: float64"
      ]
     },
     "execution_count": 82,
     "metadata": {},
     "output_type": "execute_result"
    }
   ],
   "source": [
    "target1=Furniture['Shipping Cost']\n",
    "target1.head()\n"
   ]
  },
  {
   "cell_type": "code",
   "execution_count": 83,
   "metadata": {},
   "outputs": [
    {
     "data": {
      "text/plain": [
       "<matplotlib.axes._subplots.AxesSubplot at 0x20ce1e7fcc8>"
      ]
     },
     "execution_count": 83,
     "metadata": {},
     "output_type": "execute_result"
    },
    {
     "data": {
      "image/png": "[encoded data removed]",
      "text/plain": [
       "<Figure size 432x288 with 1 Axes>"
      ]
     },
     "metadata": {},
     "output_type": "display_data"
    }
   ],
   "source": [
    "sns.distplot(target1,hist=True)"
   ]
  },
  {
   "cell_type": "code",
   "execution_count": 84,
   "metadata": {},
   "outputs": [
    {
     "data": {
      "text/plain": [
       "<matplotlib.axes._subplots.AxesSubplot at 0x20cdf49d0c8>"
      ]
     },
     "execution_count": 84,
     "metadata": {},
     "output_type": "execute_result"
    },
    {
     "data": {
      "image/png": "[encoded data removed]",
      "text/plain": [
       "<Figure size 432x288 with 1 Axes>"
      ]
     },
     "metadata": {},
     "output_type": "display_data"
    }
   ],
   "source": [
    "target1log=np.log1p(target1)\n",
    "sns.distplot(target1log)"
   ]
  },
  {
   "cell_type": "code",
   "execution_count": 85,
   "metadata": {},
   "outputs": [
    {
     "data": {
      "text/html": [
       "<div>\n",
       "<style scoped>\n",
       "    .dataframe tbody tr th:only-of-type {\n",
       "        vertical-align: middle;\n",
       "    }\n",
       "\n",
       "    .dataframe tbody tr th {\n",
       "        vertical-align: top;\n",
       "    }\n",
       "\n",
       "    .dataframe thead th {\n",
       "        text-align: right;\n",
       "    }\n",
       "</style>\n",
       "<table border=\"1\" class=\"dataframe\">\n",
       "  <thead>\n",
       "    <tr style=\"text-align: right;\">\n",
       "      <th></th>\n",
       "      <th>Segment</th>\n",
       "      <th>Market</th>\n",
       "      <th>Sub-Category</th>\n",
       "      <th>Category</th>\n",
       "      <th>Sales</th>\n",
       "      <th>Profit</th>\n",
       "      <th>Margin</th>\n",
       "    </tr>\n",
       "  </thead>\n",
       "  <tbody>\n",
       "    <tr>\n",
       "      <th>0</th>\n",
       "      <td>Home Office</td>\n",
       "      <td>Asia Pacific</td>\n",
       "      <td>Bookcases</td>\n",
       "      <td>Furniture</td>\n",
       "      <td>731.82</td>\n",
       "      <td>102.42</td>\n",
       "      <td>14.00</td>\n",
       "    </tr>\n",
       "    <tr>\n",
       "      <th>3</th>\n",
       "      <td>Home Office</td>\n",
       "      <td>Asia Pacific</td>\n",
       "      <td>Furnishings</td>\n",
       "      <td>Furniture</td>\n",
       "      <td>169.68</td>\n",
       "      <td>79.68</td>\n",
       "      <td>46.96</td>\n",
       "    </tr>\n",
       "    <tr>\n",
       "      <th>5</th>\n",
       "      <td>Corporate</td>\n",
       "      <td>Asia Pacific</td>\n",
       "      <td>Tables</td>\n",
       "      <td>Furniture</td>\n",
       "      <td>4626.15</td>\n",
       "      <td>647.55</td>\n",
       "      <td>14.00</td>\n",
       "    </tr>\n",
       "    <tr>\n",
       "      <th>6</th>\n",
       "      <td>Home Office</td>\n",
       "      <td>Asia Pacific</td>\n",
       "      <td>Bookcases</td>\n",
       "      <td>Furniture</td>\n",
       "      <td>2070.15</td>\n",
       "      <td>848.70</td>\n",
       "      <td>41.00</td>\n",
       "    </tr>\n",
       "    <tr>\n",
       "      <th>7</th>\n",
       "      <td>Corporate</td>\n",
       "      <td>Asia Pacific</td>\n",
       "      <td>Chairs</td>\n",
       "      <td>Furniture</td>\n",
       "      <td>914.34</td>\n",
       "      <td>356.58</td>\n",
       "      <td>39.00</td>\n",
       "    </tr>\n",
       "  </tbody>\n",
       "</table>\n",
       "</div>"
      ],
      "text/plain": [
       "       Segment        Market Sub-Category   Category    Sales  Profit  Margin\n",
       "0  Home Office  Asia Pacific    Bookcases  Furniture   731.82  102.42   14.00\n",
       "3  Home Office  Asia Pacific  Furnishings  Furniture   169.68   79.68   46.96\n",
       "5    Corporate  Asia Pacific       Tables  Furniture  4626.15  647.55   14.00\n",
       "6  Home Office  Asia Pacific    Bookcases  Furniture  2070.15  848.70   41.00\n",
       "7    Corporate  Asia Pacific       Chairs  Furniture   914.34  356.58   39.00"
      ]
     },
     "execution_count": 85,
     "metadata": {},
     "output_type": "execute_result"
    }
   ],
   "source": [
    "data3=Furniture.drop(['Shipping Cost'],axis=1)\n",
    "data3.head()"
   ]
  },
  {
   "cell_type": "code",
   "execution_count": 86,
   "metadata": {},
   "outputs": [],
   "source": [
    "#splitting categorical and numerical datas\n",
    "categorical3=[col for col in Furniture.columns.values if Furniture[col].dtype=='object']\n",
    "df_cat3=data3[categorical3]\n",
    "df_num3=data3.drop(df_cat3,axis=1)"
   ]
  },
  {
   "cell_type": "code",
   "execution_count": 87,
   "metadata": {},
   "outputs": [
    {
     "data": {
      "text/html": [
       "<div>\n",
       "<style scoped>\n",
       "    .dataframe tbody tr th:only-of-type {\n",
       "        vertical-align: middle;\n",
       "    }\n",
       "\n",
       "    .dataframe tbody tr th {\n",
       "        vertical-align: top;\n",
       "    }\n",
       "\n",
       "    .dataframe thead th {\n",
       "        text-align: right;\n",
       "    }\n",
       "</style>\n",
       "<table border=\"1\" class=\"dataframe\">\n",
       "  <thead>\n",
       "    <tr style=\"text-align: right;\">\n",
       "      <th></th>\n",
       "      <th>Segment</th>\n",
       "      <th>Market</th>\n",
       "      <th>Sub-Category</th>\n",
       "      <th>Category</th>\n",
       "    </tr>\n",
       "  </thead>\n",
       "  <tbody>\n",
       "    <tr>\n",
       "      <th>0</th>\n",
       "      <td>Home Office</td>\n",
       "      <td>Asia Pacific</td>\n",
       "      <td>Bookcases</td>\n",
       "      <td>Furniture</td>\n",
       "    </tr>\n",
       "    <tr>\n",
       "      <th>3</th>\n",
       "      <td>Home Office</td>\n",
       "      <td>Asia Pacific</td>\n",
       "      <td>Furnishings</td>\n",
       "      <td>Furniture</td>\n",
       "    </tr>\n",
       "    <tr>\n",
       "      <th>5</th>\n",
       "      <td>Corporate</td>\n",
       "      <td>Asia Pacific</td>\n",
       "      <td>Tables</td>\n",
       "      <td>Furniture</td>\n",
       "    </tr>\n",
       "    <tr>\n",
       "      <th>6</th>\n",
       "      <td>Home Office</td>\n",
       "      <td>Asia Pacific</td>\n",
       "      <td>Bookcases</td>\n",
       "      <td>Furniture</td>\n",
       "    </tr>\n",
       "    <tr>\n",
       "      <th>7</th>\n",
       "      <td>Corporate</td>\n",
       "      <td>Asia Pacific</td>\n",
       "      <td>Chairs</td>\n",
       "      <td>Furniture</td>\n",
       "    </tr>\n",
       "  </tbody>\n",
       "</table>\n",
       "</div>"
      ],
      "text/plain": [
       "       Segment        Market Sub-Category   Category\n",
       "0  Home Office  Asia Pacific    Bookcases  Furniture\n",
       "3  Home Office  Asia Pacific  Furnishings  Furniture\n",
       "5    Corporate  Asia Pacific       Tables  Furniture\n",
       "6  Home Office  Asia Pacific    Bookcases  Furniture\n",
       "7    Corporate  Asia Pacific       Chairs  Furniture"
      ]
     },
     "execution_count": 87,
     "metadata": {},
     "output_type": "execute_result"
    }
   ],
   "source": [
    "df_cat3.head()"
   ]
  },
  {
   "cell_type": "code",
   "execution_count": 88,
   "metadata": {},
   "outputs": [
    {
     "data": {
      "text/html": [
       "<div>\n",
       "<style scoped>\n",
       "    .dataframe tbody tr th:only-of-type {\n",
       "        vertical-align: middle;\n",
       "    }\n",
       "\n",
       "    .dataframe tbody tr th {\n",
       "        vertical-align: top;\n",
       "    }\n",
       "\n",
       "    .dataframe thead th {\n",
       "        text-align: right;\n",
       "    }\n",
       "</style>\n",
       "<table border=\"1\" class=\"dataframe\">\n",
       "  <thead>\n",
       "    <tr style=\"text-align: right;\">\n",
       "      <th></th>\n",
       "      <th>Sales</th>\n",
       "      <th>Profit</th>\n",
       "      <th>Margin</th>\n",
       "    </tr>\n",
       "  </thead>\n",
       "  <tbody>\n",
       "    <tr>\n",
       "      <th>0</th>\n",
       "      <td>731.82</td>\n",
       "      <td>102.42</td>\n",
       "      <td>14.00</td>\n",
       "    </tr>\n",
       "    <tr>\n",
       "      <th>3</th>\n",
       "      <td>169.68</td>\n",
       "      <td>79.68</td>\n",
       "      <td>46.96</td>\n",
       "    </tr>\n",
       "    <tr>\n",
       "      <th>5</th>\n",
       "      <td>4626.15</td>\n",
       "      <td>647.55</td>\n",
       "      <td>14.00</td>\n",
       "    </tr>\n",
       "    <tr>\n",
       "      <th>6</th>\n",
       "      <td>2070.15</td>\n",
       "      <td>848.70</td>\n",
       "      <td>41.00</td>\n",
       "    </tr>\n",
       "    <tr>\n",
       "      <th>7</th>\n",
       "      <td>914.34</td>\n",
       "      <td>356.58</td>\n",
       "      <td>39.00</td>\n",
       "    </tr>\n",
       "  </tbody>\n",
       "</table>\n",
       "</div>"
      ],
      "text/plain": [
       "     Sales  Profit  Margin\n",
       "0   731.82  102.42   14.00\n",
       "3   169.68   79.68   46.96\n",
       "5  4626.15  647.55   14.00\n",
       "6  2070.15  848.70   41.00\n",
       "7   914.34  356.58   39.00"
      ]
     },
     "execution_count": 88,
     "metadata": {},
     "output_type": "execute_result"
    }
   ],
   "source": [
    "df_num3.head()"
   ]
  },
  {
   "cell_type": "code",
   "execution_count": 89,
   "metadata": {},
   "outputs": [],
   "source": [
    "# check skewness\n",
    "df_num3_skew=df_num3.skew()\n",
    "df_num3_skew=df_num3_skew[df_num3_skew>0.75]\n",
    "df_num3[df_num3_skew.index]=np.log1p(df_num3[df_num3_skew.index])\n"
   ]
  },
  {
   "cell_type": "code",
   "execution_count": 90,
   "metadata": {},
   "outputs": [
    {
     "data": {
      "text/plain": [
       "array([[<matplotlib.axes._subplots.AxesSubplot object at 0x0000020CDF5BA5C8>,\n",
       "        <matplotlib.axes._subplots.AxesSubplot object at 0x0000020CDF5EA5C8>],\n",
       "       [<matplotlib.axes._subplots.AxesSubplot object at 0x0000020CDF61FDC8>,\n",
       "        <matplotlib.axes._subplots.AxesSubplot object at 0x0000020CDF6597C8>]],\n",
       "      dtype=object)"
      ]
     },
     "execution_count": 90,
     "metadata": {},
     "output_type": "execute_result"
    },
    {
     "data": {
      "image/png": "[encoded data removed]",
      "text/plain": [
       "<Figure size 432x288 with 4 Axes>"
      ]
     },
     "metadata": {},
     "output_type": "display_data"
    }
   ],
   "source": [
    "df_num3.hist()"
   ]
  },
  {
   "cell_type": "code",
   "execution_count": 91,
   "metadata": {},
   "outputs": [
    {
     "data": {
      "text/html": [
       "<div>\n",
       "<style scoped>\n",
       "    .dataframe tbody tr th:only-of-type {\n",
       "        vertical-align: middle;\n",
       "    }\n",
       "\n",
       "    .dataframe tbody tr th {\n",
       "        vertical-align: top;\n",
       "    }\n",
       "\n",
       "    .dataframe thead th {\n",
       "        text-align: right;\n",
       "    }\n",
       "</style>\n",
       "<table border=\"1\" class=\"dataframe\">\n",
       "  <thead>\n",
       "    <tr style=\"text-align: right;\">\n",
       "      <th></th>\n",
       "      <th>Sales</th>\n",
       "      <th>Profit</th>\n",
       "      <th>Margin</th>\n",
       "    </tr>\n",
       "  </thead>\n",
       "  <tbody>\n",
       "    <tr>\n",
       "      <th>0</th>\n",
       "      <td>0.164520</td>\n",
       "      <td>0.014508</td>\n",
       "      <td>0.025150</td>\n",
       "    </tr>\n",
       "    <tr>\n",
       "      <th>3</th>\n",
       "      <td>-0.027282</td>\n",
       "      <td>0.010020</td>\n",
       "      <td>0.088129</td>\n",
       "    </tr>\n",
       "    <tr>\n",
       "      <th>5</th>\n",
       "      <td>0.407092</td>\n",
       "      <td>0.122096</td>\n",
       "      <td>0.025150</td>\n",
       "    </tr>\n",
       "    <tr>\n",
       "      <th>6</th>\n",
       "      <td>0.301281</td>\n",
       "      <td>0.161796</td>\n",
       "      <td>0.076741</td>\n",
       "    </tr>\n",
       "    <tr>\n",
       "      <th>7</th>\n",
       "      <td>0.193795</td>\n",
       "      <td>0.064670</td>\n",
       "      <td>0.072919</td>\n",
       "    </tr>\n",
       "  </tbody>\n",
       "</table>\n",
       "</div>"
      ],
      "text/plain": [
       "      Sales    Profit    Margin\n",
       "0  0.164520  0.014508  0.025150\n",
       "3 -0.027282  0.010020  0.088129\n",
       "5  0.407092  0.122096  0.025150\n",
       "6  0.301281  0.161796  0.076741\n",
       "7  0.193795  0.064670  0.072919"
      ]
     },
     "execution_count": 91,
     "metadata": {},
     "output_type": "execute_result"
    }
   ],
   "source": [
    "# mean normalisation\n",
    "df_num3=(df_num3-df_num3.mean())/(df_num3.max()-df_num3.min())\n",
    "df_num3.head()"
   ]
  },
  {
   "cell_type": "code",
   "execution_count": 92,
   "metadata": {},
   "outputs": [],
   "source": [
    "#dummy variables\n",
    "df_cat3=pd.get_dummies(df_cat3,drop_first=True)\n",
    "data3=pd.concat([df_num3,df_cat3],axis=1)"
   ]
  },
  {
   "cell_type": "code",
   "execution_count": 93,
   "metadata": {},
   "outputs": [
    {
     "data": {
      "text/html": [
       "<div>\n",
       "<style scoped>\n",
       "    .dataframe tbody tr th:only-of-type {\n",
       "        vertical-align: middle;\n",
       "    }\n",
       "\n",
       "    .dataframe tbody tr th {\n",
       "        vertical-align: top;\n",
       "    }\n",
       "\n",
       "    .dataframe thead th {\n",
       "        text-align: right;\n",
       "    }\n",
       "</style>\n",
       "<table border=\"1\" class=\"dataframe\">\n",
       "  <thead>\n",
       "    <tr style=\"text-align: right;\">\n",
       "      <th></th>\n",
       "      <th>Sales</th>\n",
       "      <th>Profit</th>\n",
       "      <th>Margin</th>\n",
       "      <th>Segment_Corporate</th>\n",
       "      <th>Segment_Home Office</th>\n",
       "      <th>Market_Asia Pacific</th>\n",
       "      <th>Market_Europe</th>\n",
       "      <th>Market_LATAM</th>\n",
       "      <th>Market_USCA</th>\n",
       "      <th>Sub-Category_Chairs</th>\n",
       "      <th>Sub-Category_Furnishings</th>\n",
       "      <th>Sub-Category_Tables</th>\n",
       "    </tr>\n",
       "  </thead>\n",
       "  <tbody>\n",
       "    <tr>\n",
       "      <th>0</th>\n",
       "      <td>0.164520</td>\n",
       "      <td>0.014508</td>\n",
       "      <td>0.025150</td>\n",
       "      <td>0</td>\n",
       "      <td>1</td>\n",
       "      <td>1</td>\n",
       "      <td>0</td>\n",
       "      <td>0</td>\n",
       "      <td>0</td>\n",
       "      <td>0</td>\n",
       "      <td>0</td>\n",
       "      <td>0</td>\n",
       "    </tr>\n",
       "    <tr>\n",
       "      <th>3</th>\n",
       "      <td>-0.027282</td>\n",
       "      <td>0.010020</td>\n",
       "      <td>0.088129</td>\n",
       "      <td>0</td>\n",
       "      <td>1</td>\n",
       "      <td>1</td>\n",
       "      <td>0</td>\n",
       "      <td>0</td>\n",
       "      <td>0</td>\n",
       "      <td>0</td>\n",
       "      <td>1</td>\n",
       "      <td>0</td>\n",
       "    </tr>\n",
       "    <tr>\n",
       "      <th>5</th>\n",
       "      <td>0.407092</td>\n",
       "      <td>0.122096</td>\n",
       "      <td>0.025150</td>\n",
       "      <td>1</td>\n",
       "      <td>0</td>\n",
       "      <td>1</td>\n",
       "      <td>0</td>\n",
       "      <td>0</td>\n",
       "      <td>0</td>\n",
       "      <td>0</td>\n",
       "      <td>0</td>\n",
       "      <td>1</td>\n",
       "    </tr>\n",
       "    <tr>\n",
       "      <th>6</th>\n",
       "      <td>0.301281</td>\n",
       "      <td>0.161796</td>\n",
       "      <td>0.076741</td>\n",
       "      <td>0</td>\n",
       "      <td>1</td>\n",
       "      <td>1</td>\n",
       "      <td>0</td>\n",
       "      <td>0</td>\n",
       "      <td>0</td>\n",
       "      <td>0</td>\n",
       "      <td>0</td>\n",
       "      <td>0</td>\n",
       "    </tr>\n",
       "    <tr>\n",
       "      <th>7</th>\n",
       "      <td>0.193795</td>\n",
       "      <td>0.064670</td>\n",
       "      <td>0.072919</td>\n",
       "      <td>1</td>\n",
       "      <td>0</td>\n",
       "      <td>1</td>\n",
       "      <td>0</td>\n",
       "      <td>0</td>\n",
       "      <td>0</td>\n",
       "      <td>1</td>\n",
       "      <td>0</td>\n",
       "      <td>0</td>\n",
       "    </tr>\n",
       "  </tbody>\n",
       "</table>\n",
       "</div>"
      ],
      "text/plain": [
       "      Sales    Profit    Margin  Segment_Corporate  Segment_Home Office  \\\n",
       "0  0.164520  0.014508  0.025150                  0                    1   \n",
       "3 -0.027282  0.010020  0.088129                  0                    1   \n",
       "5  0.407092  0.122096  0.025150                  1                    0   \n",
       "6  0.301281  0.161796  0.076741                  0                    1   \n",
       "7  0.193795  0.064670  0.072919                  1                    0   \n",
       "\n",
       "   Market_Asia Pacific  Market_Europe  Market_LATAM  Market_USCA  \\\n",
       "0                    1              0             0            0   \n",
       "3                    1              0             0            0   \n",
       "5                    1              0             0            0   \n",
       "6                    1              0             0            0   \n",
       "7                    1              0             0            0   \n",
       "\n",
       "   Sub-Category_Chairs  Sub-Category_Furnishings  Sub-Category_Tables  \n",
       "0                    0                         0                    0  \n",
       "3                    0                         1                    0  \n",
       "5                    0                         0                    1  \n",
       "6                    0                         0                    0  \n",
       "7                    1                         0                    0  "
      ]
     },
     "execution_count": 93,
     "metadata": {},
     "output_type": "execute_result"
    }
   ],
   "source": [
    "data3.head()"
   ]
  },
  {
   "cell_type": "code",
   "execution_count": 94,
   "metadata": {},
   "outputs": [
    {
     "name": "stdout",
     "output_type": "stream",
     "text": [
      "[0]Linear Regression Training Accuracy: 0.4281329809997547\n",
      "[1]knn Training Accuracy: 0.6821723032268161\n",
      "[2]xg Training Accuracy: 0.9225407922765179\n",
      "[3]svr-lin Training Accuracy: 0.18764065842500366\n",
      "[4]decision tee Training Accuracy: 0.991018457114569\n",
      "[5]random forest Training Accuracy: 0.9320249380330068\n",
      "Linear Regression r2_Score : -0.3551032032495347\n",
      "Knn Regressor r2_Score : -0.12717949211771584\n",
      "XGBoost Regressor r2_Score : -11.535234494060349\n",
      "SVRegressor r2_Score : 0.20792922128254188\n",
      "Decision Tree Regressor r2_Score : 0.16827100371911907\n",
      "Random Forest Regressor r2_Score : 0.2640457092956413\n"
     ]
    }
   ],
   "source": [
    "#build models\n",
    "X=data3\n",
    "Y=target1\n",
    "\n",
    "from sklearn.model_selection import train_test_split\n",
    "X_train,X_test,Y_train,Y_test=train_test_split(X,Y,test_size=0.2,random_state=0)\n",
    "\n",
    "\n",
    "from sklearn.linear_model import LinearRegression\n",
    "lin=LinearRegression()\n",
    "lin.fit(X_train,Y_train) \n",
    "print('[0]Linear Regression Training Accuracy:',lin.score(X_train,Y_train))\n",
    "y_pred1=lin.predict(X_test)\n",
    "\n",
    "\n",
    "from sklearn.neighbors import KNeighborsRegressor\n",
    "knn=KNeighborsRegressor()\n",
    "knn.fit(X_train,Y_train)\n",
    "print('[1]knn Training Accuracy:' ,knn.score(X_train,Y_train))  \n",
    "y_pred2=knn.predict(X_test)\n",
    "\n",
    "\n",
    "from xgboost import XGBRegressor\n",
    "xg=XGBRegressor()\n",
    "xg.fit(X_train,Y_train)\n",
    "print('[2]xg Training Accuracy:', xg.score(X_train,Y_train))\n",
    "y_pred3=xg.predict(X_test)\n",
    "\n",
    "\n",
    "from sklearn.svm import SVR\n",
    "svr_lin=SVR()\n",
    "svr_lin.fit(X_train,Y_train)\n",
    "print('[3]svr-lin Training Accuracy:' ,svr_lin.score(X_train,Y_train)) \n",
    "y_pred4=svr_lin.predict(X_test)\n",
    "\n",
    "\n",
    "from sklearn.tree import DecisionTreeRegressor\n",
    "tree=DecisionTreeRegressor()\n",
    "tree.fit(X_train,Y_train)\n",
    "print('[4]decision tee Training Accuracy:', tree.score(X_train,Y_train))  \n",
    "y_pred5=tree.predict(X_test)\n",
    "\n",
    "from sklearn.ensemble import RandomForestRegressor\n",
    "forest=RandomForestRegressor()\n",
    "forest.fit(X_train,Y_train)\n",
    "print('[5]random forest Training Accuracy:', forest.score(X_train,Y_train)) \n",
    "y_pred6=forest.predict(X_test)\n",
    "\n",
    "print('Linear Regression r2_Score :',r2_score(y_pred1,Y_test))\n",
    "print('Knn Regressor r2_Score :',r2_score(y_pred2,Y_test))\n",
    "print('XGBoost Regressor r2_Score :',r2_score(y_pred4,Y_test))\n",
    "print('SVRegressor r2_Score :',r2_score(y_pred3,Y_test))\n",
    "print('Decision Tree Regressor r2_Score :',r2_score(y_pred5,Y_test))\n",
    "print('Random Forest Regressor r2_Score :',r2_score(y_pred6,Y_test))"
   ]
  },
  {
   "cell_type": "code",
   "execution_count": 95,
   "metadata": {},
   "outputs": [],
   "source": [
    "# Noone model gave good r2-score.so we have to change dependent variable"
   ]
  },
  {
   "cell_type": "markdown",
   "metadata": {},
   "source": [
    "# Prediction of Sales for Furniture category"
   ]
  },
  {
   "cell_type": "code",
   "execution_count": 96,
   "metadata": {},
   "outputs": [
    {
     "data": {
      "text/plain": [
       "<matplotlib.axes._subplots.AxesSubplot at 0x20cdf5678c8>"
      ]
     },
     "execution_count": 96,
     "metadata": {},
     "output_type": "execute_result"
    },
    {
     "data": {
      "image/png": "[encoded data removed]",
      "text/plain": [
       "<Figure size 432x288 with 1 Axes>"
      ]
     },
     "metadata": {},
     "output_type": "display_data"
    }
   ],
   "source": [
    "#target profit\n",
    "target2=Furniture['Profit']\n",
    "target2.head()\n",
    "sns.distplot(target2,hist=True)\n"
   ]
  },
  {
   "cell_type": "code",
   "execution_count": 97,
   "metadata": {},
   "outputs": [
    {
     "data": {
      "text/html": [
       "<div>\n",
       "<style scoped>\n",
       "    .dataframe tbody tr th:only-of-type {\n",
       "        vertical-align: middle;\n",
       "    }\n",
       "\n",
       "    .dataframe tbody tr th {\n",
       "        vertical-align: top;\n",
       "    }\n",
       "\n",
       "    .dataframe thead th {\n",
       "        text-align: right;\n",
       "    }\n",
       "</style>\n",
       "<table border=\"1\" class=\"dataframe\">\n",
       "  <thead>\n",
       "    <tr style=\"text-align: right;\">\n",
       "      <th></th>\n",
       "      <th>Segment</th>\n",
       "      <th>Market</th>\n",
       "      <th>Sub-Category</th>\n",
       "      <th>Category</th>\n",
       "      <th>Sales</th>\n",
       "      <th>Margin</th>\n",
       "      <th>Shipping Cost</th>\n",
       "    </tr>\n",
       "  </thead>\n",
       "  <tbody>\n",
       "    <tr>\n",
       "      <th>0</th>\n",
       "      <td>Home Office</td>\n",
       "      <td>Asia Pacific</td>\n",
       "      <td>Bookcases</td>\n",
       "      <td>Furniture</td>\n",
       "      <td>731.82</td>\n",
       "      <td>14.00</td>\n",
       "      <td>39.66</td>\n",
       "    </tr>\n",
       "    <tr>\n",
       "      <th>3</th>\n",
       "      <td>Home Office</td>\n",
       "      <td>Asia Pacific</td>\n",
       "      <td>Furnishings</td>\n",
       "      <td>Furniture</td>\n",
       "      <td>169.68</td>\n",
       "      <td>46.96</td>\n",
       "      <td>11.01</td>\n",
       "    </tr>\n",
       "    <tr>\n",
       "      <th>5</th>\n",
       "      <td>Corporate</td>\n",
       "      <td>Asia Pacific</td>\n",
       "      <td>Tables</td>\n",
       "      <td>Furniture</td>\n",
       "      <td>4626.15</td>\n",
       "      <td>14.00</td>\n",
       "      <td>835.57</td>\n",
       "    </tr>\n",
       "    <tr>\n",
       "      <th>6</th>\n",
       "      <td>Home Office</td>\n",
       "      <td>Asia Pacific</td>\n",
       "      <td>Bookcases</td>\n",
       "      <td>Furniture</td>\n",
       "      <td>2070.15</td>\n",
       "      <td>41.00</td>\n",
       "      <td>185.01</td>\n",
       "    </tr>\n",
       "    <tr>\n",
       "      <th>7</th>\n",
       "      <td>Corporate</td>\n",
       "      <td>Asia Pacific</td>\n",
       "      <td>Chairs</td>\n",
       "      <td>Furniture</td>\n",
       "      <td>914.34</td>\n",
       "      <td>39.00</td>\n",
       "      <td>106.41</td>\n",
       "    </tr>\n",
       "  </tbody>\n",
       "</table>\n",
       "</div>"
      ],
      "text/plain": [
       "       Segment        Market Sub-Category   Category    Sales  Margin  \\\n",
       "0  Home Office  Asia Pacific    Bookcases  Furniture   731.82   14.00   \n",
       "3  Home Office  Asia Pacific  Furnishings  Furniture   169.68   46.96   \n",
       "5    Corporate  Asia Pacific       Tables  Furniture  4626.15   14.00   \n",
       "6  Home Office  Asia Pacific    Bookcases  Furniture  2070.15   41.00   \n",
       "7    Corporate  Asia Pacific       Chairs  Furniture   914.34   39.00   \n",
       "\n",
       "   Shipping Cost  \n",
       "0          39.66  \n",
       "3          11.01  \n",
       "5         835.57  \n",
       "6         185.01  \n",
       "7         106.41  "
      ]
     },
     "execution_count": 97,
     "metadata": {},
     "output_type": "execute_result"
    }
   ],
   "source": [
    "#independent variables\n",
    "data4=Furniture.drop(['Profit'],axis=1)\n",
    "data4.head()\n",
    "\n"
   ]
  },
  {
   "cell_type": "code",
   "execution_count": 98,
   "metadata": {},
   "outputs": [],
   "source": [
    "#splitting cat and num var\n",
    "categorical4=[col for col in Furniture.columns.values if Furniture[col].dtype=='object']\n",
    "df_cat4=data4[categorical3]\n",
    "df_num4=data4.drop(df_cat4,axis=1)\n",
    "\n"
   ]
  },
  {
   "cell_type": "code",
   "execution_count": 99,
   "metadata": {},
   "outputs": [],
   "source": [
    "#checking skewness\n",
    "df_num4_skew=df_num4.skew()\n",
    "df_num4_skew=df_num4_skew[df_num4_skew>0.75]\n",
    "df_num4[df_num4_skew.index]=np.log1p(df_num4[df_num4_skew.index])\n",
    "\n",
    "\n"
   ]
  },
  {
   "cell_type": "code",
   "execution_count": 100,
   "metadata": {},
   "outputs": [
    {
     "data": {
      "text/html": [
       "<div>\n",
       "<style scoped>\n",
       "    .dataframe tbody tr th:only-of-type {\n",
       "        vertical-align: middle;\n",
       "    }\n",
       "\n",
       "    .dataframe tbody tr th {\n",
       "        vertical-align: top;\n",
       "    }\n",
       "\n",
       "    .dataframe thead th {\n",
       "        text-align: right;\n",
       "    }\n",
       "</style>\n",
       "<table border=\"1\" class=\"dataframe\">\n",
       "  <thead>\n",
       "    <tr style=\"text-align: right;\">\n",
       "      <th></th>\n",
       "      <th>Sales</th>\n",
       "      <th>Margin</th>\n",
       "      <th>Shipping Cost</th>\n",
       "    </tr>\n",
       "  </thead>\n",
       "  <tbody>\n",
       "    <tr>\n",
       "      <th>0</th>\n",
       "      <td>0.164520</td>\n",
       "      <td>0.025150</td>\n",
       "      <td>0.105674</td>\n",
       "    </tr>\n",
       "    <tr>\n",
       "      <th>3</th>\n",
       "      <td>-0.027282</td>\n",
       "      <td>0.088129</td>\n",
       "      <td>-0.093707</td>\n",
       "    </tr>\n",
       "    <tr>\n",
       "      <th>5</th>\n",
       "      <td>0.407092</td>\n",
       "      <td>0.025150</td>\n",
       "      <td>0.600090</td>\n",
       "    </tr>\n",
       "    <tr>\n",
       "      <th>6</th>\n",
       "      <td>0.301281</td>\n",
       "      <td>0.076741</td>\n",
       "      <td>0.354275</td>\n",
       "    </tr>\n",
       "    <tr>\n",
       "      <th>7</th>\n",
       "      <td>0.193795</td>\n",
       "      <td>0.072919</td>\n",
       "      <td>0.264493</td>\n",
       "    </tr>\n",
       "  </tbody>\n",
       "</table>\n",
       "</div>"
      ],
      "text/plain": [
       "      Sales    Margin  Shipping Cost\n",
       "0  0.164520  0.025150       0.105674\n",
       "3 -0.027282  0.088129      -0.093707\n",
       "5  0.407092  0.025150       0.600090\n",
       "6  0.301281  0.076741       0.354275\n",
       "7  0.193795  0.072919       0.264493"
      ]
     },
     "execution_count": 100,
     "metadata": {},
     "output_type": "execute_result"
    }
   ],
   "source": [
    "#mean normalisation\n",
    "df_num4=(df_num4-df_num4.mean())/(df_num4.max()-df_num4.min())\n",
    "df_num4.head()\n",
    "\n"
   ]
  },
  {
   "cell_type": "code",
   "execution_count": 101,
   "metadata": {},
   "outputs": [],
   "source": [
    "# dummy variable\n",
    "df_cat4=pd.get_dummies(df_cat4,drop_first=True)\n",
    "data4=pd.concat([df_num4,df_cat4],axis=1)"
   ]
  },
  {
   "cell_type": "code",
   "execution_count": 102,
   "metadata": {},
   "outputs": [
    {
     "name": "stdout",
     "output_type": "stream",
     "text": [
      "[0]Linear Regression Training Accuracy: 0.3488079194385607\n",
      "[1]knn Training Accuracy: 0.7799612801189464\n",
      "[2]xg Training Accuracy: 0.9997569641337858\n",
      "[3]svr-lin Training Accuracy: 0.085464293110035\n",
      "[4]decision tee Training Accuracy: 0.9999999999999968\n",
      "[5]random forest Training Accuracy: 0.9983044147803225\n",
      "Linear Regression r2_Score : -0.8133699121688771\n",
      "Knn Regressor r2_Score : -0.10435045679213939\n",
      "XGBoost Regressor r2_Score : -70.81790746978268\n",
      "SVRegressor r2_Score : 0.9665975339713826\n",
      "Decision Tree Regressor r2_Score : 0.9432648126829686\n",
      "Random Forest Regressor r2_Score : 0.9620137123651871\n"
     ]
    }
   ],
   "source": [
    "# build models\n",
    "X=data4\n",
    "Y=target2\n",
    "\n",
    "from sklearn.model_selection import train_test_split\n",
    "X_train,X_test,Y_train,Y_test=train_test_split(X,Y,test_size=0.2,random_state=0)\n",
    "\n",
    "\n",
    "from sklearn.linear_model import LinearRegression\n",
    "lin=LinearRegression()\n",
    "lin.fit(X_train,Y_train) \n",
    "print('[0]Linear Regression Training Accuracy:',lin.score(X_train,Y_train))\n",
    "y_pred1=lin.predict(X_test)\n",
    "\n",
    "\n",
    "from sklearn.neighbors import KNeighborsRegressor\n",
    "knn=KNeighborsRegressor()\n",
    "knn.fit(X_train,Y_train)\n",
    "print('[1]knn Training Accuracy:' ,knn.score(X_train,Y_train))  \n",
    "y_pred2=knn.predict(X_test)\n",
    "\n",
    "\n",
    "from xgboost import XGBRegressor\n",
    "xg=XGBRegressor()\n",
    "xg.fit(X_train,Y_train)\n",
    "print('[2]xg Training Accuracy:', xg.score(X_train,Y_train))\n",
    "y_pred3=xg.predict(X_test)\n",
    "\n",
    "\n",
    "from sklearn.svm import SVR\n",
    "svr_lin=SVR()\n",
    "svr_lin.fit(X_train,Y_train)\n",
    "print('[3]svr-lin Training Accuracy:' ,svr_lin.score(X_train,Y_train)) \n",
    "y_pred4=svr_lin.predict(X_test)\n",
    "\n",
    "\n",
    "from sklearn.tree import DecisionTreeRegressor\n",
    "tree=DecisionTreeRegressor()\n",
    "tree.fit(X_train,Y_train)\n",
    "print('[4]decision tee Training Accuracy:', tree.score(X_train,Y_train))  \n",
    "y_pred5=tree.predict(X_test)\n",
    "\n",
    "from sklearn.ensemble import RandomForestRegressor\n",
    "forest=RandomForestRegressor()\n",
    "forest.fit(X_train,Y_train)\n",
    "print('[5]random forest Training Accuracy:', forest.score(X_train,Y_train)) \n",
    "y_pred6=forest.predict(X_test)\n",
    "\n",
    "print('Linear Regression r2_Score :',r2_score(y_pred1,Y_test))\n",
    "print('Knn Regressor r2_Score :',r2_score(y_pred2,Y_test))\n",
    "print('XGBoost Regressor r2_Score :',r2_score(y_pred4,Y_test))\n",
    "print('SVRegressor r2_Score :',r2_score(y_pred3,Y_test))\n",
    "print('Decision Tree Regressor r2_Score :',r2_score(y_pred5,Y_test))\n",
    "print('Random Forest Regressor r2_Score :',r2_score(y_pred6,Y_test))"
   ]
  },
  {
   "cell_type": "code",
   "execution_count": 103,
   "metadata": {},
   "outputs": [
    {
     "name": "stdout",
     "output_type": "stream",
     "text": [
      "Random Forest Regressor r2_Score : 0.9607948730184692\n"
     ]
    }
   ],
   "source": [
    "#best model\n",
    "from sklearn.ensemble import RandomForestRegressor\n",
    "forest=RandomForestRegressor()\n",
    "forest.fit(X_train,Y_train)\n",
    "y_pred6=forest.predict(X_test)\n",
    "print('Random Forest Regressor r2_Score :',r2_score(y_pred6,Y_test))"
   ]
  },
  {
   "cell_type": "markdown",
   "metadata": {},
   "source": [
    "### we have built a model to predict the profit for furniture category same as profit we can build model to predict sales and cost for furniture."
   ]
  },
  {
   "cell_type": "markdown",
   "metadata": {},
   "source": [
    "### Likewise we have to follow the same procedure  for {'Office Supplies', 'Technology'} to predict Profit, cost and sales."
   ]
  }
 ],
 "metadata": {
  "kernelspec": {
   "display_name": "Python 3",
   "language": "python",
   "name": "python3"
  },
  "language_info": {
   "codemirror_mode": {
    "name": "ipython",
    "version": 3
   },
   "file_extension": ".py",
   "mimetype": "text/x-python",
   "name": "python",
   "nbconvert_exporter": "python",
   "pygments_lexer": "ipython3",
   "version": "3.7.6"
  }
 },
 "nbformat": 4,
 "nbformat_minor": 4
}
